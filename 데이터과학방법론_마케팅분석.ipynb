{
  "nbformat": 4,
  "nbformat_minor": 0,
  "metadata": {
    "colab": {
      "provenance": []
    },
    "kernelspec": {
      "name": "python3",
      "display_name": "Python 3"
    },
    "language_info": {
      "name": "python"
    }
  },
  "cells": [
    {
      "cell_type": "markdown",
      "source": [
        "# 마케팅 분석\n",
        "* 데이터분석가가 가장 많이 하고, 성과내기 가장 좋은 지표"
      ],
      "metadata": {
        "id": "prSCu4HWdlsa"
      }
    },
    {
      "cell_type": "markdown",
      "source": [
        "## 그로스(growth)해킹\n",
        "* : 제품 및 서비스의 핵심 지표를 정의하고, 끊임없는 실험(ex. AB test)을 통해 핵심 지표를 개선하는 방법론\n",
        "* 퍼널(깔때기) 분석: 고객들이 특정 제품이나 서비스를 구매하기까지 이르는 모든 행동을 분석  \n",
        "* 리텐션 :서비스 사용하는 사람들이 다시 사용하는 비율"
      ],
      "metadata": {
        "id": "c6-A8fHvhOuc"
      }
    },
    {
      "cell_type": "code",
      "source": [],
      "metadata": {
        "id": "M8v54h5DdsaL"
      },
      "execution_count": null,
      "outputs": []
    },
    {
      "cell_type": "markdown",
      "source": [
        "## 리텐션, 코호트분석\n",
        "* 리텐션(retention) : 기존 고객의 이탈률을 최대한 낮추면서 고객 유지율을 증가시키는 마케팅 방식\n",
        "* 코호트(Cohort;동질집단) : 특정 기간 동안 공통된 특성이나 경험을 갖는 사용자 집단\n"
      ],
      "metadata": {
        "id": "NsXsIGmO312J"
      }
    },
    {
      "cell_type": "code",
      "source": [
        "코랩링크 : https://colab.research.google.com/drive/1odMybS51eLNLSXmrdUwI25qurr0NVXM9"
      ],
      "metadata": {
        "id": "zUKJUmbu35WP"
      },
      "execution_count": null,
      "outputs": []
    }
  ]
}