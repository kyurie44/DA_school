{
  "nbformat": 4,
  "nbformat_minor": 0,
  "metadata": {
    "colab": {
      "provenance": [],
      "toc_visible": true
    },
    "kernelspec": {
      "name": "python3",
      "display_name": "Python 3"
    },
    "language_info": {
      "name": "python"
    }
  },
  "cells": [
    {
      "cell_type": "markdown",
      "source": [
        "# 정규표현식 (=regex)\n",
        "* 특정 규칙 가진 문자열 집합 표현하는 언어 "
      ],
      "metadata": {
        "id": "X0pT-FmjnRyF"
      }
    },
    {
      "cell_type": "markdown",
      "source": [
        "## 1. 파일 입출력"
      ],
      "metadata": {
        "id": "cRR8prmmmi9y"
      }
    },
    {
      "cell_type": "code",
      "source": [
        "#파일 현재위치 확인\n",
        "#작업을 하다보면 input/output 헷갈릴때 \n",
        "\n",
        "import os\n",
        "os.getcwd()"
      ],
      "metadata": {
        "id": "ah2QMrVt2bYj",
        "colab": {
          "base_uri": "https://localhost:8080/",
          "height": 36
        },
        "outputId": "8b174a72-4a55-4052-95d4-f47b467927bc"
      },
      "execution_count": 2,
      "outputs": [
        {
          "output_type": "execute_result",
          "data": {
            "text/plain": [
              "'/content'"
            ],
            "application/vnd.google.colaboratory.intrinsic+json": {
              "type": "string"
            }
          },
          "metadata": {},
          "execution_count": 2
        }
      ]
    },
    {
      "cell_type": "code",
      "source": [
        "#폴더(경로) 이동하기 \n",
        "os.chdir('/content/sample_data')\n",
        "\n",
        "os.getcwd()"
      ],
      "metadata": {
        "id": "S6GCBzDK2isW",
        "colab": {
          "base_uri": "https://localhost:8080/",
          "height": 36
        },
        "outputId": "bab563af-a04b-4d31-e9f7-2868b66ae447"
      },
      "execution_count": 3,
      "outputs": [
        {
          "output_type": "execute_result",
          "data": {
            "text/plain": [
              "'/content/sample_data'"
            ],
            "application/vnd.google.colaboratory.intrinsic+json": {
              "type": "string"
            }
          },
          "metadata": {},
          "execution_count": 3
        }
      ]
    },
    {
      "cell_type": "code",
      "source": [
        "#폴더 안 어떤 파일있는지 확인\n",
        "os.listdir()"
      ],
      "metadata": {
        "id": "xX4F8soI2ifr",
        "colab": {
          "base_uri": "https://localhost:8080/"
        },
        "outputId": "e0e4bbf0-6d6d-414b-b7f1-50e7adfc73f3"
      },
      "execution_count": 4,
      "outputs": [
        {
          "output_type": "execute_result",
          "data": {
            "text/plain": [
              "['README.md',\n",
              " 'anscombe.json',\n",
              " 'california_housing_train.csv',\n",
              " 'california_housing_test.csv',\n",
              " 'mnist_test.csv',\n",
              " 'mnist_train_small.csv']"
            ]
          },
          "metadata": {},
          "execution_count": 4
        }
      ]
    },
    {
      "cell_type": "code",
      "source": [
        "list_dir = os.listdir()\n",
        "print(list_dir)  #로 해서 쓸 수 있"
      ],
      "metadata": {
        "id": "qxHNLqkM2iVa"
      },
      "execution_count": null,
      "outputs": []
    },
    {
      "cell_type": "code",
      "source": [
        "#파일 열고 쓰기\n",
        "f = open('a.txt', 'w')  #파일 생성됨 \n",
        "f.write('안녕하세요')   #w모드 예시 \n",
        "f.close()"
      ],
      "metadata": {
        "id": "VFuAcpAK2iKn"
      },
      "execution_count": 6,
      "outputs": []
    },
    {
      "cell_type": "code",
      "source": [
        "#읽기 모드\n",
        "#읽는다는것은 이미 있다는 것을 전제로함 \n",
        "f = open('a.txt', 'r')\n",
        "f.read()                   #커서가 다음으로 가있어서 아무것도 나오지 않음 \n",
        "\n",
        "f.seek(0)                  #> 커서 초기화해서 0번째로 \n",
        "f.read()"
      ],
      "metadata": {
        "colab": {
          "base_uri": "https://localhost:8080/",
          "height": 36
        },
        "id": "VTXIn0bpspkf",
        "outputId": "86f3bdf6-18da-40a6-a4ee-460de942e8ca"
      },
      "execution_count": 7,
      "outputs": [
        {
          "output_type": "execute_result",
          "data": {
            "text/plain": [
              "'안녕하세요'"
            ],
            "application/vnd.google.colaboratory.intrinsic+json": {
              "type": "string"
            }
          },
          "metadata": {},
          "execution_count": 7
        }
      ]
    },
    {
      "cell_type": "code",
      "source": [
        "# 텍스트 추가 모드\n",
        "f = open('a.txt', 'a') \n",
        "f.write('  추가되는 문장이에요')\n",
        "f.close()"
      ],
      "metadata": {
        "id": "W3ZvHsn3sphN"
      },
      "execution_count": 8,
      "outputs": []
    },
    {
      "cell_type": "code",
      "source": [
        "f = open('a.txt', 'r')\n",
        "f.read()"
      ],
      "metadata": {
        "colab": {
          "base_uri": "https://localhost:8080/",
          "height": 36
        },
        "id": "KyVu8TXqspd9",
        "outputId": "8f567cf6-af94-45f5-f037-d74429ed2144"
      },
      "execution_count": 9,
      "outputs": [
        {
          "output_type": "execute_result",
          "data": {
            "text/plain": [
              "'안녕하세요  추가되는 문장이에요'"
            ],
            "application/vnd.google.colaboratory.intrinsic+json": {
              "type": "string"
            }
          },
          "metadata": {},
          "execution_count": 9
        }
      ]
    },
    {
      "cell_type": "code",
      "source": [
        "#파일 열고 닫 > 귀찮\n",
        "## 따라서 with문 사용 \n",
        "with open('test.txt', 'w') as f:\n",
        "  f.write(\"테스트 중입니다.\")"
      ],
      "metadata": {
        "id": "bMrTS8y7spap"
      },
      "execution_count": 10,
      "outputs": []
    },
    {
      "cell_type": "code",
      "source": [
        "# 만약 한글 파일로 된 오류가 떳을때나 인코딩오류가 났을때\n",
        "\n",
        "import codecs \n",
        "f = codecs.open('한글파일.txt', 'r', 'utf-8')\n",
        "f.read()"
      ],
      "metadata": {
        "id": "37jKU1rGspKx"
      },
      "execution_count": null,
      "outputs": []
    },
    {
      "cell_type": "markdown",
      "source": [
        "## 문자열 연결 - .join\n",
        "* \"구분 문자\".join([문자열1, 문자열2, 문자열3])\n",
        "\n",
        "* 문자열에서는 문자열 리스트를 특정한 문자로 연결하는 join 메서드를 제공합니다.\n",
        "\n",
        "* 공백으로 연결하거나, 쉼표로 연결할 수 있어요"
      ],
      "metadata": {
        "id": "JIbkpO5Vtaj2"
      }
    },
    {
      "cell_type": "code",
      "source": [
        "text_list = ['Hello', 'World', 'Python']\n",
        "test1 = '-'.join(text_list)\n",
        "print(test1)"
      ],
      "metadata": {
        "colab": {
          "base_uri": "https://localhost:8080/"
        },
        "id": "XtvtvFTDtz0h",
        "outputId": "e8c1f32d-0561-4fe1-ef8a-1c85fb2f9bf0"
      },
      "execution_count": 12,
      "outputs": [
        {
          "output_type": "stream",
          "name": "stdout",
          "text": [
            "Hello-World-Python\n"
          ]
        }
      ]
    },
    {
      "cell_type": "markdown",
      "source": [
        "#### f-string\n",
        "* 파이썬 3.6부터 포맷 지정 문자열인 f string이 지원된다.\n",
        "* 일반적인 문자열 앞에 f를 붙이고 중괄호로 둘러쌓아 텍스트 및 변수를 받는다."
      ],
      "metadata": {
        "id": "Oqt47XEWtevb"
      }
    },
    {
      "cell_type": "code",
      "source": [
        "name = '홍길동'\n",
        "age = 10 \n",
        "test = f'제 이름은 {b}, 나이는 {a}'\n",
        "print(test)"
      ],
      "metadata": {
        "id": "5nvTrBRVtg9w"
      },
      "execution_count": null,
      "outputs": []
    },
    {
      "cell_type": "markdown",
      "source": [
        "#### 치환 - replace()"
      ],
      "metadata": {
        "id": "u4vN-YDUuHK_"
      }
    },
    {
      "cell_type": "code",
      "source": [
        "text1 = 'Simple is Best Plan'\n",
        "# 공백을 없애는 replace문\n",
        "text2 = text1.replace(' ','__', 3) \n",
        "print(text1)\n",
        "print(text2)"
      ],
      "metadata": {
        "colab": {
          "base_uri": "https://localhost:8080/"
        },
        "id": "aDl57_Nzti-f",
        "outputId": "1db3902e-1eff-4c8d-bda1-9aff57607802"
      },
      "execution_count": 14,
      "outputs": [
        {
          "output_type": "stream",
          "name": "stdout",
          "text": [
            "Simple is Best Plan\n",
            "Simple__is__Best__Plan\n"
          ]
        }
      ]
    },
    {
      "cell_type": "markdown",
      "source": [
        "#### 포함 여부 - in\n",
        "\n",
        "* in은 리스트나 set에 특정요소가 포함되었는지를 판정합니다. \n",
        "* 문자열에서 사용하면 특정 문자열의 포함여부를 판정할 수 있고 bool로 반환합니다.\n",
        "* 이때 영문인 경우 대소문자를 꼭 점검해야합니다."
      ],
      "metadata": {
        "id": "crxlLSlGuWVs"
      }
    },
    {
      "cell_type": "code",
      "source": [
        "text = \"Simple is Best\"\n",
        "contains = \" \" in text\n",
        "print(contains)          #공백도 문자열로 인식"
      ],
      "metadata": {
        "colab": {
          "base_uri": "https://localhost:8080/"
        },
        "id": "K0PtneCiuZAj",
        "outputId": "315ac444-ddd2-4a16-ebb3-05f162046a5a"
      },
      "execution_count": 15,
      "outputs": [
        {
          "output_type": "stream",
          "name": "stdout",
          "text": [
            "True\n"
          ]
        }
      ]
    },
    {
      "cell_type": "code",
      "source": [
        "# 영문 Kim Korea\n",
        "text = \"Simple is Best\"\n",
        "#lower() -> 대문자 -> 소문자\n",
        "contains = \"SIMPLE\".lower() in text.lower()\n",
        "contains"
      ],
      "metadata": {
        "colab": {
          "base_uri": "https://localhost:8080/"
        },
        "id": "yVcrCGnXti7O",
        "outputId": "bd1e572d-5d2f-4fc6-934d-eed11f97375b"
      },
      "execution_count": 17,
      "outputs": [
        {
          "output_type": "execute_result",
          "data": {
            "text/plain": [
              "True"
            ]
          },
          "metadata": {},
          "execution_count": 17
        }
      ]
    },
    {
      "cell_type": "markdown",
      "source": [
        "#### 일부추출 \n",
        "* 가장 마지막 문자는 -1로 추출\n",
        "* 슬라이싱 [: n-1까지]"
      ],
      "metadata": {
        "id": "K8BnQFTQu1XP"
      }
    },
    {
      "cell_type": "markdown",
      "source": [
        "#### 공백처리 - .strip\n",
        "* strip()함수로 앞뒤 문자열 공백 제거"
      ],
      "metadata": {
        "id": "ryi1sWYhul1b"
      }
    },
    {
      "cell_type": "code",
      "source": [
        "text = ' abcsdefd '\n",
        "stripped = text.strip()\n",
        "print('*'+ stripped +'*')"
      ],
      "metadata": {
        "colab": {
          "base_uri": "https://localhost:8080/"
        },
        "id": "sixB1TNxuo5o",
        "outputId": "232c3ade-aa7d-403f-962b-9d886be91395"
      },
      "execution_count": 18,
      "outputs": [
        {
          "output_type": "stream",
          "name": "stdout",
          "text": [
            "*abcsdefd*\n"
          ]
        }
      ]
    },
    {
      "cell_type": "code",
      "source": [
        "text = ' abcdefg '\n",
        "\n",
        "#오른쪽 공백 제거 \n",
        "r_stripped = text.rstrip()\n",
        "print(r_stripped)\n",
        "\n",
        "#왼쪽 공백 제거 \n",
        "l_stripped = text.lstrip()\n",
        "print(l_stripped)"
      ],
      "metadata": {
        "colab": {
          "base_uri": "https://localhost:8080/"
        },
        "id": "mwPs5GqTuo2Y",
        "outputId": "926c3a5c-63cb-47de-fb55-87a09f1f850a"
      },
      "execution_count": 19,
      "outputs": [
        {
          "output_type": "stream",
          "name": "stdout",
          "text": [
            " abcdefg\n",
            "abcdefg \n"
          ]
        }
      ]
    },
    {
      "cell_type": "markdown",
      "source": [
        "#### 대소문자 변환 - .upper .lower "
      ],
      "metadata": {
        "id": "4-20xtjrvBef"
      }
    },
    {
      "cell_type": "code",
      "source": [
        "#대문자 변환 \n",
        "text = 'abdEDfghr'\n",
        "upper_text = text.upper()\n",
        "print(upper_text)"
      ],
      "metadata": {
        "id": "SR0QgFT1uozR"
      },
      "execution_count": null,
      "outputs": []
    },
    {
      "cell_type": "code",
      "source": [
        "#소문자 변환 \n",
        "text = 'abdEDfghr'\n",
        "lower_text = text.lower()\n",
        "print(lower_text)"
      ],
      "metadata": {
        "id": "tt-f5SKWuovm"
      },
      "execution_count": null,
      "outputs": []
    },
    {
      "cell_type": "markdown",
      "source": [
        "#### 구분자로 분리 - .split\n",
        "* split - : 지정한 구분 문자로 문자열을 분할한 리스트 반환 "
      ],
      "metadata": {
        "id": "LU8j-vsxvILA"
      }
    },
    {
      "cell_type": "code",
      "source": [
        "# 문장에 있는 모든 단어를 가져오고 싶을때\n",
        "\n",
        "text = \"Time,is,Zero.,Simple,is,Best\"\n",
        "l = text.split(\",\")\n",
        "print(l)"
      ],
      "metadata": {
        "colab": {
          "base_uri": "https://localhost:8080/"
        },
        "id": "XlY60jbetit9",
        "outputId": "043282f9-cc71-4509-99b5-65d26a6f62a5"
      },
      "execution_count": 20,
      "outputs": [
        {
          "output_type": "stream",
          "name": "stdout",
          "text": [
            "['Time', 'is', 'Zero.', 'Simple', 'is', 'Best']\n"
          ]
        }
      ]
    },
    {
      "cell_type": "markdown",
      "source": [
        "#### 문자열을 0으로 채움 - .zfill\n",
        "\n",
        "* .zfill 메서드 : 인수로 지정한 길이가 되도록 0으로 채움"
      ],
      "metadata": {
        "id": "2cykMU_MvTXz"
      }
    },
    {
      "cell_type": "code",
      "source": [
        "# CSV 데이터를 읽어들일때;; 문자 -> 숫자 -> 문자로 받을때의 문제점 있음 \n",
        "\n",
        "# 예를들어, 고객정보 Key는 유일무이한 값/ 즉 문자열에서 바뀌면 안됨 \n",
        "# '00000002' -> 92 김진환 - '00000092' 데이터 분석가\n",
        "\n",
        "num = 92\n",
        "num_str = '92'\n",
        "zfilled = num_str.zfill(6)          #6자리까지 0으로 채움\n",
        "print(zfilled,type(zfilled))"
      ],
      "metadata": {
        "colab": {
          "base_uri": "https://localhost:8080/"
        },
        "id": "8sW1NCTBtiqN",
        "outputId": "fee4156b-5d9f-4555-8512-d6a5358cb182"
      },
      "execution_count": 21,
      "outputs": [
        {
          "output_type": "stream",
          "name": "stdout",
          "text": [
            "000092 <class 'str'>\n"
          ]
        }
      ]
    },
    {
      "cell_type": "markdown",
      "source": [
        "#### 특정 문자열 포함 행만 추출\n",
        "\n",
        "* 문자열의 split과 리스트 컴프리핸션을 사용 \n",
        "\n",
        "1. split을 사용하여 텍스트를 줄바꿈, 1행씩 리스트로 얻을 수 있음\n",
        "2. 리스트 컴프리핸션을 사용하여 특정 문자열을 포함하는 행 추출\n",
        "3. 원래 텍스트로부터 특정한 문자열을 포함하는 행만 추출한 텍스트를 만들 수 있다."
      ],
      "metadata": {
        "id": "Tk7G8-Jovf6s"
      }
    },
    {
      "cell_type": "code",
      "source": [
        "text = \"\"\"저는 김철수 입니다.\n",
        "        반갑습니다. 저는 데이터 분석가 입니다.\n",
        "        데이터로 일하는 것은 즐거운 일인데\n",
        "        더 열심히 배우겟습니다. 감사합니다. \"\"\"\n",
        "\n",
        "# 한줄 구분자로 구분해 리스트로 생성\n",
        "lines = text.split(\"\\n\")                                  #\\n = enter  #split으로 쪼개서 요소 가져오고 \n",
        "\n",
        "# 라인에서 데이터가 있는 라인만 가져오기\n",
        "line_list = [line for line in lines if \"데이터\" in line]  #한 줄 가져와서/ 데이터 있으면 가져오고/\n",
        "\n",
        "# 문자열 리스트로 연결하기\n",
        "# enter로 연결하여 출력\n",
        "new_text = \"\\n\".join(line_list)                           #join해서 연결시킴 공백은 그대로지만  \n",
        "print(new_text)    "
      ],
      "metadata": {
        "colab": {
          "base_uri": "https://localhost:8080/"
        },
        "id": "-yWrJ7tkvX2H",
        "outputId": "721b8b00-6938-4df1-ef58-707e3af4619b"
      },
      "execution_count": 24,
      "outputs": [
        {
          "output_type": "stream",
          "name": "stdout",
          "text": [
            "        반갑습니다. 저는 데이터 분석가 입니다.\n",
            "        데이터로 일하는 것은 즐거운 일인데\n"
          ]
        }
      ]
    },
    {
      "cell_type": "code",
      "source": [
        "#lines\n",
        "line_list"
      ],
      "metadata": {
        "colab": {
          "base_uri": "https://localhost:8080/"
        },
        "id": "GvqW6rzlvXxl",
        "outputId": "7f42ce87-2fa9-46d9-e755-6acec65db573"
      },
      "execution_count": 23,
      "outputs": [
        {
          "output_type": "execute_result",
          "data": {
            "text/plain": [
              "['        반갑습니다. 저는 데이터 분석가 입니다.', '        데이터로 일하는 것은 즐거운 일인데']"
            ]
          },
          "metadata": {},
          "execution_count": 23
        }
      ]
    },
    {
      "cell_type": "markdown",
      "source": [
        "#### 텍스트의 빈행 삭제"
      ],
      "metadata": {
        "id": "6gazFRgNwQkK"
      }
    },
    {
      "cell_type": "code",
      "source": [
        "text = \"\"\"저는 김철수 입니다.\n",
        "\n",
        "        반갑습니다. 저는 데이터 분석가 입니다.\n",
        "\n",
        "        데이터로 일하는 것은 즐거운 일인데\n",
        "\n",
        "        더 열심히 배우겟습니다. 감사합니다. \"\"\"\n",
        "\n",
        "#비어있는 것도 다 문자로 인식하기 때문에 구분함 \n",
        "lines = text.split(\"\\n\")\n",
        "lines"
      ],
      "metadata": {
        "colab": {
          "base_uri": "https://localhost:8080/"
        },
        "id": "w9d0k16_wSw2",
        "outputId": "022ea8c6-87cd-4b2c-f897-1bab18bfda53"
      },
      "execution_count": 27,
      "outputs": [
        {
          "output_type": "execute_result",
          "data": {
            "text/plain": [
              "['저는 김철수 입니다.',\n",
              " '',\n",
              " '        반갑습니다. 저는 데이터 분석가 입니다.',\n",
              " '',\n",
              " '        데이터로 일하는 것은 즐거운 일인데',\n",
              " '',\n",
              " '        더 열심히 배우겟습니다. 감사합니다. ']"
            ]
          },
          "metadata": {},
          "execution_count": 27
        }
      ]
    },
    {
      "cell_type": "code",
      "source": [
        "#중간 사이사이 공백 없애려면? \n",
        "#공백제거 : strip\n",
        "\n",
        "line_list = [line.strip() for line in lines if line.strip() != \"\"]    ##line.strip() #가져오면서 strip 적용\n",
        "new_text = '\\n'.join(line_list)\n",
        "print(new_text)"
      ],
      "metadata": {
        "id": "WZCQt5eTvXpq"
      },
      "execution_count": null,
      "outputs": []
    },
    {
      "cell_type": "code",
      "source": [
        "line_list"
      ],
      "metadata": {
        "colab": {
          "base_uri": "https://localhost:8080/"
        },
        "id": "FPK6U23hwxI4",
        "outputId": "a8fdb3d8-4ec2-4e21-96f5-230f6d3cea20"
      },
      "execution_count": 30,
      "outputs": [
        {
          "output_type": "execute_result",
          "data": {
            "text/plain": [
              "['저는 김철수 입니다.',\n",
              " '        반갑습니다. 저는 데이터 분석가 입니다.',\n",
              " '        데이터로 일하는 것은 즐거운 일인데',\n",
              " '        더 열심히 배우겟습니다. 감사합니다. ']"
            ]
          },
          "metadata": {},
          "execution_count": 30
        }
      ]
    },
    {
      "cell_type": "markdown",
      "source": [
        "#### 무작위로 문자열 생성, 뽑 - random.choices"
      ],
      "metadata": {
        "id": "UF18sRfwxLGJ"
      }
    },
    {
      "cell_type": "code",
      "source": [
        "import random \n",
        "\n",
        "letters = 'abcdefg'\n",
        "rl = random.choices(letters, k = 2)\n",
        "print(rl)"
      ],
      "metadata": {
        "colab": {
          "base_uri": "https://localhost:8080/"
        },
        "id": "smmkyOlPvXkM",
        "outputId": "2078154e-e250-45ef-f10c-5991e93391a9"
      },
      "execution_count": 31,
      "outputs": [
        {
          "output_type": "stream",
          "name": "stdout",
          "text": [
            "['a', 'd']\n"
          ]
        }
      ]
    },
    {
      "cell_type": "code",
      "source": [],
      "metadata": {
        "id": "tzJfQc45spGm"
      },
      "execution_count": null,
      "outputs": []
    },
    {
      "cell_type": "code",
      "source": [],
      "metadata": {
        "id": "GFsDJLt12iAB"
      },
      "execution_count": null,
      "outputs": []
    },
    {
      "cell_type": "code",
      "source": [],
      "metadata": {
        "id": "XQALFrfuxooo"
      },
      "execution_count": null,
      "outputs": []
    },
    {
      "cell_type": "code",
      "source": [],
      "metadata": {
        "id": "LjAKj5oHxokc"
      },
      "execution_count": null,
      "outputs": []
    },
    {
      "cell_type": "code",
      "source": [],
      "metadata": {
        "id": "zAbr4Cwkxof1"
      },
      "execution_count": null,
      "outputs": []
    },
    {
      "cell_type": "markdown",
      "source": [
        "## 정규표현식 사용하기 - 함수"
      ],
      "metadata": {
        "id": "rdHGnud5pWjA"
      }
    },
    {
      "cell_type": "code",
      "execution_count": null,
      "metadata": {
        "id": "S8Ym6dX6nLDf"
      },
      "outputs": [],
      "source": [
        "# 정규표현식 사용하기\n",
        "\n",
        "import re\n",
        "\n",
        "# 정규표현식 함수\n",
        "findall : 일치하는 문자열을 리스트로 반환\n",
        "split : 일치하는 문자열로 원래 문자열을 분할한 리스트로 반환\n",
        "sub : 일치하는 문자열을 치환한 문자열을 반환\n",
        "search : 일치하는 문자열이 있으면 Match 객체를 반환\n",
        "\n",
        "# 정규표현식\n",
        "# Chapter1\n",
        ". 줄바꿈 이외의 임의의 모든 문자                   #\n",
        "... 줄바꿈 이외의 임의의 3문자 \n",
        "\n",
        "^ 문자열의 시작                                    #\n",
        "^... 문자열 시작에서 3문자 \n",
        "$ 문자열의 끝                                      #\n",
        "...$ 문자열 끝에서 3문자 \n",
        "\n",
        "* 직전 정규표현식을 0회이상 반복\n",
        "ab*c abc또는 ac에 일치\n",
        "+ 직전 정규표현식을 1회이상 반복                   #\n",
        "ab+c abc에 일치\n",
        "? 직전 정규표현식이 0~1회 존재                     #\n",
        "abcd? abc또는 abcd에 일치\n",
        "| 둘중 하나\n",
        "ab|cd ab또는 cd에 일치\n",
        "\n",
        "# Chapter2\n",
        "(...) 소괄호 안을 그루핑\n",
        "\n",
        "[...] 대괄호 안의 문자 중 하나\n",
        "[^...] 대괄호 안의 문자 중 하나도 없음\n",
        "\n",
        "x(ab|cd) x로 시작해 ab또는 cd에 일치 (ab|cd 그룹)\n",
        "\n",
        "\\ 직후 정규표현식 기호 무시\n",
        "\\ 에 일치\n",
        "\n",
        "{n} 직전 정규표현식의 반복 횟수\n",
        "{n,} 직전 정규표현식의 최소 반복 횟수\n",
        "{n,m} 직전 정규표현식의 반복 횟수 범위\n",
        "\n",
        "A{3} A가 3회 반복되면 일치\n",
        "A{3, }A가 3회 이상 반복되면 일치\n",
        "A{3, 6}A가 3~6회 이상 반복되면 일치"
      ]
    },
    {
      "cell_type": "markdown",
      "source": [
        "### 조건맞는거 리스트로 반환 - .findall \n",
        "*  : 지정한 조건에 일치하는 문자열을 리스트로 반환\n",
        "\n",
        "* re.함수(r) -> raw문자열이라고 \n",
        "* 이스케이프가 필요한 메타 문자를 무시하는 효과가 있음\n",
        "* 사용할때는 앞에 r을 붙이는것이 좋음!"
      ],
      "metadata": {
        "id": "xbjfnzqGoOrq"
      }
    },
    {
      "cell_type": "code",
      "source": [
        "import re\n",
        "\n",
        "text = \"In the face of ambiguity, refuse the temptation to guess\"\n",
        "match_list = re.findall(r\"t.\", text)            #.은 임의의 숫자  #findall :해당하는 모든 것을 찾음 \n",
        "\n",
        "print(match_list)"
      ],
      "metadata": {
        "colab": {
          "base_uri": "https://localhost:8080/"
        },
        "id": "17Mwepf7nYe5",
        "outputId": "04644452-15ba-4305-e664-3ccb13e0d534"
      },
      "execution_count": null,
      "outputs": [
        {
          "output_type": "stream",
          "name": "stdout",
          "text": [
            "['th', 'ty', 'th', 'te', 'ta', 'ti', 'to']\n"
          ]
        }
      ]
    },
    {
      "cell_type": "markdown",
      "source": [
        "### 정규표현식으로 치환 - .sub()"
      ],
      "metadata": {
        "id": "5Dq-IAdipDGj"
      }
    },
    {
      "cell_type": "code",
      "source": [
        "#정규표현식으로 치환하기\n",
        "\n",
        "import re\n",
        "\n",
        "text = \"Beautiful is better than ugly\"\n",
        "replaced = re.sub(r\" \", \"_\", text)     #sub(대체해야할 문자/ 대체할 문자/ 데이터)  #공백문자는 \\s로도 쓰입니다.\n",
        "print(replaced)"
      ],
      "metadata": {
        "colab": {
          "base_uri": "https://localhost:8080/"
        },
        "id": "diVSSJ5vohoj",
        "outputId": "e612ce81-c8f4-490e-ff0d-9f6464695b0a"
      },
      "execution_count": null,
      "outputs": [
        {
          "output_type": "stream",
          "name": "stdout",
          "text": [
            "Beautiful_is_better_than_ugly\n"
          ]
        }
      ]
    },
    {
      "cell_type": "markdown",
      "source": [
        "### 텍스트 분할 - .split "
      ],
      "metadata": {
        "id": "wl9e29EpqwPu"
      }
    },
    {
      "cell_type": "code",
      "source": [
        "# 정규표현식으로 텍스트 분할하기\n",
        "\n",
        "# split함수를 사용하면 정규 표현식에 일치한 위치에서 분할한 문자열 리스트를 얻을 수 있습니다.\n",
        "\n",
        "text = 'Simple is Best'\n",
        "\n",
        "# ^ : 문자의 시작 \n",
        "# + : 직전 정규표현식을 1회이상 반복 \n",
        "replaced = re.split((r\"[^a-zA-Z0-9]+\"), text)\n",
        "print(replaced)\n",
        "\n",
        "#[^a-zA-Z0-9]+는 정규 표현식(regular expression)에서 사용되는 특수한 패턴으로, \n",
        "#알파벳 대소문자와 숫자가 아닌 문자들이 하나 이상 연속해서 나타나는 경우를 의미합니다.\n",
        "# 결국 공백을 구분자로 해서 분리"
      ],
      "metadata": {
        "colab": {
          "base_uri": "https://localhost:8080/"
        },
        "id": "NBnEigu2pmXl",
        "outputId": "531dc4c2-f63f-43e8-b696-b5e4c7fdde03"
      },
      "execution_count": null,
      "outputs": [
        {
          "output_type": "stream",
          "name": "stdout",
          "text": [
            "['Simple', 'is', 'Best']\n"
          ]
        }
      ]
    },
    {
      "cell_type": "markdown",
      "source": [
        "### 그룹 이용하기"
      ],
      "metadata": {
        "id": "6ysMLzZRsGWg"
      }
    },
    {
      "cell_type": "code",
      "source": [
        "# 정규표현식의 그룹은 데이터 분석이나 ETL 도구 구현 등에서 자주 사용하는 기능으로\n",
        "# 원하는 객체를 그루핑할 수 있다라는 장점이 있습니다.\n",
        "\n",
        "# 제품 -> [0-9]+\n",
        "# 카탈로그 코드 [0-9A-Z]+\n",
        "# 제품명 .*\n",
        "# 구분 문자 공백\n",
        "\n",
        "# ([0-9]+) +([ 0-9 A-Z]+) +(.*)       #소괄호로 그룹핑 \n",
        "\n",
        "text = \"\"\"\n",
        "101 CF001 커피 \n",
        "102 CF002 커피(대용량)\n",
        "201 TE01 홍차\n",
        "202 TE02 홍차(대용량)\n",
        "\"\"\"\n",
        "items = re.findall(r'([0-9]+) +([ 0-9 A-Z]+) +(.*)', text)   #[] 넣어서 그룹지정 \n",
        "print(items)"
      ],
      "metadata": {
        "colab": {
          "base_uri": "https://localhost:8080/"
        },
        "id": "AjAGDBGKo_yL",
        "outputId": "3464403c-561d-40f6-a237-789720280547"
      },
      "execution_count": null,
      "outputs": [
        {
          "output_type": "stream",
          "name": "stdout",
          "text": [
            "[('101', 'CF001', '커피 '), ('102', 'CF002', '커피(대용량)'), ('201', 'TE01', '홍차'), ('202', 'TE02', '홍차(대용량)')]\n"
          ]
        }
      ]
    },
    {
      "cell_type": "markdown",
      "source": [
        "### 일치하는 부분확인 "
      ],
      "metadata": {
        "id": "QM4gTqpiCFIG"
      }
    },
    {
      "cell_type": "code",
      "source": [
        "# 정규표현식과 일치하는 부분 확인\n",
        "\n",
        "# re 모듈의 serach함수는 정규표현식과 일치하는 첫 번째 위치 정보가 저장된 Match 객체를 반환  #\n",
        "# Match 객체를 사용하면 일치하는 위치의 문자열과 함께 시작 및 종료 위치 정보 확보 가능\n",
        "\n",
        "# match객체\n",
        "# start , end , group, groups 튜플 그룹\n",
        "\n",
        "import re\n",
        "\n",
        "text = 'Error should never pass silently'\n",
        "m_obj = re.search(r\"p...\", text)                            ## \n",
        "\n",
        "print(m_obj.group()) # 일치 문자열 ()로 묶인 것인 없음\n",
        "print(m_obj.start()) # 시작 인덱스 알려줌 \n",
        "print(m_obj.end()) # 끝 인덱스"
      ],
      "metadata": {
        "colab": {
          "base_uri": "https://localhost:8080/"
        },
        "id": "z_dnyd_ECIeQ",
        "outputId": "265f45d5-e21e-477e-cf6f-8f9a303e7b59"
      },
      "execution_count": null,
      "outputs": [
        {
          "output_type": "stream",
          "name": "stdout",
          "text": [
            "pass\n",
            "19\n",
            "23\n"
          ]
        }
      ]
    },
    {
      "cell_type": "code",
      "source": [
        "import re\n",
        "\n",
        "text = 'Errors should never pass silently'\n",
        "# 1번 그룹 - n.... n다음에 4글자가 아무거나\n",
        "# 2번 그룹 - P... n다음에 3글자가 아무거나\n",
        "\n",
        "m_obj = re.search(r\"(n....) (p...)\", text)   #그룹 정보 \n",
        "print(m_obj.group())                         #그룹이 뭘로 이루어져 있는지 \n",
        "print(m_obj.groups())"
      ],
      "metadata": {
        "colab": {
          "base_uri": "https://localhost:8080/"
        },
        "id": "vx4XsDt-nYZq",
        "outputId": "bfc6b81c-38bc-4d1f-b448-d0bd790c8108"
      },
      "execution_count": null,
      "outputs": [
        {
          "output_type": "stream",
          "name": "stdout",
          "text": [
            "never pass\n",
            "('never', 'pass')\n"
          ]
        }
      ]
    },
    {
      "cell_type": "markdown",
      "source": [
        "##__"
      ],
      "metadata": {
        "id": "H47AEJpgtu9R"
      }
    },
    {
      "cell_type": "markdown",
      "source": [
        "## Greedy, Lazy 개념 "
      ],
      "metadata": {
        "id": "SEy3rIs0DP4Q"
      }
    },
    {
      "cell_type": "code",
      "source": [
        "# Greedy, Lazy 사용하기\n",
        "# 정규표현식이 패턴에 일치하는 문자열을 추출할때\n",
        "# 일치하는 최대한의 범위를 추출하는 상태를 greedy(탐욕)이라고 한다.\n",
        "\n",
        "# 최소한은 Lazy라고 하는데 파이썬은 기본적으로 greedy하지만\n",
        "# ?를 붙이는 순간 Lazy해진다. \n",
        "\n",
        "import re\n",
        "\n",
        "text = 'In the face of ambiguity, refuse the temptation to guess'   #findall :일치하는 문자열 반환 \n",
        "match_list = re.findall(r\"t.*\\s\", text)       #t에서 아무문자나 해서 직전까지 0-1번 반복되어 공백까지\n",
        "print(match_list)                             #파이썬은 greedy 최대로 뽑기 때문에 마지막 공백까지 뽑음"
      ],
      "metadata": {
        "colab": {
          "base_uri": "https://localhost:8080/"
        },
        "id": "FdSk8e7ZDXkr",
        "outputId": "8987f87b-0357-4526-ed7e-153f6862b04b"
      },
      "execution_count": null,
      "outputs": [
        {
          "output_type": "stream",
          "name": "stdout",
          "text": [
            "['the face of ambiguity, refuse the temptation to ']\n"
          ]
        }
      ]
    },
    {
      "cell_type": "code",
      "source": [
        "#?붙이면 t에서 가장 가까운 공백까지만 일치하는거 찾음 -lazy\n",
        "#공백 전에 ? 붙 \n",
        "match_list = re.findall(r\"t.*?\\s\", text)                  #\n",
        "print(match_list)  "
      ],
      "metadata": {
        "colab": {
          "base_uri": "https://localhost:8080/"
        },
        "id": "DBkbNvo4DY38",
        "outputId": "d0efe705-293d-4cc5-df09-c0f592e9f0a9"
      },
      "execution_count": null,
      "outputs": [
        {
          "output_type": "stream",
          "name": "stdout",
          "text": [
            "['the ', 'ty, ', 'the ', 'temptation ', 'to ']\n"
          ]
        }
      ]
    },
    {
      "cell_type": "markdown",
      "source": [
        "## 정규표현식 실습 \n",
        "[우리가 자주 사용할 함수]\n",
        "\n",
        "* findall - 일치하는 문자열을 리스트로 반환\n",
        "* split - 일치하는 문자열로 원래 문자열을 분할한 리스트로 반환\n",
        "* sub - 일치하는 문자열을 치환한 문자열을 반환\n",
        "* search - 일치하는 문자열이 있으면 match 객체를 반환\n",
        "\n",
        "[대표적인 정규표현식]\n",
        "\n",
        "* . 줄바꿈 이외의 임의의 문자\n",
        "* ^ 문자열 시작\n",
        "* $ 문자열의 끝, 또는 문자열 끝 줄바꿈 직전\n",
        "* * 직전 정규표현식은 0회 이상 반복\n",
        "* + 직전 정규표현식을 1회 이상 반복\n",
        "* ? 직전 정규표현식이 0회 또는 1회 존재\n",
        "\n",
        "[자주 사용하는 문자 클래스]\n",
        "\n",
        "꼭 기억해야할 정규표현식!\n",
        "\n",
        "* \\d 숫자와 매치 [0-9]와 같다.\n",
        "* \\D 숫자가 아닌것과 매치 [^0-9]와 같다.\n",
        "\n",
        "* \\s whitespace문자와 매치 [ \\t\\n\\r\\f\\v]와 같음. 맨앞의 빈칸은 공백을 의미\n",
        "* \\S whitespace문자가 아닌것과 매치 [^ \\t\\n\\r\\f\\v]와 같음.\n",
        "\n",
        "* \\w 문자+숫자와 매치 [a-zA-Z0-9]와 같습니다.\n",
        "* \\W 문자+숫자가 아닌 문자와 매치 [^a-zA-Z0-9]와 같습니다.\n",
        "\n",
        "* \\ 메타 문자가 아닌 일반 문자 역슬래시와 매치. 매타 문자 앞에 W를 붙이면 일반문자를 위미 (부정의 의미)"
      ],
      "metadata": {
        "id": "3_rcZBNZGRKA"
      }
    },
    {
      "cell_type": "code",
      "source": [
        "# 주소록입니다. 이후 강의에서 모두 이 search_target을 사용합니다.\n",
        "# https://regexr.com/5nvc2 공부하면서 참고하기 - 바로 보여줌 \n",
        "\n",
        "search_target = '''\n",
        "hello world\n",
        "hello  world\n",
        "hello, world\n",
        "Hello World\n",
        "\n",
        "hello world hello\n",
        "\n",
        "hello\n",
        "hallo\n",
        "hollo\n",
        "heallo\n",
        "yellow\n",
        "\n",
        "Monday Tuesday Wednesday Thursday Friday Saturday Sunday\n",
        "\n",
        "abcdefghijklmnopqrstuvwxyzABCDEFGHIJKLMNOPQRSTUVWXYZ01234567891011121314151617181920\n",
        "aaabbcaaabbcabcabc\n",
        "aaa bb c aaa bb c a b c a b c\n",
        "aaa1bb2c3aaa4bb5c6\n",
        "\n",
        "[123456]\n",
        "123[456]789\n",
        "abc[def]ghij\n",
        "\n",
        "010-9091-5491\n",
        "010-5043-2901\n",
        "010-5050-40409\n",
        "010-49492-3131\n",
        "010 2913 3132\n",
        "01019133829\n",
        "064-721-3213\n",
        "010.1913.3829\n",
        "\n",
        "\n",
        "paul-korea@naver.com\n",
        "paul@naver.com\n",
        "leehojun@gmail.com\n",
        "hojun.lee@gmail.com\n",
        "test.test@go.go.go\n",
        "\n",
        "\n",
        "https://github.com/LiveCoronaDetector/livecod\n",
        "github.com/LiveCoronaDetector/livecod\n",
        "https://github.com/LiveCoronaDetector\n",
        "\n",
        "I never dreamed about success, I worked for it.\n",
        "Do not be afraid to give up the good to go for the great.\n",
        "\n",
        "hello (hello world) hello\n",
        "hello \\hello world// hello\n",
        "^^\n",
        ":)\n",
        "\n",
        "[(name, leehojun), (age, 10), (height, 180), (email, paul-lab@naver.com)]\n",
        "{name : leehojun, age : 10, height : 180, email : paul-lab@naver.com}\n",
        "\n",
        "가나다라마바사아자차카타파하\n",
        "ㄱㄴㄷㄹㅁㅂㅅㅇㅈㅊㅋㅌㅍㅎ\n",
        "안녕하세요\n",
        "안녕-하세요\n",
        "수사\n",
        "수박\n",
        "수상\n",
        "동해 물과 백두산이 마르고 닳도록 하느님이 보호하사 우리나라 만세\n",
        "'''"
      ],
      "metadata": {
        "id": "KfethSH6GfxG"
      },
      "execution_count": 1,
      "outputs": []
    },
    {
      "cell_type": "code",
      "source": [
        "print(search_target)"
      ],
      "metadata": {
        "id": "BngAly1tGbr5"
      },
      "execution_count": null,
      "outputs": []
    },
    {
      "cell_type": "code",
      "source": [
        "# 숫자 대표 정규표현식\n",
        "regex = r'\\d'              #정규표현식 앞에는 r 붙이는게 좋음 \n",
        "#글자, 숫자 \n",
        "#regex = r'\\w'\n",
        "\n",
        "# 정규표현식과 일치하는 부분을 모두 찾아주는 파이썬 코드입니다.\n",
        "import re\n",
        "result = re.findall(regex, search_target)                            #\n",
        "print(\"\\n\".join(result))"
      ],
      "metadata": {
        "id": "0ucaiXOLDY0l"
      },
      "execution_count": null,
      "outputs": []
    },
    {
      "cell_type": "code",
      "source": [
        "# Hello 단어를 검색봅시다.\n",
        "regex = r'hello'\n",
        "\n",
        "# 정규표현식과 일치하는 부분을 모두 찾아주는 파이썬 코드입니다.\n",
        "import re\n",
        "result = re.findall(regex, search_target)\n",
        "print(\"\\n\".join(result))"
      ],
      "metadata": {
        "colab": {
          "base_uri": "https://localhost:8080/"
        },
        "id": "dyaAylryILDk",
        "outputId": "5f1a10b9-a28e-4e04-cd19-0ef90f7b3b6f"
      },
      "execution_count": null,
      "outputs": [
        {
          "output_type": "stream",
          "name": "stdout",
          "text": [
            "hello\n",
            "hello\n",
            "hello\n",
            "hello\n",
            "hello\n",
            "hello\n",
            "hello\n",
            "hello\n",
            "hello\n",
            "hello\n",
            "hello\n",
            "hello\n"
          ]
        }
      ]
    },
    {
      "cell_type": "code",
      "source": [
        "# 맨처음에 와야하는 것 : ^\n",
        "m1 = re.findall(\"^Life\", \"Life is too short\")\n",
        "print(\"m1 결과 : \", m1)"
      ],
      "metadata": {
        "colab": {
          "base_uri": "https://localhost:8080/"
        },
        "id": "xBgqHGEeMgVU",
        "outputId": "67f24be8-9fbd-4c03-ac15-6b7afe61c963"
      },
      "execution_count": null,
      "outputs": [
        {
          "output_type": "stream",
          "name": "stdout",
          "text": [
            "m1 결과 :  ['Life']\n"
          ]
        }
      ]
    },
    {
      "cell_type": "code",
      "source": [
        "# 맨처음에 와야하는 것 ^\n",
        "m2 = re.findall(\"^is\", \"Life is too short\")\n",
        "print(\"m2 결과 : \", m2)"
      ],
      "metadata": {
        "colab": {
          "base_uri": "https://localhost:8080/"
        },
        "id": "kRY3aMNrMn-f",
        "outputId": "452f25be-dec9-47f9-b344-e2ae4c7c24e8"
      },
      "execution_count": null,
      "outputs": [
        {
          "output_type": "stream",
          "name": "stdout",
          "text": [
            "m2 결과 :  []\n"
          ]
        }
      ]
    },
    {
      "cell_type": "code",
      "source": [
        "#맨 마지막에 와야하는 것 : $\n",
        "m1 = re.findall(\"short$\", \"Life is too short\")\n",
        "m2 = re.findall(\"short$\", \"Life is too short. So what?\")\n",
        " \n",
        "print(\"m1 결과 : \", m1)\n",
        "print(\"m2 결과 : \", m2)"
      ],
      "metadata": {
        "id": "__vhV0xRMw2o"
      },
      "execution_count": null,
      "outputs": []
    },
    {
      "cell_type": "code",
      "source": [
        "# 특정문자 1개 : .\n",
        "regex = re.compile('ema.l')  #email/ emall\n",
        "\n",
        "# 정규표현식과 일치하는 부분을 모두 찾아주는 파이썬 코드입니다.\n",
        "import re\n",
        "result = re.findall(regex, search_target)\n",
        "print(\"\\n\".join(result))"
      ],
      "metadata": {
        "colab": {
          "base_uri": "https://localhost:8080/"
        },
        "id": "c7GbUMrYMu6P",
        "outputId": "0bc99c93-3aa2-4a50-b7f3-b4bf8ce04e1b"
      },
      "execution_count": null,
      "outputs": [
        {
          "output_type": "stream",
          "name": "stdout",
          "text": [
            "email\n",
            "email\n"
          ]
        }
      ]
    },
    {
      "cell_type": "code",
      "source": [
        "# 특정문자 6개(공백포함) : ......\n",
        "regex = re.compile(r'......')  \n",
        "\n",
        "# 정규표현식과 일치하는 부분을 모두 찾아주는 파이썬 코드입니다.\n",
        "import re\n",
        "result = re.findall(regex, search_target)\n",
        "print(\"\\n\".join(result))"
      ],
      "metadata": {
        "id": "d14dUaWENfWe"
      },
      "execution_count": null,
      "outputs": []
    },
    {
      "cell_type": "code",
      "source": [
        "# 여러가지 중 택1해서 찾기\n",
        "regex = re.compile(r'h[aeyo]llo', re.I)         #h[aeyo]l.. 도 됨    \n",
        "\n",
        "#대문자도 갖고오고 싶으면 re.I\n",
        "#a-f 중 1개 : [a-f]\n",
        "#[a-zA-Z0-9가-힣ㄱ-ㅎ]\n",
        "#[^a-zA-Z0-9가-힣ㄱ-ㅎ]  :괄호 안 ^는 부정의미 \n",
        "\n",
        "# 정규표현식과 일치하는 부분을 모두 찾아주는 파이썬 코드입니다.\n",
        "import re\n",
        "result = re.findall(regex, search_target)\n",
        "print(\"\\n\".join(result))"
      ],
      "metadata": {
        "colab": {
          "base_uri": "https://localhost:8080/"
        },
        "id": "Evat8cmJN0wq",
        "outputId": "a9a10fd2-469e-4fd2-d8a4-b97f1eea113b"
      },
      "execution_count": null,
      "outputs": [
        {
          "output_type": "stream",
          "name": "stdout",
          "text": [
            "hello\n",
            "hello\n",
            "hello\n",
            "Hello\n",
            "hello\n",
            "hello\n",
            "hello\n",
            "hallo\n",
            "hollo\n",
            "hello\n",
            "hello\n",
            "hello\n",
            "hello\n",
            "hello\n",
            "hello\n"
          ]
        }
      ]
    },
    {
      "cell_type": "code",
      "source": [
        "# 서브패턴\n",
        "\n",
        "# 소괄호를 사용하면 정규식 일부 패턴을 그룹화 할 수 있습니다.\n",
        "# 이 정규식 그룹은 그룹 캡처기능이라고 불리는데\n",
        "# 정규식 그룹은 번호가 매겨진 캡처그룹을 생성하고, 괄호안에 정규식 부분과\n",
        "# 일치하는 문자열을 찾거나 저장합니다.\n",
        "# 그 캡처 번호를 사용하여 문자열 부분을 불러와 사용할 수 있습니다.\n",
        "\n",
        "# 주의할점은 캡처에 정규식 패턴이 저장된다고 착각할 수 있지만\n",
        "# 캡처는 패턴으로 찾은 문자열을 저장한다.\n",
        " \n",
        "# ?:는 그룹이지만 캡처를 저장하지 않음 \n",
        "\n",
        "# 빈칸에 정규표현식을 적습니다.\n",
        "regex = re.compile('(on|ues|rida)')                        #그룹 1로/ 3개 중 1개 \n",
        "\n",
        "# 그룹 안에 매칭이 된 것만 출력이 되는 형태\n",
        "\n",
        "# 정규표현식과 일치하는 부분을 모두 찾아주는 파이썬 코드입니다.\n",
        "import re\n",
        "result = re.findall(regex, search_target)\n",
        "print(\"\\n\".join(result))          #enter로 문자열 연결 "
      ],
      "metadata": {
        "colab": {
          "base_uri": "https://localhost:8080/"
        },
        "id": "8X4dL9IFObq8",
        "outputId": "f0e2e666-0de9-476c-a121-34e3ba558003"
      },
      "execution_count": 4,
      "outputs": [
        {
          "output_type": "stream",
          "name": "stdout",
          "text": [
            "on\n",
            "ues\n",
            "rida\n",
            "on\n",
            "on\n",
            "on\n"
          ]
        }
      ]
    },
    {
      "cell_type": "code",
      "source": [
        "regex = re.compile('(Mon|Tues|Fri)day')         #그룹day를 찾지만 출력은 그룹 안만 출력됨 \n",
        "                                                #즉 Monday가 아니라 Mon만 출력됨                                         \n",
        "\n",
        "# 정규표현식과 일치하는 부분을 모두 찾아주는 파이썬 코드입니다.\n",
        "import re\n",
        "result = re.findall(regex, search_target)\n",
        "print(\"\\n\".join(result))                  "
      ],
      "metadata": {
        "colab": {
          "base_uri": "https://localhost:8080/"
        },
        "id": "3uzaGbY5RUjY",
        "outputId": "44af7f20-485e-494c-ca5e-168d0d9d8124"
      },
      "execution_count": null,
      "outputs": [
        {
          "output_type": "stream",
          "name": "stdout",
          "text": [
            "Mon\n",
            "Tues\n",
            "Fri\n"
          ]
        }
      ]
    },
    {
      "cell_type": "code",
      "source": [
        "regex = re.compile('(?:Mon|Tues|Fri)day')         ##?: 은 그룹깨기!      #그룹말고 해당 문자만 찾게됨                                      \n",
        "\n",
        "# 정규표현식과 일치하는 부분을 모두 찾아주는 파이썬 코드입니다.\n",
        "import re\n",
        "result = re.findall(regex, search_target)\n",
        "print(\"\\n\".join(result))               "
      ],
      "metadata": {
        "id": "3D6CrO53RqDc",
        "colab": {
          "base_uri": "https://localhost:8080/"
        },
        "outputId": "598793e4-ab18-4405-ac8b-cc38ebb0715d"
      },
      "execution_count": 5,
      "outputs": [
        {
          "output_type": "stream",
          "name": "stdout",
          "text": [
            "Monday\n",
            "Tuesday\n",
            "Friday\n"
          ]
        }
      ]
    },
    {
      "cell_type": "code",
      "source": [
        "import re\n",
        "\n",
        "text = \"tomato potato\"\n",
        "\n",
        "p1 = \"(tom|pot)ato\"    # 그룹으로 묶인 - 그 단어 (tom|pot) 출력\n",
        "p2 = \"(?:tom|pot)ato\"  # 그룹으로 묶이지 않은것은 캡처하지 않겠다고 매칭 - tomato와 potato가 출력\n",
        "\n",
        "m1 = re.findall(p1, text)\n",
        "m2 = re.findall(p2, text)\n",
        "\n",
        "print(\"m1 결과 : \", m1)   #얘도 tomato를 찾지만 출력만 tom으로 하는 것  \n",
        "print(\"m2 결과 : \", m2)"
      ],
      "metadata": {
        "colab": {
          "base_uri": "https://localhost:8080/"
        },
        "id": "K7VrIGxgQzlT",
        "outputId": "fd2e0d45-f71a-4590-b978-3c9e078f3655"
      },
      "execution_count": null,
      "outputs": [
        {
          "output_type": "stream",
          "name": "stdout",
          "text": [
            "m1 결과 :  ['tom', 'pot']\n",
            "m2 결과 :  ['tomato', 'potato']\n"
          ]
        }
      ]
    },
    {
      "cell_type": "code",
      "source": [
        "# 수량자 - 가장 많이 하는 휴대폰번호 입력하기 \n",
        "\n",
        "# 빈칸에 정규표현식을 적습니다.\n",
        "regex = re.compile('[0-9]{3}[-.* ][0-9]{4}[-.* ][0-9]{4}') \n",
        "#0부터 9까지 / 3자리 \n",
        "\n",
        "# 1. [0에서 9까지]{3개}[- 나 . 앞에 있는 문자 0~N개]\n",
        "# 2. [0에서 9까지]{4개}[- 나 . 앞에 있는 문자 0~N개]\n",
        "# 3. [0에서 9까지]{4개}[- 나 .]\n",
        "\n",
        "# 정규표현식과 일치하는 부분을 모두 찾아주는 파이썬 코드입니다.\n",
        "import re\n",
        "result = re.findall(regex, search_target)\n",
        "print(\"\\n\".join(result))"
      ],
      "metadata": {
        "colab": {
          "base_uri": "https://localhost:8080/"
        },
        "id": "S5_O5Wg7VUyW",
        "outputId": "caf3405a-81d4-4ef7-864f-09120b3eab58"
      },
      "execution_count": null,
      "outputs": [
        {
          "output_type": "stream",
          "name": "stdout",
          "text": [
            "010-9091-5491\n",
            "010-5043-2901\n",
            "010-5050-4040\n",
            "010 2913 3132\n",
            "010.1913.3829\n"
          ]
        }
      ]
    },
    {
      "cell_type": "code",
      "source": [
        "# 수량자 - 가장 많이 하는 휴대폰번호 입력하기 \n",
        "#{} 중괄호 안 : 개수지정 \n",
        "\n",
        "# 빈칸에 정규표현식을 적습니다.\n",
        "regex = re.compile('[0-9]{3}[-.* ][0-9]{4}[-.* ][0-9]{4,5}')     ##4자리나 5자리 \n",
        "#0부터 9까지 3자리 \n",
        "\n",
        "# 1. [0에서 9까지]{3개}[- 나 . 앞에 있는 문자 0~N개]\n",
        "# 2. [0에서 9까지]{4개}[- 나 . 앞에 있는 문자 0~N개]\n",
        "# 3. [0에서 9까지]{4개}[- 나 .]\n",
        "\n",
        "import re\n",
        "result = re.findall(regex, search_target)\n",
        "print(\"\\n\".join(result))"
      ],
      "metadata": {
        "colab": {
          "base_uri": "https://localhost:8080/"
        },
        "id": "myCBcq-iaZfX",
        "outputId": "dd901fda-1775-48bc-d266-725b76196c3f"
      },
      "execution_count": null,
      "outputs": [
        {
          "output_type": "stream",
          "name": "stdout",
          "text": [
            "010-9091-5491\n",
            "010-5043-2901\n",
            "010-5050-40409\n",
            "010 2913 3132\n",
            "010.1913.3829\n"
          ]
        }
      ]
    },
    {
      "cell_type": "code",
      "source": [
        "#이메일 주소 출력하기 \n",
        "\n",
        "regex = re.compile('[0-9a-zA-Z]+@[0-9a-zA-Z]+.[a-zA-Z]+') \n",
        "\n",
        "# 1. [0에서 9까지 + 영문자]{+@}\n",
        "# 2. [0에서 9까지 + 영문자].\n",
        "# 3. [영문자_ 1개 이상]\n",
        "\n",
        "import re\n",
        "result = re.findall(regex, search_target)\n",
        "print(\"\\n\".join(result))"
      ],
      "metadata": {
        "colab": {
          "base_uri": "https://localhost:8080/"
        },
        "id": "6jlszeaBafNw",
        "outputId": "7aeb2030-a8e7-4ac1-89aa-a6cbdeaf3dd0"
      },
      "execution_count": null,
      "outputs": [
        {
          "output_type": "stream",
          "name": "stdout",
          "text": [
            "korea@naver.com\n",
            "paul@naver.com\n",
            "leehojun@gmail.com\n",
            "lee@gmail.com\n",
            "test@go.go\n",
            "lab@naver.com\n",
            "lab@naver.com\n"
          ]
        }
      ]
    },
    {
      "cell_type": "code",
      "source": [
        "# 캐릭터 클래스\n",
        "\n",
        "# 빈칸에 정규표현식을 적습니다.\n",
        "regex = re.compile('\\W')          #글자가 아닌것 \n",
        "regex = re.compile('\\D')          #숫자가 아닌것 \n",
        "\n",
        "# 1. [0에서 9까지 + 영문자]{+@}\n",
        "# 2. [0에서 9까지 + 영문자].\n",
        "# 3. [영문자_ 1개 이상]\n",
        "\n",
        "# 정규표현식과 일치하는 부분을 모두 찾아주는 파이썬 코드입니다.\n",
        "import re\n",
        "result = re.findall(regex, search_target)\n",
        "print(\"\\n\".join(result))"
      ],
      "metadata": {
        "id": "gnPavp2jbYOd"
      },
      "execution_count": null,
      "outputs": []
    },
    {
      "cell_type": "code",
      "source": [],
      "metadata": {
        "id": "jdFxQ8ki0zOi"
      },
      "execution_count": null,
      "outputs": []
    },
    {
      "cell_type": "markdown",
      "source": [
        "[문자열 규칙에 r을 붙이는 이유]\n",
        "\n",
        "정규표현식에서 문자열을 사용할 때는 앞에 r을 붙이는 것을 추천\n",
        "\n",
        "[이스케이프 문자]\n",
        "만약 문자열이 \\문자가 있다면 파이썬은 그 다음 문자를 그대로 인식하지 않고, 컴퓨터에 명령하기 위한 명령어로 인식 그렇기 때문에 \\와 함께 사용하는 문자를 이스케이프문자라고 합니다.\n",
        "\n",
        "이스케이프 문자를 사용하고 싶지 않다면 \\앞에 \\를 하나 더 붙여서 \\를 일반문자로 인식시키면되고\n",
        "\n",
        "만약에 그렇게 하기 어렵다면 r을 붙이는 방법이 있다. r을 붙이면 그 뒤에 나오는 문자열에 들어 있는 문자를 모두 일반 문자로 인식합니다."
      ],
      "metadata": {
        "id": "piKQ-vYl0ri1"
      }
    },
    {
      "cell_type": "code",
      "source": [
        "# 이스케이프 문자 -백슬래시 \n",
        "\n",
        "# 빈칸에 정규표현식을 적습니다.\n",
        "regex = re.compile('\\[.*]') #대괄호([]) 안에 감싸여진 문자열 0~N개   #그룹이 아니라 대괄호로 사용된 것\n",
        "                                                                     #즉 이스케이프 문자로 빠져나감 (문자 그대로를 의미)\n",
        "# 정규표현식과 일치하는 부분을 모두 찾아주는 파이썬 코드입니다.\n",
        "import re\n",
        "result = re.findall(regex, search_target)\n",
        "print(\"\\n\".join(result))"
      ],
      "metadata": {
        "colab": {
          "base_uri": "https://localhost:8080/"
        },
        "id": "uDGZYTujdExS",
        "outputId": "5fe25d27-92d6-424a-fca9-cf67c3cecc31"
      },
      "execution_count": null,
      "outputs": [
        {
          "output_type": "stream",
          "name": "stdout",
          "text": [
            "[123456]\n",
            "[456]\n",
            "[def]\n",
            "[(name, leehojun), (age, 10), (height, 180), (email, paul-lab@naver.com)]\n"
          ]
        }
      ]
    },
    {
      "cell_type": "code",
      "source": [
        "#이스케이프 문자를 사용할 필요가 없는 경우\n",
        "regex = re.compile('-.*-') \n",
        "\n",
        "import re\n",
        "result = re.findall(regex, search_target)\n",
        "print(\"\\n\".join(result))"
      ],
      "metadata": {
        "colab": {
          "base_uri": "https://localhost:8080/"
        },
        "id": "O7ZaRCjbdntq",
        "outputId": "385449e0-024e-49f8-d0c9-4d1c332e73e7"
      },
      "execution_count": null,
      "outputs": [
        {
          "output_type": "stream",
          "name": "stdout",
          "text": [
            "-9091-\n",
            "-5043-\n",
            "-5050-\n",
            "-49492-\n",
            "-721-\n"
          ]
        }
      ]
    },
    {
      "cell_type": "code",
      "source": [
        "#이스케이프 문자가 필요한 경우\n",
        "regex = re.compile('\\^\\^') \n",
        "\n",
        "# 정규표현식과 일치하는 부분을 모두 찾아주는 파이썬 코드입니다.\n",
        "import re\n",
        "result = re.findall(regex, search_target)\n",
        "print(\"\\n\".join(result))"
      ],
      "metadata": {
        "colab": {
          "base_uri": "https://localhost:8080/"
        },
        "id": "J6myMYxkdwCT",
        "outputId": "ec6f45ed-601e-47cb-8019-1f0f381df5a6"
      },
      "execution_count": null,
      "outputs": [
        {
          "output_type": "stream",
          "name": "stdout",
          "text": [
            "^^\n"
          ]
        }
      ]
    },
    {
      "cell_type": "code",
      "source": [
        "regex = re.compile(':\\)')\n",
        "\n",
        "# 정규표현식과 일치하는 부분을 모두 찾아주는 파이썬 코드입니다.\n",
        "import re\n",
        "result = re.findall(regex, search_target)\n",
        "print(\"\\n\".join(result))"
      ],
      "metadata": {
        "colab": {
          "base_uri": "https://localhost:8080/"
        },
        "id": "V139FhsZeJRg",
        "outputId": "d6258052-acc6-4855-f666-a402f66fda38"
      },
      "execution_count": null,
      "outputs": [
        {
          "output_type": "stream",
          "name": "stdout",
          "text": [
            ":)\n"
          ]
        }
      ]
    },
    {
      "cell_type": "code",
      "source": [],
      "metadata": {
        "id": "vMAX1eBYePG5"
      },
      "execution_count": null,
      "outputs": []
    },
    {
      "cell_type": "code",
      "source": [
        "#실습 \n",
        "example = '앞서 논문은 이러한 연구를 진행하였습니다(홍길동, 2019). 하지만 그런 것들을 개량하여 다음 논문이 나오게 되었고(임꺽정, 2020), 마지막으로 두가지를 모두 결합한 새로운 연구가 개발되었습니다.(심청이, 2021)'\n",
        "#print(example)"
      ],
      "metadata": {
        "id": "g-5yontzevUD"
      },
      "execution_count": null,
      "outputs": []
    },
    {
      "cell_type": "code",
      "source": [
        "# 여기서 인용구만 빼고 싶으면 다음과 같이 사용하면 됩니다.\n",
        "\n",
        "result = re.findall(r'\\([A-Za-z가-힣]+, \\d+\\)',example)  #원래 괄호 안 > 그룹핑 #따라서 이스케이프로 그냥 문자 불러옴 \n",
        "                                                         #+ :1개 이상   #,공백  다음 숫자 \n",
        "result"
      ],
      "metadata": {
        "colab": {
          "base_uri": "https://localhost:8080/"
        },
        "id": "TKTHFWIPfdrC",
        "outputId": "8ea2a9df-da6d-4745-d148-0396268aad24"
      },
      "execution_count": null,
      "outputs": [
        {
          "output_type": "execute_result",
          "data": {
            "text/plain": [
              "['(홍길동, 2019)', '(임꺽정, 2020)', '(심청이, 2021)']"
            ]
          },
          "metadata": {},
          "execution_count": 49
        }
      ]
    },
    {
      "cell_type": "code",
      "source": [],
      "metadata": {
        "id": "lagHq4-Wf82k"
      },
      "execution_count": null,
      "outputs": []
    },
    {
      "cell_type": "code",
      "source": [
        "# 정규표현식에서 .는 모든 문자를 의미하죠? \n",
        "# 그래서 필요한 문자 외에 다른 문자들도 집어삼켜버립니다.\n",
        "\n",
        "# 만약에 이런글을 썼다고 해보죠\n",
        "import re\n",
        "example = '저희 첫째아들은 2020년에 태어났구요. 저희 둘째 아들은 23년에 태어났는데 셋째는 26년에 가질 예정이에요'\n",
        "\n",
        "re.findall(r'\\d.+년', example)"
      ],
      "metadata": {
        "colab": {
          "base_uri": "https://localhost:8080/"
        },
        "id": "5WMIFQsafMRD",
        "outputId": "8d42cfe4-53e8-4db7-a32f-a2458eff07a0"
      },
      "execution_count": null,
      "outputs": [
        {
          "output_type": "execute_result",
          "data": {
            "text/plain": [
              "['2020년에 태어났구요. 저희 둘째 아들은 23년에 태어났는데 셋째는 26년']"
            ]
          },
          "metadata": {},
          "execution_count": 50
        }
      ]
    },
    {
      "cell_type": "code",
      "source": [
        "#똑같은거 상쇄하고 싶으면 \n",
        "#? \n",
        "\n",
        "import re\n",
        "example = '저희 첫째아들은 2020년에 태어났구요. 저희 둘째 아들은 23년에 태어났는데 셋째는 26년에 가질 예정이에요'\n",
        "\n",
        "re.findall(r'\\d.+?년', example)"
      ],
      "metadata": {
        "colab": {
          "base_uri": "https://localhost:8080/"
        },
        "id": "Q1zlCrrih2qO",
        "outputId": "81881d77-744b-4e85-bf6b-6fb81673fe1a"
      },
      "execution_count": null,
      "outputs": [
        {
          "output_type": "execute_result",
          "data": {
            "text/plain": [
              "['2020년', '23년', '26년']"
            ]
          },
          "metadata": {},
          "execution_count": 54
        }
      ]
    },
    {
      "cell_type": "code",
      "source": [
        "data = 'a:3;b:4;c:5'\n",
        "for i in re.split(r';', data):\n",
        "  print(re.split(r':', i))"
      ],
      "metadata": {
        "colab": {
          "base_uri": "https://localhost:8080/"
        },
        "id": "-9LP2mxoiTO8",
        "outputId": "fad63a9d-379e-435f-9b54-0c4ffcb25790"
      },
      "execution_count": null,
      "outputs": [
        {
          "output_type": "stream",
          "name": "stdout",
          "text": [
            "['a', '3']\n",
            "['b', '4']\n",
            "['c', '5']\n"
          ]
        }
      ]
    }
  ]
}