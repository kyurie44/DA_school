{
  "nbformat": 4,
  "nbformat_minor": 0,
  "metadata": {
    "colab": {
      "provenance": [],
      "collapsed_sections": [
        "7XXi0KZuxI23",
        "aDpt7KmxndSk",
        "eMMDG-9LsLpE"
      ]
    },
    "kernelspec": {
      "name": "python3",
      "display_name": "Python 3"
    },
    "language_info": {
      "name": "python"
    }
  },
  "cells": [
    {
      "cell_type": "markdown",
      "source": [
        "#1. 파일\n",
        "* 파일은 컴퓨터 실행할때 가장 기본이 되는 단위\n",
        "* 그 중 csv, excel, txt, .py 파일"
      ],
      "metadata": {
        "id": "7XXi0KZuxI23"
      }
    },
    {
      "cell_type": "code",
      "source": [
        "# 1. 파일 읽기 예제\n",
        "\n",
        "#f = open(\"파일명\" , \"파일 열기 모드\")\n",
        "#f.close()   #열었으면 닫기! "
      ],
      "metadata": {
        "id": "yQVNB0_uxWtR"
      },
      "execution_count": null,
      "outputs": []
    },
    {
      "cell_type": "code",
      "source": [
        "# 파일 여는 모드는 읽기, 쓰기, 추가 등등이 있음\n",
        "# 읽기모드 r / 쓰기 w / 추가 a\n",
        "\n",
        "f = open('song_new.txt','w')\n",
        "f.write('''\n",
        "워, 워, go away, hah\n",
        "Trynna make a change, bad mood, go away\n",
        "나를 믿고 우린 계속 나아가야 해\n",
        "내 그래프 직선, 타오르기 직전\n",
        "Trynna make it blow up, 저리 비켜\n",
        "Trynna make a change, bad mood, go away\n",
        "나를 믿고 우린 계속 나아가야 해\n",
        "워, 워, no way\n",
        "세상이 우릴 원해\n",
        "''')\n",
        "\n",
        "f.close()"
      ],
      "metadata": {
        "id": "7aD5sJ0kxoEI"
      },
      "execution_count": null,
      "outputs": []
    },
    {
      "cell_type": "code",
      "source": [
        "f = open('song_new.txt', 'r')   #open()함수로 읽기 모드 후 값을 f에 저장\n",
        "contents = f.read()             #Read()함수 실행하여 contents에 할당\n",
        "print(contents)\n",
        "f.close()"
      ],
      "metadata": {
        "colab": {
          "base_uri": "https://localhost:8080/"
        },
        "id": "0KBfz2G6zVYg",
        "outputId": "c3f4c04d-fe0f-4e15-817d-f9be9a29ae79"
      },
      "execution_count": null,
      "outputs": [
        {
          "output_type": "stream",
          "name": "stdout",
          "text": [
            "\n",
            "워, 워, go away, hah\n",
            "Trynna make a change, bad mood, go away\n",
            "나를 믿고 우린 계속 나아가야 해\n",
            "내 그래프 직선, 타오르기 직전\n",
            "Trynna make it blow up, 저리 비켜\n",
            "Trynna make a change, bad mood, go away\n",
            "나를 믿고 우린 계속 나아가야 해\n",
            "워, 워, no way\n",
            "세상이 우릴 원해\n",
            "\n"
          ]
        }
      ]
    },
    {
      "cell_type": "code",
      "source": [
        "# with문\n",
        "# 으로 Open()함수를 대체가능 \n",
        "# 들여쓰기 주의!\n",
        "# close()문을 안쓰는 편리함\n",
        "\n",
        "with open('song.txt', 'r') as my_song_list:\n",
        "  content = my_song_list.read()\n",
        "  print(content)"
      ],
      "metadata": {
        "colab": {
          "base_uri": "https://localhost:8080/"
        },
        "id": "vD49Msc2ziOc",
        "outputId": "d8d305c3-8939-4137-af19-bc38f59dfa83"
      },
      "execution_count": null,
      "outputs": [
        {
          "output_type": "stream",
          "name": "stdout",
          "text": [
            "\n",
            "워, 워, go away, hah\n",
            "Trynna make a change, bad mood, go away\n",
            "나를 믿고 우린 계속 나아가야 해\n",
            "내 그래프 직선, 타오르기 직전\n",
            "Trynna make it blow up, 저리 비켜\n",
            "Trynna make a change, bad mood, go away\n",
            "나를 믿고 우린 계속 나아가야 해\n",
            "워, 워, no way\n",
            "세상이 우릴 원해\n",
            "\n"
          ]
        }
      ]
    },
    {
      "cell_type": "code",
      "source": [
        "# 한줄로 읽어오는 방법 > readlines()함수\n",
        "# read() : 파일 전체의 텍스트를 문자열로 반환 \n",
        "# 한줄의 기준은 \\n\n",
        "\n",
        "with open('song.txt', 'r') as my_song_list:\n",
        "  content_list = my_song_list.readlines()\n",
        "  print(content_list)"
      ],
      "metadata": {
        "colab": {
          "base_uri": "https://localhost:8080/"
        },
        "id": "5h23SUv-1WqK",
        "outputId": "66e046c9-6856-4a60-a746-c46feb3237fb"
      },
      "execution_count": null,
      "outputs": [
        {
          "output_type": "stream",
          "name": "stdout",
          "text": [
            "['\\n', '워, 워, go away, hah\\n', 'Trynna make a change, bad mood, go away\\n', '나를 믿고 우린 계속 나아가야 해\\n', '내 그래프 직선, 타오르기 직전\\n', 'Trynna make it blow up, 저리 비켜\\n', 'Trynna make a change, bad mood, go away\\n', '나를 믿고 우린 계속 나아가야 해\\n', '워, 워, no way\\n', '세상이 우릴 원해\\n']\n"
          ]
        }
      ]
    },
    {
      "cell_type": "code",
      "source": [
        "content_list[2]"
      ],
      "metadata": {
        "colab": {
          "base_uri": "https://localhost:8080/",
          "height": 36
        },
        "id": "diyxri8v1WnO",
        "outputId": "a246dd42-f799-48e2-f604-e68d1ae4ba11"
      },
      "execution_count": null,
      "outputs": [
        {
          "output_type": "execute_result",
          "data": {
            "text/plain": [
              "'Trynna make a change, bad mood, go away\\n'"
            ],
            "application/vnd.google.colaboratory.intrinsic+json": {
              "type": "string"
            }
          },
          "metadata": {},
          "execution_count": 36
        }
      ]
    },
    {
      "cell_type": "code",
      "source": [
        "with open('song.txt', 'r') as my_song_list:\n",
        "  i = 0\n",
        "  while True:\n",
        "    line = my_song_list.readline()\n",
        "\n",
        "    if not line:\n",
        "      break\n",
        "    print(line.replace(\"\\n\", \"\"))\n",
        "    i = i + 1"
      ],
      "metadata": {
        "colab": {
          "base_uri": "https://localhost:8080/"
        },
        "id": "8t8qA_ZU1Wjw",
        "outputId": "f54d96a8-c401-41f3-a535-9d6fbd84ba84"
      },
      "execution_count": null,
      "outputs": [
        {
          "output_type": "stream",
          "name": "stdout",
          "text": [
            "\n",
            "워, 워, go away, hah\n",
            "Trynna make a change, bad mood, go away\n",
            "나를 믿고 우린 계속 나아가야 해\n",
            "내 그래프 직선, 타오르기 직전\n",
            "Trynna make it blow up, 저리 비켜\n",
            "Trynna make a change, bad mood, go away\n",
            "나를 믿고 우린 계속 나아가야 해\n",
            "워, 워, no way\n",
            "세상이 우릴 원해\n"
          ]
        }
      ]
    },
    {
      "cell_type": "code",
      "source": [
        "song_list_new = []\n",
        "\n",
        "with open('song.txt', 'r') as my_song_list:\n",
        "  i = 0\n",
        "  while True:\n",
        "    line = my_song_list.readline()\n",
        "    if not line:\n",
        "      break\n",
        "    song_list_new.append(line.replace(\"\\n\", \"\"))\n",
        "    i = i + 1\n",
        "\n",
        "song_list_new"
      ],
      "metadata": {
        "colab": {
          "base_uri": "https://localhost:8080/"
        },
        "id": "lTUFqzCT1cUh",
        "outputId": "b11891d1-0ed0-4093-967c-31eb3b57f77e"
      },
      "execution_count": null,
      "outputs": [
        {
          "output_type": "execute_result",
          "data": {
            "text/plain": [
              "['',\n",
              " '워, 워, go away, hah',\n",
              " 'Trynna make a change, bad mood, go away',\n",
              " '나를 믿고 우린 계속 나아가야 해',\n",
              " '내 그래프 직선, 타오르기 직전',\n",
              " 'Trynna make it blow up, 저리 비켜',\n",
              " 'Trynna make a change, bad mood, go away',\n",
              " '나를 믿고 우린 계속 나아가야 해',\n",
              " '워, 워, no way',\n",
              " '세상이 우릴 원해']"
            ]
          },
          "metadata": {},
          "execution_count": 38
        }
      ]
    },
    {
      "cell_type": "code",
      "source": [
        "with open('song.txt','r') as my_song_list:\n",
        "  contents = my_song_list.read()\n",
        "  word_list = contents.split(\" \")\n",
        "  line_list = contents.split(\"\\n\")\n",
        "\n",
        "print(f\"총 글자수는 {len(contents)}입니다.\")\n",
        "print(f\"총 단어수는 {len(word_list)}입니다.\")\n",
        "print(f\"총 줄수는 {len(line_list)}입니다.\")"
      ],
      "metadata": {
        "colab": {
          "base_uri": "https://localhost:8080/"
        },
        "id": "LHR-NUSq1dGL",
        "outputId": "dee51375-da60-4522-9ec8-a86d6646ae1d"
      },
      "execution_count": null,
      "outputs": [
        {
          "output_type": "stream",
          "name": "stdout",
          "text": [
            "총 글자수는 209입니다.\n",
            "총 단어수는 44입니다.\n",
            "총 줄수는 11입니다.\n"
          ]
        }
      ]
    },
    {
      "cell_type": "code",
      "source": [],
      "metadata": {
        "id": "Oq6lxnOj1c_-"
      },
      "execution_count": null,
      "outputs": []
    },
    {
      "cell_type": "code",
      "source": [
        "## 파일쓰기\n",
        "#파일쓰기 중에서 인코딩 utf-8 / cp949 / euc-kr\n",
        "#인코딩 실습  #데이터 깨지지 않는지 체크 \n",
        "\n",
        "f = open[\"count_list.txt\", \"w\", encoding = 'utf8']"
      ],
      "metadata": {
        "id": "EN20Ju191c4u"
      },
      "execution_count": null,
      "outputs": []
    },
    {
      "cell_type": "code",
      "source": [
        "for i in range(1,11):\n",
        "  data = f\"{i}번째입니다.\"\n",
        "  f.write(data)\n",
        "f.close()"
      ],
      "metadata": {
        "id": "b4OVhWQA3CRM"
      },
      "execution_count": null,
      "outputs": []
    },
    {
      "cell_type": "code",
      "source": [
        "#or \n",
        "with open('count_list_new.txt', 'w', encoding='uft8') as f:\n",
        "  for i in range(1,11):\n",
        "    data = f\"{i}번째입니다.\"\n",
        "    f.write(data)"
      ],
      "metadata": {
        "id": "6T1aMohM3W82"
      },
      "execution_count": null,
      "outputs": []
    },
    {
      "cell_type": "code",
      "source": [],
      "metadata": {
        "id": "OK8f4ElV3ovV"
      },
      "execution_count": null,
      "outputs": []
    },
    {
      "cell_type": "markdown",
      "source": [
        "## Pickle 모듈 (=다름이름으로 저장)\n",
        "* 파이썬 프로그램 실행할때마다 변수 객체를 메모리에 저장 \n",
        "\n",
        " 메모리에 로딩된 객체들을 연속적으로 사용할 수 있게\n",
        "\n",
        "* 예를 들어, 데이터, 클래스 함수, 프로그램 등. \n",
        "* 향후 대기업, 관련 빅데이터 플랫폼에서 활용"
      ],
      "metadata": {
        "id": "nXUq0M_0lsC4"
      }
    },
    {
      "cell_type": "code",
      "source": [
        "#pickle 모듈 사용하려면\n",
        "#import 저장하고자하는 객체\n",
        "\n",
        "#파일 열때 r /파일 쓸때 w\n",
        "#pickle에서는 파일을 열때 rb  /파일 쓸때 wb "
      ],
      "metadata": {
        "id": "RgyxsE_e4yXJ"
      },
      "execution_count": null,
      "outputs": []
    },
    {
      "cell_type": "code",
      "source": [
        "import pickle\n",
        "\n",
        "f = open('list.pickle', 'wb')\n",
        "test = [1,2,3,4,5]\n",
        "pickle.dump(test,f)          #test 객체를 test.pickle 파일로 저장해줌 \n",
        "f.close()"
      ],
      "metadata": {
        "id": "aoZd0Zg65FA2"
      },
      "execution_count": null,
      "outputs": []
    },
    {
      "cell_type": "code",
      "source": [
        "f = open('list.pickle', 'rb')\n",
        "test_pickle = pickle.load(f)  #load함수로 데이터 불러옴 \n",
        "print(test_pickle)"
      ],
      "metadata": {
        "colab": {
          "base_uri": "https://localhost:8080/"
        },
        "id": "Tw5hNFo25UkE",
        "outputId": "9ce9e0e2-c66b-4fb9-d154-866d1510a84b"
      },
      "execution_count": null,
      "outputs": [
        {
          "output_type": "stream",
          "name": "stdout",
          "text": [
            "[1, 2, 3, 4, 5]\n"
          ]
        }
      ]
    },
    {
      "cell_type": "code",
      "source": [
        "# pickle은 클래스도 저장가능\n",
        "\n",
        "class Multiply(object):\n",
        "  def __init__(self, multi):\n",
        "    self.multi = multi\n",
        "  def multiply(self, number):\n",
        "    return number * self.multi\n",
        "\n",
        "multi_test = Multiply(5)\n",
        "multi_test.multiply(10)"
      ],
      "metadata": {
        "colab": {
          "base_uri": "https://localhost:8080/"
        },
        "id": "hohOQ6ww523J",
        "outputId": "621da721-2c71-48c1-8cda-6a24e24957db"
      },
      "execution_count": null,
      "outputs": [
        {
          "output_type": "execute_result",
          "data": {
            "text/plain": [
              "50"
            ]
          },
          "metadata": {},
          "execution_count": 50
        }
      ]
    },
    {
      "cell_type": "code",
      "source": [
        "f = open('multiply_object.pickle', 'wb')\n",
        "pickle.dump(multi_test, f)\n",
        "f.close()"
      ],
      "metadata": {
        "id": "ZvSUAiUQ52ym"
      },
      "execution_count": null,
      "outputs": []
    },
    {
      "cell_type": "code",
      "source": [
        "f = open('multiply_object.pickle', 'rb')\n",
        "multi_test = pickle.load(f)\n",
        "multi_test.multiply(10)"
      ],
      "metadata": {
        "colab": {
          "base_uri": "https://localhost:8080/"
        },
        "id": "m9Ihc_d952s0",
        "outputId": "59b0217f-f8f0-4653-f1d5-d3c389f0c7f6"
      },
      "execution_count": null,
      "outputs": [
        {
          "output_type": "execute_result",
          "data": {
            "text/plain": [
              "50"
            ]
          },
          "metadata": {},
          "execution_count": 52
        }
      ]
    },
    {
      "cell_type": "markdown",
      "source": [
        "# csv 데이터\n",
        "* 데이터분석 대부분은 통계프로그램이 아니라 엑셀 작업을 주로함 \n",
        "* 그만큼 스프레드시트 데이터를 많이 보게됨 \n",
        "\n",
        "\n",
        "* csv 쉼표로 나눠진 데이터\n",
        "1,2,3,4,5 -> test.csv/ txt\n",
        "* .xlsx -> .csv\n",
        "\n",
        "\n",
        "* 읽기 좋고, 용량도 excel파일보다 작고, 콤마로 구분되어 사용하기 편리, 전처리 하기 좋음 \n",
        "* Python -> excel -> python 호환성 좋음 \n"
      ],
      "metadata": {
        "id": "hz7esPHv_d5v"
      }
    },
    {
      "cell_type": "code",
      "source": [
        "import csv\n",
        "import os   #\n",
        "\n",
        "# 경로 지정(change directory)\n",
        "os.chdir('/content/sample_data')"
      ],
      "metadata": {
        "id": "ihVftgWd_j-a"
      },
      "execution_count": null,
      "outputs": []
    },
    {
      "cell_type": "code",
      "source": [
        "f = open('song_new.txt', 'w')\n",
        "f.write('''\n",
        "이윽고 내가 한눈에 너를 알아봤을 때\n",
        "모든 건 분명 달라지고 있었어\n",
        "내 세상은 널 알기 전과 후로 나뉘어\n",
        "니가 숨 쉬면 따스한 바람이 불어와\n",
        "니가 웃으면 눈부신 햇살이 비춰\n",
        "거기 있어줘서 그게 너라서\n",
        "가끔 내 어깨에 가만히 기대주어서\n",
        "나는 있잖아 정말 빈틈없이 행복해\n",
        "너를 따라서 시간은 흐르고 멈춰\n",
        "물끄러미 너를 들여다 보곤 해\n",
        "그것 말고는 아무것도 할 수 없어서\n",
        "너의 모든 순간 그게 나였으면 좋겠다\n",
        "생각만 해도 가슴이 차올라 나는 온통 너로\n",
        "보고 있으면 왠지 꿈처럼 아득한 것\n",
        "몇 광년 동안 날 향해 날아온 별빛 또 지금의 너\n",
        "*거기 있어줘서 그게 너라서\n",
        "가끔 나에게 조용하게 안겨주어서\n",
        "나는 있잖아 정말 남김없이 고마워\n",
        "너를 따라서 시간은 흐르고 멈춰\n",
        "물끄러미 너를 들여다보곤 해\n",
        "너를 보는 게 나에게는 사랑이니까\n",
        "너의 모든 순간 그게 나였으면 좋겠다...\n",
        "''')\n",
        "f.close()"
      ],
      "metadata": {
        "id": "dRSlKXJLB8qV"
      },
      "execution_count": null,
      "outputs": []
    },
    {
      "cell_type": "code",
      "source": [
        "#open\n",
        "f = open('test.csv', 'r', encoding = 'utf-8')\n",
        "f"
      ],
      "metadata": {
        "colab": {
          "base_uri": "https://localhost:8080/"
        },
        "id": "4sF6WTbRDAuf",
        "outputId": "47bb8f4c-ac36-4102-c966-c036b317703d"
      },
      "execution_count": null,
      "outputs": [
        {
          "output_type": "execute_result",
          "data": {
            "text/plain": [
              "<_io.TextIOWrapper name='test.csv' mode='r' encoding='utf-8'>"
            ]
          },
          "metadata": {},
          "execution_count": 56
        }
      ]
    },
    {
      "cell_type": "code",
      "source": [
        "#읽을 준비\n",
        "new = csv.reader(f)\n",
        "new    "
      ],
      "metadata": {
        "colab": {
          "base_uri": "https://localhost:8080/"
        },
        "id": "RDTQ-lEWCf9L",
        "outputId": "25c59113-b5be-47e4-9f4c-ae7005636442"
      },
      "execution_count": null,
      "outputs": [
        {
          "output_type": "execute_result",
          "data": {
            "text/plain": [
              "<_csv.reader at 0x7f823c215af0>"
            ]
          },
          "metadata": {},
          "execution_count": 57
        }
      ]
    },
    {
      "cell_type": "code",
      "source": [
        "#csv파일 출력\n",
        "a_list = []\n",
        "for i in new:\n",
        "  if i != '':\n",
        "    print(i)\n",
        "    a_list.append(i)"
      ],
      "metadata": {
        "colab": {
          "base_uri": "https://localhost:8080/"
        },
        "id": "ITm5eJ93DS8M",
        "outputId": "b3dce1f8-497b-413c-bb76-62d034bf0d39"
      },
      "execution_count": null,
      "outputs": [
        {
          "output_type": "stream",
          "name": "stdout",
          "text": [
            "['국어', '영어', '수학', '', '', '', '']\n",
            "['50', '80', '90', '', '', '', '']\n"
          ]
        }
      ]
    },
    {
      "cell_type": "code",
      "source": [
        "#함수화  - 많은 파일 한번에 가져올 수 있음 \n",
        "def opencsv(filename):\n",
        "  f = open(filename, 'r')\n",
        "  reader = csv.reader(f)\n",
        "  \n",
        "  output = []\n",
        "  for i in reader:\n",
        "    output.append(i)\n",
        "  return output"
      ],
      "metadata": {
        "id": "v2c4X_-6Dkyo"
      },
      "execution_count": null,
      "outputs": []
    },
    {
      "cell_type": "code",
      "source": [
        "opencsv('test.csv')"
      ],
      "metadata": {
        "colab": {
          "base_uri": "https://localhost:8080/"
        },
        "id": "98vwBeX0EsjQ",
        "outputId": "7188455d-6e9d-4752-948d-956ccc0bcc63"
      },
      "execution_count": null,
      "outputs": [
        {
          "output_type": "execute_result",
          "data": {
            "text/plain": [
              "[['국어', '영어', '수학', '', '', '', ''], ['50', '80', '90', '', '', '', '']]"
            ]
          },
          "metadata": {},
          "execution_count": 60
        }
      ]
    },
    {
      "cell_type": "code",
      "source": [],
      "metadata": {
        "id": "ffngMb7RpIP8"
      },
      "execution_count": null,
      "outputs": []
    },
    {
      "cell_type": "code",
      "source": [
        "##새로운 데이터 읽기 예제\n",
        "a = [['구', '전체', '내국인', '외국인'], \n",
        "     ['관악구','519864','502089','17775'], \n",
        "     ['강남구','547602','542498','5104'], \n",
        "     ['송파구','686181', '679247', '6934'], \n",
        "     ['강동구','428547','424235','4312']]        #개수 동일한 이중리스트 \n",
        "\n",
        "a"
      ],
      "metadata": {
        "colab": {
          "base_uri": "https://localhost:8080/"
        },
        "id": "zV9KwCXpFB8K",
        "outputId": "f47d2a03-a95e-449f-a198-78985bf768c6"
      },
      "execution_count": null,
      "outputs": [
        {
          "output_type": "execute_result",
          "data": {
            "text/plain": [
              "[['구', '전체', '내국인', '외국인'],\n",
              " ['관악구', '519864', '502089', '17775'],\n",
              " ['강남구', '547602', '542498', '5104'],\n",
              " ['송파구', '686181', '679247', '6934'],\n",
              " ['강동구', '428547', '424235', '4312']]"
            ]
          },
          "metadata": {},
          "execution_count": 61
        }
      ]
    },
    {
      "cell_type": "code",
      "source": [
        "f = open('abc.csv', 'w', newline = '')  #csv파일 생성\n",
        "new_csv = csv.writer(f, delimiter = ',')  #, 로 할거다 지정해줌 \n",
        "new_csv.writerows(a)  #a자료를 csv 파일에 넣기\n",
        "f.close()"
      ],
      "metadata": {
        "id": "ndjlxcUkFWXy"
      },
      "execution_count": null,
      "outputs": []
    },
    {
      "cell_type": "code",
      "source": [
        "##방법2.\n",
        "b = [['구', '전체', '내국인', '외국인'], \n",
        "     ['관악구','519864','502089','17775'], \n",
        "     ['강남구','547602','542498','5104'], \n",
        "     ['송파구','686181', '679247', '6934'], \n",
        "     ['강동구','428547','424235','4312']]"
      ],
      "metadata": {
        "id": "vqzrAGXFF6Ot"
      },
      "execution_count": null,
      "outputs": []
    },
    {
      "cell_type": "code",
      "source": [
        "#함수화\n",
        "\n",
        "def writecsv(filename, list):   #b를 filename에 넣음 \n",
        "  with open(filename, 'w', newline = '') as f:\n",
        "    a = csv.writer(f, delimiter = ',')\n",
        "    a.writerows(list)"
      ],
      "metadata": {
        "id": "l_HRpYOCGGjQ"
      },
      "execution_count": null,
      "outputs": []
    },
    {
      "cell_type": "code",
      "source": [
        "writecsv('new_abc.csv', b)"
      ],
      "metadata": {
        "id": "MOY_7AFgGVeS"
      },
      "execution_count": null,
      "outputs": []
    },
    {
      "cell_type": "code",
      "source": [],
      "metadata": {
        "id": "3VTgcqYuGcxr"
      },
      "execution_count": null,
      "outputs": []
    },
    {
      "cell_type": "code",
      "source": [
        "## seoul 데이터 \n",
        "import csv\n",
        "import os\n",
        "os.chdir('/content/sample_data/')\n",
        "\n",
        "# 함수화\n",
        "def opencsv(filename):\n",
        "  f = open(filename, 'r')\n",
        "  reader = csv.reader(f)\n",
        "  output = []\n",
        "  for i in reader:\n",
        "    output.append(i)\n",
        "  return output\n",
        "\n",
        "total = opencsv('seoul.csv')\n",
        "total"
      ],
      "metadata": {
        "colab": {
          "base_uri": "https://localhost:8080/"
        },
        "id": "fjRI8eUpS5g2",
        "outputId": "224a54f0-ea5c-4279-eb4d-26c17054ace6"
      },
      "execution_count": null,
      "outputs": [
        {
          "output_type": "execute_result",
          "data": {
            "text/plain": [
              "[['Gu', 'Korean', 'Foreigner', 'Senior'],\n",
              " ['Total', '9,740,398', '285,529', '1,468,146'],\n",
              " ['Jongrogu', '151,767', '11,093', '27,394'],\n",
              " ['Jongru', '126,409', '10,254', '23,025'],\n",
              " ['Yongsangu', '228,830', '16,159', '38,531'],\n",
              " ['Seongdonggu', '303,158', '8,132', '43,662'],\n",
              " ['Kwangjingu', '352,692', '15,645', '47,347'],\n",
              " ['Dongdaemoongu', '346,551', '17,228', '58,764'],\n",
              " ['Jungranggu', '398,812', '4,964', '64,449'],\n",
              " ['Seongbukgu', '441,590', '12,524', '70,204'],\n",
              " ['Gangbukgu', '314,090', '3,785', '59,808'],\n",
              " ['Dobonggu', '335,280', '2,314', '58,070'],\n",
              " ['Nowonggu', '535,282', '4,547', '79,968'],\n",
              " ['Eunpyonggu', '481,663', '4,496', '79,957'],\n",
              " ['Seodaemungu', '310,069', '14,020', '51,708'],\n",
              " ['Mapogu', '373,629', '11,976', '51,961'],\n",
              " ['Yangcheongu', '459,849', '4,082', '60,487'],\n",
              " ['Gangseogu', '593,708', '6,532', '82,937'],\n",
              " ['Gurogu', '406,748', '33,102', '64,952'],\n",
              " ['Guemcheongu', '233,371', '19,497', '37,191'],\n",
              " ['Youngdeungpogu', '368,402', '34,076', '57,350'],\n",
              " ['Dongjakgu', '397,618', '12,869', '61,607'],\n",
              " ['Kwanakgu', '502,117', '17,836', '74,518'],\n",
              " ['Seoucheogu', '431,027', '4,231', '56,455'],\n",
              " ['Gangnamgu', '544,028', '5,015', '70,029'],\n",
              " ['Songpagu', '677,489', '6,849', '86,062'],\n",
              " ['Gangdonggu', '426,219', '4,303', '61,710']]"
            ]
          },
          "metadata": {},
          "execution_count": 69
        }
      ]
    },
    {
      "cell_type": "code",
      "source": [
        "# 상위 5개 파일 불러오기 head() 상위 5개 불러오기\n",
        "for i in total [:5]:\n",
        "  print(i)"
      ],
      "metadata": {
        "colab": {
          "base_uri": "https://localhost:8080/"
        },
        "id": "sw5NjLpbXS5F",
        "outputId": "7ffce88a-5060-4be3-95d6-6f4b3871717f"
      },
      "execution_count": null,
      "outputs": [
        {
          "output_type": "stream",
          "name": "stdout",
          "text": [
            "['Gu', 'Korean', 'Foreigner', 'Senior']\n",
            "['Total', '9,740,398', '285,529', '1,468,146']\n",
            "['Jongrogu', '151,767', '11,093', '27,394']\n",
            "['Jongru', '126,409', '10,254', '23,025']\n",
            "['Yongsangu', '228,830', '16,159', '38,531']\n"
          ]
        }
      ]
    },
    {
      "cell_type": "markdown",
      "source": [
        "## 정규표현식\n",
        "* 특정 규칙 가진 문자열 집합 표현하는 언어 "
      ],
      "metadata": {
        "id": "XpjdWqmfwyN-"
      }
    },
    {
      "cell_type": "code",
      "source": [
        "# 숫자형이 문자형으로 되어있는것\n",
        "#'9,740,398'\n",
        "#'1500만원'\n",
        "#'$300'\n",
        "\n",
        "#문자형을 실수형으로 바꿀때 ,가 있으면 에러가 납니다.\n",
        "float('123,456')"
      ],
      "metadata": {
        "id": "zxLUgkjDXS05"
      },
      "execution_count": null,
      "outputs": []
    },
    {
      "cell_type": "code",
      "source": [
        "#따라서 sub-string(슬라이싱)\n",
        "# sub -> 대체하는거 \n",
        "\n",
        "import re\n",
        "\n",
        "j = '123,456'\n",
        "float(re.sub(',','',j))  #sub(바꿔야하는거, 바꿀것, 데이터)\n",
        "#int(re.sub(',', '', j))"
      ],
      "metadata": {
        "colab": {
          "base_uri": "https://localhost:8080/"
        },
        "id": "EBxE4nrFY3Xg",
        "outputId": "5dfcd78d-9fc6-4c37-f55a-b07a921d2f79"
      },
      "execution_count": null,
      "outputs": [
        {
          "output_type": "execute_result",
          "data": {
            "text/plain": [
              "123456.0"
            ]
          },
          "metadata": {},
          "execution_count": 71
        }
      ]
    },
    {
      "cell_type": "code",
      "source": [
        "#리스트안에 숫자가 1개라도 있으면 ',' -> ''으로 변경\n",
        "#작성해보기 \n",
        "\n",
        "i = total[2]    #total = seoul data \n",
        "i\n",
        "\n",
        "k = []\n",
        "for j in i:\n",
        "  if re.search('\\d', j):                #j에서 숫자를 1개라도 찾았다면 \n",
        "    k.append(int(re.sub(',' , '', j)))\n",
        "  else:\n",
        "    k.append(j)  \n",
        "\n",
        "k"
      ],
      "metadata": {
        "colab": {
          "base_uri": "https://localhost:8080/"
        },
        "id": "QnwnszzVwz71",
        "outputId": "6d25ac2c-5c03-4ee9-9666-39b971a1c2a8"
      },
      "execution_count": null,
      "outputs": [
        {
          "output_type": "execute_result",
          "data": {
            "text/plain": [
              "['Jongrogu', 151767, 11093, 27394]"
            ]
          },
          "metadata": {},
          "execution_count": 76
        }
      ]
    },
    {
      "cell_type": "code",
      "source": [
        "# 만약, 문자와 숫자가 섞여있다면?\n",
        "# 데이터가 밀리는 경우는 부지기수.\n",
        "\n",
        "p = ['123강남구', '456종로구', '11,093', '27,394']\n",
        "k = []\n",
        "for j in p:\n",
        "  if re.search('[a-z가-힣]', j):          #j에서 소문자 알파벳 또는 한글 문자가 있다면\n",
        "    k.append(j)\n",
        "  else:\n",
        "    k.append(float(re.sub(',' , '', j))) \n",
        "\n",
        "k"
      ],
      "metadata": {
        "colab": {
          "base_uri": "https://localhost:8080/"
        },
        "id": "0aDBdc1jw0Sk",
        "outputId": "f5c9ff0d-1286-452d-975b-f576c913071d"
      },
      "execution_count": null,
      "outputs": [
        {
          "output_type": "execute_result",
          "data": {
            "text/plain": [
              "['123강남구', '456종로구', 11093.0, 27394.0]"
            ]
          },
          "metadata": {},
          "execution_count": 78
        }
      ]
    },
    {
      "cell_type": "code",
      "source": [
        "# 만약 특수문자가 있다면??\n",
        "\n",
        "p = ['123강남구@@', '456종로구!!', '11,093', '27,394']\n",
        "k = []\n",
        "for j in p:\n",
        "  if re.search('[a-z가-힣!@]', j): \n",
        "    k.append(j)\n",
        "  else:\n",
        "    k.append(float(re.sub(',' , '', j))) "
      ],
      "metadata": {
        "id": "5E0sACbDw0Ie"
      },
      "execution_count": null,
      "outputs": []
    },
    {
      "cell_type": "code",
      "source": [
        "# 예외처리\n",
        "# try - except try 실행해보고, 오류가 나면 except를 실행해라\n",
        "try:\n",
        "  p = ['123강남구@@', '456종로구!!', '11,093', '27,394']\n",
        "  k = []\n",
        "  for j in p:\n",
        "    if re.search('[a-z가-힣!@]', j): \n",
        "      k.append(j)\n",
        "    else:\n",
        "      k.append(float(re.sub(',' , '', j))) \n",
        "except:\n",
        "  pass"
      ],
      "metadata": {
        "id": "e7SBJhhzw0C3"
      },
      "execution_count": null,
      "outputs": []
    },
    {
      "cell_type": "code",
      "source": [
        "# 많은 데이터를 처리할 수 있는 함수 만들기\n",
        "\n",
        "def switch(listname):\n",
        "  for i in listname: #이중 리스트안에 있는 리스트 1개를 가져오고\n",
        "    print(i)\n",
        "    #['Jongrogu', 151,767, 11,093, 27,394]\n",
        "    for j in i: #리스트에 있는 요소를 받아와서\n",
        "      print(j)\n",
        "      try: # 여기 해당되는건 바꾸고 (, 문자형을 숫자형으로)\n",
        "        i[i.index(j)] = float(re.sub(',','',j))\n",
        "      except: # 해당되지 않으면 바꾸지 말아라(숫자가 없는 문자형은 넘어가라)\n",
        "        pass\n",
        "  return listname"
      ],
      "metadata": {
        "id": "bZdOA3MJxOG6"
      },
      "execution_count": null,
      "outputs": []
    },
    {
      "cell_type": "code",
      "source": [],
      "metadata": {
        "id": "TXTrN1DLxOCg"
      },
      "execution_count": null,
      "outputs": []
    },
    {
      "cell_type": "markdown",
      "source": [
        "### seoul.csv 데이터"
      ],
      "metadata": {
        "id": "aDpt7KmxndSk"
      }
    },
    {
      "cell_type": "code",
      "source": [
        "## seoul data\n",
        "#경로 불러오기 (재지정)\n",
        "#os.chdir('/content/sample_data')\n",
        "\n",
        "import os\n",
        "import re\n",
        "import csv\n",
        "\n",
        "# 함수화1 - file open\n",
        "def opencsv(filename):\n",
        "  f = open(filename, 'r')\n",
        "  reader = csv.reader(f)\n",
        "\n",
        "  output = []\n",
        "  for i in reader:\n",
        "    output.append(i)\n",
        "  return output\n",
        "\n",
        "#csv data 불러오기\n",
        "total = opencsv('seoul.csv')\n",
        "total"
      ],
      "metadata": {
        "id": "__lQsHgNxN9j",
        "colab": {
          "base_uri": "https://localhost:8080/"
        },
        "outputId": "54fddfe6-e77b-4be4-b4ee-6eb520e54fc2"
      },
      "execution_count": 105,
      "outputs": [
        {
          "output_type": "execute_result",
          "data": {
            "text/plain": [
              "[['Gu', 'Korean', 'Foreigner', 'Senior'],\n",
              " ['Total', '9,740,398', '285,529', '1,468,146'],\n",
              " ['Jongrogu', '151,767', '11,093', '27,394'],\n",
              " ['Jongru', '126,409', '10,254', '23,025'],\n",
              " ['Yongsangu', '228,830', '16,159', '38,531'],\n",
              " ['Seongdonggu', '303,158', '8,132', '43,662'],\n",
              " ['Kwangjingu', '352,692', '15,645', '47,347'],\n",
              " ['Dongdaemoongu', '346,551', '17,228', '58,764'],\n",
              " ['Jungranggu', '398,812', '4,964', '64,449'],\n",
              " ['Seongbukgu', '441,590', '12,524', '70,204'],\n",
              " ['Gangbukgu', '314,090', '3,785', '59,808'],\n",
              " ['Dobonggu', '335,280', '2,314', '58,070'],\n",
              " ['Nowonggu', '535,282', '4,547', '79,968'],\n",
              " ['Eunpyonggu', '481,663', '4,496', '79,957'],\n",
              " ['Seodaemungu', '310,069', '14,020', '51,708'],\n",
              " ['Mapogu', '373,629', '11,976', '51,961'],\n",
              " ['Yangcheongu', '459,849', '4,082', '60,487'],\n",
              " ['Gangseogu', '593,708', '6,532', '82,937'],\n",
              " ['Gurogu', '406,748', '33,102', '64,952'],\n",
              " ['Guemcheongu', '233,371', '19,497', '37,191'],\n",
              " ['Youngdeungpogu', '368,402', '34,076', '57,350'],\n",
              " ['Dongjakgu', '397,618', '12,869', '61,607'],\n",
              " ['Kwanakgu', '502,117', '17,836', '74,518'],\n",
              " ['Seoucheogu', '431,027', '4,231', '56,455'],\n",
              " ['Gangnamgu', '544,028', '5,015', '70,029'],\n",
              " ['Songpagu', '677,489', '6,849', '86,062'],\n",
              " ['Gangdonggu', '426,219', '4,303', '61,710']]"
            ]
          },
          "metadata": {},
          "execution_count": 105
        }
      ]
    },
    {
      "cell_type": "code",
      "source": [
        "#함수화2 이용 > 숫자 , 없애서 가공상태로 만듦 \n",
        "def switch(listname):\n",
        "  for i in listname: #이중 리스트안에 있는 리스트 1개를 가져오고\n",
        "    #['Jongrogu', 151,767, 11,093, 27,394]\n",
        "    for j in i: #리스트에 있는 요소를 받아와서\n",
        "      try: # 여기 해당되는건 바꾸고 (, 문자형을 숫자형으로)\n",
        "        i[i.index(j)] = float(re.sub(',','',j))\n",
        "      except: # 해당되지 않으면 바꾸지 말아라(숫자가 없는 문자형은 넘어가라)\n",
        "        pass\n",
        "  return listname\n",
        "\n",
        "sample = switch(total)\n",
        "sample"
      ],
      "metadata": {
        "id": "e7BSSI8gzF_n",
        "colab": {
          "base_uri": "https://localhost:8080/"
        },
        "outputId": "b363d6ec-2c19-4aaf-9f8f-2e72452213fb"
      },
      "execution_count": 109,
      "outputs": [
        {
          "output_type": "execute_result",
          "data": {
            "text/plain": [
              "[['Gu', 'Korean', 'Foreigner', 'Senior'],\n",
              " ['Total', 9740398.0, 285529.0, 1468146.0],\n",
              " ['Jongrogu', 151767.0, 11093.0, 27394.0],\n",
              " ['Jongru', 126409.0, 10254.0, 23025.0],\n",
              " ['Yongsangu', 228830.0, 16159.0, 38531.0],\n",
              " ['Seongdonggu', 303158.0, 8132.0, 43662.0],\n",
              " ['Kwangjingu', 352692.0, 15645.0, 47347.0],\n",
              " ['Dongdaemoongu', 346551.0, 17228.0, 58764.0],\n",
              " ['Jungranggu', 398812.0, 4964.0, 64449.0],\n",
              " ['Seongbukgu', 441590.0, 12524.0, 70204.0],\n",
              " ['Gangbukgu', 314090.0, 3785.0, 59808.0],\n",
              " ['Dobonggu', 335280.0, 2314.0, 58070.0],\n",
              " ['Nowonggu', 535282.0, 4547.0, 79968.0],\n",
              " ['Eunpyonggu', 481663.0, 4496.0, 79957.0],\n",
              " ['Seodaemungu', 310069.0, 14020.0, 51708.0],\n",
              " ['Mapogu', 373629.0, 11976.0, 51961.0],\n",
              " ['Yangcheongu', 459849.0, 4082.0, 60487.0],\n",
              " ['Gangseogu', 593708.0, 6532.0, 82937.0],\n",
              " ['Gurogu', 406748.0, 33102.0, 64952.0],\n",
              " ['Guemcheongu', 233371.0, 19497.0, 37191.0],\n",
              " ['Youngdeungpogu', 368402.0, 34076.0, 57350.0],\n",
              " ['Dongjakgu', 397618.0, 12869.0, 61607.0],\n",
              " ['Kwanakgu', 502117.0, 17836.0, 74518.0],\n",
              " ['Seoucheogu', 431027.0, 4231.0, 56455.0],\n",
              " ['Gangnamgu', 544028.0, 5015.0, 70029.0],\n",
              " ['Songpagu', 677489.0, 6849.0, 86062.0],\n",
              " ['Gangdonggu', 426219.0, 4303.0, 61710.0]]"
            ]
          },
          "metadata": {},
          "execution_count": 109
        }
      ]
    },
    {
      "cell_type": "code",
      "source": [
        "#첫번째 행 (제목) 지정하기\n",
        "title = [['구', '한국인', '외국인', '외국인 비율(%)']]\n",
        "i = ['Jongrogu', '151,767', '11,093', '27,394']\n",
        "\n",
        "title.append([i[0], i[1], i[2], i[3]])\n",
        "title"
      ],
      "metadata": {
        "colab": {
          "base_uri": "https://localhost:8080/"
        },
        "id": "E3GF1Dymy6wA",
        "outputId": "d121cd11-0f95-4c60-88bb-a83fe66e71d1"
      },
      "execution_count": 107,
      "outputs": [
        {
          "output_type": "execute_result",
          "data": {
            "text/plain": [
              "[['구', '한국인', '외국인', '외국인 비율(%)'], ['Jongrogu', '151,767', '11,093', '27,394']]"
            ]
          },
          "metadata": {},
          "execution_count": 107
        }
      ]
    },
    {
      "cell_type": "code",
      "source": [
        "#반복작업: 각 구의 외국인 비율 구하기 \n",
        "# 외국인 숫자 / 한국인 숫자 = 외국인 비율\n",
        "# 100/1000 -> 0.1 *100(%)\n",
        "\n",
        "for i in sample:\n",
        "  foreign = 0\n",
        "  try:\n",
        "    foreign = round(i[2] / i[1] * 100, 1) #round:소수점 아래 한자리까지\n",
        "    print(i[0], foreign) \n",
        "  except:\n",
        "    pass"
      ],
      "metadata": {
        "id": "_tbR91A50Dam"
      },
      "execution_count": null,
      "outputs": []
    },
    {
      "cell_type": "code",
      "source": [
        "# 외국인 비율 3% 이상인 대상만 추출\n",
        "# 문제 풀이 \n",
        "for i in sample:\n",
        "  foreign = 0\n",
        "  try:\n",
        "    foreign = round(i[2] / i[1] * 100, 1)\n",
        "    if foreign >= 3:\n",
        "      print(i[0], foreign)\n",
        "    \n",
        "  except:\n",
        "    pass"
      ],
      "metadata": {
        "colab": {
          "base_uri": "https://localhost:8080/"
        },
        "id": "tHdxOJNkz-v5",
        "outputId": "d81243c1-91b0-4c10-8559-9afa1dadfee4"
      },
      "execution_count": null,
      "outputs": [
        {
          "output_type": "stream",
          "name": "stdout",
          "text": [
            "Jongrogu 7.3\n",
            "Jongru 8.1\n",
            "Yongsangu 7.1\n",
            "Kwangjingu 4.4\n",
            "Dongdaemoongu 5.0\n",
            "Seodaemungu 4.5\n",
            "Mapogu 3.2\n",
            "Gurogu 8.1\n",
            "Guemcheongu 8.4\n",
            "Youngdeungpogu 9.2\n",
            "Dongjakgu 3.2\n",
            "Kwanakgu 3.6\n"
          ]
        }
      ]
    },
    {
      "cell_type": "code",
      "source": [
        "# 새로운 CSV 파일 생성 -외국인 비율 3% 이상인 것만\n",
        "new_file = [['행정구역', '한국인', '외국인' , '외국인 비율(%)']]\n",
        "\n",
        "for i in sample:\n",
        "  foreign = 0\n",
        "  try:\n",
        "    foreign = round(i[2] / i[1] * 100, 1)\n",
        "    if foreign > 3:\n",
        "      new_file.append([i[0], i[1], i[2], foreign])\n",
        "  except:\n",
        "    pass\n",
        "\n",
        "new_file"
      ],
      "metadata": {
        "colab": {
          "base_uri": "https://localhost:8080/"
        },
        "id": "8Q5uTsUj1ryS",
        "outputId": "73c1bc4c-871b-4b1a-f3a8-544e7804f66f"
      },
      "execution_count": 110,
      "outputs": [
        {
          "output_type": "execute_result",
          "data": {
            "text/plain": [
              "[['행정구역', '한국인', '외국인', '외국인 비율(%)'],\n",
              " ['Jongrogu', 151767.0, 11093.0, 7.3],\n",
              " ['Jongru', 126409.0, 10254.0, 8.1],\n",
              " ['Yongsangu', 228830.0, 16159.0, 7.1],\n",
              " ['Kwangjingu', 352692.0, 15645.0, 4.4],\n",
              " ['Dongdaemoongu', 346551.0, 17228.0, 5.0],\n",
              " ['Seodaemungu', 310069.0, 14020.0, 4.5],\n",
              " ['Mapogu', 373629.0, 11976.0, 3.2],\n",
              " ['Gurogu', 406748.0, 33102.0, 8.1],\n",
              " ['Guemcheongu', 233371.0, 19497.0, 8.4],\n",
              " ['Youngdeungpogu', 368402.0, 34076.0, 9.2],\n",
              " ['Dongjakgu', 397618.0, 12869.0, 3.2],\n",
              " ['Kwanakgu', 502117.0, 17836.0, 3.6]]"
            ]
          },
          "metadata": {},
          "execution_count": 110
        }
      ]
    },
    {
      "cell_type": "code",
      "source": [
        "# 함수화3 - write \n",
        "# csv를 넣지 않아도 일단 생성은 됨 \n",
        "def writecsv(filename, the_list):\n",
        "  with open(filename, 'w', newline = '') as f:\n",
        "    a = csv.writer(f, delimiter = ',')\n",
        "    a.writerows(the_list)\n",
        "\n",
        "writecsv('seoul_new.csv', new_file)"
      ],
      "metadata": {
        "id": "UAMn5yGH6QPE"
      },
      "execution_count": 111,
      "outputs": []
    },
    {
      "cell_type": "code",
      "source": [],
      "metadata": {
        "id": "VmBZX7356bMT"
      },
      "execution_count": null,
      "outputs": []
    },
    {
      "cell_type": "markdown",
      "source": [
        "### data_school_utf8.csv - 부동산 데이터"
      ],
      "metadata": {
        "id": "eMMDG-9LsLpE"
      }
    },
    {
      "cell_type": "code",
      "source": [
        "##부동산 data\n",
        "import os\n",
        "import re\n",
        "\n",
        "apt = switch(opencsv('data_school_utf8.csv'))\n",
        "apt"
      ],
      "metadata": {
        "id": "NBj1-mdc7Dkm"
      },
      "execution_count": null,
      "outputs": []
    },
    {
      "cell_type": "code",
      "source": [
        "# 처음 5개 데이터의 시/군/구만 출력\n",
        "\n",
        "for i in apt[:6]:\n",
        "  print(i[0])"
      ],
      "metadata": {
        "colab": {
          "base_uri": "https://localhost:8080/"
        },
        "id": "OnWWOFxs76mR",
        "outputId": "d0718921-256a-4caf-86e3-08f9a17b2657"
      },
      "execution_count": null,
      "outputs": [
        {
          "output_type": "stream",
          "name": "stdout",
          "text": [
            "﻿﻿시군구\n",
            "강원도 강릉시 견소동\n",
            "강원도 강릉시 견소동\n",
            "강원도 강릉시 견소동\n",
            "강원도 강릉시 견소동\n",
            "강원도 강릉시 교동\n"
          ]
        }
      ]
    },
    {
      "cell_type": "code",
      "source": [
        "# 처음 5개 데이터의 거래가격(만원) 출력\n",
        "for i in apt[:6]:\n",
        "  print(i[0], i[5], i[8])"
      ],
      "metadata": {
        "colab": {
          "base_uri": "https://localhost:8080/"
        },
        "id": "UlfmOYfm82Z9",
        "outputId": "5e7567c5-ad4f-4f23-8a2a-3f016080c145"
      },
      "execution_count": null,
      "outputs": [
        {
          "output_type": "stream",
          "name": "stdout",
          "text": [
            "﻿﻿시군구 전용면적(㎡) 거래금액(만원)\n",
            "강원도 강릉시 견소동 59.8 19000.0\n",
            "강원도 강릉시 견소동 84.93 25500.0\n",
            "강원도 강릉시 견소동 84.93 26400.0\n",
            "강원도 강릉시 견소동 59.8 19500.0\n",
            "강원도 강릉시 교동 84.9964 36300.0\n"
          ]
        }
      ]
    },
    {
      "cell_type": "code",
      "source": [
        "# 강원도에 120M2 이상 3억원 이하 아파트 검색하기\n",
        "# 대가족이 사는 곳 \n",
        "\n",
        "for i in apt:\n",
        "  try:      #꼭 실행되는 구문 (예외 발생할 것 같은 구문 > 실행되도록)\n",
        "    if i[5] > 120 and i[8] <= 30000 and re.match('강원', i[0]):\n",
        "      print(i[0], i[5], i[8])\n",
        "  except:\n",
        "    pass"
      ],
      "metadata": {
        "colab": {
          "base_uri": "https://localhost:8080/"
        },
        "id": "bzXVY92J90Bq",
        "outputId": "8efc157c-37bf-41a4-948d-91853879c3b2"
      },
      "execution_count": 116,
      "outputs": [
        {
          "output_type": "stream",
          "name": "stdout",
          "text": [
            "강원도 강릉시 포남동 136.14 30000.0\n",
            "강원도 동해시 천곡동 123.48 14500.0\n",
            "강원도 원주시 단구동 134.97 22500.0\n",
            "강원도 원주시 태장동 127.11 15400.0\n",
            "강원도 춘천시 석사동 134.34 30000.0\n",
            "강원도 춘천시 우두동 122.13 29000.0\n",
            "강원도 춘천시 후평동 135.0 27000.0\n"
          ]
        }
      ]
    },
    {
      "cell_type": "code",
      "source": [
        "##여러분이 관심있는 지역의 평수, 가격대 데이터를 5개 정도만 출력\n",
        "new_apt_list = []\n",
        "\n",
        "for i in apt:\n",
        "  try :\n",
        "    if i[8] <= 50000 and re.match('서울특별시 성북구', i[0]):\n",
        "      new_apt_list.append([i[0], i[4], i[5], i[8]])\n",
        "  except:\n",
        "    pass\n",
        "\n",
        "new_apt_list"
      ],
      "metadata": {
        "colab": {
          "base_uri": "https://localhost:8080/"
        },
        "id": "s-L2DmAg913x",
        "outputId": "15c55a4a-dc87-416d-eff3-92b2102a3b90"
      },
      "execution_count": 118,
      "outputs": [
        {
          "output_type": "execute_result",
          "data": {
            "text/plain": [
              "[['서울특별시 성북구 동소문동4가', '송산아파트', 58.59, 49500.0],\n",
              " ['서울특별시 성북구 동소문동7가', '샤인힐', 72.66, 47000.0],\n",
              " ['서울특별시 성북구 삼선동3가', '성종그린', 84.99, 48000.0],\n",
              " ['서울특별시 성북구 상월곡동', '동아에코빌', 59.95, 50000.0],\n",
              " ['서울특별시 성북구 상월곡동', '우남푸르미아', 59.64, 47000.0],\n",
              " ['서울특별시 성북구 석관동', '중앙하이츠', 59.79, 45000.0],\n",
              " ['서울특별시 성북구 석관동', '중앙하이츠', 59.79, 47400.0],\n",
              " ['서울특별시 성북구 장위동', '세영아파트', 59.34, 48000.0],\n",
              " ['서울특별시 성북구 정릉동', '갤럭시더정릉', 12.33, 18600.0],\n",
              " ['서울특별시 성북구 정릉동', '길음뉴타운데시앙', 59.42, 45500.0],\n",
              " ['서울특별시 성북구 정릉동', '길음뉴타운데시앙', 59.42, 50000.0],\n",
              " ['서울특별시 성북구 정릉동', '길음뉴타운데시앙', 59.42, 48000.0],\n",
              " ['서울특별시 성북구 정릉동', '길음뉴타운데시앙', 59.42, 47000.0],\n",
              " ['서울특별시 성북구 정릉동', '우방', 59.94, 43700.0],\n",
              " ['서울특별시 성북구 정릉동', '정릉풍림아이원', 59.88, 49500.0]]"
            ]
          },
          "metadata": {},
          "execution_count": 118
        }
      ]
    },
    {
      "cell_type": "markdown",
      "source": [
        "### CSV_example2_data.csv - 평균기온 데이터 "
      ],
      "metadata": {
        "id": "8WG58rIZxdyR"
      }
    },
    {
      "cell_type": "code",
      "source": [
        "##평균기온 데이터 \n",
        "import csv\n",
        "f = open('CSV_example2_data.csv')\n",
        "data = csv.reader(f, delimiter = ',')\n",
        "\n",
        "for row in data:\n",
        "  print(row)\n",
        "f.close()"
      ],
      "metadata": {
        "id": "NXjAXAee91rq"
      },
      "execution_count": null,
      "outputs": []
    },
    {
      "cell_type": "code",
      "source": [
        "### 추가 데이터\n",
        "test_dataset = open(\"example_4_each.csv\")\n",
        "\n",
        "# 년도 리스트\n",
        "years = []\n",
        "# 인구수 리스트\n",
        "populations = []\n",
        "\n",
        "for line in test_dataset: \n",
        "  (year, population) = line.split(',')\n",
        "  if year != \"구분\":\n",
        "    years.append(int(year))\n",
        "    populations.append(int(population))\n",
        "\n",
        "test_dataset.close()"
      ],
      "metadata": {
        "id": "p61J5cb5G0bh"
      },
      "execution_count": 123,
      "outputs": []
    },
    {
      "cell_type": "code",
      "source": [
        "print(years)\n",
        "print(populations)"
      ],
      "metadata": {
        "colab": {
          "base_uri": "https://localhost:8080/"
        },
        "id": "-yjK7phvHT5p",
        "outputId": "fd62c2b5-3f00-43be-bf7c-87a46b3b7a22"
      },
      "execution_count": 124,
      "outputs": [
        {
          "output_type": "stream",
          "name": "stdout",
          "text": [
            "[1949, 1955, 1960, 1966, 1970, 1975, 1980, 1985, 1990, 1995, 2000, 2005, 2010, 2015, 2020]\n",
            "[1437670, 1568746, 2445402, 3793280, 5525262, 6879262, 8335616, 9625755, 10603250, 10217177, 9853972, 9762546, 9631482, 9643432, 9540443]\n"
          ]
        }
      ]
    },
    {
      "cell_type": "code",
      "source": [
        "# 1. 해더의 정보를 빼고 출력\n",
        "# next() :첫번째 데이터 행을 읽어오면서 데이터의 탐색위치를 다음행으로 이동시키는 명령어\n",
        "\n",
        "import csv\n",
        "f = open('CSV_example2_data.csv')\n",
        "data = csv.reader(f)                 #분석 끝나고 close 하면 이거 계속 분석때마다 불러와야함 \n",
        "\n",
        "header = next(data)"
      ],
      "metadata": {
        "id": "wIpCTUCKHgya"
      },
      "execution_count": 125,
      "outputs": []
    },
    {
      "cell_type": "code",
      "source": [
        "for row in data:\n",
        "  print(row)\n",
        "f.close()"
      ],
      "metadata": {
        "colab": {
          "base_uri": "https://localhost:8080/"
        },
        "id": "_XhQAqksIZrs",
        "outputId": "74dfee92-3a92-415b-d62d-c2a271586d60"
      },
      "execution_count": null,
      "outputs": [
        {
          "output_type": "stream",
          "name": "stdout",
          "text": [
            "['2023-04-08', '108', '8.8', '3.1', '14.9']\n",
            "['2023-04-09', '108', '10.8', '3.5', '17.8']\n",
            "['2023-04-10', '108', '13.2', '6.2', '19.1']\n",
            "['2023-04-11', '108', '13.1', '9.2', '17.4']\n",
            "['2023-04-12', '108', '10.1', '4.8', '15.3']\n",
            "['2023-04-13', '108', '11.9', '5.1', '17.2']\n",
            "['2023-04-14', '108', '16.2', '11.9', '21.3']\n",
            "['2023-04-15', '108', '13.5', '9.3', '16.6']\n",
            "['2023-04-16', '108', '10.8', '7.5', '16.1']\n",
            "['2023-04-17', '108', '13.1', '6.8', '18.1']\n",
            "['2023-04-18', '108', '14', '10.7', '18.4']\n",
            "['2023-04-19', '108', '19.1', '11.5', '28.4']\n",
            "['2023-04-20', '108', '15.8', '14.5', '18.9']\n",
            "['2023-04-21', '108', '16.7', '11.4', '22.8']\n",
            "['2023-04-22', '108', '16.9', '12.2', '22.5']\n",
            "['2023-04-23', '108', '16.1', '10.7', '22.1']\n",
            "['2023-04-24', '108', '15.8', '11.5', '21.3']\n",
            "['2023-04-25', '108', '10.9', '9', '13.2']\n",
            "['2023-04-26', '108', '10.2', '7.4', '13.5']\n",
            "['2023-04-27', '108', '12.9', '5.1', '20']\n",
            "['2023-04-28', '108', '15.7', '9', '21.3']\n",
            "['2023-04-29', '108', '13.2', '9.9', '15.8']\n",
            "['2023-04-30', '108', '12.7', '7.9', '17.9']\n",
            "['2023-05-01', '108', '14.6', '9.8', '20.8']\n",
            "['2023-05-02', '108', '16.7', '9.1', '23.7']\n",
            "['2023-05-03', '108', '19.5', '12.4', '26.2']\n",
            "['2023-05-04', '108', '21.4', '15.6', '25.8']\n",
            "['2023-05-05', '108', '18.4', '15.5', '21.6']\n",
            "['2023-05-06', '108', '12.6', '11.7', '15.5']\n",
            "['2023-05-07', '108', '14.4', '11.1', '18.6']\n"
          ]
        }
      ]
    },
    {
      "cell_type": "code",
      "source": [],
      "metadata": {
        "id": "tB_1WYnXI2ue"
      },
      "execution_count": null,
      "outputs": []
    },
    {
      "cell_type": "code",
      "source": [
        "## 가장 더웠던 날을 출력해보자\n",
        "\n",
        "import csv\n",
        "f = open('CSV_example2_data.csv')\n",
        "data = csv.reader(f)\n",
        "\n",
        "max_temp = 0\n",
        "header = next(data)\n",
        "\n",
        "for row in data:\n",
        "  row[4] = float(row[4])  #문자형 데이터 > 숫자형 데이터\n",
        "  \n",
        "  if max_temp < row[4]: #만약 지금까지 최고 기온값보다 현재 값의 최고기온 값이 더 크다면\n",
        "    max_temp = row[4]   #최고기온\n",
        "    max_data = row[0]   #최고기온 날짜 \n",
        "f.close()"
      ],
      "metadata": {
        "id": "rFOrEZS2HguX"
      },
      "execution_count": null,
      "outputs": []
    },
    {
      "cell_type": "code",
      "source": [
        "print(max_temp, max_data)"
      ],
      "metadata": {
        "id": "ek6JWA39HgpE"
      },
      "execution_count": null,
      "outputs": []
    },
    {
      "cell_type": "code",
      "source": [
        "# 가장 추웠던 날은?\n",
        "import csv\n",
        "f = open('CSV_example2_data.csv')\n",
        "data = csv.reader(f)\n",
        "\n",
        "min_temp = 99\n",
        "\n",
        "header = next(data)\n",
        "for row in data:\n",
        "  row[4] = float(row[4]) # 문자형 데이터를 숫자형으로 바꾸고\n",
        "  \n",
        "  if min_temp > row[4]: #만약 지금까지 최고 기온값보다 현재 값의 최고기온 값이 더 크다면\n",
        "    min_temp = row[4] #최고기온\n",
        "    min_data = row[0] #최고기온날짜\n",
        "f.close()"
      ],
      "metadata": {
        "id": "YLeqUym4KGF1"
      },
      "execution_count": null,
      "outputs": []
    },
    {
      "cell_type": "code",
      "source": [
        "print(min_temp, min_data)"
      ],
      "metadata": {
        "colab": {
          "base_uri": "https://localhost:8080/"
        },
        "id": "bAC4cdMiKFkT",
        "outputId": "6bc3b966-dfd6-4d66-a44c-c7ab8727d6b2"
      },
      "execution_count": null,
      "outputs": [
        {
          "output_type": "stream",
          "name": "stdout",
          "text": [
            "13.2 2023-04-25\n"
          ]
        }
      ]
    },
    {
      "cell_type": "markdown",
      "source": [
        "#__"
      ],
      "metadata": {
        "id": "IZ7W9cFWBLEN"
      }
    },
    {
      "cell_type": "markdown",
      "source": [
        "# 데이터 시각화 "
      ],
      "metadata": {
        "id": "uPf1ia4XBAyE"
      }
    },
    {
      "cell_type": "code",
      "source": [
        "#matplotlib.pyplot 모듈은 MATLAB과 비슷한 함수의 모음\n",
        "\n",
        "import matplotlib.pyplot as plt \n",
        "\n",
        "plt.plot([1, 2, 3, 4])   #x축  #[],[] :x축,y축 \n",
        "plt.show()"
      ],
      "metadata": {
        "colab": {
          "base_uri": "https://localhost:8080/",
          "height": 430
        },
        "id": "3Y1rMMwQBTNO",
        "outputId": "c2c23a1e-9993-4093-b086-f6e2b1f83323"
      },
      "execution_count": null,
      "outputs": [
        {
          "output_type": "display_data",
          "data": {
            "text/plain": [
              "<Figure size 640x480 with 1 Axes>"
            ],
            "image/png": "[encoded data removed]"
          },
          "metadata": {}
        }
      ]
    },
    {
      "cell_type": "code",
      "source": [
        "# 기본 그래프 그리기\n",
        "\n",
        "import matplotlib.pyplot as plt\n",
        "plt.plot([10,20,30,40])\n",
        "plt.show()"
      ],
      "metadata": {
        "colab": {
          "base_uri": "https://localhost:8080/",
          "height": 430
        },
        "id": "YhXiDYvPKhB0",
        "outputId": "d7cc25e4-9a9e-467c-e152-75bdd0445a57"
      },
      "execution_count": null,
      "outputs": [
        {
          "output_type": "display_data",
          "data": {
            "text/plain": [
              "<Figure size 640x480 with 1 Axes>"
            ],
            "image/png": "[encoded data removed]"
          },
          "metadata": {}
        }
      ]
    },
    {
      "cell_type": "code",
      "source": [
        "# 첫번째 리스트가 x축 두번째 리스트가 y축\n",
        "\n",
        "import matplotlib.pyplot as plt\n",
        "plt.plot([1,2,3,4], [12,43,25,15])#첫번째 리스트가 x축, 두번째 리스트가 y축\n",
        "plt.show()"
      ],
      "metadata": {
        "id": "jttWH4OEKoNX"
      },
      "execution_count": null,
      "outputs": []
    },
    {
      "cell_type": "code",
      "source": [
        "import matplotlib.pyplot as plt\n",
        "\n",
        "plt.plot([1, 2, 3, 4], [1, 4, 9, 16], 'ro')   #red 원형마크\n",
        "plt.axis([0, 6, 0, 20])\n",
        "plt.show()"
      ],
      "metadata": {
        "id": "_T4ZhxPYDCLB"
      },
      "execution_count": null,
      "outputs": []
    },
    {
      "cell_type": "code",
      "source": [
        "# 그래프 이름 넣기\n",
        "\n",
        "plt.title('plotting')#그래프의 타이틀\n",
        "plt.plot([10,20,30,40])\n",
        "plt.show()"
      ],
      "metadata": {
        "id": "Y_tQbI-uLVBU"
      },
      "execution_count": null,
      "outputs": []
    },
    {
      "cell_type": "code",
      "source": [
        "# 범례 지정\n",
        "\n",
        "plt.title('legend')#타이틀은 legend 로 지정\n",
        "plt.plot([10,20,30,40], label = 'asc') #상승라인은 asc로 지정\n",
        "plt.plot([40,30,20,10], label = 'desc') #하강라인은 desc로 지정\n",
        "plt.legend()                             #범례표시 호출까지 해야함\n",
        "plt.show()"
      ],
      "metadata": {
        "id": "LNXMCdxcLn1Y"
      },
      "execution_count": null,
      "outputs": []
    },
    {
      "cell_type": "code",
      "source": [
        "# 그래프 컬러 지정 \n",
        "plt.title('color')\n",
        "plt.plot([10,20,30,40], color = 'skyblue', label = 'skyblue')\n",
        "plt.plot([40,30,20,10], 'pink', label = 'pink')\n",
        "plt.legend()      #범례표시 호출\n",
        "plt.show()"
      ],
      "metadata": {
        "id": "PA4K1p5pLsdE"
      },
      "execution_count": null,
      "outputs": []
    },
    {
      "cell_type": "code",
      "source": [
        "# 라인 스타일 변경\n",
        "\n",
        "plt.title('linestyle')\n",
        "plt.plot([10,20,30,40], color = 'r', linestyle = '--', label = 'dashed')\n",
        "plt.plot([40,30,20,10], 'g', ls = ':', label = 'dotted')\n",
        "plt.legend()#범례표시 호출\n",
        "plt.show()"
      ],
      "metadata": {
        "id": "-1PwMd3WLsZY"
      },
      "execution_count": null,
      "outputs": []
    },
    {
      "cell_type": "code",
      "source": [
        "# 그래프 마커 모양 표시\n",
        "plt.title('marker')\n",
        "plt.plot([10,20,30,40], 'r.--', label = 'circle')#색상, 마커모양, 선모양(r.--)\n",
        "plt.plot([40,30,20,10], 'g^', label = 'triangle up')\n",
        "plt.legend()#범례표시 호출\n",
        "plt.show()"
      ],
      "metadata": {
        "id": "33MKggk7MKi5"
      },
      "execution_count": null,
      "outputs": []
    },
    {
      "cell_type": "code",
      "source": [
        "#fontdict :폰트 스타일 \n",
        "#labelpad :라벨 사이 공간\n",
        "#loc    :location\n",
        "\n",
        "#plt.legend(loc='upper right', ncol = 2)\n",
        "\n",
        "#plt.xlim([0, 5])      #xlim :X축의 범위\n",
        "#plt.ylim([0, 20])     #ylim :Y축의 범위\n",
        "#plt.axis([0, 20])     #X, Y축의 범위 [xmin, xmax, ymin, ymax]\n",
        "\n",
        "#plt.xticks([0, 1, 2])\n",
        "#plt.yticks(np.arange(1, 6))   #눈금 지정"
      ],
      "metadata": {
        "id": "taYlzo90GeDK"
      },
      "execution_count": null,
      "outputs": []
    },
    {
      "cell_type": "code",
      "source": [
        "# 선 종류 지정\n",
        "import matplotlib.pyplot as plt\n",
        "\n",
        "plt.plot([1, 2, 3], [4, 4, 4], '-', color='C0', label='Solid')\n",
        "plt.plot([1, 2, 3], [3, 3, 3], '--', color='C0', label='Dashed')\n",
        "plt.plot([1, 2, 3], [2, 2, 2], ':', color='C0', label='Dotted')\n",
        "plt.plot([1, 2, 3], [1, 1, 1], '-.', color='C0', label='Dash-dot')\n",
        "plt.xlabel('X-Axis')\n",
        "plt.ylabel('Y-Axis')\n",
        "plt.axis([0.8, 3.2, 0.5, 5.0])\n",
        "plt.legend(loc='upper right', ncol=4)\n",
        "plt.show()"
      ],
      "metadata": {
        "colab": {
          "base_uri": "https://localhost:8080/",
          "height": 455
        },
        "id": "FjrgpYVpQkYB",
        "outputId": "d9c6fb8b-8ddf-4dea-bb29-3203c29b2aee"
      },
      "execution_count": null,
      "outputs": [
        {
          "output_type": "display_data",
          "data": {
            "text/plain": [
              "<Figure size 640x480 with 1 Axes>"
            ],
            "image/png": "[encoded data removed]"
          },
          "metadata": {}
        }
      ]
    },
    {
      "cell_type": "code",
      "source": [
        "#마커모양 지정 -종류 구글링하면 엄청 많음 \n",
        "import matplotlib.pyplot as plt\n",
        "\n",
        "# plt.plot([1, 2, 3, 4], [2, 3, 5, 10], 'bo-')    # 파란색 + 마커 + 실선\n",
        "plt.plot([1, 2, 3, 4], [2, 3, 5, 10], 'bo--')     # 파란색 + 마커 + 점선\n",
        "plt.xlabel('X-Axis')\n",
        "plt.ylabel('Y-Axis')\n",
        "plt.show()"
      ],
      "metadata": {
        "colab": {
          "base_uri": "https://localhost:8080/",
          "height": 449
        },
        "id": "53d6rgMhQkKP",
        "outputId": "d9f20874-6084-4ae2-faf8-2622f7567680"
      },
      "execution_count": null,
      "outputs": [
        {
          "output_type": "display_data",
          "data": {
            "text/plain": [
              "<Figure size 640x480 with 1 Axes>"
            ],
            "image/png": "[encoded data removed]"
          },
          "metadata": {}
        }
      ]
    },
    {
      "cell_type": "code",
      "source": [
        "# 색상 지정\n",
        "import matplotlib.pyplot as plt\n",
        "\n",
        "plt.plot([1, 2, 3, 4], [2.0, 3.0, 5.0, 10.0], 'r')  #\n",
        "plt.plot([1, 2, 3, 4], [2.0, 2.8, 4.3, 6.5], 'g')\n",
        "plt.plot([1, 2, 3, 4], [2.0, 2.5, 3.3, 4.5], 'b')\n",
        "plt.xlabel('X-Axis')\n",
        "plt.ylabel('Y-Axis')\n",
        "\n",
        "plt.show()"
      ],
      "metadata": {
        "id": "D0zxgLCbSVyt"
      },
      "execution_count": null,
      "outputs": []
    },
    {
      "cell_type": "code",
      "source": [
        "import matplotlib.pyplot as plt\n",
        "\n",
        "plt.plot([1, 2, 3, 4], [2.0, 3.0, 5.0, 10.0], color='limegreen')  #\n",
        "plt.plot([1, 2, 3, 4], [2.0, 2.8, 4.3, 6.5], color='violet')\n",
        "plt.plot([1, 2, 3, 4], [2.0, 2.5, 3.3, 4.5], color='dodgerblue')\n",
        "plt.xlabel('X-Axis')\n",
        "plt.ylabel('Y-Axis')\n",
        "\n",
        "plt.show()"
      ],
      "metadata": {
        "id": "HTuCJD-_VHjH"
      },
      "execution_count": null,
      "outputs": []
    },
    {
      "cell_type": "code",
      "source": [
        "# 그래프의 영역을 나타내기 \n",
        "# fill_between() 함수에 x[1:3], y[1:3]를 순서대로 입력하면,\n",
        "# 네 점 (x[1], y[1]), (x[2], y[2]), (x[1], 0), (x[2], 0)을 잇는 영역이 채워집니다.\n",
        "\n",
        "import matplotlib.pyplot as plt\n",
        "\n",
        "x = [1, 2, 3, 4]\n",
        "y = [2, 3, 5, 10]\n",
        "\n",
        "plt.plot(x, y)\n",
        "plt.xlabel('X-Axis')\n",
        "plt.ylabel('Y-Axis')\n",
        "plt.fill_between(x[1:3], y[1:3], alpha=0.5)\n",
        "\n",
        "plt.show()"
      ],
      "metadata": {
        "colab": {
          "base_uri": "https://localhost:8080/",
          "height": 449
        },
        "id": "QXvfPIGuVNot",
        "outputId": "9b058f9a-cdb0-4211-d632-4511d77191a5"
      },
      "execution_count": null,
      "outputs": [
        {
          "output_type": "display_data",
          "data": {
            "text/plain": [
              "<Figure size 640x480 with 1 Axes>"
            ],
            "image/png": "[encoded data removed]"
          },
          "metadata": {}
        }
      ]
    },
    {
      "cell_type": "code",
      "source": [
        "# 여러 곡선\n",
        "import matplotlib.pyplot as plt\n",
        "import numpy as np\n",
        "\n",
        "x = np.arange(0, 2, 0.2)\n",
        "\n",
        "plt.plot(x, x, 'r--', x, x**2, 'bo', x, x**3, 'g-.')    #\n",
        "plt.show()"
      ],
      "metadata": {
        "id": "1vGgpvU_VTjo"
      },
      "execution_count": null,
      "outputs": []
    },
    {
      "cell_type": "code",
      "source": [
        "# 그리드 설정\n",
        "import matplotlib.pyplot as plt\n",
        "import numpy as np\n",
        "\n",
        "x = np.arange(0, 2, 0.2)\n",
        "\n",
        "plt.plot(x, x, 'bo')\n",
        "plt.plot(x, x**2, color='#e35f62', marker='*', linewidth=2)\n",
        "plt.plot(x, x**3, color='springgreen', marker='^', markersize=9)\n",
        "\n",
        "plt.grid(True)                                                      ##위치 한눈에 볼 수 있음\n",
        "plt.show()"
      ],
      "metadata": {
        "id": "E_P34fGgVSmf",
        "colab": {
          "base_uri": "https://localhost:8080/",
          "height": 430
        },
        "outputId": "beb9a7b1-f1b9-40ca-d3c9-80acc3382843"
      },
      "execution_count": 11,
      "outputs": [
        {
          "output_type": "display_data",
          "data": {
            "text/plain": [
              "<Figure size 640x480 with 1 Axes>"
            ],
            "image/png": "[encoded data removed]"
          },
          "metadata": {}
        }
      ]
    },
    {
      "cell_type": "code",
      "source": [],
      "metadata": {
        "id": "C0u8ZODnWAyn"
      },
      "execution_count": null,
      "outputs": []
    },
    {
      "cell_type": "code",
      "source": [],
      "metadata": {
        "id": "rKv-bVr_V_2K"
      },
      "execution_count": null,
      "outputs": []
    },
    {
      "cell_type": "code",
      "source": [],
      "metadata": {
        "id": "lQqZUlrJMKfK"
      },
      "execution_count": null,
      "outputs": []
    },
    {
      "cell_type": "code",
      "source": [
        "######## 추가 데이터\n",
        "\n",
        "# 예제파일 1개 더 Import\n",
        "\n",
        "test_dataset = open(\"/content/sample_data/example_4_each.csv\")\n",
        "\n",
        "# 년도 리스트\n",
        "years = []\n",
        "# 인구수 리스트\n",
        "populations = []\n",
        "\n",
        "for line in test_dataset: \n",
        "  (year, population) = line.split(',')\n",
        "  if year != \"구분\":   \n",
        "    years.append(int(year))\n",
        "    populations.append(int(population))\n",
        "\n",
        "test_dataset.close() "
      ],
      "metadata": {
        "id": "miVpoTVBMKbb"
      },
      "execution_count": null,
      "outputs": []
    },
    {
      "cell_type": "code",
      "source": [
        "print(year)\n",
        "print(populations)"
      ],
      "metadata": {
        "colab": {
          "base_uri": "https://localhost:8080/"
        },
        "id": "UqvQC1oSMlSV",
        "outputId": "ad09c038-89b7-4b4a-a3b1-7a8463431f5c"
      },
      "execution_count": null,
      "outputs": [
        {
          "output_type": "stream",
          "name": "stdout",
          "text": [
            "2020\n",
            "[1437670, 1568746, 2445402, 3793280, 5525262, 6879262, 8335616, 9625755, 10603250, 10217177, 9853972, 9762546, 9631482, 9643432, 9540443]\n"
          ]
        }
      ]
    },
    {
      "cell_type": "code",
      "source": [
        "######## 추가 데이터\n",
        "\n",
        "\n",
        "# 그래프를 그릴 도화지 준비하기\n",
        "fig = plt.figure()\n",
        "ax = fig.add_subplot(1, 1, 1)\n",
        "\n",
        "# x축에 년도, y축에 인구수가 있는 선 그래프 만들기\n",
        "plt.plot(years, populations, color='green', marker='o', linestyle='solid')\n",
        "\n",
        "# 제목 더하기\n",
        "plt.title(\"Seoul Population Change\")\n",
        "\n",
        "# y축에 레이블 추가하기\n",
        "plt.ylabel(\"10Million\")\n",
        "plt.show()"
      ],
      "metadata": {
        "colab": {
          "base_uri": "https://localhost:8080/",
          "height": 452
        },
        "id": "RTekptadM5qz",
        "outputId": "978af16d-7519-4958-aea5-64789dbae81c"
      },
      "execution_count": null,
      "outputs": [
        {
          "output_type": "display_data",
          "data": {
            "text/plain": [
              "<Figure size 640x480 with 1 Axes>"
            ],
            "image/png": "[encoded data removed]"
          },
          "metadata": {}
        }
      ]
    },
    {
      "cell_type": "code",
      "source": [],
      "metadata": {
        "colab": {
          "base_uri": "https://localhost:8080/"
        },
        "id": "DdsaA9SWNJZo",
        "outputId": "3108091e-502f-4ea9-c402-49c33e56bae7"
      },
      "execution_count": null,
      "outputs": [
        {
          "output_type": "execute_result",
          "data": {
            "text/plain": [
              "<_io.TextIOWrapper name='/content/sample_data/CSV_example2_data.csv' mode='r' encoding='UTF-8'>"
            ]
          },
          "metadata": {},
          "execution_count": 16
        }
      ]
    },
    {
      "cell_type": "code",
      "source": [
        "##최고기온 데이터\n",
        "# 가장 더웠던 날을 출력해보자!!\n",
        "import csv\n",
        "f = open('/content/sample_data/CSV_example2_data.csv')\n",
        "data = csv.reader(f)\n",
        "next(data)\n",
        "\n",
        "result = []\n",
        "\n",
        "for row in data:\n",
        "  result.append(float(row[4]))\n",
        "f.close()"
      ],
      "metadata": {
        "id": "_EQ_rF1IM5dG"
      },
      "execution_count": null,
      "outputs": []
    },
    {
      "cell_type": "code",
      "source": [
        "plt.figure(figsize = (10,2))  #가로길이 10, 세로길이 2\n",
        "plt.plot(result, 'r')   #컬러는 레드 \n",
        "plt.show()   #이런거 시계열에서 많이 볼 수 있  #추세 볼 수 있음!"
      ],
      "metadata": {
        "colab": {
          "base_uri": "https://localhost:8080/",
          "height": 203
        },
        "id": "9WUzxp6HNhxW",
        "outputId": "3931c46e-f084-417a-a644-13da5d53c85c"
      },
      "execution_count": null,
      "outputs": [
        {
          "output_type": "display_data",
          "data": {
            "text/plain": [
              "<Figure size 1000x200 with 1 Axes>"
            ],
            "image/png": "[encoded data removed]"
          },
          "metadata": {}
        }
      ]
    },
    {
      "cell_type": "code",
      "source": [],
      "metadata": {
        "id": "XoAtfC43N-s_"
      },
      "execution_count": null,
      "outputs": []
    },
    {
      "cell_type": "code",
      "source": [
        "# 최고 4월 5월 데잍기온 데이터\n",
        "import csv\n",
        "f = open('/content/sample_data/CSV_example2_data.csv')\n",
        "data = csv.reader(f)\n",
        "next(data)\n",
        "\n",
        "result_04 = []    #최고 기온 데이터 저장할 리스트 생성 \n",
        "result_05 = []\n",
        "\n",
        "for row in data:\n",
        "  #2023-04-19 -> \n",
        "  month = row[0].split('-')[1]\n",
        "  if month == '04':\n",
        "    result_04.append(float(row[4]))\n",
        "  if month == '05':\n",
        "    result_05.append(float(row[4]))    \n",
        "f.close()"
      ],
      "metadata": {
        "id": "aR8XBcuVNhsQ"
      },
      "execution_count": 62,
      "outputs": []
    },
    {
      "cell_type": "code",
      "source": [
        "plt.plot(result_04, 'pink', label = 'month_04')\n",
        "plt.plot(result_05, 'blue', label = 'month_05')\n",
        "plt.show()"
      ],
      "metadata": {
        "colab": {
          "base_uri": "https://localhost:8080/",
          "height": 430
        },
        "id": "4ddW5a_JPjG1",
        "outputId": "d563364c-086a-42c5-bec8-d31718e4eab5"
      },
      "execution_count": null,
      "outputs": [
        {
          "output_type": "display_data",
          "data": {
            "text/plain": [
              "<Figure size 640x480 with 1 Axes>"
            ],
            "image/png": "[encoded data removed]"
          },
          "metadata": {}
        }
      ]
    },
    {
      "cell_type": "code",
      "source": [],
      "metadata": {
        "id": "VbZE5eKVQTOP"
      },
      "execution_count": null,
      "outputs": []
    },
    {
      "cell_type": "markdown",
      "source": [
        "## 막대그래프\n",
        "* 연도별 변화에 이용 \n",
        "* plt.bar()"
      ],
      "metadata": {
        "id": "TwmJrMZ-eD0-"
      }
    },
    {
      "cell_type": "code",
      "source": [
        "##연도별 변화 > 막대그래프 이용 \n",
        "# plt.bar()\n",
        "\n",
        "import matplotlib.pyplot as plt\n",
        "import numpy as np\n",
        "\n",
        "x = [0,1,2]\n",
        "years = ['2018', '2019', '2020']\n",
        "values = [100, 400, 900]\n",
        "\n",
        "plt.bar(x, values, color = 'orange') \n",
        "plt.xticks(x, years)    #눈금 x=0,1,2 > years 값으로 덮여짐 \n",
        "\n",
        "plt.show()"
      ],
      "metadata": {
        "id": "rwEeJrB_NhfZ",
        "colab": {
          "base_uri": "https://localhost:8080/",
          "height": 430
        },
        "outputId": "0a4be377-1cb8-4fe8-8b4e-87ed4b48e4ba"
      },
      "execution_count": 20,
      "outputs": [
        {
          "output_type": "display_data",
          "data": {
            "text/plain": [
              "<Figure size 640x480 with 1 Axes>"
            ],
            "image/png": "[encoded data removed]"
          },
          "metadata": {}
        }
      ]
    },
    {
      "cell_type": "code",
      "source": [
        "#값별로 색상 다르게\n",
        "import matplotlib.pyplot as plt\n",
        "import numpy as np\n",
        "\n",
        "x = np.arange(3)\n",
        "years = ['name1', 'name2', 'name3']\n",
        "values = [100, 400, 900]\n",
        "colors = ['orange', 'red', 'dodgerblue']   ##\n",
        "\n",
        "plt.bar(x, values, color=colors)\n",
        "plt.xticks(x, years)\n",
        "\n",
        "plt.show()"
      ],
      "metadata": {
        "colab": {
          "base_uri": "https://localhost:8080/",
          "height": 430
        },
        "id": "8diY5X3wc5fP",
        "outputId": "86f6a31b-8812-46ba-e7b4-e12449c2cd04"
      },
      "execution_count": 23,
      "outputs": [
        {
          "output_type": "display_data",
          "data": {
            "text/plain": [
              "<Figure size 640x480 with 1 Axes>"
            ],
            "image/png": "[encoded data removed]"
          },
          "metadata": {}
        }
      ]
    },
    {
      "cell_type": "code",
      "source": [
        "# 막대그래프 폭 변경하기 \n",
        "#plt.bar(x, values, width=0.4)\n",
        "#plt.bar(x, values, width=0.6)\n",
        "#plt.bar(x, values, width=0.8)\n",
        "#plt.bar(x, values, width=1.0)"
      ],
      "metadata": {
        "id": "PsrYl3lybhry"
      },
      "execution_count": null,
      "outputs": []
    },
    {
      "cell_type": "code",
      "source": [
        "# 가로로 막대그래프 그리기\n",
        "\n",
        "import matplotlib.pyplot as plt\n",
        "import numpy as np\n",
        "\n",
        "y = [0,1,2]\n",
        "years = ['2018', '2019', '2020']\n",
        "values = [100, 400, 900]\n",
        "\n",
        "plt.barh(y, values)   ##\n",
        "plt.yticks(y, years)\n",
        "\n",
        "plt.show()"
      ],
      "metadata": {
        "colab": {
          "base_uri": "https://localhost:8080/",
          "height": 430
        },
        "id": "Yz1GeUcUdWYI",
        "outputId": "59dfb3d8-3e22-4c5e-d249-76a613fdef68"
      },
      "execution_count": 24,
      "outputs": [
        {
          "output_type": "display_data",
          "data": {
            "text/plain": [
              "<Figure size 640x480 with 1 Axes>"
            ],
            "image/png": "[encoded data removed]"
          },
          "metadata": {}
        }
      ]
    },
    {
      "cell_type": "markdown",
      "source": [
        "## 산점도 \n",
        "* 군집분석, 군집별 특성일때 이용 \n",
        "* 요인이 하나일때 그 요인만으로 결과 나오는 것은 아님 (주의)\n",
        "* MLE 모델에서 많이 사용\n",
        "* 이상기후, 전기차 이상신호 같은데서도 이용됨 "
      ],
      "metadata": {
        "id": "lSey5fsBeOzU"
      }
    },
    {
      "cell_type": "code",
      "source": [
        "# 군집별 > 산점도 그리기\n",
        "#plt.scatter()\n",
        "import matplotlib.pyplot as plt\n",
        "import numpy as np\n",
        "\n",
        "np.random.seed(0)\n",
        "\n",
        "n = 50\n",
        "x = np.random.rand(n)\n",
        "y = np.random.rand(n)\n",
        "\n",
        "plt.scatter(x, y)       #\n",
        "plt.show()"
      ],
      "metadata": {
        "colab": {
          "base_uri": "https://localhost:8080/",
          "height": 430
        },
        "id": "yMvv0bpDeQSQ",
        "outputId": "9857a93b-b867-4a77-a45a-cfc9b19f0656"
      },
      "execution_count": 25,
      "outputs": [
        {
          "output_type": "display_data",
          "data": {
            "text/plain": [
              "<Figure size 640x480 with 1 Axes>"
            ],
            "image/png": "[encoded data removed]"
          },
          "metadata": {}
        }
      ]
    },
    {
      "cell_type": "code",
      "source": [
        "#색상 넣기\n",
        "import matplotlib.pyplot as plt\n",
        "import numpy as np\n",
        "\n",
        "n = 5\n",
        "x = [1,2,3,4,5]\n",
        "y = [1,2,3,4,5]\n",
        "colors = np.random.rand(n)\n",
        "\n",
        "plt.scatter(x,y, c = colors)   #\n",
        "plt.show()"
      ],
      "metadata": {
        "colab": {
          "base_uri": "https://localhost:8080/",
          "height": 430
        },
        "id": "E6oKpoYzgPL6",
        "outputId": "041952f2-6453-4448-aced-c9bb231e47f8"
      },
      "execution_count": 26,
      "outputs": [
        {
          "output_type": "display_data",
          "data": {
            "text/plain": [
              "<Figure size 640x480 with 1 Axes>"
            ],
            "image/png": "[encoded data removed]"
          },
          "metadata": {}
        }
      ]
    },
    {
      "cell_type": "markdown",
      "source": [
        "## 히스토그램\n",
        "* 보통 정규분포, p-test 그릴때 사용 "
      ],
      "metadata": {
        "id": "oou0qFujhzvq"
      }
    },
    {
      "cell_type": "code",
      "source": [
        "import matplotlib.pyplot as plt\n",
        "\n",
        "weight = [68, 81, 64, 56, 78, 74, 61, 77, 66, 68, 59, 71,\n",
        "          80, 59, 67, 81, 69, 73, 69, 74, 70, 65]\n",
        "\n",
        "plt.hist(weight)\n",
        "plt.show()"
      ],
      "metadata": {
        "colab": {
          "base_uri": "https://localhost:8080/",
          "height": 430
        },
        "id": "DexOEupWh1J3",
        "outputId": "1efbfa10-7efc-4bec-8d65-b5277ac21afc"
      },
      "execution_count": 30,
      "outputs": [
        {
          "output_type": "display_data",
          "data": {
            "text/plain": [
              "<Figure size 640x480 with 1 Axes>"
            ],
            "image/png": "[encoded data removed]"
          },
          "metadata": {}
        }
      ]
    },
    {
      "cell_type": "code",
      "source": [
        "import matplotlib.pyplot as plt\n",
        "\n",
        "weight = [68, 81, 64, 56, 78, 74, 61, 77, 66, 68, 59, 71,\n",
        "          80, 59, 67, 81, 69, 73, 69, 74, 70, 65]\n",
        "\n",
        "plt.hist(weight, label='bins=10')               #두꺼운 느낌 \n",
        "plt.hist(weight, bins=30, label='bins=30')      #얆은 느낌\n",
        "plt.legend()                                    #label 쓰면 legend 꼭 써야 \n",
        "plt.show()"
      ],
      "metadata": {
        "id": "W-Nqr_ZuiiiK"
      },
      "execution_count": null,
      "outputs": []
    },
    {
      "cell_type": "markdown",
      "source": [
        "## Pie-chart\n",
        "* 비교분석, 판매량, 선호도 조사시 많이 이용됨  "
      ],
      "metadata": {
        "id": "CG4hPE5CitcH"
      }
    },
    {
      "cell_type": "code",
      "source": [
        "# 파이차트\n",
        "#plt.pie()\n",
        "\n",
        "import matplotlib.pyplot as plt\n",
        "\n",
        "ratio = [34, 32, 16, 18]\n",
        "labels = ['Apple', 'Banana', 'Melon', 'Grapes']\n",
        "\n",
        "plt.pie(ratio, labels=labels, autopct='%.1f%%')   #\n",
        "plt.show()"
      ],
      "metadata": {
        "colab": {
          "base_uri": "https://localhost:8080/",
          "height": 406
        },
        "id": "c7-jxeyHixCY",
        "outputId": "5ec04c2a-f3a8-4641-b3d3-c39f7b954814"
      },
      "execution_count": 31,
      "outputs": [
        {
          "output_type": "display_data",
          "data": {
            "text/plain": [
              "<Figure size 640x480 with 1 Axes>"
            ],
            "image/png": "[encoded data removed]"
          },
          "metadata": {}
        }
      ]
    },
    {
      "cell_type": "code",
      "source": [
        "plt.pie(ratio, labels=labels, autopct='%.1f%%') # autopct :부채꼴의 표시 /숫자형식 소수점 아래 한자리"
      ],
      "metadata": {
        "id": "WZj9Wh9FjrkI"
      },
      "execution_count": null,
      "outputs": []
    },
    {
      "cell_type": "markdown",
      "source": [
        "## 박스플롯 \n",
        "* 자주는 아니지만 데이터 전체적인 분포볼때 사용 \n"
      ],
      "metadata": {
        "id": "eW2oLVQ42ZWi"
      }
    },
    {
      "cell_type": "code",
      "source": [
        "import random\n",
        "x1 = []\n",
        "for i in range(10):\n",
        "  x1.append(random.random())"
      ],
      "metadata": {
        "id": "whvWsrXE2ba3"
      },
      "execution_count": 33,
      "outputs": []
    },
    {
      "cell_type": "code",
      "source": [
        "import matplotlib.pyplot as plt\n",
        "\n",
        "# 1. 기본 스타일 설정\n",
        "plt.style.use('default')\n",
        "plt.rcParams['figure.figsize'] = (4, 3)\n",
        "plt.rcParams['font.size'] = 12\n",
        "\n",
        "# 2. 데이터 준비\n",
        "np.random.seed(0)\n",
        "\n",
        "# 3. 그래프 그리기\n",
        "fig, ax = plt.subplots()\n",
        "\n",
        "ax.boxplot(x1)\n",
        "ax.set_ylim(-1.0, 1.0)\n",
        "ax.set_xlabel('Data Type')\n",
        "ax.set_ylabel('Value')\n",
        "\n",
        "plt.show()"
      ],
      "metadata": {
        "colab": {
          "base_uri": "https://localhost:8080/",
          "height": 326
        },
        "id": "5W6LNHng2lfN",
        "outputId": "011f65dc-87dc-4064-c250-e1d6571c0e7d"
      },
      "execution_count": 34,
      "outputs": [
        {
          "output_type": "display_data",
          "data": {
            "text/plain": [
              "<Figure size 400x300 with 1 Axes>"
            ],
            "image/png": "[encoded data removed]"
          },
          "metadata": {}
        }
      ]
    },
    {
      "cell_type": "markdown",
      "source": [
        "### 연습문제"
      ],
      "metadata": {
        "id": "oM4fO4rP5Set"
      }
    },
    {
      "cell_type": "code",
      "source": [
        "#문제: 주사위를 100번 굴리시오 히스트그램으로 그래프를 그려보세요 \n",
        "import random \n",
        "import matplotlib.pyplot as plt\n",
        "\n",
        "l = []\n",
        "for i in range(100):\n",
        "  l.append(random.randint(1,6))\n",
        "\n",
        "plt.hist(l, bins=9)\n",
        "plt.show()"
      ],
      "metadata": {
        "colab": {
          "base_uri": "https://localhost:8080/",
          "height": 295
        },
        "id": "_PiXKjlw5UFE",
        "outputId": "a11a6095-579c-4e1c-f03d-aba6ecd7e5fd"
      },
      "execution_count": 53,
      "outputs": [
        {
          "output_type": "display_data",
          "data": {
            "text/plain": [
              "<Figure size 400x300 with 1 Axes>"
            ],
            "image/png": "[encoded data removed]"
          },
          "metadata": {}
        }
      ]
    },
    {
      "cell_type": "code",
      "source": [
        "random.randint(1,6)"
      ],
      "metadata": {
        "id": "0bkVS-bV6DXS"
      },
      "execution_count": null,
      "outputs": []
    },
    {
      "cell_type": "code",
      "source": [
        "#수집된 서울의 기온 데이터를 히스토그램으로 표시하시오.\n",
        "#색은 빨간색\n",
        "#구간은 100개로 나누시오.\n",
        "\n",
        "import csv\n",
        "\n",
        "f = open('/content/sample_data/CSV_example2_data.csv', 'r') #csv를 리드 모드로 불러옴\n",
        "data = csv.reader(f)\n",
        "next(data)\n",
        "\n",
        "result = [] \n",
        "\n",
        "for row in data: \n",
        "  result.append(float(row[-1]))\n",
        "f.close()\n",
        "\n",
        "import matplotlib.pyplot as plt\n",
        "\n",
        "#plt.figure(figsize = (10, 2)) #그래프의 가로길이를 10인치 세로를 2인치로 설정\n",
        "plt.hist(result,color = 'r', bins = 100) #데이터의 분포를 나타냄 bins는 구간을 100으로 현재 나눈 상태\n",
        "plt.show()"
      ],
      "metadata": {
        "colab": {
          "base_uri": "https://localhost:8080/",
          "height": 295
        },
        "id": "mrV9pI4w7CFV",
        "outputId": "50383b20-7422-4546-d3dd-33da326e3f21"
      },
      "execution_count": 47,
      "outputs": [
        {
          "output_type": "display_data",
          "data": {
            "text/plain": [
              "<Figure size 400x300 with 1 Axes>"
            ],
            "image/png": "[encoded data removed]"
          },
          "metadata": {}
        }
      ]
    },
    {
      "cell_type": "code",
      "source": [
        "#수집된 서울의 기온 데이터를 히스토그램으로 표시하시오.\n",
        "#색은 빨간색\n",
        "#구간은 100개로 나누시오.\n",
        "import csv\n",
        "\n",
        "f = open('/content/sample_data/CSV_example2_data.csv', 'r') #csv를 리드 모드로 불러옴\n",
        "data = csv.reader(f)\n",
        "next(data)\n",
        "\n",
        "result = [] \n",
        "\n",
        "for row in data: \n",
        "  result.append(float(row[-1]))      \n",
        "#f.close()\n",
        "\n",
        "import matplotlib.pyplot as plt\n",
        "\n",
        "#plt.figure(figsize = (10, 2)) #그래프의 가로길이를 10인치 세로를 2인치로 설정\n",
        "plt.hist(result,color = 'b', bins = 10) #데이터의 분포를 나타냄 bins는 구간을 100으로 현재 나눈 상태\n",
        "plt.show()"
      ],
      "metadata": {
        "colab": {
          "base_uri": "https://localhost:8080/",
          "height": 430
        },
        "id": "sks83a_E904n",
        "outputId": "08e21482-fde1-4fab-9ff9-2a33f5b80e7d"
      },
      "execution_count": 2,
      "outputs": [
        {
          "output_type": "display_data",
          "data": {
            "text/plain": [
              "<Figure size 640x480 with 1 Axes>"
            ],
            "image/png": "[encoded data removed]"
          },
          "metadata": {}
        }
      ]
    },
    {
      "cell_type": "code",
      "source": [],
      "metadata": {
        "colab": {
          "base_uri": "https://localhost:8080/"
        },
        "id": "05Jl6ScRDyzI",
        "outputId": "a2d108cd-f001-4419-bbc2-73805c5d74fd"
      },
      "execution_count": 56,
      "outputs": [
        {
          "output_type": "stream",
          "name": "stdout",
          "text": [
            "<_csv.reader object at 0x7f3bd89fe650>\n"
          ]
        }
      ]
    },
    {
      "cell_type": "code",
      "source": [
        "# 4월 5월 데이터를 중첩해서 그려보기 -  split 활용\n",
        "import csv\n",
        "\n",
        "f = open('/content/sample_data/CSV_example2_data.csv', 'r') #csv를 리드 모드로 불러옴\n",
        "data = csv.reader(f)\n",
        "next(data)\n",
        "\n",
        "import matplotlib.pyplot as plt\n",
        "#4,5월 데이터 리스트 \n",
        "result_04 = []    \n",
        "result_05 = []\n",
        "\n",
        "for row in data:\n",
        "  #월만 뽑아오기 \n",
        "  month = row[0].split('-')[1]              #날짜를 -로 split  /0연도 1월 2는일이므로  \n",
        "  if month == '04':\n",
        "    result_04.append(float(row[-1]))\n",
        "  if month == '05':\n",
        "    result_05.append(float(row[-1]))    \n",
        "#f.close()\n",
        "\n",
        "plt.hist(result_04, color = 'b')               \n",
        "plt.hist(result_05, color = 'r')      \n",
        "plt.legend()                                   \n",
        "plt.show()"
      ],
      "metadata": {
        "colab": {
          "base_uri": "https://localhost:8080/",
          "height": 447
        },
        "id": "wrjSk7aHCxT8",
        "outputId": "3c84bc2c-872d-4260-caec-49839fab6e81"
      },
      "execution_count": 6,
      "outputs": [
        {
          "output_type": "stream",
          "name": "stderr",
          "text": [
            "WARNING:matplotlib.legend:No artists with labels found to put in legend.  Note that artists whose label start with an underscore are ignored when legend() is called with no argument.\n"
          ]
        },
        {
          "output_type": "display_data",
          "data": {
            "text/plain": [
              "<Figure size 640x480 with 1 Axes>"
            ],
            "image/png": "[encoded data removed]"
          },
          "metadata": {}
        }
      ]
    },
    {
      "cell_type": "code",
      "source": [],
      "metadata": {
        "id": "nfDE7U9NFRUw"
      },
      "execution_count": null,
      "outputs": []
    },
    {
      "cell_type": "code",
      "source": [],
      "metadata": {
        "id": "yvCV9QePD_1B"
      },
      "execution_count": null,
      "outputs": []
    },
    {
      "cell_type": "code",
      "source": [
        "## 두번째 데이터 실습\n",
        "import csv\n",
        "\n",
        "f = open('/content/sample_data/dataset_example3_new.csv')\n",
        "data = csv.reader(f)\n",
        "for row in data:\n",
        "    print(row)\n",
        "f.close() #열었으면 잘 닫기"
      ],
      "metadata": {
        "colab": {
          "base_uri": "https://localhost:8080/"
        },
        "id": "TWRKCdVwGsKg",
        "outputId": "7f9eab49-baaf-4bbb-c112-ee6e56c7bb77"
      },
      "execution_count": 15,
      "outputs": [
        {
          "output_type": "stream",
          "name": "stdout",
          "text": [
            "['구분', '합계_총 인구수', '합계_연령구간인구수', '합계_0-9세', '합계_10-19세', '합계_20-29세', '합계_30-39세', '합계_40-49세', '합계_50-59세', '합계_60-69세', '합계_70-79세', '합계_80-89세', '합계_90-99세', '합계_100세 이상', '남_인구수', '남_연령구간인구수', '남_0-9세', '남_10-19세', '남_20-29세', '남_30-39세', '남_40-49세', '남_50-59세', '남_60-69세', '남_70-79세', '남_80-89세', '남_90-99세', '남_100세 이상', '여_인구수', '여_연령구간인구수', '여_0-9세', '여_10-19세', '여_20-29세', '여_30-39세', '여_40-49세', '여_50-59세', '여_60-69세', '여_70-79세', '여_80-89세', '여_90-99세', '여_100세 이상']\n",
            "['전국', '51,408,155', '51,408,155', '3,460,142', '4,684,275', '6,333,731', '6,589,037', '8,027,947', '8,609,976', '7,525,051', '3,865,977', '2,015,305', '288,168', '8,546', '25,617,485', '25,617,485', '1,773,246', '2,413,102', '3,314,031', '3,420,450', '4,077,944', '4,348,830', '3,699,385', '1,768,062', '735,772', '65,206', '1,457', '25,790,670', '25,790,670', '1,686,896', '2,271,173', '3,019,700', '3,168,587', '3,950,003', '4,261,146', '3,825,666', '2,097,915', '1,279,533', '222,962', '7,089']\n",
            "['서울특별시', '9,422,710', '9,422,710', '533,058', '746,534', '1,380,665', '1,425,142', '1,439,498', '1,490,099', '1,311,159', '720,855', '330,629', '43,651', '1,420', '4,563,512', '4,563,512', '273,465', '381,663', '658,279', '712,872', '712,085', '733,168', '620,115', '326,601', '133,509', '11,452', '303', '4,859,198', '4,859,198', '259,593', '364,871', '722,386', '712,270', '727,413', '756,931', '691,044', '394,254', '197,120', '32,199', '1,117']\n",
            "['부산광역시', '3,311,402', '3,311,402', '202,417', '265,215', '389,186', '394,343', '491,842', '540,194', '560,239', '312,297', '138,519', '16,714', '436', '1,615,593', '1,615,593', '103,853', '136,178', '200,278', '202,810', '248,210', '263,821', '264,049', '140,785', '51,895', '3,637', '77', '1,695,809', '1,695,809', '98,564', '129,037', '188,908', '191,533', '243,632', '276,373', '296,190', '171,512', '86,624', '13,077', '359']\n",
            "['대구광역시', '2,357,881', '2,357,881', '154,772', '215,628', '288,962', '278,574', '360,620', '413,876', '355,062', '186,823', '91,892', '11,426', '246', '1,159,042', '1,159,042', '79,266', '111,523', '152,714', '147,926', '178,020', '202,269', '169,356', '81,957', '33,360', '2,622', '29', '1,198,839', '1,198,839', '75,506', '104,105', '136,248', '130,648', '182,600', '211,607', '185,706', '104,866', '58,532', '8,804', '217']\n",
            "['인천광역시', '2,976,338', '2,976,338', '206,458', '272,529', '371,263', '406,924', '481,351', '509,573', '430,502', '191,090', '91,931', '14,228', '489', '1,489,277', '1,489,277', '105,763', '140,016', '193,079', '211,820', '246,988', '254,113', '212,753', '88,686', '33,002', '2,961', '96', '1,487,061', '1,487,061', '100,695', '132,513', '178,184', '195,104', '234,363', '255,460', '217,749', '102,404', '58,929', '11,267', '393']\n",
            "['광주광역시', '1,426,625', '1,426,625', '104,384', '149,369', '195,616', '175,466', '231,717', '238,401', '180,963', '96,457', '47,506', '6,551', '195', '704,974', '704,974', '53,453', '77,277', '102,073', '90,318', '115,316', '118,090', '86,448', '42,771', '17,752', '1,458', '18', '721,651', '721,651', '50,931', '72,092', '93,543', '85,148', '116,401', '120,311', '94,515', '53,686', '29,754', '5,093', '177']\n",
            "['대전광역시', '1,445,214', '1,445,214', '100,312', '139,408', '202,439', '187,591', '224,690', '239,649', '200,056', '96,329', '47,775', '6,773', '192', '720,934', '720,934', '51,589', '71,901', '106,236', '98,846', '112,032', '119,599', '96,973', '44,275', '17,824', '1,629', '30', '724,280', '724,280', '48,723', '67,507', '96,203', '88,745', '112,658', '120,050', '103,083', '52,054', '29,951', '5,144', '162']\n",
            "['울산광역시', '1,107,134', '1,107,134', '82,908', '109,560', '126,181', '138,552', '180,417', '203,691', '166,392', '68,470', '27,316', '3,577', '70', '568,824', '568,824', '42,629', '57,361', '71,556', '74,663', '92,522', '102,725', '83,954', '32,923', '9,816', '671', '4', '538,310', '538,310', '40,279', '52,199', '54,625', '63,889', '87,895', '100,966', '82,438', '35,547', '17,500', '2,906', '66']\n",
            "['세종특별자치시', '385,825', '385,825', '45,440', '49,607', '38,107', '60,678', '77,194', '52,539', '36,633', '15,938', '8,201', '1,445', '43', '192,316', '192,316', '23,078', '25,009', '19,488', '29,740', '38,510', '27,507', '18,225', '7,531', '2,944', '278', '6', '193,509', '193,509', '22,362', '24,598', '18,619', '30,938', '38,684', '25,032', '18,408', '8,407', '5,257', '1,167', '37']\n",
            "['경기도', '13,607,919', '13,607,919', '1,023,072', '1,324,705', '1,716,816', '1,877,554', '2,277,910', '2,300,892', '1,790,601', '820,761', '413,508', '60,187', '1,913', '6,847,848', '6,847,848', '523,407', '678,810', '904,585', '976,991', '1,160,059', '1,162,813', '892,893', '377,789', '155,594', '14,479', '428', '6,760,071', '6,760,071', '499,665', '645,895', '812,231', '900,563', '1,117,851', '1,138,079', '897,708', '442,972', '257,914', '45,708', '1,485']\n",
            "['강원도', '1,533,356', '1,533,356', '94,214', '130,961', '167,320', '159,324', '213,609', '260,563', '272,371', '139,205', '83,111', '12,305', '373', '771,382', '771,382', '48,316', '68,024', '93,753', '84,696', '108,880', '134,492', '136,451', '63,865', '30,133', '2,687', '85', '761,974', '761,974', '45,898', '62,937', '73,567', '74,628', '104,729', '126,071', '135,920', '75,340', '52,978', '9,618', '288']\n",
            "['충청북도', '1,594,109', '1,594,109', '106,931', '145,301', '185,968', '186,620', '234,423', '268,275', '255,628', '124,825', '75,237', '10,608', '293', '810,806', '810,806', '54,758', '75,296', '103,385', '101,640', '121,372', '138,067', '129,249', '58,063', '26,621', '2,309', '46', '783,303', '783,303', '52,173', '70,005', '82,583', '84,980', '113,051', '130,208', '126,379', '66,762', '48,616', '8,299', '247']\n",
            "['충청남도', '2,125,333', '2,125,333', '149,159', '202,070', '229,023', '251,520', '326,376', '342,929', '319,899', '175,151', '110,898', '17,806', '502', '1,088,126', '1,088,126', '76,402', '104,582', '127,288', '136,276', '173,594', '182,052', '162,180', '81,950', '39,507', '4,226', '69', '1,037,207', '1,037,207', '72,757', '97,488', '101,735', '115,244', '152,782', '160,877', '157,719', '93,201', '71,391', '13,580', '433']\n",
            "['전라북도', '1,764,181', '1,764,181', '107,464', '166,158', '195,143', '174,490', '251,194', '298,216', '281,587', '168,807', '104,452', '16,177', '493', '877,966', '877,966', '54,919', '85,999', '105,939', '90,526', '128,705', '155,021', '140,215', '77,044', '35,995', '3,542', '61', '886,215', '886,215', '52,545', '80,159', '89,204', '83,964', '122,489', '143,195', '141,372', '91,763', '68,457', '12,635', '432']\n",
            "['전라남도', '1,813,439', '1,813,439', '112,226', '160,292', '182,524', '171,045', '245,776', '310,603', '299,433', '187,687', '124,433', '18,835', '585', '913,624', '913,624', '57,400', '82,683', '102,164', '89,848', '130,762', '167,436', '153,138', '85,740', '40,604', '3,786', '63', '899,815', '899,815', '54,826', '77,609', '80,360', '81,197', '115,014', '143,167', '146,295', '101,947', '83,829', '15,049', '522']\n",
            "['경상북도', '2,592,205', '2,592,205', '160,547', '219,610', '255,736', '264,967', '366,170', '447,264', '450,782', '251,671', '152,430', '22,447', '581', '1,308,840', '1,308,840', '82,668', '115,111', '146,205', '143,122', '190,259', '232,255', '226,814', '115,970', '51,656', '4,714', '66', '1,283,365', '1,283,365', '77,879', '104,499', '109,531', '121,845', '175,911', '215,009', '223,968', '135,701', '100,774', '17,733', '515']\n",
            "['경상남도', '3,267,369', '3,267,369', '223,214', '316,873', '332,555', '357,363', '514,608', '575,494', '522,752', '262,463', '140,862', '20,743', '442', '1,645,335', '1,645,335', '114,786', '165,051', '186,481', '188,556', '264,265', '294,420', '261,185', '120,452', '46,145', '3,933', '61', '1,622,034', '1,622,034', '108,428', '151,822', '146,074', '168,807', '250,343', '281,074', '261,567', '142,011', '94,717', '16,810', '381']\n",
            "['제주특별자치도', '677,115', '677,115', '53,566', '70,455', '76,227', '78,884', '110,552', '117,718', '90,992', '47,148', '26,605', '4,695', '273', '339,086', '339,086', '27,494', '36,618', '40,528', '39,800', '56,365', '60,982', '45,387', '21,660', '9,415', '822', '15', '338,029', '338,029', '26,072', '33,837', '35,699', '39,084', '54,187', '56,736', '45,605', '25,488', '17,190', '3,873', '258']\n"
          ]
        }
      ]
    },
    {
      "cell_type": "code",
      "source": [
        "#서울시 데이터만 가져오기\n",
        "import csv\n",
        "f = open('/content/sample_data/dataset_example3_new.csv')\n",
        "data = csv.reader(f)\n",
        "\n",
        "seoul = []\n",
        "for row in data:\n",
        "  if '서울특별시' == row[0]:\n",
        "    #print(row)\n",
        "    seoul.append(row)\n",
        "\n",
        "f.close()\n",
        "seoul"
      ],
      "metadata": {
        "id": "dC3WxBUIHDZ8"
      },
      "execution_count": null,
      "outputs": []
    },
    {
      "cell_type": "code",
      "source": [
        "# 서울 특별시 0세부터 100세까지의 연령에 따른 선 그래프 그리기\n",
        "import csv\n",
        "f = open('/content/sample_data/dataset_example3_new.csv')\n",
        "data = csv.reader(f)\n",
        "\n",
        "seoul = []\n",
        "for row in data:\n",
        "  if '서울특별시' == row[0]:      #원하는 값만 가져와서 \n",
        "    for i in row[3:14]:           \n",
        "      i = i.replace(\",\", \"\")      # , 를 공백으로 대체 \n",
        "      seoul.append(int(i))\n",
        "f.close()\n",
        "\n",
        "#seoul  "
      ],
      "metadata": {
        "id": "86jxNVbgHDHW"
      },
      "execution_count": 18,
      "outputs": []
    },
    {
      "cell_type": "code",
      "source": [
        "plt.plot(seoul)                   ##경기도와도 비교해보기 \n",
        "plt.show()\n",
        "\n",
        "plt.bar(range(11),seoul)\n",
        "plt.show()"
      ],
      "metadata": {
        "colab": {
          "base_uri": "https://localhost:8080/",
          "height": 873
        },
        "id": "FUKSEYJwMFu9",
        "outputId": "fedde90b-8737-4ea1-a9f5-d89c8b89873a"
      },
      "execution_count": 23,
      "outputs": [
        {
          "output_type": "display_data",
          "data": {
            "text/plain": [
              "<Figure size 640x480 with 1 Axes>"
            ],
            "image/png": "[encoded data removed]"
          },
          "metadata": {}
        },
        {
          "output_type": "display_data",
          "data": {
            "text/plain": [
              "<Figure size 640x480 with 1 Axes>"
            ],
            "image/png": "[encoded data removed]"
          },
          "metadata": {}
        }
      ]
    },
    {
      "cell_type": "code",
      "source": [
        "#전체인구를 봤으니 이번엔 여성/남성 데이터로 \n",
        "\n",
        "import csv\n",
        "f = open('/content/sample_data/dataset_example3_new.csv')\n",
        "data = csv.reader(f)\n",
        "\n",
        "female = [] #여성 인구정보를 담을 리스트\n",
        "male = [] #남성 인구정보를 담을 리스트\n",
        "\n",
        "for row in data:\n",
        "  if '제주특별자치도' in row[0]:\n",
        "    for i in row[16:27]:#1에서 100까지\n",
        "      i = i.replace(\",\", \"\")\n",
        "      male.append(-int(i)) #남성데이터는 15~27\n",
        "    for i in row[29:]:\n",
        "      i = i.replace(\",\", \"\")\n",
        "      female.append(int(i)) #여성데이터는 30~번까지\n",
        "\n",
        "import matplotlib.pyplot as plt\n",
        "\n",
        "plt.barh(range(11), male)             #따라서 양쪽구분 그래프 이용 : 대신, 한 값은 음수로 표현해야! \n",
        "plt.barh(range(11), female)            #그냥 bar chart는 양쪽 비교 어려움 \n",
        "plt.legend()\n",
        "plt.show()\n",
        "f.close()"
      ],
      "metadata": {
        "colab": {
          "base_uri": "https://localhost:8080/",
          "height": 447
        },
        "id": "B4sSP2ZIQZuh",
        "outputId": "65ad0426-f027-43a3-d275-75d34b11fdd1"
      },
      "execution_count": 28,
      "outputs": [
        {
          "output_type": "stream",
          "name": "stderr",
          "text": [
            "WARNING:matplotlib.legend:No artists with labels found to put in legend.  Note that artists whose label start with an underscore are ignored when legend() is called with no argument.\n"
          ]
        },
        {
          "output_type": "display_data",
          "data": {
            "text/plain": [
              "<Figure size 640x480 with 1 Axes>"
            ],
            "image/png": "[encoded data removed]"
          },
          "metadata": {}
        }
      ]
    },
    {
      "cell_type": "code",
      "source": [
        "# 4번째 예제 \n",
        "# example_4_all \n",
        "\n",
        "import csv\n",
        "\n",
        "with open('sample_data/example_4_all.csv') as f:\n",
        "  reader = csv.reader(f)\n",
        "  for row in reader:\n",
        "    print(row)                                 #서울은 유출되는 듯한 경향  "
      ],
      "metadata": {
        "colab": {
          "base_uri": "https://localhost:8080/"
        },
        "id": "ytfr67O2MRDp",
        "outputId": "c1eb0ef0-5244-44b6-aa78-f17cd24fd322"
      },
      "execution_count": 31,
      "outputs": [
        {
          "output_type": "stream",
          "name": "stdout",
          "text": [
            "['구분', '서울', '수도권']\n",
            "['1949-1955', '9.12', '-5.83']\n",
            "['1955-1960', '55.88', '32.22']\n",
            "['1960-1966', '55.12', '32.76']\n",
            "['1966-1970', '45.66', '28.75']\n",
            "['1970-1975', '24.51', '22.93']\n",
            "['1975-1980', '21.38', '21.69']\n",
            "['1980–1985', '15.27', '18.99']\n",
            "['1985-1990', '10.15', '17.53']\n",
            "['1990-1995', '-3.64', '8.43']\n",
            "['1995-2000', '-3.55', '5.45']\n",
            "['2000-2005', '-0.93', '6.41']\n",
            "['2005-2010', '-1.34', '3.71']\n",
            "['2010-2015', '-2.34', '2.31']\n",
            "['2015-2020', '-4.32', '2.55']\n"
          ]
        }
      ]
    },
    {
      "cell_type": "code",
      "source": [
        "# 마지막 연습문제 \n",
        "# 리스트 3개를 만드셔서 -> 연도 / 서울 / 수도권\n",
        "# 리스트로 값을 저장하는 쿼리를 작성시면 됩니다.\n",
        "\n",
        "#내 답 \n",
        "import csv\n",
        "\n",
        "with open('sample_data/example_4_all.csv') as f:\n",
        "  data = csv.reader(f)\n",
        "\n",
        "  year = [] \n",
        "  seoul = []\n",
        "  near_seoul = []                        \n",
        "  for i in data:\n",
        "     #print(i[0])\n",
        "     year.append(i[0])\n",
        "     #print(year)\n",
        "     seoul.append(i[1])\n",
        "     near_seoul.append(i[2])\n",
        "\n",
        "  year = year[1:]\n",
        "  seoul = seoul[1:]\n",
        "  near_seoul = near_seoul[1:]\n",
        "near_seoul"
      ],
      "metadata": {
        "id": "liYuvAH7Sm5j"
      },
      "execution_count": null,
      "outputs": []
    },
    {
      "cell_type": "code",
      "source": [
        "#강사님 답 - 맨 위에 구분자 안나오게 최대한 정제된 상태로 만들어두기 \n",
        "\n",
        "year = []\n",
        "s = []\n",
        "g = []\n",
        "\n",
        "with open('sample_data/example_4_all.csv') as f:\n",
        "  reader = csv.reader(f)\n",
        "  for row in reader:\n",
        "    if row[0] != \"구분\":\n",
        "      year.append(row[0])\n",
        "      s.append(float(row[1]))\n",
        "      g.append(float(row[2]))\n",
        "\n",
        "print(year)\n",
        "print(s)\n",
        "print(g)"
      ],
      "metadata": {
        "colab": {
          "base_uri": "https://localhost:8080/"
        },
        "id": "iLZgr44SU0-v",
        "outputId": "deffe320-99b3-4ab0-e6f5-d9e8973e1121"
      },
      "execution_count": 91,
      "outputs": [
        {
          "output_type": "stream",
          "name": "stdout",
          "text": [
            "['1949-1955', '1955-1960', '1960-1966', '1966-1970', '1970-1975', '1975-1980', '1980–1985', '1985-1990', '1990-1995', '1995-2000', '2000-2005', '2005-2010', '2010-2015', '2015-2020']\n",
            "[9.12, 55.88, 55.12, 45.66, 24.51, 21.38, 15.27, 10.15, -3.64, -3.55, -0.93, -1.34, -2.34, -4.32]\n",
            "[-5.83, 32.22, 32.76, 28.75, 22.93, 21.69, 18.99, 17.53, 8.43, 5.45, 6.41, 3.71, 2.31, 2.55]\n"
          ]
        }
      ]
    },
    {
      "cell_type": "code",
      "source": [
        "# 그래프 연습문제 마지막\n",
        "# year가 x축의 이름\n",
        "# s g를 2개의 그래프를 그리는 연습문제입니다.\n",
        "\n",
        "#내 답 \n",
        "import matplotlib.pyplot as plt\n",
        "\n",
        "\n",
        "plt.plot(s, c= 'red')\n",
        "plt.plot(g)\n",
        "\n",
        "plt.xlabel('year')\n",
        "plt.show()\n"
      ],
      "metadata": {
        "colab": {
          "base_uri": "https://localhost:8080/",
          "height": 449
        },
        "id": "wwme2M1_YGlf",
        "outputId": "d1547b71-da2d-4880-9aad-6f0d2f020a6e"
      },
      "execution_count": 101,
      "outputs": [
        {
          "output_type": "display_data",
          "data": {
            "text/plain": [
              "<Figure size 640x480 with 1 Axes>"
            ],
            "image/png": "[encoded data removed]"
          },
          "metadata": {}
        }
      ]
    },
    {
      "cell_type": "code",
      "source": [
        "#강사님 답\n",
        "import matplotlib.pyplot as plt\n",
        "# x축에 년도, y축에 인구수가 있는 선 그래프 만들기\n",
        "plt.plot(range(14), s, color='green', marker='o', linestyle='solid', label='s')\n",
        "plt.plot(range(14), g, color='red', marker='o', linestyle='solid', label='g')\n",
        "\n",
        "plt.xticks(range(14), year, rotation=45)\n",
        "\n",
        "plt.title(\"Population Change\")\n",
        "plt.ylabel(\"Percentage\")\n",
        "\n",
        "plt.legend()\n",
        "plt.show()"
      ],
      "metadata": {
        "colab": {
          "base_uri": "https://localhost:8080/",
          "height": 503
        },
        "id": "oZmekjzpaU7X",
        "outputId": "dc7cf38f-328b-4db9-80e6-743ba9761180"
      },
      "execution_count": 102,
      "outputs": [
        {
          "output_type": "display_data",
          "data": {
            "text/plain": [
              "<Figure size 640x480 with 1 Axes>"
            ],
            "image/png": "[encoded data removed]"
          },
          "metadata": {}
        }
      ]
    }
  ]
}