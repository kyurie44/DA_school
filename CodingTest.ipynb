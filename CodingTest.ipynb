{
  "nbformat": 4,
  "nbformat_minor": 0,
  "metadata": {
    "colab": {
      "provenance": [],
      "toc_visible": true
    },
    "kernelspec": {
      "name": "python3",
      "display_name": "Python 3"
    },
    "language_info": {
      "name": "python"
    }
  },
  "cells": [
    {
      "cell_type": "markdown",
      "source": [
        "코딩테스트 -> 이력서 -> 면접질문 순으로 진행예정"
      ],
      "metadata": {
        "id": "ScIQA8LAe0Pi"
      }
    },
    {
      "cell_type": "markdown",
      "source": [
        "# 코딩테스트\n",
        "* 알고리즘 + SQL + 화상감독 없는곳 이 우리의 타겟!\n",
        "\n",
        "* 프로그래머스 코딩테스트 문제풀이전략 : 파이썬 편 책 참고!! - 프로그래머스 문제은행인 기업\n",
        "* 자체 플랫폼 기업 - 준비하기 까다롭 (플랫폼들어가서 확인)\n",
        "\n",
        "* 보통 3년차부터 내부추천권 있음 -> 친구한테 요청하기\n",
        "* 급한 사람들은 제주 테크노파크에서 구하기 -> 기업지원정보 청년인재 이런거? (여기는 1개월내 채용해야함)\n",
        "\n",
        "* visual studio 의 코파일럿모드 쓰면 대부분 짜주고 코테 답도 나옴 (이건 유료)"
      ],
      "metadata": {
        "id": "cWYom_bSfKod"
      }
    },
    {
      "cell_type": "markdown",
      "source": [
        "## Python 100제\n",
        "* 문제링크 : https://pythonworkbook.notion.site/pythonworkbook/Python-100-6ee1860ce29a41bc8eb6b9cfa7d7f06c\n",
        "* 1 ~ 100번\n",
        "* 시간 정해두고 모르면 -> 암기 -> 반복!"
      ],
      "metadata": {
        "id": "qNxZ4Gb7gsrl"
      }
    },
    {
      "cell_type": "markdown",
      "source": [
        "### 1번."
      ],
      "metadata": {
        "id": "kRSQ6bDqhHLD"
      }
    },
    {
      "cell_type": "code",
      "source": [
        "nums = [100,200,300,400,500]"
      ],
      "metadata": {
        "id": "p7u-6ltRfU6u"
      },
      "execution_count": null,
      "outputs": []
    },
    {
      "cell_type": "code",
      "source": [
        "#정답1\n",
        "nums.pop()\n",
        "nums.pop()"
      ],
      "metadata": {
        "id": "9qCvcawYg7z0"
      },
      "execution_count": null,
      "outputs": []
    },
    {
      "cell_type": "code",
      "source": [
        "#정답2\n",
        "nums[:3]"
      ],
      "metadata": {
        "colab": {
          "base_uri": "https://localhost:8080/"
        },
        "id": "cfW1j3xsfVvo",
        "outputId": "b6cea350-7166-4f3d-8aa5-857280636c5d"
      },
      "execution_count": null,
      "outputs": [
        {
          "output_type": "execute_result",
          "data": {
            "text/plain": [
              "[100, 200, 300]"
            ]
          },
          "metadata": {},
          "execution_count": 2
        }
      ]
    },
    {
      "cell_type": "code",
      "source": [
        "#정답3\n",
        "nums[:-2]"
      ],
      "metadata": {
        "colab": {
          "base_uri": "https://localhost:8080/"
        },
        "id": "RgIXvAZVfVrE",
        "outputId": "b6b8d477-db18-4214-a6ff-4ac05ed8f749"
      },
      "execution_count": null,
      "outputs": [
        {
          "output_type": "execute_result",
          "data": {
            "text/plain": [
              "[100, 200, 300]"
            ]
          },
          "metadata": {},
          "execution_count": 3
        }
      ]
    },
    {
      "cell_type": "markdown",
      "source": [
        "### 2번."
      ],
      "metadata": {
        "id": "r7vrLotihR7d"
      }
    },
    {
      "cell_type": "code",
      "source": [
        "l = [200, 100, 300]\n",
        "print(l)"
      ],
      "metadata": {
        "colab": {
          "base_uri": "https://localhost:8080/"
        },
        "id": "1CiciWT5hRWA",
        "outputId": "d73696e0-2b43-4814-b164-306b402f8f60"
      },
      "execution_count": null,
      "outputs": [
        {
          "output_type": "stream",
          "name": "stdout",
          "text": [
            "[200, 100, 10000, 300]\n"
          ]
        }
      ]
    },
    {
      "cell_type": "code",
      "source": [
        "l.insert(2, 10000)\n",
        "print(l)"
      ],
      "metadata": {
        "colab": {
          "base_uri": "https://localhost:8080/"
        },
        "id": "uLjPGsBPfVlM",
        "outputId": "1698c069-8295-43b5-994f-5812a612707b"
      },
      "execution_count": null,
      "outputs": [
        {
          "output_type": "stream",
          "name": "stdout",
          "text": [
            "[200, 100, 10000, 10000, 300]\n"
          ]
        }
      ]
    },
    {
      "cell_type": "markdown",
      "source": [
        "### 3번."
      ],
      "metadata": {
        "id": "Won8SXBLhuZZ"
      }
    },
    {
      "cell_type": "markdown",
      "source": [
        "### 4번."
      ],
      "metadata": {
        "id": "ZrkIyVkChwWx"
      }
    },
    {
      "cell_type": "markdown",
      "source": [
        "### 5번."
      ],
      "metadata": {
        "id": "uGiVo7tDh94s"
      }
    },
    {
      "cell_type": "markdown",
      "source": [
        "### 6번."
      ],
      "metadata": {
        "id": "hopEBPJHiPo9"
      }
    },
    {
      "cell_type": "code",
      "source": [
        "# True인 것? -> 2번\n",
        "# 1)  None\n",
        "# 2)  1\n",
        "# 3)  \"\"\n",
        "# 4)  0\n",
        "# 5)  bool(0)"
      ],
      "metadata": {
        "id": "la1nzWBJfVgP"
      },
      "execution_count": null,
      "outputs": []
    },
    {
      "cell_type": "code",
      "source": [
        "bool([])      #F\n",
        "bool([1,2,3]) #T"
      ],
      "metadata": {
        "colab": {
          "base_uri": "https://localhost:8080/"
        },
        "id": "stflQTNqidC3",
        "outputId": "9cb9f056-aae0-45e2-a1da-4fe909a92fe9"
      },
      "execution_count": null,
      "outputs": [
        {
          "output_type": "execute_result",
          "data": {
            "text/plain": [
              "False"
            ]
          },
          "metadata": {},
          "execution_count": 8
        }
      ]
    },
    {
      "cell_type": "code",
      "source": [
        "l = []\n",
        "print(id(l))\n",
        "print(bool(l))\n",
        "\n",
        "# l의 값이 변한적이 없음 => 근데 왜 bool값은 변했나? => 파이썬은 인간의 입장에서 출력을 고려한것\n",
        "# 자바는 bool([])이게 True임 -> 가리키는 값이 변하지 않았으니까\n",
        "\n",
        "#근데 []/ \"\"(immutable object) 이거는 다른것"
      ],
      "metadata": {
        "colab": {
          "base_uri": "https://localhost:8080/"
        },
        "id": "bpkZJ1OBic-b",
        "outputId": "99bbf58d-e855-458d-9cba-74cb875a25d4"
      },
      "execution_count": null,
      "outputs": [
        {
          "output_type": "stream",
          "name": "stdout",
          "text": [
            "137521209011648\n",
            "False\n"
          ]
        }
      ]
    },
    {
      "cell_type": "code",
      "source": [
        "l.append(10)\n",
        "print(id(l))\n",
        "print(bool(l))"
      ],
      "metadata": {
        "colab": {
          "base_uri": "https://localhost:8080/"
        },
        "id": "sQcg5xfxiwmG",
        "outputId": "aab00d71-ab2d-4055-ae96-fae9f1f08cec"
      },
      "execution_count": null,
      "outputs": [
        {
          "output_type": "stream",
          "name": "stdout",
          "text": [
            "137521209011648\n",
            "True\n"
          ]
        }
      ]
    },
    {
      "cell_type": "markdown",
      "source": [
        "### 7번."
      ],
      "metadata": {
        "id": "GROPsQ5PjzG6"
      }
    },
    {
      "cell_type": "code",
      "source": [
        "# as\n",
        "# 1age\n",
        "# 변수명으로 사용할 수 없음"
      ],
      "metadata": {
        "id": "hCGFMPNFj2DO"
      },
      "execution_count": null,
      "outputs": []
    },
    {
      "cell_type": "markdown",
      "source": [
        "### 8번.\n",
        "* 좋은문제 아님"
      ],
      "metadata": {
        "id": "ZBku4curkBcG"
      }
    },
    {
      "cell_type": "code",
      "source": [
        "d = {'height':180,'weight':78,'weight':84,'temparture':36,'eyesight':1}\n",
        "print(d['weight'])\n",
        "#출력값은?"
      ],
      "metadata": {
        "id": "cV99P3U4kC0d"
      },
      "execution_count": null,
      "outputs": []
    },
    {
      "cell_type": "code",
      "source": [
        "# 뒤에걸로 덮어씀"
      ],
      "metadata": {
        "id": "5q9bEGVJkD3p"
      },
      "execution_count": null,
      "outputs": []
    },
    {
      "cell_type": "markdown",
      "source": [
        "### 9번."
      ],
      "metadata": {
        "id": "u1zFZHIclFY6"
      }
    },
    {
      "cell_type": "code",
      "source": [
        "year = '2019'\n",
        "month = '04'\n",
        "day = '26'\n",
        "hour = '11'\n",
        "minute = '34'\n",
        "second = '27'\n",
        "\n",
        "print(year, month, day, sep = '/', end=' ')        #어떻게 붙일것인가 -> sep붙인다!  #이어붙일려면 end = ''\n",
        "print(hour, minute, second, sep = ':')"
      ],
      "metadata": {
        "colab": {
          "base_uri": "https://localhost:8080/"
        },
        "id": "f0mdNVYvkDx9",
        "outputId": "0efe48f5-af4e-4a46-9450-0fc58a86b12c"
      },
      "execution_count": null,
      "outputs": [
        {
          "output_type": "stream",
          "name": "stdout",
          "text": [
            "2019/04/26 11:34:27\n"
          ]
        }
      ]
    },
    {
      "cell_type": "markdown",
      "source": [
        "### 10번. 별찍기\n",
        "* S에서 나옴\n",
        "* 비IT에서는 코딩테스트 난이도가 낮아지는 현상임"
      ],
      "metadata": {
        "id": "Pw6wUjGFlump"
      }
    },
    {
      "cell_type": "code",
      "source": [
        "# 5 입력하여\n",
        "# * 트리 출력하기\n",
        "    *\n",
        "   ***\n",
        "  *****\n",
        " *******\n",
        "*********"
      ],
      "metadata": {
        "id": "PLHTF2TckDrb"
      },
      "execution_count": null,
      "outputs": []
    },
    {
      "cell_type": "code",
      "source": [
        "# 앞에 공백부터 맞춰주면\n",
        "\n",
        "n = 5\n",
        "for i in range(1,n+1):\n",
        "  #print(((n - i) * ' ') + (((2 * i) - 1)) * '*')\n",
        "  print((n - i) * ' ' ) + ((2*i - 1) * '*') #(((2 * i) - 1)) * '*')\n",
        "  # 별 찍기 -> 13579 니까 -> 2n-1"
      ],
      "metadata": {
        "colab": {
          "base_uri": "https://localhost:8080/",
          "height": 248
        },
        "id": "1VracLp-kDmq",
        "outputId": "f7d26668-150a-4a3b-a356-9ef6f05d5c18"
      },
      "execution_count": null,
      "outputs": [
        {
          "output_type": "stream",
          "name": "stdout",
          "text": [
            "    \n"
          ]
        },
        {
          "output_type": "error",
          "ename": "TypeError",
          "evalue": "ignored",
          "traceback": [
            "\u001b[0;31m---------------------------------------------------------------------------\u001b[0m",
            "\u001b[0;31mTypeError\u001b[0m                                 Traceback (most recent call last)",
            "\u001b[0;32m<ipython-input-39-c6d595b7bc2a>\u001b[0m in \u001b[0;36m<cell line: 4>\u001b[0;34m()\u001b[0m\n\u001b[1;32m      4\u001b[0m \u001b[0;32mfor\u001b[0m \u001b[0mi\u001b[0m \u001b[0;32min\u001b[0m \u001b[0mrange\u001b[0m\u001b[0;34m(\u001b[0m\u001b[0;36m1\u001b[0m\u001b[0;34m,\u001b[0m\u001b[0mn\u001b[0m\u001b[0;34m+\u001b[0m\u001b[0;36m1\u001b[0m\u001b[0;34m)\u001b[0m\u001b[0;34m:\u001b[0m\u001b[0;34m\u001b[0m\u001b[0;34m\u001b[0m\u001b[0m\n\u001b[1;32m      5\u001b[0m   \u001b[0;31m#print(((n - i) * ' ') + (((2 * i) - 1)) * '*')\u001b[0m\u001b[0;34m\u001b[0m\u001b[0;34m\u001b[0m\u001b[0m\n\u001b[0;32m----> 6\u001b[0;31m   \u001b[0mprint\u001b[0m\u001b[0;34m(\u001b[0m\u001b[0;34m(\u001b[0m\u001b[0mn\u001b[0m \u001b[0;34m-\u001b[0m \u001b[0mi\u001b[0m\u001b[0;34m)\u001b[0m \u001b[0;34m*\u001b[0m \u001b[0;34m' '\u001b[0m \u001b[0;34m)\u001b[0m \u001b[0;34m+\u001b[0m \u001b[0;34m(\u001b[0m\u001b[0;34m(\u001b[0m\u001b[0;36m2\u001b[0m\u001b[0;34m*\u001b[0m\u001b[0mi\u001b[0m \u001b[0;34m-\u001b[0m \u001b[0;36m1\u001b[0m\u001b[0;34m)\u001b[0m \u001b[0;34m*\u001b[0m \u001b[0;34m'*'\u001b[0m\u001b[0;34m)\u001b[0m \u001b[0;31m#(((2 * i) - 1)) * '*')\u001b[0m\u001b[0;34m\u001b[0m\u001b[0;34m\u001b[0m\u001b[0m\n\u001b[0m\u001b[1;32m      7\u001b[0m   \u001b[0;31m# 별 찍기 -> 13579 니까 -> 2n-1\u001b[0m\u001b[0;34m\u001b[0m\u001b[0;34m\u001b[0m\u001b[0m\n",
            "\u001b[0;31mTypeError\u001b[0m: unsupported operand type(s) for +: 'NoneType' and 'str'"
          ]
        }
      ]
    },
    {
      "cell_type": "markdown",
      "source": [
        "### 11번.\n",
        "* 1-100 더하는 코드"
      ],
      "metadata": {
        "id": "Ce9R5EyEoFum"
      }
    },
    {
      "cell_type": "code",
      "source": [
        "s = 0\n",
        "for i in range(1, 101):\n",
        "    s += i\n",
        "print(s)"
      ],
      "metadata": {
        "colab": {
          "base_uri": "https://localhost:8080/"
        },
        "id": "ZXuBWB54kDhy",
        "outputId": "3005fcb7-4731-4621-be53-c8d371994061"
      },
      "execution_count": null,
      "outputs": [
        {
          "output_type": "stream",
          "name": "stdout",
          "text": [
            "5050\n"
          ]
        }
      ]
    },
    {
      "cell_type": "markdown",
      "source": [
        "### 12번.\n",
        "* 클래스 만들기\n",
        "* 좋은 문제는 아님"
      ],
      "metadata": {
        "id": "ZiHeuvYkpadn"
      }
    },
    {
      "cell_type": "code",
      "source": [
        "class Wizard:\n",
        "  #value -> 이건 클래스 변수\n",
        "  def __init__(self, health, mana, armor):  #self는 인스턴스 (정확히는 인스턴스 메모리 영역)\n",
        "    self.health = health                    # -> 이건 인스턴스 변수\n",
        "    self.mana = mana\n",
        "    self.armor = armor\n",
        "\n",
        "  def attack(self):\n",
        "    print('파이어볼')\n",
        "\n",
        "jik = Wizard(health = 545, mana = 210, armor = 10)\n",
        "print(jik.health, jik.mana, jik.armor)\n",
        "jik.attack()"
      ],
      "metadata": {
        "colab": {
          "base_uri": "https://localhost:8080/"
        },
        "id": "AZzWHH_spWth",
        "outputId": "cd48921a-97ba-4406-a536-a900da59fbb8"
      },
      "execution_count": null,
      "outputs": [
        {
          "output_type": "stream",
          "name": "stdout",
          "text": [
            "545 210 10\n",
            "파이어볼\n"
          ]
        }
      ]
    },
    {
      "cell_type": "markdown",
      "source": [
        "### 13번."
      ],
      "metadata": {
        "id": "cNp3veefpc55"
      }
    },
    {
      "cell_type": "code",
      "source": [
        "리스트로 만들면됨"
      ],
      "metadata": {
        "id": "zWPeEii3pWpo"
      },
      "execution_count": null,
      "outputs": []
    },
    {
      "cell_type": "markdown",
      "source": [
        "### 14번.\n",
        "* 문제 너무 쉬워서 아래문제\n",
        "* 링크 : https://school.programmers.co.kr/learn/courses/30/lessons/120871?language=javascript"
      ],
      "metadata": {
        "id": "ftaI0GrRpeFo"
      }
    },
    {
      "cell_type": "code",
      "source": [
        "# Lv0문제 - 저주의 숫자 3  이정도면 풀만한 문제라 추가\n",
        "\n",
        "#이러한 조건문제에서 문제가 쉽게 풀리지 않는경우\n",
        "# -> 소거법 사용!\n",
        "\n",
        "[i for i in range(100) if i % 3 !=0]         #3의 배수 제거\n",
        "[i for i in range(100) if '3' not in str(i)] #3 들어간거 제거\n",
        "# 둘을 합치면\n",
        "# 조건들의 연결 -> 따라서 if 와 else문은 and or not으로 줄일 수 있음\n",
        "[i for i in range(100) if i % 3 !=0 and '3' not in str(i)][9-1]\n",
        "[i for i in range(100) if i % 3 !=0 and '3' not in str(i)][10-1]\n",
        "\n",
        "\n",
        "#함수로 만들면\n",
        "#아니고 리스트 컴프리헨션으로 만들어보면\n",
        "solution = lambda n:[i for i in range(1000) if i % 3 !=0 and '3' not in str(i)][n-1]\n",
        "solution(9)"
      ],
      "metadata": {
        "colab": {
          "base_uri": "https://localhost:8080/"
        },
        "id": "ivWXzjCxpWjH",
        "outputId": "1fddaa53-3c04-49c9-a150-f90d98a9e5f2"
      },
      "execution_count": null,
      "outputs": [
        {
          "output_type": "execute_result",
          "data": {
            "text/plain": [
              "14"
            ]
          },
          "metadata": {},
          "execution_count": 56
        }
      ]
    },
    {
      "cell_type": "markdown",
      "source": [
        "### 15번.\n",
        "* 패스해도 됨"
      ],
      "metadata": {
        "id": "d8mwIMVNsbjU"
      }
    },
    {
      "cell_type": "markdown",
      "source": [
        "### 16번.\n",
        "* 거꾸로 출력"
      ],
      "metadata": {
        "id": "4tGmcPLlwCPQ"
      }
    },
    {
      "cell_type": "code",
      "source": [
        "'안녕하세요'[::-1]"
      ],
      "metadata": {
        "colab": {
          "base_uri": "https://localhost:8080/",
          "height": 36
        },
        "id": "MyGUffOtwMAH",
        "outputId": "792bad35-ec02-4cf6-a40e-9247405322ce"
      },
      "execution_count": null,
      "outputs": [
        {
          "output_type": "execute_result",
          "data": {
            "text/plain": [
              "'요세하녕안'"
            ],
            "application/vnd.google.colaboratory.intrinsic+json": {
              "type": "string"
            }
          },
          "metadata": {},
          "execution_count": 58
        }
      ]
    },
    {
      "cell_type": "code",
      "source": [
        "s = '안녕하세요'\n",
        "ss = list(s)\n",
        "ss.reverse()\n",
        "''.join(ss)"
      ],
      "metadata": {
        "colab": {
          "base_uri": "https://localhost:8080/",
          "height": 36
        },
        "id": "sMKPoB42wRey",
        "outputId": "23092650-1432-41e7-b1cc-ba4fba658391"
      },
      "execution_count": null,
      "outputs": [
        {
          "output_type": "execute_result",
          "data": {
            "text/plain": [
              "'요세하녕안'"
            ],
            "application/vnd.google.colaboratory.intrinsic+json": {
              "type": "string"
            }
          },
          "metadata": {},
          "execution_count": 60
        }
      ]
    },
    {
      "cell_type": "code",
      "source": [
        "#요런 재귀는 현업에서도 많이 사용 - 시간표현할때 ...\n",
        "def reverse(s):\n",
        "    if len(s) == 1:\n",
        "        return s\n",
        "    else:\n",
        "        return reverse(s[1:]) + s[0]\n",
        "\n",
        "reverse('안녕하세요')"
      ],
      "metadata": {
        "id": "lCklytx3xdHe"
      },
      "execution_count": null,
      "outputs": []
    },
    {
      "cell_type": "markdown",
      "source": [
        "### 17번."
      ],
      "metadata": {
        "id": "Zztjqt0nwCIz"
      }
    },
    {
      "cell_type": "code",
      "source": [
        "height = 150\n",
        "\n",
        "if height >= 150: print(\"YES\")\n",
        "\n",
        "print(\"NO\") if height >= 150: print(\"YES\") #Errir\n",
        "print(\"YES\") if height >= 150 else print(\"NO\")"
      ],
      "metadata": {
        "colab": {
          "base_uri": "https://localhost:8080/"
        },
        "id": "RG7YGmhexpdf",
        "outputId": "37def8bb-8a5f-4a83-db41-0c0b85d75a83"
      },
      "execution_count": null,
      "outputs": [
        {
          "output_type": "stream",
          "name": "stdout",
          "text": [
            "YES\n"
          ]
        }
      ]
    },
    {
      "cell_type": "markdown",
      "source": [
        "### 18번."
      ],
      "metadata": {
        "id": "ZSlo0PBdwB-1"
      }
    },
    {
      "cell_type": "code",
      "source": [
        "#split -> 다적용이니까 map\n",
        "list(map(int, '20 30 40'.split(' ')))\n",
        "\n",
        "sum(map(int, '20 30 40'.split(' ')))/3"
      ],
      "metadata": {
        "colab": {
          "base_uri": "https://localhost:8080/"
        },
        "id": "-FRWH0_gzEH8",
        "outputId": "143e508d-0791-466f-cd84-a574cb2948d8"
      },
      "execution_count": null,
      "outputs": [
        {
          "output_type": "execute_result",
          "data": {
            "text/plain": [
              "30.0"
            ]
          },
          "metadata": {},
          "execution_count": 68
        }
      ]
    },
    {
      "cell_type": "markdown",
      "source": [
        "### 19, 20번.\n",
        "* 쉬워서 넘어감"
      ],
      "metadata": {
        "id": "UPE5EPVkwB12"
      }
    },
    {
      "cell_type": "markdown",
      "source": [
        "### 21번."
      ],
      "metadata": {
        "id": "MRSivXttzzAl"
      }
    },
    {
      "cell_type": "code",
      "source": [
        "# set만드는 방법 아닌거?\n",
        "# 1)  x = {1, 2, 3, 5, 6, 7}\n",
        "# 2)  x = {} # dict  <-\n",
        "# 3)  x = set('python')\n",
        "# 4)  x = set(range(5))\n",
        "# 5)  x = set()"
      ],
      "metadata": {
        "id": "iSmBpy1Uxi4p"
      },
      "execution_count": null,
      "outputs": []
    },
    {
      "cell_type": "code",
      "source": [
        "t = 1\n",
        "t = (1)\n",
        "t        #(1) 이 안나오니까 아직 튜플이 아닌거\n",
        "t = (1,) #이렇게하면 튜플\n",
        "t"
      ],
      "metadata": {
        "colab": {
          "base_uri": "https://localhost:8080/"
        },
        "id": "chx3kNMspWmK",
        "outputId": "181cd680-c75d-4d3b-dcab-7be4dffd73ed"
      },
      "execution_count": null,
      "outputs": [
        {
          "output_type": "execute_result",
          "data": {
            "text/plain": [
              "(1,)"
            ]
          },
          "metadata": {},
          "execution_count": 70
        }
      ]
    },
    {
      "cell_type": "code",
      "source": [
        "#어떤 라이브러리나 프레임워크에서 마지막 콤마가 꼭 있는 이유?\n",
        "#1. 버전관리용에서 콤마를 버전업으로 인식\n",
        "#2. 튜플에서 상수,문자가 들어갔을때 int로 변환되는 것 막기 위해\n",
        "#3. ctrl+c, v 에서 용이하니까\n",
        "\n",
        "옵션 = [\n",
        "    'a',\n",
        "    'b',\n",
        "]"
      ],
      "metadata": {
        "id": "uzhdfpKCpWez"
      },
      "execution_count": null,
      "outputs": []
    },
    {
      "cell_type": "markdown",
      "source": [
        "### 22, 23번.\n",
        "* 쉬워서 패스"
      ],
      "metadata": {
        "id": "LAFkDxnM01jV"
      }
    },
    {
      "cell_type": "markdown",
      "source": [
        "### 24번.\n",
        "* 대문자로 바꾸는 방법"
      ],
      "metadata": {
        "id": "obKAqCh60_01"
      }
    },
    {
      "cell_type": "code",
      "source": [
        "#정답 1\n",
        "'mary'.upper()"
      ],
      "metadata": {
        "colab": {
          "base_uri": "https://localhost:8080/",
          "height": 36
        },
        "id": "n5qtoxPgpWY3",
        "outputId": "b73eff32-a4f3-4c5c-dee9-ade4fb834240"
      },
      "execution_count": null,
      "outputs": [
        {
          "output_type": "execute_result",
          "data": {
            "text/plain": [
              "'MARY'"
            ],
            "application/vnd.google.colaboratory.intrinsic+json": {
              "type": "string"
            }
          },
          "metadata": {},
          "execution_count": 74
        }
      ]
    },
    {
      "cell_type": "code",
      "source": [
        "ord('A')"
      ],
      "metadata": {
        "colab": {
          "base_uri": "https://localhost:8080/"
        },
        "id": "MO3omdZH1d5g",
        "outputId": "04277a5f-1495-49b4-f8d5-c099a51525c3"
      },
      "execution_count": null,
      "outputs": [
        {
          "output_type": "execute_result",
          "data": {
            "text/plain": [
              "65"
            ]
          },
          "metadata": {},
          "execution_count": 78
        }
      ]
    },
    {
      "cell_type": "code",
      "source": [
        "ord('a')  #built-in func인것"
      ],
      "metadata": {
        "colab": {
          "base_uri": "https://localhost:8080/"
        },
        "id": "8KmkVeaJpWVU",
        "outputId": "2ec2e775-5e0b-48b8-d7b1-aca9fd4f9e37"
      },
      "execution_count": null,
      "outputs": [
        {
          "output_type": "execute_result",
          "data": {
            "text/plain": [
              "97"
            ]
          },
          "metadata": {},
          "execution_count": 75
        }
      ]
    },
    {
      "cell_type": "code",
      "source": [
        "ord('a') - ord('A')"
      ],
      "metadata": {
        "colab": {
          "base_uri": "https://localhost:8080/"
        },
        "id": "ynBUx_d_xkD0",
        "outputId": "d207add2-fadd-426d-bd99-89af0e9389f8"
      },
      "execution_count": null,
      "outputs": [
        {
          "output_type": "execute_result",
          "data": {
            "text/plain": [
              "32"
            ]
          },
          "metadata": {},
          "execution_count": 76
        }
      ]
    },
    {
      "cell_type": "code",
      "source": [
        "ord('a') - 32"
      ],
      "metadata": {
        "colab": {
          "base_uri": "https://localhost:8080/"
        },
        "id": "tiPL2HxKxj-h",
        "outputId": "3917339b-96fb-414f-f01c-07d1d05d547b"
      },
      "execution_count": null,
      "outputs": [
        {
          "output_type": "execute_result",
          "data": {
            "text/plain": [
              "65"
            ]
          },
          "metadata": {},
          "execution_count": 77
        }
      ]
    },
    {
      "cell_type": "code",
      "source": [
        "chr(ord('a') - 32)"
      ],
      "metadata": {
        "colab": {
          "base_uri": "https://localhost:8080/",
          "height": 36
        },
        "id": "mBcNKomTxj4e",
        "outputId": "a97b873f-3260-4aff-f598-4a35ed248f77"
      },
      "execution_count": null,
      "outputs": [
        {
          "output_type": "execute_result",
          "data": {
            "text/plain": [
              "'A'"
            ],
            "application/vnd.google.colaboratory.intrinsic+json": {
              "type": "string"
            }
          },
          "metadata": {},
          "execution_count": 79
        }
      ]
    },
    {
      "cell_type": "code",
      "source": [
        "for i in 'mary':\n",
        "  print(chr(ord(i) - 32), end='')   #완벽한 코드는 아니고, 범위를 설정해줘야함 (소문자 판단하는 if가 위에 있어야함)\n",
        "                                    #이런 지식은 -> 인코딩쪽에서 활용됨"
      ],
      "metadata": {
        "colab": {
          "base_uri": "https://localhost:8080/"
        },
        "id": "mEn5kWhUxjyt",
        "outputId": "092dbef0-7ff4-4a10-997f-60219a1e39bf"
      },
      "execution_count": null,
      "outputs": [
        {
          "output_type": "stream",
          "name": "stdout",
          "text": [
            "MARY"
          ]
        }
      ]
    },
    {
      "cell_type": "markdown",
      "source": [
        "### 25번.\n",
        "* 패스"
      ],
      "metadata": {
        "id": "aE5hjFWj5R7W"
      }
    },
    {
      "cell_type": "markdown",
      "source": [
        "### 26번."
      ],
      "metadata": {
        "id": "ChBuqB3S5Utq"
      }
    },
    {
      "cell_type": "code",
      "source": [
        "key = '수성, 금성, 지구, 화성, 목성, 토성, 천왕성, 해왕성'.split(', ')\n",
        "value = 'Mercury, Venus, Earth, Mars, Jupiter, Saturn, Uranus, Neptune'.split(', ')"
      ],
      "metadata": {
        "id": "LHJfxZRi5ZtV"
      },
      "execution_count": null,
      "outputs": []
    },
    {
      "cell_type": "code",
      "source": [
        "# 딕으로 바꾸는 방법?\n",
        "dict(zip(key, value))"
      ],
      "metadata": {
        "colab": {
          "base_uri": "https://localhost:8080/"
        },
        "id": "mSjLpzQg5Zj3",
        "outputId": "32428c21-4e13-4fe8-f5b8-d1459dd1eed6"
      },
      "execution_count": null,
      "outputs": [
        {
          "output_type": "execute_result",
          "data": {
            "text/plain": [
              "{'수성': 'Mercury',\n",
              " '금성': 'Venus',\n",
              " '지구': 'Earth',\n",
              " '화성': 'Mars',\n",
              " '목성': 'Jupiter',\n",
              " '토성': 'Saturn',\n",
              " '천왕성': 'Uranus',\n",
              " '해왕성': 'Neptune'}"
            ]
          },
          "metadata": {},
          "execution_count": 84
        }
      ]
    },
    {
      "cell_type": "markdown",
      "source": [
        "### 27번\n",
        "* 패스"
      ],
      "metadata": {
        "id": "XyTNX_6L5-9R"
      }
    },
    {
      "cell_type": "markdown",
      "source": [
        "### 28번 2-gramm\n",
        "* 은근히 많이 나옴\n",
        "* 좌표계 -> zip!"
      ],
      "metadata": {
        "id": "xQaZesjr6Bgo"
      }
    },
    {
      "cell_type": "code",
      "source": [
        "# 정답1\n",
        "s = 'Python'\n",
        "for i in range(len(s)-1):\n",
        "  print(s[i:i+2])"
      ],
      "metadata": {
        "colab": {
          "base_uri": "https://localhost:8080/"
        },
        "id": "ltWKwRQr5bHQ",
        "outputId": "911ce976-21db-43ba-a3be-a92d7de2d332"
      },
      "execution_count": null,
      "outputs": [
        {
          "output_type": "stream",
          "name": "stdout",
          "text": [
            "Py\n",
            "yt\n",
            "th\n",
            "ho\n",
            "on\n"
          ]
        }
      ]
    },
    {
      "cell_type": "code",
      "source": [
        "# 어디부터 어디까지 같은 좌표계 문제 -> 이렇게 품 : zip\n",
        "s = 'Python'\n",
        "list(zip(s, s[1:]))   #짝이 안맞으면 생성을 안해줌 / 대신 주의:zip은 -1고려하지 않아도됨"
      ],
      "metadata": {
        "colab": {
          "base_uri": "https://localhost:8080/"
        },
        "id": "hbd1AJWb5a7J",
        "outputId": "577e6a64-787d-458e-f94a-1fe917c2c151"
      },
      "execution_count": null,
      "outputs": [
        {
          "output_type": "execute_result",
          "data": {
            "text/plain": [
              "[('P', 'y'), ('y', 't'), ('t', 'h'), ('h', 'o'), ('o', 'n')]"
            ]
          },
          "metadata": {},
          "execution_count": 90
        }
      ]
    },
    {
      "cell_type": "code",
      "source": [
        "# 정답2\n",
        "s = 'Python'\n",
        "for i in zip(s, s[1:]):\n",
        "  print(''.join(i))"
      ],
      "metadata": {
        "colab": {
          "base_uri": "https://localhost:8080/"
        },
        "id": "j2W4LprZ5ar9",
        "outputId": "70d5e83d-2735-4471-9dc3-c08d6fa9daa3"
      },
      "execution_count": null,
      "outputs": [
        {
          "output_type": "stream",
          "name": "stdout",
          "text": [
            "Py\n",
            "yt\n",
            "th\n",
            "ho\n",
            "on\n"
          ]
        }
      ]
    },
    {
      "cell_type": "code",
      "source": [
        "# 좌표문제 예시 - 두 차가 가장 큰 쌍은?\n",
        "p = [1,3,5,7,11,14,19,21,22]\n",
        "list(zip(p, p[1:]))\n",
        "list(map(lambda x:x[1]-x[0], zip(p, p[1:])))"
      ],
      "metadata": {
        "colab": {
          "base_uri": "https://localhost:8080/"
        },
        "id": "WVLnHms25aZp",
        "outputId": "04c1c9a5-90cb-4c2c-9be0-44a5ccb27727"
      },
      "execution_count": null,
      "outputs": [
        {
          "output_type": "execute_result",
          "data": {
            "text/plain": [
              "[2, 2, 2, 4, 3, 5, 2, 1]"
            ]
          },
          "metadata": {},
          "execution_count": 93
        }
      ]
    },
    {
      "cell_type": "markdown",
      "source": [
        "### 29번\n",
        "* 문제변경 : 대문자만 지나가도록 코딩 'HellO WoRld' -> HOR"
      ],
      "metadata": {
        "id": "axym9enr76Kk"
      }
    },
    {
      "cell_type": "code",
      "source": [
        "for s in 'HellO WoRld':\n",
        "  if s != s.lower():\n",
        "    print(s)"
      ],
      "metadata": {
        "colab": {
          "base_uri": "https://localhost:8080/"
        },
        "id": "AXcwLZGk5Zc3",
        "outputId": "2d585fa2-a33d-49f0-fd0f-d3cbbc0cd070"
      },
      "execution_count": null,
      "outputs": [
        {
          "output_type": "stream",
          "name": "stdout",
          "text": [
            "H\n",
            "O\n",
            "W\n",
            "R\n"
          ]
        }
      ]
    },
    {
      "cell_type": "code",
      "source": [
        "for s in 'HellO WoRld':\n",
        "  if 'A' <= s <= 'Z':\n",
        "    print(s)"
      ],
      "metadata": {
        "id": "toZsHYdi8hl9"
      },
      "execution_count": null,
      "outputs": []
    },
    {
      "cell_type": "code",
      "source": [
        "for s in 'HellO WoRld':\n",
        "  if s.isupper():\n",
        "    print(s)\n",
        "\n",
        "#이게 가장 좋은 코드 => 왜냐면 의도가 명학 -> 코드보고 아 대문자인지를 확인하려는 거구나 하고 바로 알 수 있음"
      ],
      "metadata": {
        "colab": {
          "base_uri": "https://localhost:8080/"
        },
        "id": "O6D-iBOi5ZWx",
        "outputId": "99ef3d93-b4b5-4108-be13-24105c541d72"
      },
      "execution_count": null,
      "outputs": [
        {
          "output_type": "stream",
          "name": "stdout",
          "text": [
            "H\n",
            "O\n",
            "W\n",
            "R\n"
          ]
        }
      ]
    },
    {
      "cell_type": "markdown",
      "source": [
        "### 30번."
      ],
      "metadata": {
        "id": "ejw24Ezc80wG"
      }
    },
    {
      "cell_type": "code",
      "source": [
        "'pineapple is yummy'.find('xpple')   #없는거 찾으면 -1    => 현업에서\n",
        "#'pineapple is yummy'.index('xpple')        #              error => 에러나면 서비스가 멈춤 => 따라서 운영멈추면 안되고 주기적으로 크롤링해야하는 서비스는 이쪽"
      ],
      "metadata": {
        "colab": {
          "base_uri": "https://localhost:8080/"
        },
        "id": "vtDJTVMb5ZQZ",
        "outputId": "e5a5de3c-2dc6-4057-c2a5-82146eb507ab"
      },
      "execution_count": null,
      "outputs": [
        {
          "output_type": "execute_result",
          "data": {
            "text/plain": [
              "-1"
            ]
          },
          "metadata": {},
          "execution_count": 100
        }
      ]
    },
    {
      "cell_type": "code",
      "source": [
        "#rfind, rindex : 오른쪽부터 찾\n",
        "'pineapple is yummy apple'.rfind('apple')\n",
        "#'pineapple is yummy apple'.rindex('apple')"
      ],
      "metadata": {
        "colab": {
          "base_uri": "https://localhost:8080/"
        },
        "id": "AdTKR8td9hDc",
        "outputId": "fcdc3c1a-a0f9-4cbd-ba93-cf47b3eeb4fd"
      },
      "execution_count": null,
      "outputs": [
        {
          "output_type": "execute_result",
          "data": {
            "text/plain": [
              "19"
            ]
          },
          "metadata": {},
          "execution_count": 103
        }
      ]
    },
    {
      "cell_type": "code",
      "source": [
        "'pineapple is yummy apple'.rfind('apple', 10)   #10부터 찾\n",
        "'pineapple is yummy apple'.rindex('apple', 10)"
      ],
      "metadata": {
        "id": "fmNRNfwE5ZFy"
      },
      "execution_count": null,
      "outputs": []
    },
    {
      "cell_type": "code",
      "source": [
        "# 예외처리는 항상 에러 날 것 같은 코드에만 (try같은거) 붙여야 -> 에러 나는 코드 정확히 파악할 수 있도록"
      ],
      "metadata": {
        "id": "dBqw-gGF821K"
      },
      "execution_count": null,
      "outputs": []
    },
    {
      "cell_type": "markdown",
      "source": [
        "### 31번."
      ],
      "metadata": {
        "id": "p9hYok73-4CQ"
      }
    },
    {
      "cell_type": "code",
      "source": [
        "#cf.자료형 연산자의 시간복잡도: https://wayhome25.github.io/python/2017/06/14/time-complexity/\n",
        "\n",
        "l = [1,2,3,4,5]\n",
        "\n",
        "#l[10]    #out of range error!\n",
        "l[10:11]  #슬라이싱 이용하면 out of range여도 error안남"
      ],
      "metadata": {
        "colab": {
          "base_uri": "https://localhost:8080/"
        },
        "id": "vnH9mj9q-7CG",
        "outputId": "d8b86d1d-fdbf-4b87-eedf-53d1d00f873d"
      },
      "execution_count": null,
      "outputs": [
        {
          "output_type": "execute_result",
          "data": {
            "text/plain": [
              "[]"
            ]
          },
          "metadata": {},
          "execution_count": 108
        }
      ]
    },
    {
      "cell_type": "markdown",
      "source": [
        "### 32, 33, 34번.\n",
        "* 패스"
      ],
      "metadata": {
        "id": "VQGUhoBU_3Jz"
      }
    },
    {
      "cell_type": "markdown",
      "source": [
        "### 35번.\n",
        "* Factory 함수 이용한 클로저 문제"
      ],
      "metadata": {
        "id": "MgZrsyhg_5tU"
      }
    },
    {
      "cell_type": "code",
      "source": [
        "## 클로저 - 매우매우 중요한 내용임!!\n",
        "def one(n):\n",
        "    def two(value):\n",
        "        return value ** n\n",
        "    return two\n",
        "\n",
        "a = one(2)\n",
        "b = one(3)\n",
        "c = one(4)\n",
        "print(a(10))\n",
        "print(b(10))\n",
        "print(c(10))"
      ],
      "metadata": {
        "id": "t__t8Bmk-690"
      },
      "execution_count": null,
      "outputs": []
    },
    {
      "cell_type": "code",
      "source": [
        "#클로저 이해한다면 나머지 기초들도 이해하고 있다는 의미라 -> 면접에서 많이 물어봄\n",
        "#객체지향 프로그래밍\n",
        "class Book:\n",
        "    def __init__(self, title, content, author, pub_date):\n",
        "        self.title = title\n",
        "        self.content = content\n",
        "        self.author = author\n",
        "        self.pub_date = pub_date\n",
        "\n",
        "    def calculate_date(self):\n",
        "         self.pub_date - self.current_date"
      ],
      "metadata": {
        "id": "7eu3bVAX-65m"
      },
      "execution_count": null,
      "outputs": []
    },
    {
      "cell_type": "code",
      "source": [
        "def add(x,y):\n",
        "  return x + y\n",
        "\n",
        "x = add\n",
        "x(10, 20)"
      ],
      "metadata": {
        "colab": {
          "base_uri": "https://localhost:8080/"
        },
        "id": "pVJLo_EXysds",
        "outputId": "a0f47dec-6280-46f1-a50e-4b9dbeeefb0b"
      },
      "execution_count": null,
      "outputs": [
        {
          "output_type": "execute_result",
          "data": {
            "text/plain": [
              "30"
            ]
          },
          "metadata": {},
          "execution_count": 1
        }
      ]
    },
    {
      "cell_type": "code",
      "source": [
        "id(x), id(add)    #같은 값을 가리키고 있음"
      ],
      "metadata": {
        "colab": {
          "base_uri": "https://localhost:8080/"
        },
        "id": "g0PHxUjzyy5L",
        "outputId": "ccfa625c-f51b-480b-a8c6-7662d3ed7c48"
      },
      "execution_count": null,
      "outputs": [
        {
          "output_type": "execute_result",
          "data": {
            "text/plain": [
              "(134821871395184, 134821871395184)"
            ]
          },
          "metadata": {},
          "execution_count": 2
        }
      ]
    },
    {
      "cell_type": "code",
      "source": [
        "test = [x, add]   #변수로 할당하여 사용 ?\n",
        "test[0](10, 20)   #test[0] 가 함수가 된것\n",
        "\n",
        "# book크롤링데이터 = [인스턴스1, 인스턴스2, 인스턴스3...]\n",
        "# json으로 변환, csv로 변환한다던지.."
      ],
      "metadata": {
        "colab": {
          "base_uri": "https://localhost:8080/"
        },
        "id": "DSQ5i-XVy04Z",
        "outputId": "939ebdc2-9151-432d-9fbe-d4662fa21a10"
      },
      "execution_count": null,
      "outputs": [
        {
          "output_type": "execute_result",
          "data": {
            "text/plain": [
              "30"
            ]
          },
          "metadata": {},
          "execution_count": 3
        }
      ]
    },
    {
      "cell_type": "code",
      "source": [
        "def add():\n",
        "    return lambda x:x**2\n",
        "\n",
        "x = add()\n",
        "x(10)"
      ],
      "metadata": {
        "id": "UJ6fpR_5zGjL"
      },
      "execution_count": null,
      "outputs": []
    },
    {
      "cell_type": "code",
      "source": [
        "def add():\n",
        "    return lambda x:x**2\n",
        "\n",
        "add()(10)()()()"
      ],
      "metadata": {
        "id": "qNq_RQHQzu4V"
      },
      "execution_count": null,
      "outputs": []
    },
    {
      "cell_type": "code",
      "source": [
        "def add(x, y):        #이 x는 파라미터\n",
        "    def test(x):\n",
        "        return x * 2\n",
        "    test(x)\n",
        "    return 'hello'\n",
        "\n",
        "add(10, 20)           #여기 10은 아규먼트"
      ],
      "metadata": {
        "id": "uHLmpEgMzxuO"
      },
      "execution_count": null,
      "outputs": []
    },
    {
      "cell_type": "code",
      "source": [
        "def sub(x, y):\n",
        "  return x - y\n",
        "\n",
        "def add(x, y, f):        #함수가 변수취급  #함수에 들어가는 인자값 전달\n",
        "    def test(x):\n",
        "        return x * 2\n",
        "    test(x)\n",
        "    return 'hello'\n",
        "\n",
        "add(10, 20, sub)        #함수가 다른함수의 인자값이 되면 -> 이 sub를 '콜백함수'라고함 #파이썬에서는 많이 안씀  #나중에 불러줄거야 위함수 어딘가에서"
      ],
      "metadata": {
        "id": "rJgRe6bx0WaD"
      },
      "execution_count": null,
      "outputs": []
    },
    {
      "cell_type": "code",
      "source": [
        "# 데코레이터 - 기본문법이라 생각보다 중요한 내용임\n",
        "# 형태 1\n",
        "def simple_decorator(function):  #이 함수의 아규먼트로 아래 hello가 들어가는 것\n",
        "    def wrapper():\n",
        "        print(\"Before the function call\")\n",
        "        function()\n",
        "        print(\"After the function call\")\n",
        "    return wrapper\n",
        "\n",
        "@simple_decorator\n",
        "def hello():\n",
        "    print(\"Hello, World!\")\n",
        "\n",
        "hello() # 데코레이터가 없는 상태에서는 simple_decorator(hello)() 와 같습니다."
      ],
      "metadata": {
        "id": "EuDSlEOU1Lpd"
      },
      "execution_count": null,
      "outputs": []
    },
    {
      "cell_type": "code",
      "source": [
        "def simple_decorator(function):\n",
        "    def wrapper(l):\n",
        "        print(\"Before the function call\")\n",
        "        print(function(map(int, l)))\n",
        "        print(\"After the function call\")\n",
        "    return wrapper\n",
        "\n",
        "@simple_decorator\n",
        "def 합(l):\n",
        "    return sum(l)\n",
        "\n",
        "합([1, 2, 3, '4'])"
      ],
      "metadata": {
        "id": "goph55G22KDg"
      },
      "execution_count": null,
      "outputs": []
    },
    {
      "cell_type": "code",
      "source": [
        "# 데코레이터 안 함수안에 인자값이 들어가있을때 ??\n",
        "# 형태 2\n",
        "def debug(function):\n",
        "    def new_function(value):  #여기에 들어간것   #*args:아규먼츠   #**kargs:키워드 아규먼츠\n",
        "        print(f'{function.__name__} 함수 시작')\n",
        "        print(value)\n",
        "        result = function(value)\n",
        "        print(f'{function.__name__} 함수 끝')\n",
        "        # return result # return 값이 있는 데코레이터는 바로 뒤에서 진행합니다.\n",
        "\n",
        "    return new_function\n",
        "\n",
        "\n",
        "@debug\n",
        "def sum_1_to_n(n):\n",
        "    return n * (n + 1) / 2\n",
        "\n",
        "\n",
        "result = sum_1_to_n(30)     #이 인자값이\n",
        "\n",
        "print(result)"
      ],
      "metadata": {
        "id": "Z5ufAgxq2QMM"
      },
      "execution_count": null,
      "outputs": []
    },
    {
      "cell_type": "code",
      "source": [
        "# 형태 3 - 볼일 거의 없을것, 서비스개발에서 많이쓰게됨\n",
        "#중첩 데코레이터 : 데코레이터의 인자값에 뭐가 들어가느냐!\n",
        "\n",
        "def decorator1(function):\n",
        "    def new_function(*args, **kwargs):\n",
        "        print('첫번째 데코레이터 시작')\n",
        "        result = function(*args, **kwargs)\n",
        "        print('첫번째 데코레이터 끝')\n",
        "        return result\n",
        "\n",
        "    return new_function\n",
        "\n",
        "\n",
        "def decorator2(function):\n",
        "    def new_function(*args, **kwargs):\n",
        "        print('두번째 데코레이터 시작')\n",
        "        result = function(*args, **kwargs)\n",
        "        print('두번째 데코레이터 끝')\n",
        "        return result\n",
        "\n",
        "    return new_function\n",
        "\n",
        "\n",
        "def decorator3(function):\n",
        "    def new_function(*args, **kwargs):\n",
        "        print('세번째 데코레이터 시작')\n",
        "        result = function(*args, **kwargs)\n",
        "        print('세번째 데코레이터 끝')\n",
        "        return result\n",
        "\n",
        "    return new_function\n",
        "\n",
        "@decorator1\n",
        "@decorator2                   #여기 들어가는 것\n",
        "@decorator3                   #이게 가장 먼저 시작됨 return 된 new_function이 decorator 1,2겪어서\n",
        "def sum_1_to_n(n):\n",
        "    return n * (n + 1) / 2\n",
        "\n",
        "result = sum_1_to_n(30)\n",
        "\n",
        "print(f'result: {result}')"
      ],
      "metadata": {
        "id": "MgTH5YUh2rKR"
      },
      "execution_count": null,
      "outputs": []
    },
    {
      "cell_type": "markdown",
      "source": [
        "### 36번.\n",
        "* 패스"
      ],
      "metadata": {
        "id": "DtRLQ7F5BI-0"
      }
    },
    {
      "cell_type": "markdown",
      "source": [
        "### 37번.\n",
        "* 구글입사문제로 문제변경"
      ],
      "metadata": {
        "id": "-HRadPsNBIfY"
      }
    },
    {
      "cell_type": "code",
      "source": [
        "#1부터 10000까지 8이라는 숫자를 count하라.\n",
        "#count할 수 있는 자료형으로 만드는것이 핵심! / 순회 돌면서 count는 아님(대안임)\n",
        "\n",
        "\n",
        "str(list(range(10000))).count('8')"
      ],
      "metadata": {
        "colab": {
          "base_uri": "https://localhost:8080/"
        },
        "id": "sHiAv_D15Ywd",
        "outputId": "e9ad8d9d-ea9d-4d28-aa4e-c51923dd7318"
      },
      "execution_count": null,
      "outputs": [
        {
          "output_type": "execute_result",
          "data": {
            "text/plain": [
              "4000"
            ]
          },
          "metadata": {},
          "execution_count": 4
        }
      ]
    },
    {
      "cell_type": "markdown",
      "source": [
        "### 38번.\n",
        "* 좀만 더 꼬면 1번 문제로는 출제할수있을듯\n",
        "```\n",
        "점수입력 : 97 86 75 66 55 97 85 97 97 95\n",
        "출력 : 6\n",
        "```\n",
        "\n",
        "*링크 : https://pythonworkbook.notion.site/38-f4c9b88902c744ebafd2a6c12af4814b?pvs=4"
      ],
      "metadata": {
        "id": "eBTSL1UEBIIY"
      }
    },
    {
      "cell_type": "code",
      "source": [
        "map(int, '97 86 75 66 55 97 85 97 97 95'.split(' '))"
      ],
      "metadata": {
        "colab": {
          "base_uri": "https://localhost:8080/"
        },
        "id": "aB-s8533-60t",
        "outputId": "bc7bc20b-4195-4b9d-e025-97b8d1083a10"
      },
      "execution_count": null,
      "outputs": [
        {
          "output_type": "execute_result",
          "data": {
            "text/plain": [
              "<map at 0x7a9e941aa6b0>"
            ]
          },
          "metadata": {},
          "execution_count": 10
        }
      ]
    },
    {
      "cell_type": "code",
      "source": [
        "sorted('97 86 75 66 55 97 85 97 97 95'.split(' '), reverse=True)[0:3]"
      ],
      "metadata": {
        "colab": {
          "base_uri": "https://localhost:8080/"
        },
        "id": "9fNcnV2l6nOh",
        "outputId": "1307381e-8429-4008-cf18-d36fbb70327a"
      },
      "execution_count": null,
      "outputs": [
        {
          "output_type": "execute_result",
          "data": {
            "text/plain": [
              "['97', '97', '97']"
            ]
          },
          "metadata": {},
          "execution_count": 16
        }
      ]
    },
    {
      "cell_type": "code",
      "source": [
        "#정답 - 동점자가 있으므로 중복제거해야\n",
        "list(reversed(sorted(set(map(int, '97 86 75 66 55 97 85 97 97 95'.split(' '))))))[:3]"
      ],
      "metadata": {
        "colab": {
          "base_uri": "https://localhost:8080/"
        },
        "id": "dg__x57Y-s0G",
        "outputId": "65e5db57-f10d-4314-a689-91fc6927e7ae"
      },
      "execution_count": null,
      "outputs": [
        {
          "output_type": "execute_result",
          "data": {
            "text/plain": [
              "[97, 95, 86]"
            ]
          },
          "metadata": {},
          "execution_count": 17
        }
      ]
    },
    {
      "cell_type": "code",
      "source": [
        "#한자리 점수가 등수에 들어갔을때는 오류가 나는 답\n",
        "def solution(s):\n",
        "    answer = 0\n",
        "    splitdata = map(int, s.split(' '))\n",
        "    for i in list(reversed(sorted(set(splitdata))))[:3]:\n",
        "        answer += s.count(str(i))\n",
        "    return answer\n",
        "\n",
        "solution('97 86 75 66 55 97 85 97 97 95')"
      ],
      "metadata": {
        "colab": {
          "base_uri": "https://localhost:8080/"
        },
        "id": "FJ3rJqCW_Ofj",
        "outputId": "eea589aa-8409-4b45-fdc6-c2f82398eb26"
      },
      "execution_count": null,
      "outputs": [
        {
          "output_type": "execute_result",
          "data": {
            "text/plain": [
              "6"
            ]
          },
          "metadata": {},
          "execution_count": 19
        }
      ]
    },
    {
      "cell_type": "code",
      "source": [
        "# 이때도 오류안나는 답\n",
        "def solution(s):\n",
        "    answer = 0\n",
        "    splitdata = list(map(int, s.split(' ')))\n",
        "    for i in list(reversed(sorted(set(splitdata))))[:3]:\n",
        "        for j in list(splitdata):\n",
        "            if i == j:\n",
        "                answer += 1\n",
        "    return answer\n",
        "\n",
        "solution('97 86 75 66 55 97 85 97 97 95')\n",
        "\n",
        "# map으로 된 데이터가 왜 한 번만 순회가 되었는지\n",
        "# https://www.notion.so/paullabworkspace/python-zip-b7a1992be7884891a5f1d0a5c0c2df9c?pvs=4"
      ],
      "metadata": {
        "id": "y8A9Qq15A3RZ"
      },
      "execution_count": null,
      "outputs": []
    },
    {
      "cell_type": "code",
      "source": [
        "# collection으로 써서 풀면\n",
        "import collections\n",
        "\n",
        "collections.Counter('97 86 75 66 55 97 85 97 97 95'.split(' '))  #이거 정렬해서 앞에 3개 뽑으면됨"
      ],
      "metadata": {
        "id": "MTYdR5voDURD"
      },
      "execution_count": null,
      "outputs": []
    },
    {
      "cell_type": "markdown",
      "source": [
        "### 39번."
      ],
      "metadata": {
        "id": "SPQ8FHUs52Ra"
      }
    },
    {
      "cell_type": "code",
      "source": [
        "# q를 e로, b를 n\n",
        "\n",
        "# 입력 : querty\n",
        "# 출력 : euerty\n",
        "\n",
        "# 입력 : hqllo my bamq is hyqwob\n",
        "# 출력 : hello my bame is hyewob\n",
        "\n",
        "'querty'.replace('q', 'e').replace('b', 'n')"
      ],
      "metadata": {
        "colab": {
          "base_uri": "https://localhost:8080/",
          "height": 36
        },
        "id": "SyPT4r33DD8M",
        "outputId": "4bef6d78-180f-4c91-bf9b-10674bfd6150"
      },
      "execution_count": null,
      "outputs": [
        {
          "output_type": "execute_result",
          "data": {
            "text/plain": [
              "'euerty'"
            ],
            "application/vnd.google.colaboratory.intrinsic+json": {
              "type": "string"
            }
          },
          "metadata": {},
          "execution_count": 20
        }
      ]
    },
    {
      "cell_type": "code",
      "source": [
        "# replace와 대응되는 정규표현식 어떤거??? - sub\n",
        "#관련 링크 : https://github.com/paullabkorea/Algorithm-walk-with-wenivs/blob/main/3.%20pyalgo%20%ED%92%80%EC%9D%B4/%EC%A0%95%EA%B7%9C%ED%91%9C%ED%98%84%EC%8B%9D.ipynb\n",
        "\n"
      ],
      "metadata": {
        "id": "bVH4pibZD_UI"
      },
      "execution_count": null,
      "outputs": []
    },
    {
      "cell_type": "code",
      "source": [
        "import re\n",
        "\n",
        "#re.sub(pattern, replace, string, count=0, flag=0)\n",
        "s = re.sub(r'q', 'e', 'querty')\n",
        "re.sub(r'b', 'n', s)"
      ],
      "metadata": {
        "colab": {
          "base_uri": "https://localhost:8080/",
          "height": 36
        },
        "id": "TmJbt1zrEFxq",
        "outputId": "b70ef4c8-3ac3-43b8-dd07-36deb601e27e"
      },
      "execution_count": null,
      "outputs": [
        {
          "output_type": "execute_result",
          "data": {
            "text/plain": [
              "'euerty'"
            ],
            "application/vnd.google.colaboratory.intrinsic+json": {
              "type": "string"
            }
          },
          "metadata": {},
          "execution_count": 24
        }
      ]
    },
    {
      "cell_type": "markdown",
      "source": [
        "### 40, 41번.\n",
        "* 41번 소수판별 - 이제 안나오는 문제"
      ],
      "metadata": {
        "id": "APicmbyk53z3"
      }
    },
    {
      "cell_type": "markdown",
      "source": [
        "### 42번."
      ],
      "metadata": {
        "id": "J_VXFtfV56gR"
      }
    },
    {
      "cell_type": "code",
      "source": [
        "import datetime\n",
        "datetime.datetime.today().weekday()   #0: 월요일"
      ],
      "metadata": {
        "colab": {
          "base_uri": "https://localhost:8080/"
        },
        "id": "8_mpuWJQGvAb",
        "outputId": "f4fbea39-2525-43a1-9ad4-be49f51aa001"
      },
      "execution_count": null,
      "outputs": [
        {
          "output_type": "execute_result",
          "data": {
            "text/plain": [
              "3"
            ]
          },
          "metadata": {},
          "execution_count": 26
        }
      ]
    },
    {
      "cell_type": "markdown",
      "source": [
        "### 43번."
      ],
      "metadata": {
        "id": "MZibI-yrGmdD"
      }
    },
    {
      "cell_type": "code",
      "source": [
        "# bin으로 풀어보면\n",
        "bin(11)[2:]\n",
        "\n",
        "#이 11 -> 이진수로 하는방법?\n"
      ],
      "metadata": {
        "colab": {
          "base_uri": "https://localhost:8080/",
          "height": 36
        },
        "id": "tZQUYpH7NrtF",
        "outputId": "54075609-e87e-4eda-e577-af2c88474b24"
      },
      "execution_count": null,
      "outputs": [
        {
          "output_type": "execute_result",
          "data": {
            "text/plain": [
              "'1011'"
            ],
            "application/vnd.google.colaboratory.intrinsic+json": {
              "type": "string"
            }
          },
          "metadata": {},
          "execution_count": 28
        }
      ]
    },
    {
      "cell_type": "code",
      "source": [
        "# 음수 변환까지 하려면 좀 더 고려를 해야 합니다.\n",
        "x = 11\n",
        "s = ''\n",
        "while x:\n",
        "    print(x)\n",
        "    s += str(x % 2)\n",
        "    x //= 2\n",
        "s[::-1]\n",
        "\n",
        "#   2   | 11 ... 1\n",
        "#        ---\n",
        "#   2   |  5 ... 1\n",
        "#        ---\n",
        "#   2   |  2 ... 0\n",
        "#        ---"
      ],
      "metadata": {
        "id": "f8FXfmGCP4Ti"
      },
      "execution_count": null,
      "outputs": []
    },
    {
      "cell_type": "markdown",
      "source": [
        "### 44번."
      ],
      "metadata": {
        "id": "RdpY_sUZGn0m"
      }
    },
    {
      "cell_type": "code",
      "source": [
        "#정답1\n",
        "n = 1234\n",
        "answer = 0\n",
        "for i in str(n):\n",
        "    answer += int(i)"
      ],
      "metadata": {
        "id": "D_X_fuKcP0t1"
      },
      "execution_count": null,
      "outputs": []
    },
    {
      "cell_type": "code",
      "source": [
        "#정답2\n",
        "n = 1234\n",
        "sum(map(int, list(str(n))))"
      ],
      "metadata": {
        "colab": {
          "base_uri": "https://localhost:8080/"
        },
        "id": "-gQgar8eP5tc",
        "outputId": "62dd0e7d-9a1a-4174-d0a1-5c847ac7708b"
      },
      "execution_count": null,
      "outputs": [
        {
          "output_type": "execute_result",
          "data": {
            "text/plain": [
              "10"
            ]
          },
          "metadata": {},
          "execution_count": 33
        }
      ]
    },
    {
      "cell_type": "markdown",
      "source": [
        "### 45, 46번.\n",
        "* 패스"
      ],
      "metadata": {
        "id": "34wXFfLXGo50"
      }
    },
    {
      "cell_type": "markdown",
      "source": [
        "### 47번."
      ],
      "metadata": {
        "id": "JVdKXB2uGrhX"
      }
    },
    {
      "cell_type": "code",
      "source": [
        "# 고유 전화번호 아니라면 -> 이름과 번호를 합쳐야"
      ],
      "metadata": {
        "id": "zrXsaV9f-6vv"
      },
      "execution_count": null,
      "outputs": []
    },
    {
      "cell_type": "markdown",
      "source": [
        "### 48번.\n",
        "* 대소문자 바꿔서 출력"
      ],
      "metadata": {
        "id": "99glBDyBQ3TS"
      }
    },
    {
      "cell_type": "code",
      "source": [
        "answer = ''\n",
        "for i in 'AAABBBcccddd':\n",
        "  if i.islower():\n",
        "    answer += i.upper()\n",
        "  else:\n",
        "    answer += i.lower()\n",
        "\n",
        "answer"
      ],
      "metadata": {
        "colab": {
          "base_uri": "https://localhost:8080/",
          "height": 36
        },
        "id": "CjtSQ9mR84DP",
        "outputId": "0b5eb25d-2228-40bf-c965-dcd7fe0e14f6"
      },
      "execution_count": null,
      "outputs": [
        {
          "output_type": "execute_result",
          "data": {
            "text/plain": [
              "'aaabbbCCCDDD'"
            ],
            "application/vnd.google.colaboratory.intrinsic+json": {
              "type": "string"
            }
          },
          "metadata": {},
          "execution_count": 37
        }
      ]
    },
    {
      "cell_type": "markdown",
      "source": [
        "### 49, 50, 51, 52번.\n",
        "* 패스"
      ],
      "metadata": {
        "id": "do5vLOyZRX7q"
      }
    },
    {
      "cell_type": "markdown",
      "source": [
        "### 53번. - 여기부터 코테문제처럼 나옴\n",
        "* 20년에 카카오 '올바른 괄호' 문제나옴"
      ],
      "metadata": {
        "id": "HSu8X-eKRyRO"
      }
    },
    {
      "cell_type": "code",
      "source": [
        "# 이문제 -> stack으로 풀어야함\n",
        "\n",
        "s = '()())'\n",
        "brackets = []\n",
        "\n",
        "if s.count('(') == s.count(')'):\n",
        "  print(False)\n",
        "else:\n",
        "  #같다면 그때부터 순회 돌아야\n",
        "  for i in s:\n",
        "    if i == ')' or i == '(':\n",
        "      brackets.append(i)\n",
        "    elif i == ')':   #이제 하나씩 꺼낼것\n",
        "      if len(brackets) == 0:\n",
        "        print(False)\n",
        "      brackets.pop()\n",
        "  print(True)\n",
        "\n",
        "  print(brackets)\n",
        "\n",
        "  # 닫기 나왔을때 pop사례 생각해보면\n"
      ],
      "metadata": {
        "colab": {
          "base_uri": "https://localhost:8080/"
        },
        "id": "LFjNilSxRRgO",
        "outputId": "1be6237e-fc12-4d12-bf8a-1ef96f95726b"
      },
      "execution_count": null,
      "outputs": [
        {
          "output_type": "stream",
          "name": "stdout",
          "text": [
            "True\n",
            "['(', ')', '(', ')', ')']\n"
          ]
        }
      ]
    },
    {
      "cell_type": "code",
      "source": [
        "#재호님 코드\n",
        "def solution(x):\n",
        "  result = 0\n",
        "\n",
        "  for i in x:\n",
        "    if i == '(':\n",
        "      result += 1\n",
        "    else:\n",
        "      result -= 1\n",
        "      if result < 0:\n",
        "        return 'NO'\n",
        "\n",
        "    if result == 0:\n",
        "      return 'YES'\n",
        "    else:\n",
        "      return 'NO'"
      ],
      "metadata": {
        "id": "-mCVAm5iWFa4"
      },
      "execution_count": null,
      "outputs": []
    },
    {
      "cell_type": "code",
      "source": [
        "#함승주님 코드\n",
        "def char(s):\n",
        "    stack = []\n",
        "    mapping = {')': '(', '}': '{', ']': '['}\n",
        "\n",
        "    for i in s:\n",
        "        if i in mapping.values():\n",
        "            stack.append(i)\n",
        "        elif i in mapping.keys():\n",
        "            if not stack or mapping[i] != stack.pop():\n",
        "                return False\n",
        "        else:\n",
        "            return False\n",
        "\n",
        "    return not stack\n",
        "\n",
        "n = input()\n",
        "if char(n) == True:\n",
        "    print(\"YES\")\n",
        "else:\n",
        "    print(\"NO\")"
      ],
      "metadata": {
        "id": "bkZTw897Tsqs"
      },
      "execution_count": null,
      "outputs": []
    },
    {
      "cell_type": "markdown",
      "source": [
        "### 54번."
      ],
      "metadata": {
        "id": "fWHEYadJR9ND"
      }
    },
    {
      "cell_type": "code",
      "source": [
        "str = '1 2 3 4 5'\n",
        "l = str.split(' ')\n",
        "for i in range(len(l)-1):\n",
        "  #print(l[i])\n",
        "  if l[i]+1 != l[i+1]:\n",
        "    print('NO')\n",
        "  else:\n",
        "    print(\"YES\")"
      ],
      "metadata": {
        "colab": {
          "base_uri": "https://localhost:8080/",
          "height": 248
        },
        "id": "ErOrejmA83FF",
        "outputId": "e54c2d68-5998-43b5-a5f5-675b6e1c0bea"
      },
      "execution_count": null,
      "outputs": [
        {
          "output_type": "error",
          "ename": "TypeError",
          "evalue": "ignored",
          "traceback": [
            "\u001b[0;31m---------------------------------------------------------------------------\u001b[0m",
            "\u001b[0;31mTypeError\u001b[0m                                 Traceback (most recent call last)",
            "\u001b[0;32m<ipython-input-81-182c5bb37aed>\u001b[0m in \u001b[0;36m<cell line: 3>\u001b[0;34m()\u001b[0m\n\u001b[1;32m      3\u001b[0m \u001b[0;32mfor\u001b[0m \u001b[0mi\u001b[0m \u001b[0;32min\u001b[0m \u001b[0mrange\u001b[0m\u001b[0;34m(\u001b[0m\u001b[0mlen\u001b[0m\u001b[0;34m(\u001b[0m\u001b[0ml\u001b[0m\u001b[0;34m)\u001b[0m\u001b[0;34m-\u001b[0m\u001b[0;36m1\u001b[0m\u001b[0;34m)\u001b[0m\u001b[0;34m:\u001b[0m\u001b[0;34m\u001b[0m\u001b[0;34m\u001b[0m\u001b[0m\n\u001b[1;32m      4\u001b[0m   \u001b[0;31m#print(l[i])\u001b[0m\u001b[0;34m\u001b[0m\u001b[0;34m\u001b[0m\u001b[0m\n\u001b[0;32m----> 5\u001b[0;31m   \u001b[0;32mif\u001b[0m \u001b[0ml\u001b[0m\u001b[0;34m[\u001b[0m\u001b[0mi\u001b[0m\u001b[0;34m]\u001b[0m\u001b[0;34m+\u001b[0m\u001b[0;36m1\u001b[0m \u001b[0;34m!=\u001b[0m \u001b[0ml\u001b[0m\u001b[0;34m[\u001b[0m\u001b[0mi\u001b[0m\u001b[0;34m+\u001b[0m\u001b[0;36m1\u001b[0m\u001b[0;34m]\u001b[0m\u001b[0;34m:\u001b[0m\u001b[0;34m\u001b[0m\u001b[0;34m\u001b[0m\u001b[0m\n\u001b[0m\u001b[1;32m      6\u001b[0m     \u001b[0mprint\u001b[0m\u001b[0;34m(\u001b[0m\u001b[0;34m'NO'\u001b[0m\u001b[0;34m)\u001b[0m\u001b[0;34m\u001b[0m\u001b[0;34m\u001b[0m\u001b[0m\n\u001b[1;32m      7\u001b[0m   \u001b[0;32melse\u001b[0m\u001b[0;34m:\u001b[0m\u001b[0;34m\u001b[0m\u001b[0;34m\u001b[0m\u001b[0m\n",
            "\u001b[0;31mTypeError\u001b[0m: can only concatenate str (not \"int\") to str"
          ]
        }
      ]
    },
    {
      "cell_type": "code",
      "source": [
        "# 정답\n",
        "list(range(min(value), min(value) + len(value))) == sorted(value)"
      ],
      "metadata": {
        "colab": {
          "base_uri": "https://localhost:8080/"
        },
        "id": "XrS1qfIs82-s",
        "outputId": "73d4f7e3-d6f6-4e4c-a59a-5aa66358f5ce"
      },
      "execution_count": null,
      "outputs": [
        {
          "output_type": "execute_result",
          "data": {
            "text/plain": [
              "5"
            ]
          },
          "metadata": {},
          "execution_count": 77
        }
      ]
    },
    {
      "cell_type": "code",
      "source": [
        "# 일반적인 답\n",
        "user_input = input().split(' ')\n",
        "user_input = [int(i) for i in user_input]\n",
        "\n",
        "def sol(l):\n",
        "    l = sorted(l)\n",
        "    for i in range(len(l) - 1):\n",
        "        if l[i]+1 != l[i+1]:\n",
        "            return 'NO'\n",
        "    return 'YES'\n",
        "\n",
        "print(sol(user_input))"
      ],
      "metadata": {
        "id": "Padatb60rNxm"
      },
      "execution_count": null,
      "outputs": []
    },
    {
      "cell_type": "code",
      "source": [
        "# 재혁님 코드\n",
        "s1 = '1 2 3 4 5'\n",
        "s2 = '1 4 2 6 3'\n",
        "def solution(s):\n",
        "    a = sorted(list(map(int, s.split(' '))))\n",
        "    if a == list(range(min(a), max(a)+1)):\n",
        "        return 'YES'\n",
        "    else:\n",
        "        return 'NO'\n",
        "\n",
        "solution(s2)"
      ],
      "metadata": {
        "id": "EUsmP2L_R7Jn"
      },
      "execution_count": null,
      "outputs": []
    },
    {
      "cell_type": "code",
      "source": [
        "# 재호님 코드\n",
        "def solution(num):\n",
        "    num = num.split(' ')\n",
        "    num = list(map(int, sorted(num)))\n",
        "    for i in list(zip(num, num[1:])):\n",
        "        if i[1] - i[0] != 1:\n",
        "            return 'NO'\n",
        "    return 'YES'\n",
        "\n",
        "solution('1 4 2 6 3')"
      ],
      "metadata": {
        "id": "DrdsMuhpR7Ey"
      },
      "execution_count": null,
      "outputs": []
    },
    {
      "cell_type": "markdown",
      "source": [
        "### 55번. 하노이탑\n",
        "* 재귀답안으로 그냥 외워주세요!\n",
        "* for문으로 풀기엔 너무 난잡"
      ],
      "metadata": {
        "id": "SnUqMdrHrQTW"
      }
    },
    {
      "cell_type": "code",
      "source": [
        "# 이 기본코드에서 완성하라\n",
        "원판의이동경로 = []\n",
        "\n",
        "def 하노이(원반의수, 시작기둥, 목표기둥, 보조기둥):\n",
        "    #원판이 한개일 때에는 옮기면 됩니다.\n",
        "    if 원반의수 == 1:\n",
        "        원판의이동경로.append([시작기둥, 목표기둥])\n",
        "        return None\n",
        "    #원반의 n-1개를 경유기둥으로 옮기고(목표기둥과 보조기둥 교체)\n",
        "    하노이(#내용을 채워주세요.)\n",
        "    #가장 큰 원반은 목표기둥으로\n",
        "    원판의이동경로.append(#내용을 채워주세요.)\n",
        "    #경유기둥과 시작기둥을 바꿉니다!\n",
        "    하노이(#내용을 채워주세요.)\n",
        "\n",
        "user_input = int(input())\n",
        "하노이(user_input,'A','C','B')\n",
        "\n",
        "print(len(원판의이동경로))"
      ],
      "metadata": {
        "id": "3MpA7M_iR6-e"
      },
      "execution_count": null,
      "outputs": []
    },
    {
      "cell_type": "code",
      "source": [
        "#정답\n",
        "원판의이동경로 = []\n",
        "def 하노이(원반의수, 시작기둥, 목표기둥, 보조기둥):\n",
        "    #원판이 한개일 때에는 옮기면 됩니다.\n",
        "    if 원반의수 == 1:\n",
        "        원판의이동경로.append([시작기둥, 목표기둥])\n",
        "        return None\n",
        "\n",
        "    #원반의 n-1개를 경유기둥으로 옮기고(목표기둥과 보조기둥 교체)\n",
        "    하노이(원반의수-1, 시작기둥, 보조기둥, 목표기둥)   #보조 <-> 목표 바꿈\n",
        "    #가장 큰 원반은 목표기둥으로\n",
        "    원판의이동경로.append([시작기둥, 목표기둥])\n",
        "    #경유기둥과 시작기둥을 바꿉니다!\n",
        "    하노이(원반의수-1, 보조기둥, 목표기둥, 시작기둥)\n",
        "\n",
        "하노이(3,'A','C','B')\n",
        "print(원판의이동경로)\n",
        "print(len(원판의이동경로))"
      ],
      "metadata": {
        "colab": {
          "base_uri": "https://localhost:8080/"
        },
        "id": "Ca0qzcCvt0KB",
        "outputId": "d3b7ac49-7329-47a0-cb06-ddb601482324"
      },
      "execution_count": null,
      "outputs": [
        {
          "output_type": "stream",
          "name": "stdout",
          "text": [
            "[['A', 'C'], ['A', 'B'], ['C', 'B'], ['A', 'C'], ['B', 'A'], ['B', 'C'], ['A', 'C']]\n",
            "7\n"
          ]
        }
      ]
    },
    {
      "cell_type": "markdown",
      "source": [
        "### 56번."
      ],
      "metadata": {
        "id": "UvV1PPs0rRtC"
      }
    },
    {
      "cell_type": "code",
      "source": [
        "#데이터\n",
        "nationWidth = {\n",
        "    'korea': 220877,\n",
        "    'Rusia': 17098242,\n",
        "    'China': 9596961,\n",
        "    'France': 543965,\n",
        "    'Japan': 377915,\n",
        "    'England': 242900 }\n",
        "\n",
        "#출력\n",
        "#England 22023"
      ],
      "metadata": {
        "id": "GKbfo7oIxIvJ"
      },
      "execution_count": null,
      "outputs": []
    },
    {
      "cell_type": "code",
      "source": [
        "# nationWidth['korea']\n",
        "korea = nationWidth.pop('korea')\n",
        "mini = float('inf')\n",
        "result_key = ''\n",
        "for key in nationWidth:\n",
        "    value = nationWidth[key] - korea\n",
        "    if value < mini:\n",
        "        mini = value\n",
        "        result_key = key\n",
        "\n",
        "result_key"
      ],
      "metadata": {
        "colab": {
          "base_uri": "https://localhost:8080/"
        },
        "id": "I89q8vinx71V",
        "outputId": "b5a2f69b-ce25-4074-bcc0-4ff565285273"
      },
      "execution_count": null,
      "outputs": [
        {
          "output_type": "execute_result",
          "data": {
            "text/plain": [
              "220877"
            ]
          },
          "metadata": {},
          "execution_count": 86
        }
      ]
    },
    {
      "cell_type": "code",
      "source": [
        "nationWidth = {\n",
        "    'korea': 220877,\n",
        "    'Rusia': 17098242,\n",
        "    'China': 9596961,\n",
        "    'France': 543965,\n",
        "    'Japan': 377915,\n",
        "    'England': 242900\n",
        "}\n",
        "\n",
        "def f(key):\n",
        "    return nationWidth[key]\n",
        "\n",
        "list(map(f, nationWidth))\n",
        "max(map(f, nationWidth)) # values에 max를 해도 되는데?"
      ],
      "metadata": {
        "id": "7_jIC5VM8rPE"
      },
      "execution_count": null,
      "outputs": []
    },
    {
      "cell_type": "code",
      "source": [
        "nationWidth = {\n",
        "    'Rusia': 17098242,\n",
        "    'China': 9596961,\n",
        "    'France': 543965,\n",
        "    'Japan': 377915,\n",
        "    'England': 242900\n",
        "}\n",
        "min(map(lambda key: [nationWidth[key] - 220877, key], nationWidth))"
      ],
      "metadata": {
        "id": "n9QpORc28rCx"
      },
      "execution_count": null,
      "outputs": []
    },
    {
      "cell_type": "markdown",
      "source": [
        "### 57, 58번.\n",
        "* 패스"
      ],
      "metadata": {
        "id": "Jdy4zWfrrUWK"
      }
    },
    {
      "cell_type": "markdown",
      "source": [
        "### 59번."
      ],
      "metadata": {
        "id": "NXQR4gL_rVkI"
      }
    },
    {
      "cell_type": "code",
      "source": [
        "# 입력\n",
        "# hi\n",
        "\n",
        "# 출력\n",
        "# ========================hi========================"
      ],
      "metadata": {
        "id": "0W7X-Me59vA_"
      },
      "execution_count": null,
      "outputs": []
    },
    {
      "cell_type": "code",
      "source": [
        "userInput = 'hi'\n",
        "print('{0:=^50}'.format(userInput))\n",
        "print(f'{userInput:=^50}')"
      ],
      "metadata": {
        "id": "mTbGdLxJ-W4d"
      },
      "execution_count": null,
      "outputs": []
    },
    {
      "cell_type": "code",
      "source": [
        "userInput = 'hi'\n",
        "print(f'{userInput:!^50}')"
      ],
      "metadata": {
        "id": "5PifXSyc-uRp"
      },
      "execution_count": null,
      "outputs": []
    },
    {
      "cell_type": "code",
      "source": [
        "print(f'{userInput:!<50}')\n",
        "print(f'{userInput:!>50}')"
      ],
      "metadata": {
        "id": "Awv432oX-t7_"
      },
      "execution_count": null,
      "outputs": []
    },
    {
      "cell_type": "markdown",
      "source": [
        "### 60번."
      ],
      "metadata": {
        "id": "frBxFpnwrW3G"
      }
    },
    {
      "cell_type": "code",
      "source": [
        "student = ['강은지','김유정','박현서','최성훈','홍유진','박지호','권윤일','김채리','한지호','김진이','김민호','강채연']\n",
        "for num, name in enumerate(student, 1):\n",
        "    print(num, name)"
      ],
      "metadata": {
        "id": "a0tDyvxG-xSQ"
      },
      "execution_count": null,
      "outputs": []
    },
    {
      "cell_type": "code",
      "source": [
        "#enumerate : 순위같은거 출력할때 좋음\n",
        "#필수로 알고있어야하는 func!"
      ],
      "metadata": {
        "id": "lpJspeKe_moj"
      },
      "execution_count": null,
      "outputs": []
    },
    {
      "cell_type": "markdown",
      "source": [
        "### 61번. 압축코드\n",
        "* 코테에서 응용해서도 많이 나옴!"
      ],
      "metadata": {
        "id": "YbwGHhKRxpGW"
      }
    },
    {
      "cell_type": "code",
      "source": [
        "# 입력\n",
        "# aaabbbbcdddd\n",
        "\n",
        "# 출력\n",
        "# a3b4c1d4"
      ],
      "metadata": {
        "id": "7lN4eKB7raMu"
      },
      "execution_count": null,
      "outputs": []
    },
    {
      "cell_type": "code",
      "source": [
        "import pandas as pd\n",
        "\n",
        "s = 'aaabbbbcdddd'\n",
        "count = 1\n",
        "for i in range(len(s)-1):\n",
        "  if s[i] == s[i+1]:\n",
        "    print(s[i].join(s.count('s[i]')))"
      ],
      "metadata": {
        "colab": {
          "base_uri": "https://localhost:8080/",
          "height": 213
        },
        "id": "WCy_rFXYrZ5K",
        "outputId": "b1e44c32-2d7b-4dce-d0f4-271e2520eb5b"
      },
      "execution_count": null,
      "outputs": [
        {
          "output_type": "error",
          "ename": "TypeError",
          "evalue": "ignored",
          "traceback": [
            "\u001b[0;31m---------------------------------------------------------------------------\u001b[0m",
            "\u001b[0;31mTypeError\u001b[0m                                 Traceback (most recent call last)",
            "\u001b[0;32m<ipython-input-108-fa31af0e2ce6>\u001b[0m in \u001b[0;36m<cell line: 5>\u001b[0;34m()\u001b[0m\n\u001b[1;32m      5\u001b[0m \u001b[0;32mfor\u001b[0m \u001b[0mi\u001b[0m \u001b[0;32min\u001b[0m \u001b[0mrange\u001b[0m\u001b[0;34m(\u001b[0m\u001b[0mlen\u001b[0m\u001b[0;34m(\u001b[0m\u001b[0ms\u001b[0m\u001b[0;34m)\u001b[0m\u001b[0;34m-\u001b[0m\u001b[0;36m1\u001b[0m\u001b[0;34m)\u001b[0m\u001b[0;34m:\u001b[0m\u001b[0;34m\u001b[0m\u001b[0;34m\u001b[0m\u001b[0m\n\u001b[1;32m      6\u001b[0m   \u001b[0;32mif\u001b[0m \u001b[0ms\u001b[0m\u001b[0;34m[\u001b[0m\u001b[0mi\u001b[0m\u001b[0;34m]\u001b[0m \u001b[0;34m==\u001b[0m \u001b[0ms\u001b[0m\u001b[0;34m[\u001b[0m\u001b[0mi\u001b[0m\u001b[0;34m+\u001b[0m\u001b[0;36m1\u001b[0m\u001b[0;34m]\u001b[0m\u001b[0;34m:\u001b[0m\u001b[0;34m\u001b[0m\u001b[0;34m\u001b[0m\u001b[0m\n\u001b[0;32m----> 7\u001b[0;31m     \u001b[0mprint\u001b[0m\u001b[0;34m(\u001b[0m\u001b[0ms\u001b[0m\u001b[0;34m[\u001b[0m\u001b[0mi\u001b[0m\u001b[0;34m]\u001b[0m\u001b[0;34m.\u001b[0m\u001b[0mjoin\u001b[0m\u001b[0;34m(\u001b[0m\u001b[0ms\u001b[0m\u001b[0;34m.\u001b[0m\u001b[0mcount\u001b[0m\u001b[0;34m(\u001b[0m\u001b[0;34m's[i]'\u001b[0m\u001b[0;34m)\u001b[0m\u001b[0;34m)\u001b[0m\u001b[0;34m)\u001b[0m\u001b[0;34m\u001b[0m\u001b[0;34m\u001b[0m\u001b[0m\n\u001b[0m",
            "\u001b[0;31mTypeError\u001b[0m: can only join an iterable"
          ]
        }
      ]
    },
    {
      "cell_type": "code",
      "source": [
        "#모든 경우 고려한 것은 아님\n",
        "s = 'aaabbbbcddddaaabbbbcdddd'\n",
        "answer = ''\n",
        "count = 0\n",
        "pre = s[0]\n",
        "for i in s:\n",
        "    # print(pre, i)\n",
        "    if pre == i:\n",
        "        count += 1\n",
        "    else:\n",
        "        answer += pre + str(count)\n",
        "        pre = i\n",
        "        count = 1\n",
        "\n",
        "answer += pre + str(count)\n",
        "\n",
        "answer"
      ],
      "metadata": {
        "id": "l9TT6bnpFumY"
      },
      "execution_count": null,
      "outputs": []
    },
    {
      "cell_type": "code",
      "source": [
        "# 제대로 된 정답 - 이 답은 암기하기!\n",
        "# 정규표현식 -그룹 이용!\n",
        "import re\n",
        "\n",
        "#re.findall('()()')  #앞에서찾은 문자열의/ 개수를 찾을것\n",
        "#re.findall('(\\\\w)(\\\\1)', s)   #\\1 : 첫번째 그룹핑한 애들 -> 다시 맵핑하는거\n",
        "re.findall('(\\\\w)(\\\\1*)', s)   #* 넣어주면 -> 0번 이상\n",
        "\n",
        "#cf. 의미 다 알아야\n",
        "# +\n",
        "# ?\n",
        "# *"
      ],
      "metadata": {
        "colab": {
          "base_uri": "https://localhost:8080/"
        },
        "id": "xsYbqw75EnZ-",
        "outputId": "ef61a3a3-7771-4043-f52d-6977867f3e38"
      },
      "execution_count": null,
      "outputs": [
        {
          "output_type": "execute_result",
          "data": {
            "text/plain": [
              "[('a', 'aa'), ('b', 'bbb'), ('c', ''), ('d', 'ddd')]"
            ]
          },
          "metadata": {},
          "execution_count": 111
        }
      ]
    },
    {
      "cell_type": "code",
      "source": [
        "import re\n",
        "\n",
        "s = 'aaabbbbcddddaaabbbbcdddd'\n",
        "answer = ''\n",
        "\n",
        "for i in re.findall('(\\\\w)(\\\\1*)', s):\n",
        "    answer += i[0] + str(len(i[1])+1)\n",
        "\n",
        "answer"
      ],
      "metadata": {
        "id": "d1FTHZ0gHWHM"
      },
      "execution_count": null,
      "outputs": []
    },
    {
      "cell_type": "markdown",
      "source": [
        "### 62,63, 64번.\n",
        "* 독특한 문제라 패스\n",
        "* 64번 - 그리드 알고리즘문제 (안어렵워서 패스)"
      ],
      "metadata": {
        "id": "ba707xJ7CWUa"
      }
    },
    {
      "cell_type": "markdown",
      "source": [
        "### 65번."
      ],
      "metadata": {
        "id": "KIPP3tp7CbNN"
      }
    },
    {
      "cell_type": "code",
      "source": [
        "a = [1,2,3,4]\n",
        "b = ['a', 'b', 'c', 'd']\n",
        "#a,b 번갈아 출력되도록"
      ],
      "metadata": {
        "id": "3E2VHAhDIsr0"
      },
      "execution_count": null,
      "outputs": []
    },
    {
      "cell_type": "code",
      "source": [
        "for i in range(len(b)):\n",
        "  print([a[i], b[i]], sep='')"
      ],
      "metadata": {
        "colab": {
          "base_uri": "https://localhost:8080/"
        },
        "id": "HyUm1galJBNB",
        "outputId": "27374b85-3342-41fb-9283-30c80e61cfdf"
      },
      "execution_count": null,
      "outputs": [
        {
          "output_type": "stream",
          "name": "stdout",
          "text": [
            "[1, 'a']\n",
            "[2, 'b']\n",
            "[3, 'c']\n",
            "[4, 'd']\n"
          ]
        }
      ]
    },
    {
      "cell_type": "code",
      "source": [
        "# -짝수번/ 홀수번으로 나눠서 (이건 꼭 들어가야되니까)\n",
        "result = []\n",
        "for i in range(4):\n",
        "    if i % 2 == 0:\n",
        "        result.append([a[i], b[i]])\n",
        "    else:\n",
        "        result.append([b[i], a[i]])\n",
        "\n",
        "result"
      ],
      "metadata": {
        "colab": {
          "base_uri": "https://localhost:8080/"
        },
        "id": "xQ37-sBCKJsQ",
        "outputId": "35463248-5ee0-4e10-876e-0632da5bf78c"
      },
      "execution_count": null,
      "outputs": [
        {
          "output_type": "execute_result",
          "data": {
            "text/plain": [
              "[[1, 'a'], ['b', 2], [3, 'c'], ['d', 4]]"
            ]
          },
          "metadata": {},
          "execution_count": 118
        }
      ]
    },
    {
      "cell_type": "code",
      "source": [
        "# 더 효율적인 정답 - 태호님 코드\n",
        "print(list(map(lambda x: list(x[::-1]) if x[0] % 2 == 0 else list(x), list(zip(a, b)))))"
      ],
      "metadata": {
        "colab": {
          "base_uri": "https://localhost:8080/"
        },
        "id": "fMEPCeUaKyVI",
        "outputId": "c01a0553-8419-45db-a990-bf82d9e28462"
      },
      "execution_count": null,
      "outputs": [
        {
          "output_type": "stream",
          "name": "stdout",
          "text": [
            "[[1, 'a'], ['b', 2], [3, 'c'], ['d', 4]]\n"
          ]
        }
      ]
    },
    {
      "cell_type": "markdown",
      "source": [
        "### 66번. 블럭탑쌓기\n",
        "* 카카오 입사문제로 나옴"
      ],
      "metadata": {
        "id": "4LoZM2c9CclV"
      }
    },
    {
      "cell_type": "code",
      "source": [
        "# 입력\n",
        "# 탑 = [\"ABCDEF\", \"BCAD\", \"ADEFQRX\", \"BEDFG\"]\n",
        "# 규칙 = \"ABD\"\n",
        "\n",
        "# 출력\n",
        "# [\"가능\", \"불가능\", \"가능\", \"가능\"]"
      ],
      "metadata": {
        "id": "oWo8zBDINWLV"
      },
      "execution_count": null,
      "outputs": []
    },
    {
      "cell_type": "code",
      "source": [
        "# B와 A의 index 값 찾아서 비교하면됨\n",
        "top = [\"ABCDEF\", \"BCAD\", \"ADEFQRX\", \"BEDFG\"]\n",
        "result = []\n",
        "\n",
        "for i in range(len(top)):\n",
        "  #print(top[i])\n",
        "  #print(top[i].find('A'))\n",
        "  if 'A' in top[i] and 'B' in top[i] and 'D' in top[i]:\n",
        "    #print(\"YES\")\n",
        "    if top[i].find('A') < top[i].find('B') < top[i].find('D'):  #없을때는 ?\n",
        "     #print(\"가능\")\n",
        "     result.append(\"가능\")\n",
        "  # 빠져있을때\n",
        "  #else:\n",
        "     #print(\"불가능\")\n",
        "     #result.append(\"불가능\")\n",
        "\n",
        "result"
      ],
      "metadata": {
        "colab": {
          "base_uri": "https://localhost:8080/"
        },
        "id": "99tTHW068yki",
        "outputId": "75380756-e535-41d3-d317-ef69106a131f"
      },
      "execution_count": null,
      "outputs": [
        {
          "output_type": "execute_result",
          "data": {
            "text/plain": [
              "['가능', '불가능', '불가능']"
            ]
          },
          "metadata": {},
          "execution_count": 21
        }
      ]
    },
    {
      "cell_type": "code",
      "source": [
        "# 재혁님 코드\n",
        "탑 = [\"ABCDEF\", \"BCAD\", \"ADEFQRX\", \"BEDFG\"]\n",
        "규칙 = \"ABD\"\n",
        "\n",
        "answer = []\n",
        "\n",
        "for t in 탑:\n",
        "    규칙인덱스 = [t.index(rule) for rule in 규칙 if rule in t]\n",
        "    if 규칙인덱스 == sorted(규칙인덱스):\n",
        "        answer.append('가능')\n",
        "    else:\n",
        "        answer.append('불가능')\n",
        "\n",
        "print(answer)"
      ],
      "metadata": {
        "colab": {
          "base_uri": "https://localhost:8080/"
        },
        "id": "1pLlizGo-6AR",
        "outputId": "f292eeaa-0516-4e52-96e7-e07007b6c1c4"
      },
      "execution_count": null,
      "outputs": [
        {
          "output_type": "stream",
          "name": "stdout",
          "text": [
            "['가능', '불가능', '가능', '가능']\n"
          ]
        }
      ]
    },
    {
      "cell_type": "code",
      "source": [
        "# 태호님 코드\n",
        "input = [\"ABCDEF\", \"BCAD\", \"ADEFQRX\", \"BEDFG\"]\n",
        "rule = \"ABD\"\n",
        "\n",
        "rule = list(rule)\n",
        "result = list(map(lambda x: [x.find(r) for r in rule if x.find(r) != -1], input))\n",
        "list(map(lambda x: '가능' if all(x[i] < x[i+1] for i in range(len(x)-1)) else '불가능', result))   #all구문이 True면 가능/ else면 불가능\n",
        "\n",
        "# all : 모두 True여야 True\n",
        "# any : 하나라도 True면 True"
      ],
      "metadata": {
        "colab": {
          "base_uri": "https://localhost:8080/"
        },
        "id": "ZMZKKQZY_HDt",
        "outputId": "e9036283-7189-4a56-98ed-e808a813d0bc"
      },
      "execution_count": null,
      "outputs": [
        {
          "output_type": "execute_result",
          "data": {
            "text/plain": [
              "['가능', '불가능', '가능', '가능']"
            ]
          },
          "metadata": {},
          "execution_count": 27
        }
      ]
    },
    {
      "cell_type": "code",
      "source": [
        "# 나요님 코드\n",
        "rule_dict = {char: idx for idx, char in enumerate(rule)}\n",
        "lst = []\n",
        "for block_order in tower:\n",
        "    pre_idx = -1\n",
        "    validate = True\n",
        "\n",
        "    for block in block_order:\n",
        "        for char in block:\n",
        "            if char in rule_dict:\n",
        "                if rule_dict[char] <= pre_idx:\n",
        "                    validate = False\n",
        "                    break\n",
        "                pre_idx = rule_dict[char]\n",
        "    if validate:\n",
        "        lst.append(True)\n",
        "    else:\n",
        "        lst.append(False)"
      ],
      "metadata": {
        "id": "dsPsuWx8Azd8"
      },
      "execution_count": null,
      "outputs": []
    },
    {
      "cell_type": "code",
      "source": [
        "# 정답 - 쉬운풀이\n",
        "string = [\"ABCDEF\", \"BCAD\", \"ADEFQRX\", \"BEDFG\"]\n",
        "rule = \"ABD\"\n",
        "\n",
        "def solution(s, rule):\n",
        "    temp = 0\n",
        "    for i in s: #i:'D', s:\"ABCDEF\"\n",
        "        if i in rule:\n",
        "            if temp > rule.index(i): # rule.index(i): 문자가 rule에 있다면 몇 번째에 있는지(1 > 3)\n",
        "                return '불가능'\n",
        "            temp = rule.index(i)\n",
        "    return '가능'\n",
        "\n",
        "solution(string[3], rule)"
      ],
      "metadata": {
        "id": "GK-1r017EGOq"
      },
      "execution_count": null,
      "outputs": []
    },
    {
      "cell_type": "markdown",
      "source": [
        "### 67번.\n",
        "* 수학문제 - 조합(2명이 들어가는 조합문제)"
      ],
      "metadata": {
        "id": "WzdiFHFnImwa"
      }
    },
    {
      "cell_type": "code",
      "source": [
        "from itertools import combinations\n",
        "\n",
        "n = 11\n",
        "nums = range(n)\n",
        "combi = list(combinations(nums, 2))\n",
        "59 - len(combi)"
      ],
      "metadata": {
        "id": "1F2U8tB9Iryg"
      },
      "execution_count": null,
      "outputs": []
    },
    {
      "cell_type": "markdown",
      "source": [
        "### 68번.\n",
        "* 시간체크해서 마이너스 하는거 - 시간문제 많이 나옴 -> 함수 만들어놓기!\n",
        "* 카카오 입사문제에도 여러번 나옴"
      ],
      "metadata": {
        "id": "KQrNQjqnIoZi"
      }
    },
    {
      "cell_type": "markdown",
      "source": [
        "### 69번.\n",
        "* 골드바흐의 추측 : 수학문제라 패스\n",
        "* 아마 넥슨 출제문제일것\n",
        "* 요즘엔 이런 문제 출제안함"
      ],
      "metadata": {
        "id": "75sbdshTIpug"
      }
    },
    {
      "cell_type": "markdown",
      "source": [
        "### 70번.\n",
        "* 수학문제라 패스"
      ],
      "metadata": {
        "id": "r43ieCksIrIM"
      }
    },
    {
      "cell_type": "markdown",
      "source": [
        "### 71번. 깊이우선탐색\n",
        "* 깊스너큐!\n",
        "* 출제빈도가 높음"
      ],
      "metadata": {
        "id": "4ai2wVFALAEB"
      }
    },
    {
      "cell_type": "code",
      "source": [
        "# 1. 데이터\n",
        "\n",
        "# graph = {'E': set(['D', 'A']),\n",
        "#          'F': set(['D']),\n",
        "#          'A': set(['E', 'C', 'B']),\n",
        "#          'B': set(['A']),\n",
        "#          'C': set(['A']),\n",
        "#          'D': set(['E','F'])}\n",
        "\n",
        "# 2. 출력\n",
        "# ['E', 'A', 'B', 'C', 'D', 'F']\n",
        "\n",
        "# 3. 코드\n",
        "graph = {\n",
        "        'A': set(['B', 'C', 'E']),\n",
        "        'B': set(['A']),\n",
        "        'C': set(['A']),\n",
        "        'D': set(['E', 'F']),\n",
        "        'E': set(['A', 'D']),\n",
        "        'F': set(['D'])\n",
        "}\n",
        "\n",
        "def dfs(graph, start):\n",
        "    visited = []\n",
        "    stack = [start]\n",
        "\n",
        "    while stack:\n",
        "        n = stack.pop()\n",
        "        if n not in visited:\n",
        "            visited.append(n)\n",
        "            pass                      #여기 완성하라.\n",
        "    return visited\n",
        "\n",
        "print(dfs(graph, 'E'))"
      ],
      "metadata": {
        "id": "CaXv2u0SLLUh"
      },
      "execution_count": null,
      "outputs": []
    },
    {
      "cell_type": "code",
      "source": [
        "graph = {\n",
        "        'A': set(['B', 'C', 'E']),\n",
        "        'B': set(['A']),\n",
        "        'C': set(['A']),\n",
        "        'D': set(['E', 'F']),\n",
        "        'E': set(['A', 'D']),\n",
        "        'F': set(['D'])\n",
        "}\n",
        "\n",
        "def dfs(graph, start):\n",
        "    visited = []\n",
        "    stack = [start]          #이 stack에 visited경로 추가되어야\n",
        "\n",
        "    while stack:\n",
        "        n = stack.pop()\n",
        "        if n not in visited:\n",
        "            visited.append(n)\n",
        "            stack += graph[n] -set(visited) #그래프기 때문에 무한반복될 수 있음 -> 한번 방문은 방문하지 않도록하는 작업 들어가야\n",
        "            #print(stack)\n",
        "    return visited\n",
        "\n",
        "print(dfs(graph, 'E'))"
      ],
      "metadata": {
        "colab": {
          "base_uri": "https://localhost:8080/"
        },
        "id": "m5ge_SNzLbZG",
        "outputId": "989ac802-b7e6-4c68-9437-a1e1f62ee8d7"
      },
      "execution_count": null,
      "outputs": [
        {
          "output_type": "stream",
          "name": "stdout",
          "text": [
            "['E', 'D', 'F', 'A', 'B', 'C']\n"
          ]
        }
      ]
    },
    {
      "cell_type": "markdown",
      "source": [
        "### 72번. 너비우선탐색"
      ],
      "metadata": {
        "id": "BM66q1iVLCS_"
      }
    },
    {
      "cell_type": "markdown",
      "source": [
        "### 73번. 최단경로찾기"
      ],
      "metadata": {
        "id": "1ZMRiJDqLDqp"
      }
    },
    {
      "cell_type": "markdown",
      "source": [
        "### 74번.\n",
        "* 최장경로찾기"
      ],
      "metadata": {
        "id": "KHbKcsyNLFBR"
      }
    },
    {
      "cell_type": "markdown",
      "source": [
        "### 75번.\n",
        "* 이상한 369 -> 저주의 숫자3이랑 같은문제"
      ],
      "metadata": {
        "id": "SQWAXvY0LIEF"
      }
    },
    {
      "cell_type": "markdown",
      "source": [
        "### 76번.\n",
        "* 순회도는게 어려운거지 이런문제는 쉽고, 자주 출제됨\n"
      ],
      "metadata": {
        "id": "cRVc5xQfPIro"
      }
    },
    {
      "cell_type": "code",
      "source": [
        "# 사각형 = 5\n",
        "# 탐색가능지역 = 3\n",
        "\n",
        "# 지뢰밭 = [[1, 0, 0, 1, 0],\n",
        "#           [0, 1, 0, 0, 1],\n",
        "#           [0, 0, 0, 1, 0],\n",
        "#           [0, 0, 0, 0, 0],\n",
        "#           [0, 0, 1, 0, 0]]"
      ],
      "metadata": {
        "id": "TU012KOjPUh6"
      },
      "execution_count": null,
      "outputs": []
    },
    {
      "cell_type": "code",
      "source": [
        "# 태호님 코드\n",
        "import pandas as pd\n",
        "\n",
        "target = pd.DataFrame(target)\n",
        "max = -float('inf')\n",
        "for h in range(region - search + 1):\n",
        "    for v in range(region - search + 1):\n",
        "        bomb = target.iloc[v:v+search, h:h+search].sum().sum()\n",
        "        if bomb > max:\n",
        "            max = bomb\n",
        "\n",
        "print(max)"
      ],
      "metadata": {
        "id": "Rz8SHRSsQ--9"
      },
      "execution_count": null,
      "outputs": []
    },
    {
      "cell_type": "code",
      "source": [
        "# 나요님 코드\n",
        "import pandas as pd\n",
        "field = 5\n",
        "search = 3\n",
        "\n",
        "mine = [[1, 0, 0, 1, 0],\n",
        "          [0, 1, 0, 0, 1],\n",
        "          [0, 0, 0, 1, 0],\n",
        "          [0, 0, 0, 0, 0],\n",
        "          [0, 0, 1, 0, 0]]\n",
        "\n",
        "field = pd.DataFrame(mine)\n",
        "lst = []\n",
        "for i in range(len(field) - search + 1):\n",
        "    for j in range(len(field) - search + 1):\n",
        "        lst.append(field.iloc[i:3+i, j:3+j].sum().sum())\n",
        "pd.Series(lst).max()"
      ],
      "metadata": {
        "id": "U-QB24_1VIaj"
      },
      "execution_count": null,
      "outputs": []
    },
    {
      "cell_type": "code",
      "source": [
        "# 정답\n",
        "사각형 = 5\n",
        "탐색가능지역 = 3\n",
        "for i in range(사각형 - 탐색가능지역 + 1):\n",
        "    for j in range(사각형 - 탐색가능지역 + 1):\n",
        "        print(f'[{i}:{i+탐색가능지역}, {j}:{j+탐색가능지역}]')\n",
        "\n",
        "answer = [[1, 0, 0],\n",
        "          [0, 1, 0],\n",
        "          [0, 0, 0]]\n",
        "\n",
        "# sum(answer) # error\n",
        "sum(answer, [])\n",
        "sum(sum(answer, []))"
      ],
      "metadata": {
        "id": "ypJlo5E8R2IJ"
      },
      "execution_count": null,
      "outputs": []
    },
    {
      "cell_type": "markdown",
      "source": [
        "### 77번.\n",
        "* 패스"
      ],
      "metadata": {
        "id": "E9E7p79VPNzr"
      }
    },
    {
      "cell_type": "markdown",
      "source": [
        "### 78번. 원형테이블\n",
        "* 문제로 많이 나오는 유형 -> 기억해두기!"
      ],
      "metadata": {
        "id": "IFIooMPhPPBN"
      }
    },
    {
      "cell_type": "code",
      "source": [
        "# 태호님 코드\n",
        "n = 6\n",
        "k = 3\n",
        "\n",
        "k = k-1\n",
        "start = 0\n",
        "\n",
        "foods = list(range(1, n+1))\n",
        "\n",
        "while len(foods) > 2:\n",
        "    foods.pop(start)\n",
        "    if start+k >= len(foods):\n",
        "        start = (start+k)-len(foods)\n",
        "    else:\n",
        "        start += k\n",
        "foods"
      ],
      "metadata": {
        "id": "2bcQQkc6XT2E"
      },
      "execution_count": null,
      "outputs": []
    },
    {
      "cell_type": "code",
      "source": [
        "# 정답\n",
        "food_r = deque(food)\n",
        "print(f'먹은 음식: {food_r.popleft()}')\n",
        "food_r.rotate(-2)\n",
        "print(f'회전 후: {food_r}')\n",
        "\n",
        "print(f'먹은 음식: {food_r.popleft()}')\n",
        "food_r.rotate(-2)\n",
        "print(f'회전 후: {food_r}')\n",
        "\n",
        "print(f'먹은 음식: {food_r.popleft()}')\n",
        "food_r.rotate(-2)\n",
        "print(f'회전 후: {food_r}')\n",
        "\n",
        "print(f'먹은 음식: {food_r.popleft()}')\n",
        "food_r.rotate(-2)\n",
        "print(f'회전 후: {food_r}')\n",
        "\n",
        "from collections import deque\n",
        "\n",
        "def solution(n, k):\n",
        "    food = range(1, n + 1)\n",
        "    food_r = deque(food)\n",
        "\n",
        "    while len(food_r) > 2:\n",
        "        print(f'먹은 음식: {food_r.popleft()}')\n",
        "        food_r.rotate(-(k-1))\n",
        "        print(f'회전 후: {food_r}')\n",
        "\n",
        "    return list(food_r)\n",
        "\n",
        "solution(6, 3)"
      ],
      "metadata": {
        "id": "OxhkRvhbbpXt"
      },
      "execution_count": null,
      "outputs": []
    },
    {
      "cell_type": "markdown",
      "source": [
        "### 79번."
      ],
      "metadata": {
        "id": "PiHOjw7QPQNn"
      }
    },
    {
      "cell_type": "markdown",
      "source": [
        "### 80번."
      ],
      "metadata": {
        "id": "WK_QkjzrPRZ4"
      }
    },
    {
      "cell_type": "markdown",
      "source": [
        "### 81번.\n",
        "* 지뢰찾기"
      ],
      "metadata": {
        "id": "JAjbCuUxPSpn"
      }
    },
    {
      "cell_type": "code",
      "source": [
        "# 데이터\n",
        "flag = [] #지뢰 없이 깃발만 있는 리스트\n",
        "minesweeper = [] #지뢰를 찾은 리스트\n",
        "for i in range(5):\n",
        "    flag.append(input('깃발 값과 함께 입력하세요 :').split(' '))\n",
        "\n",
        "pass                        ## 여기 완성\n",
        "print(flag)\n",
        "print(minesweeper)\n",
        "\n",
        "\n",
        "\n",
        "# 입력\n",
        "# 0 1 0 0 0\n",
        "# 0 0 0 0 0\n",
        "# 0 0 0 1 0\n",
        "# 0 0 1 0 0\n",
        "# 0 0 0 0 0\n",
        "\n",
        "# 출력\n",
        "# * f * 0 0\n",
        "# 0 * 0 * 0\n",
        "# 0 0 * f *\n",
        "# 0 * f * 0\n",
        "# 0 0 * 0 0"
      ],
      "metadata": {
        "id": "hbcMTM7FImnQ"
      },
      "execution_count": null,
      "outputs": []
    },
    {
      "cell_type": "code",
      "source": [
        "matrix = [\n",
        "    [0, 1, 0, 0, 0],\n",
        "    [0, 0, 0, 0, 0],\n",
        "    [0, 0, 0, 1, 0],\n",
        "    [0, 0, 1, 0, 0],\n",
        "    [0, 0, 0, 0, 0]\n",
        "]\n",
        "\n",
        "flag = [] #지뢰 없이 깃발만 있는 리스트\n",
        "minesweeper = [] #지뢰를 찾은 리스트\n",
        "for i in range(5):\n",
        "    flag.append(input('깃발 값과 함께 입력하세요 :').split(' '))\n",
        "\n",
        "\n",
        "print(flag)\n",
        "print(minesweeper)"
      ],
      "metadata": {
        "id": "0hiYz1mCrZxT"
      },
      "execution_count": null,
      "outputs": []
    },
    {
      "cell_type": "code",
      "source": [
        "# 태호님 코드\n",
        "import numpy as np\n",
        "\n",
        "matrix_arr = np.array(matrix)\n",
        "matrix_arr = np.where(matrix_arr==1, 'f', matrix_arr)\n",
        "\n",
        "for v, h in zip(np.where(matrix_arr=='f')[0], np.where(matrix_arr=='f')[1]):\n",
        "\n",
        "    if v != 0:\n",
        "        matrix_arr[v-1, h] = '*'\n",
        "    if h != 0:\n",
        "        matrix_arr[v, h-1] = '*'\n",
        "    if v+1 <= matrix_arr.shape[0]:\n",
        "        matrix_arr[v+1, h] = '*'\n",
        "    if h+1 <= matrix_arr.shape[1]:\n",
        "        matrix_arr[v, h+1] = '*'\n",
        "\n",
        "print(matrix_arr)"
      ],
      "metadata": {
        "id": "YP0-voUPrZpR"
      },
      "execution_count": null,
      "outputs": []
    },
    {
      "cell_type": "markdown",
      "source": [
        "### 84번."
      ],
      "metadata": {
        "id": "DYDXiMeqNU_L"
      }
    },
    {
      "cell_type": "code",
      "source": [
        "# 민규님 코드\n",
        "number = int(input('숫자 입력: '))\n",
        "k = int(input('k값 입력: '))\n",
        "\n",
        "number_str = str(number)\n",
        "number_str = sorted(number_str, reverse=True)\n",
        "large_number = int(''.join(map(str, number_str[:k])))\n",
        "\n",
        "print(large_number)"
      ],
      "metadata": {
        "id": "rt-uvkAaNeJg"
      },
      "execution_count": null,
      "outputs": []
    },
    {
      "cell_type": "markdown",
      "source": [
        "### 85번."
      ],
      "metadata": {
        "id": "UVL3adkuNW08"
      }
    },
    {
      "cell_type": "code",
      "source": [
        "def evalue(value):\n",
        "    return ''.join([str(i) + str(value.count(str(i))) for i in range(1, int(max(value)) + 1)])\n",
        "\n",
        "def solution(n):\n",
        "    answer = '1'\n",
        "    if n == 1:\n",
        "        return 1\n",
        "    else:\n",
        "        for i in range(1, n):\n",
        "            answer = evalue(answer)\n",
        "            print(answer)\n",
        "    return answer\n",
        "\n",
        "# evalue('1121')\n",
        "solution(6)"
      ],
      "metadata": {
        "id": "r8S_tLIRUW48"
      },
      "execution_count": null,
      "outputs": []
    },
    {
      "cell_type": "markdown",
      "source": [
        "### 86번.\n",
        "* 회전초밥"
      ],
      "metadata": {
        "id": "KuOcGk7uNYEn"
      }
    },
    {
      "cell_type": "code",
      "source": [
        "입력\n",
        "point = [1,1,3,2,5]\n",
        "dish = 3\n",
        "\n",
        "출력\n",
        "5\n",
        "\n",
        "입력\n",
        "point = [5,2,3,1,2,5]\n",
        "dish = 1\n",
        "\n",
        "출력\n",
        "10\n",
        "\n",
        "point 각 접시별 점수가 들어있는 배열\n",
        "dish 먹고자하는 접시의 위치"
      ],
      "metadata": {
        "id": "H6mFpOFdUZlG"
      },
      "execution_count": null,
      "outputs": []
    },
    {
      "cell_type": "code",
      "source": [
        "# 원본  [1, 1, 3, 2, 5]   dish = 2\n",
        "# 1번째 [1, 3, 2, 5] dish = 1\n",
        "# 2번째 [3, 2, 5] dish = 0\n",
        "# 3번째 [2, 5, 3] dish = 2\n",
        "# 4번째 [5, 3] dish = 1\n",
        "# 5번째 [3, 5] dish = 0\n",
        "# 6번째"
      ],
      "metadata": {
        "id": "Eyr-ujPpfIwR"
      },
      "execution_count": null,
      "outputs": []
    },
    {
      "cell_type": "code",
      "source": [
        "# 원본  [5, 2, 3, 1, 2, 5]     dish = 0\n",
        "# 1번째 [2, 3, 1, 2, 5, 5]     dish = 5 (len - 1)\n",
        "# 2번째 [3, 1, 2, 5, 5, 2]     dish = 4\n",
        "# 3번째 [1, 2, 5, 5, 2, 3]     dish = 3 (먹)\n",
        "# 4번째 [2, 5, 5, 2, 3]     dish = 2 (먹)\n",
        "# 5번째 [5, 5, 2, 3]     dish = 1\n",
        "# 6번째 [5, 2, 3, 5]     dish = 0\n",
        "# 7번째 [2, 3, 5, 5]     dish = 3 (len - 1) (먹)\n",
        "# 8번째 [3, 5, 5]     dish = 2 (먹)\n",
        "# 9번째 [5, 5]     dish = 1 (먹)\n",
        "# 10번째 [5]     dish = 0 (먹)\n",
        "# 11번째"
      ],
      "metadata": {
        "id": "1ePO84XyfIB9"
      },
      "execution_count": null,
      "outputs": []
    },
    {
      "cell_type": "code",
      "source": [
        "# point1. sorted를 한 다음 작은 값부터 삭제되고 있는지 확인\n",
        "#         1.1 순서대로 먹지 않았으면 뒤로 보낸다.\n",
        "# point2. dish가 작은 값이 다 삭제된 후 0번째인지 확인\n",
        "# point3. 만약 먹을 접시의 점수가 나보다 크면 뒤로 보낸다."
      ],
      "metadata": {
        "id": "BneFOGCPfH9b"
      },
      "execution_count": null,
      "outputs": []
    },
    {
      "cell_type": "code",
      "source": [
        "def solution(접시점수, 먹을접시위치):\n",
        "    먹을접시위치 -= 1\n",
        "    정답 = 0\n",
        "    정렬된접시점수 = sorted(접시점수)\n",
        "    while True:\n",
        "        print(f'접시점수:        {접시점수}')\n",
        "        print(f'정렬된 접시점수: {정렬된접시점수}')\n",
        "        print(f'count: {정답}')\n",
        "        print(f'먹을접시위치: {먹을접시위치}')\n",
        "        맨앞접시 = 접시점수.pop(0)\n",
        "        if 정렬된접시점수[0] == 맨앞접시:\n",
        "            if 먹을접시위치 == 0:\n",
        "                break\n",
        "            먹을접시위치 -= 1\n",
        "            정렬된접시점수.pop(0)\n",
        "        else:\n",
        "            접시점수.append(맨앞접시)\n",
        "            먹을접시위치 = len(접시점수) - 1 if 먹을접시위치 == 0 else 먹을접시위치 - 1\n",
        "        정답 += 1\n",
        "        return 정답\n",
        "\n",
        "\n",
        "접시점수 = [1, 1, 3, 2, 5]\n",
        "먹을접시위치 = 3\n",
        "print(solution(접시점수, 먹을접시위치))"
      ],
      "metadata": {
        "id": "3yiMB2-efH4-"
      },
      "execution_count": null,
      "outputs": []
    },
    {
      "cell_type": "code",
      "source": [
        "# point 각 접시별 점수가 들어있는 배열\n",
        "# dish 먹고자하는 접시의 위치\n",
        "def solution(point, dish):\n",
        "#배열 순서는 0부터 시작, 입력은 1부터시작이기 때문에 -1 해준다.\n",
        "    dish -=1\n",
        "    answer = 0\n",
        "#오름차순으로 정렬\n",
        "    s = sorted(point)\n",
        "    while True:\n",
        "# point 제일 앞의 점수를 추출하여  p에 넣어 놓는다. 즉, 앞에 도착한 접시의 점수!\n",
        "# pop과 append를 활용해 회전하도록 구현할 예정 !\n",
        "        p = point.pop(0)\n",
        "\n",
        "        #현재 s[0]은 point 배열을 에서 가장 작은 값을 가지고 있음!\n",
        "        #현재 가장 낮은 점수를 가지고 있는 접시가 앞에 도착했다면 먹도록 할것!\n",
        "        if s[0]==p:\n",
        "        #앞에 도착한 접시가 선택한 접시라면 먹고 반복문 종료\n",
        "            if dish == 0:\n",
        "                break\n",
        "            #선택한 접시 움직임.\n",
        "            dish-=1\n",
        "            #한 접시를 먹었음으로 하나 줄어듬\n",
        "            s.pop(0)\n",
        "        else:\n",
        "            #접시위 초밥을 먹을 수 있는 조건이 충족되지 않아 그대로 둔다\n",
        "            # pop했던것을 다시 append.\n",
        "            point.append(p)\n",
        "            #접시의 움직임 만약 선택한 접시가 앞에 도착했다면 맨뒤로 보내고,\n",
        "            #그렇지 않다면 한칸 당긴다.\n",
        "            dish = len(point)-1 if dish==0 else dish-1\n",
        "            # 반복 한번당 접시 한번 지나감을 나타냄.\n",
        "        answer+=1\n",
        "    return answer"
      ],
      "metadata": {
        "id": "QkCQiVlmiB7t"
      },
      "execution_count": null,
      "outputs": []
    },
    {
      "cell_type": "markdown",
      "source": [
        "### 90번.\n",
        "* 의약성분을 찾아라\n",
        "* 비공개문제 - 유명한 기업 비공개문제로 나옴!!"
      ],
      "metadata": {
        "id": "B1hY0TlrNcx-"
      }
    },
    {
      "cell_type": "code",
      "source": [
        "import random as r\n",
        "\n",
        "l = [chr(i) for i in range(65, 91)]\n",
        "total_medicine = []\n",
        "answer = []\n",
        "\n",
        "user_input = ('ABCDEF', 4)\n",
        "\n",
        "for i in range(100):\n",
        "    total_medicine.append(r.sample(l, 8))\n",
        "\n",
        "for i in total_medicine:\n",
        "    if len(set(user_input[0]) & set(i)) == user_input[1]:\n",
        "        answer.append(i)\n",
        "\n",
        "answer"
      ],
      "metadata": {
        "id": "rsO_zrM2rZjI"
      },
      "execution_count": null,
      "outputs": []
    },
    {
      "cell_type": "code",
      "source": [
        "import random as r\n",
        "\n",
        "l = [chr(i) for i in range(65, 91)]\n",
        "total_medicine = []\n",
        "answer = []\n",
        "\n",
        "user_input = ('ABCDEF', 4)\n",
        "\n",
        "for i in range(100):\n",
        "    total_medicine.append(r.sample(l, 8))\n",
        "\n",
        "for i in total_medicine:\n",
        "    if len(set(user_input[0]) & set(i)) == user_input[1]:\n",
        "        answer.append(i)\n",
        "\n",
        "answer"
      ],
      "metadata": {
        "id": "k0oZPVVXR8Ra"
      },
      "execution_count": null,
      "outputs": []
    },
    {
      "cell_type": "markdown",
      "source": [
        "### 92번."
      ],
      "metadata": {
        "id": "eR7VuWtskwtD"
      }
    },
    {
      "cell_type": "code",
      "source": [
        "test = '3,012,000'\n",
        "\n",
        "s1 = ''\n",
        "s2 = ''\n",
        "for i in test.replace(',', ''):\n",
        "    if i == '3':\n",
        "        s1 += '1'\n",
        "        s2 += '2'\n",
        "    elif i == '4':\n",
        "        s1 += '2'\n",
        "        s2 += '2'\n",
        "    elif i == '6':\n",
        "        s1 += '1'\n",
        "        s2 += '5'\n",
        "    else:\n",
        "        s1 += i\n",
        "        s2 += '0'\n",
        "\n",
        "format(int(s1), ','), format(int(s2), ',')"
      ],
      "metadata": {
        "id": "p-6gQLJMR8IC"
      },
      "execution_count": null,
      "outputs": []
    },
    {
      "cell_type": "markdown",
      "source": [
        "### 93번.\n",
        "* LRU 라서 이런 문제는 안나옴\n",
        "* 페이지교체 알고리즘 - FIFO 아 나온다???"
      ],
      "metadata": {
        "id": "aphNW0EjrbdE"
      }
    },
    {
      "cell_type": "code",
      "source": [
        "메모리 = [] #메모리 maxlen = 3\n",
        "시간 = 0\n",
        "\n",
        "for i in 'BCBAEBCE':\n",
        "    if i in 메모리:\n",
        "        시간 += 1\n",
        "    else:\n",
        "        시간 += 6\n",
        "        메모리.append(i)\n",
        "        if len(메모리) > 3:\n",
        "            메모리.pop(0)\n",
        "    print(메모리)\n",
        "\n",
        "시간"
      ],
      "metadata": {
        "id": "UEesxF1qR8AD"
      },
      "execution_count": null,
      "outputs": []
    },
    {
      "cell_type": "markdown",
      "source": [
        "### 94번.\n",
        "* 페이지 교체 - LRU알고리즘은 자주 나옴!\n",
        "* 링크 : https://pythonworkbook.notion.site/94-LRU-140c248b729948b180398acc0a370a0e?pvs=4\n",
        "\n",
        "* 아래처럼 행렬 문제 (애니팡 같은 i,j 따지는 문제) 자주 나오므로 풀어보기!"
      ],
      "metadata": {
        "id": "07tyqp8Rsb8m"
      }
    },
    {
      "cell_type": "code",
      "source": [
        "from collections import deque\n",
        "\n",
        "\n",
        "l = deque(maxlen=3)\n",
        "l.append(3)\n",
        "l.append(4)\n",
        "l.append(5)\n",
        "l.append(6)\n",
        "l.append(7)\n",
        "l"
      ],
      "metadata": {
        "id": "_tnoA5p3R75S"
      },
      "execution_count": null,
      "outputs": []
    },
    {
      "cell_type": "code",
      "source": [
        "from collections import deque\n",
        "\n",
        "메모리 = deque(maxlen=3)\n",
        "시간 = 0\n",
        "\n",
        "for i in 'ABCABCABC':\n",
        "    if i in 메모리:\n",
        "        값 = 메모리.popleft()\n",
        "        메모리.append(값)\n",
        "        시간 += 1\n",
        "    else:\n",
        "        시간 += 6\n",
        "        메모리.append(i)\n",
        "\n",
        "시간"
      ],
      "metadata": {
        "id": "D81N63cEx-yz"
      },
      "execution_count": null,
      "outputs": []
    },
    {
      "cell_type": "code",
      "source": [
        "n = 5\n",
        "value = [[10, 11, 12, 13, 14],\n",
        "         [15, 16, 17, 18, 19],\n",
        "         [20, 21, 22, 23, 24],\n",
        "         [25, 26, 27, 28, 29],\n",
        "         [30, 31, 32, 33, 34]]\n",
        "\n",
        "result = [[0, 0, 0, 0, 0],\n",
        "          [0, 0, 0, 0, 0],\n",
        "          [0, 0, 0, 0, 0],\n",
        "          [0, 0, 0, 0, 0],\n",
        "          [0, 0, 0, 0, 0]]\n",
        "\n",
        "for i in range(5):\n",
        "    for j in range(5):\n",
        "        result[j][n-1-i] = value[i][j]\n",
        "\n",
        "result"
      ],
      "metadata": {
        "id": "he7vwROQx-tf"
      },
      "execution_count": null,
      "outputs": []
    },
    {
      "cell_type": "markdown",
      "source": [
        "### 97번."
      ],
      "metadata": {
        "id": "hWdsRRzqxh_4"
      }
    },
    {
      "cell_type": "code",
      "source": [
        "def solution(택배원의수, 택배거리):\n",
        "    time = 0\n",
        "    택배원택배거리 = [0] * 택배원의수\n",
        "    while 택배거리:\n",
        "        for i in range(택배원의수):\n",
        "            if 택배원택배거리[i] == 0 and 택배거리:\n",
        "                택배원택배거리[i] = 택배거리.pop(0)\n",
        "        택배원택배거리 = list(map(lambda x: x-1, 택배원택배거리))\n",
        "        time += 1\n",
        "        print('------------')\n",
        "        print(택배원택배거리, time)\n",
        "    print('-----end while------')\n",
        "    print(택배원택배거리, time)\n",
        "    time += max(택배원택배거리)\n",
        "    return time\n",
        "\n",
        "\n",
        "배달원 = 3\n",
        "택배 = [1,2,1,3,3,3]\n",
        "택배원택배거리 = [0, 0, 0]\n",
        "\n",
        "print(solution(배달원,택배))"
      ],
      "metadata": {
        "id": "Bb2zsWPexkkl"
      },
      "execution_count": null,
      "outputs": []
    },
    {
      "cell_type": "code",
      "source": [
        "# 상차에는 시간 걸리지 않기 때문에 else문 삭제? 하면\n",
        "def solution(인원수, 택배):\n",
        "    시간 = 0\n",
        "    택배원그룹 = 인원수 * [0]\n",
        "    while 택배:\n",
        "        print(택배원그룹)\n",
        "        for i in range(인원수):\n",
        "            if 택배원그룹[i] == 0 and 택배:\n",
        "                택배원그룹[i] = 택배.pop(0)\n",
        "        택배원그룹 = list(map(lambda x: x-1, 택배원그룹))\n",
        "        시간 += 1\n",
        "    시간 += max(택배원그룹)\n",
        "    return 시간\n",
        "\n",
        "배달인원 = 3\n",
        "배달시간 = [1,2,1,3,3,3]\n",
        "solution(배달인원, 배달시간)"
      ],
      "metadata": {
        "id": "sOhG3736xhi0"
      },
      "execution_count": null,
      "outputs": []
    },
    {
      "cell_type": "markdown",
      "source": [
        "### 98번."
      ],
      "metadata": {
        "id": "3QeZFTn1yHAD"
      }
    },
    {
      "cell_type": "markdown",
      "source": [
        "### 99번."
      ],
      "metadata": {
        "id": "VeK0vxH7yGye"
      }
    },
    {
      "cell_type": "markdown",
      "source": [
        "### 100번."
      ],
      "metadata": {
        "id": "rNSLIWFGyGi4"
      }
    }
  ]
}