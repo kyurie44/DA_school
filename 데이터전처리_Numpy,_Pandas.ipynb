{
  "nbformat": 4,
  "nbformat_minor": 0,
  "metadata": {
    "colab": {
      "provenance": [],
      "toc_visible": true
    },
    "kernelspec": {
      "name": "python3",
      "display_name": "Python 3"
    },
    "language_info": {
      "name": "python"
    }
  },
  "cells": [
    {
      "cell_type": "markdown",
      "source": [
        "# Numpy 모듈 \n",
        "* 파이썬 라이브러리 중 하나 -> 주로 과학 연산에 사용 \n",
        "* 배열(행렬 - 선행대수) 기능 \n",
        "* 대용량 데이터 다룰때 - 선행대수, 푸리에 변환 ... 같은 수학함수에 최적화됨 \n"
      ],
      "metadata": {
        "id": "pLcQzmXiyz5E"
      }
    },
    {
      "cell_type": "code",
      "execution_count": 1,
      "metadata": {
        "id": "3m8-v2R5vcGC"
      },
      "outputs": [],
      "source": [
        "import numpy as np "
      ]
    },
    {
      "cell_type": "code",
      "source": [
        "# array - 결국 행렬 뜻함 \n",
        "# 1차원: 행만/ 2차원: 행,열/ 3차원: 행,열,면  \n",
        "\n",
        "a = np.array([1,2,3,4])  #1차원 배열 생성 \n",
        "print(a)"
      ],
      "metadata": {
        "colab": {
          "base_uri": "https://localhost:8080/"
        },
        "id": "wrO9klTl13Un",
        "outputId": "7a7b7796-3767-4955-c042-cc311ac77966"
      },
      "execution_count": 3,
      "outputs": [
        {
          "output_type": "stream",
          "name": "stdout",
          "text": [
            "[1 2 3 4]\n"
          ]
        }
      ]
    },
    {
      "cell_type": "code",
      "source": [
        "l = [1,2,3,4]\n",
        "print(l)         #리스트와 다름 "
      ],
      "metadata": {
        "colab": {
          "base_uri": "https://localhost:8080/"
        },
        "id": "Zx8uvkTVyzWA",
        "outputId": "e21481cf-d95a-42b4-e000-4b122809fecb"
      },
      "execution_count": 4,
      "outputs": [
        {
          "output_type": "stream",
          "name": "stdout",
          "text": [
            "[1, 2, 3, 4]\n"
          ]
        }
      ]
    },
    {
      "cell_type": "code",
      "source": [
        "print(a.shape)\n",
        "print(a.ndim)     #차원 \n",
        "print(a.dtype)    #data type \n",
        "print(a.itemsize) #바이트 단위 크기 "
      ],
      "metadata": {
        "colab": {
          "base_uri": "https://localhost:8080/"
        },
        "id": "eNp8I0DxyzS8",
        "outputId": "acdfd405-b9ab-4fc7-ed62-cabbcc2b70a5"
      },
      "execution_count": 8,
      "outputs": [
        {
          "output_type": "stream",
          "name": "stdout",
          "text": [
            "(4,)\n",
            "1\n",
            "int64\n",
            "8\n"
          ]
        }
      ]
    },
    {
      "cell_type": "code",
      "source": [
        "#2차원 배열 생성\n",
        "b = np.array([[1,2], [3,4]])   #꺽새가 차원이라 수가 생각하면 편함 \n",
        "print(b)"
      ],
      "metadata": {
        "colab": {
          "base_uri": "https://localhost:8080/"
        },
        "id": "idO7bsNt3Ljf",
        "outputId": "d804becf-d865-46d8-8119-15a3c714cc33"
      },
      "execution_count": 10,
      "outputs": [
        {
          "output_type": "stream",
          "name": "stdout",
          "text": [
            "[[1 2]\n",
            " [3 4]]\n"
          ]
        }
      ]
    },
    {
      "cell_type": "code",
      "source": [
        "print(b.ndim)\n",
        "print(b.dtype)\n",
        "print(b.itemsize)\n",
        "print(b.nbytes)"
      ],
      "metadata": {
        "colab": {
          "base_uri": "https://localhost:8080/"
        },
        "id": "sPGsyRj43Lgi",
        "outputId": "1f9b8eff-2fac-47a2-f3ef-e699b5c1a3e4"
      },
      "execution_count": 13,
      "outputs": [
        {
          "output_type": "stream",
          "name": "stdout",
          "text": [
            "2\n",
            "int64\n",
            "8\n",
            "32\n"
          ]
        }
      ]
    },
    {
      "cell_type": "code",
      "source": [
        "#3차원 배열 생성 \n",
        "c = np.array([[[1,2], [3,4]], [[5,6], [7,8]]])  #2차원 데이터 나눔 \n",
        "\n",
        "print(c)\n",
        "print(c.ndim)\n",
        "print(c.dtype)\n",
        "print(c.itemsize)\n",
        "print(c.nbytes)"
      ],
      "metadata": {
        "colab": {
          "base_uri": "https://localhost:8080/"
        },
        "id": "_jPF3jy93LdE",
        "outputId": "27fdecbe-cada-4c51-f15c-ca8085dbab3b"
      },
      "execution_count": 15,
      "outputs": [
        {
          "output_type": "stream",
          "name": "stdout",
          "text": [
            "[[[1 2]\n",
            "  [3 4]]\n",
            "\n",
            " [[5 6]\n",
            "  [7 8]]]\n",
            "3\n",
            "int64\n",
            "8\n",
            "64\n"
          ]
        }
      ]
    },
    {
      "cell_type": "code",
      "source": [],
      "metadata": {
        "id": "fB0O8DerUCy3"
      },
      "execution_count": null,
      "outputs": []
    },
    {
      "cell_type": "code",
      "source": [
        "# 하나의 숫자값 : 스칼라\n",
        "\n",
        "s = np.array(1)        #하나의 데이터값이고, 1차원(벡터)와는 다른 것 \n",
        "print(s)"
      ],
      "metadata": {
        "colab": {
          "base_uri": "https://localhost:8080/"
        },
        "id": "AugazdiW4Ot4",
        "outputId": "11d84cc3-82f6-4cd7-d08e-82bcd6997fcb"
      },
      "execution_count": 16,
      "outputs": [
        {
          "output_type": "stream",
          "name": "stdout",
          "text": [
            "1\n"
          ]
        }
      ]
    },
    {
      "cell_type": "code",
      "source": [
        "#1차원 :벡터\n",
        "v = np.array([1,2,3])\n",
        "print(v)"
      ],
      "metadata": {
        "colab": {
          "base_uri": "https://localhost:8080/"
        },
        "id": "hx_zfT494OgK",
        "outputId": "c0a3cd8f-d56a-4e69-d07b-07210d8c6595"
      },
      "execution_count": 17,
      "outputs": [
        {
          "output_type": "stream",
          "name": "stdout",
          "text": [
            "[1 2 3]\n"
          ]
        }
      ]
    },
    {
      "cell_type": "code",
      "source": [
        "#2차원 :행렬(Matrix)\n",
        "\n",
        "m = np.array([[1,2,3], [1,2,3]])\n",
        "print(m)"
      ],
      "metadata": {
        "colab": {
          "base_uri": "https://localhost:8080/"
        },
        "id": "Qo9pEbyT5Ohf",
        "outputId": "f4138f69-2e6e-4b09-f814-d6bde6e540f1"
      },
      "execution_count": 18,
      "outputs": [
        {
          "output_type": "stream",
          "name": "stdout",
          "text": [
            "[[1 2 3]\n",
            " [1 2 3]]\n"
          ]
        }
      ]
    },
    {
      "cell_type": "code",
      "source": [
        "#3차원 :텐서(Tensor)\n",
        "\n",
        "t = np.array([[[1,2], [1,2,]], [[1,2], [1,2]]])\n",
        "print(t)"
      ],
      "metadata": {
        "colab": {
          "base_uri": "https://localhost:8080/"
        },
        "id": "MQ7ig3BX5uId",
        "outputId": "f1c1cd3f-fcf1-4a15-cd98-100ed663b098"
      },
      "execution_count": 20,
      "outputs": [
        {
          "output_type": "stream",
          "name": "stdout",
          "text": [
            "[[[1 2]\n",
            "  [1 2]]\n",
            "\n",
            " [[1 2]\n",
            "  [1 2]]]\n"
          ]
        }
      ]
    },
    {
      "cell_type": "code",
      "source": [
        "## 용어는 정리해두기 "
      ],
      "metadata": {
        "id": "SSHZuiqA56PC"
      },
      "execution_count": null,
      "outputs": []
    },
    {
      "cell_type": "code",
      "source": [
        "#for문 이용해서 배열생성\n",
        "\n",
        "f = np.array([i for i in range(0,10,2)])\n",
        "print(f)"
      ],
      "metadata": {
        "colab": {
          "base_uri": "https://localhost:8080/"
        },
        "id": "4n0FnMIe5OeE",
        "outputId": "f8bcd260-98b8-48a2-c9ea-07c96a56d349"
      },
      "execution_count": 22,
      "outputs": [
        {
          "output_type": "stream",
          "name": "stdout",
          "text": [
            "[0 2 4 6 8]\n"
          ]
        }
      ]
    },
    {
      "cell_type": "code",
      "source": [
        "print(f)\n",
        "print(f.ndim)\n",
        "print(f.dtype)\n",
        "print(f.itemsize)\n",
        "print(f.nbytes)"
      ],
      "metadata": {
        "colab": {
          "base_uri": "https://localhost:8080/"
        },
        "id": "AYXjIA3O6yUN",
        "outputId": "d8804bc0-f3e9-4e0d-de66-bd1ad12afa6c"
      },
      "execution_count": 23,
      "outputs": [
        {
          "output_type": "stream",
          "name": "stdout",
          "text": [
            "[0 2 4 6 8]\n",
            "1\n",
            "int64\n",
            "8\n",
            "40\n"
          ]
        }
      ]
    },
    {
      "cell_type": "markdown",
      "source": [
        "## numpy에서의 데이터 타입\n",
        "* 숫자형 - 가장 많이 사용됨 \n",
        "* 문자형\n",
        "* 논리형 "
      ],
      "metadata": {
        "id": "6l440Nta7nWm"
      }
    },
    {
      "cell_type": "markdown",
      "source": [
        "### 숫자형\n",
        "* 부호가 있는 정수 (signed integer) :음수가 있 - int\n",
        "* 부호가 없는 정수 (Unsigned integer) : 음수가 없 -uint\n",
        "* 실수 (floating point) - float\n",
        "* 복소수 (complex) - complex"
      ],
      "metadata": {
        "id": "OLextLKF-mv7"
      }
    },
    {
      "cell_type": "code",
      "source": [
        "#int (8bit/ 16bit/ 32bit/ 64bit)   #데이터 저장범위가 다른것 \n",
        "\n",
        "data = [1.1,2,3]\n",
        "i = np.array(data, dtype = np.int32)   #int형으로 강제로 주었기에 실수 > 정수로 바뀜 \n",
        "print(i)"
      ],
      "metadata": {
        "colab": {
          "base_uri": "https://localhost:8080/"
        },
        "id": "x3q5kmXe7pUo",
        "outputId": "8b12c221-604b-45b4-d035-e8cf7d55891a"
      },
      "execution_count": 24,
      "outputs": [
        {
          "output_type": "stream",
          "name": "stdout",
          "text": [
            "[1 2 3]\n"
          ]
        }
      ]
    },
    {
      "cell_type": "code",
      "source": [
        "data2 = [-1,2,3]\n",
        "\n",
        "ui = np.array(data2, dtype = np.uint32)  #uint 32(0-4,294,967,295 범위임)  #-1 (초과값)이기에 맨 뒤에꺼가 출력된것  \n",
        "print(ui)                                #따라서 이상하게 들어가면 데이터범위, 데이터타입 확인해볼 필요 있음! "
      ],
      "metadata": {
        "colab": {
          "base_uri": "https://localhost:8080/"
        },
        "id": "-me66QwM7rPn",
        "outputId": "5ffddd94-3e0e-4c19-9990-f4d87af63aa7"
      },
      "execution_count": 66,
      "outputs": [
        {
          "output_type": "stream",
          "name": "stdout",
          "text": [
            "[4294967295          2          3]\n"
          ]
        }
      ]
    },
    {
      "cell_type": "code",
      "source": [
        "#실수형\n",
        "f = np.array(data, dtype = np.float64)\n",
        "print(f)     #역시 정수형 > .0 실수형으로 "
      ],
      "metadata": {
        "colab": {
          "base_uri": "https://localhost:8080/"
        },
        "id": "f6Zv5fu0BFOL",
        "outputId": "93e01e05-13d2-488e-c559-58056ec14fa9"
      },
      "execution_count": 25,
      "outputs": [
        {
          "output_type": "stream",
          "name": "stdout",
          "text": [
            "[1.1 2.  3. ]\n"
          ]
        }
      ]
    },
    {
      "cell_type": "code",
      "source": [
        "#복소수\n",
        "c = np.array([1+2j, 3+4j, 5+6j], dtype = np.complex64)"
      ],
      "metadata": {
        "id": "j22nRMYK7rNf"
      },
      "execution_count": 27,
      "outputs": []
    },
    {
      "cell_type": "code",
      "source": [
        "print(c.real)  #실수\n",
        "print(c.imag)  #허수 - j 앞 "
      ],
      "metadata": {
        "colab": {
          "base_uri": "https://localhost:8080/"
        },
        "id": "o4tP64W9Bw0e",
        "outputId": "52962d86-5c29-4b35-e868-0721f47b635b"
      },
      "execution_count": 28,
      "outputs": [
        {
          "output_type": "stream",
          "name": "stdout",
          "text": [
            "[1. 3. 5.]\n",
            "[2. 4. 6.]\n"
          ]
        }
      ]
    },
    {
      "cell_type": "markdown",
      "source": [
        "### 문자형 \n",
        "* string_\n",
        "* unicode_"
      ],
      "metadata": {
        "id": "GOS5dpvVCT-z"
      }
    },
    {
      "cell_type": "code",
      "source": [
        "#string_\n",
        "data = [1,2,3]\n",
        "\n",
        "s = np.string_(data)\n",
        "print(s)              #byte 표기법으로 보여준것 "
      ],
      "metadata": {
        "colab": {
          "base_uri": "https://localhost:8080/"
        },
        "id": "hQ-B63j17rK0",
        "outputId": "56b3ccfd-f215-46c1-9d6a-7e0852b548bc"
      },
      "execution_count": 29,
      "outputs": [
        {
          "output_type": "stream",
          "name": "stdout",
          "text": [
            "b'\\x01\\x02\\x03'\n"
          ]
        }
      ]
    },
    {
      "cell_type": "code",
      "source": [
        "print(s.dtype)        #S3 : string 3단어"
      ],
      "metadata": {
        "colab": {
          "base_uri": "https://localhost:8080/"
        },
        "id": "9_wA0oBxCcCL",
        "outputId": "313cde25-98e6-459a-96dc-5b3fc4a80de3"
      },
      "execution_count": 30,
      "outputs": [
        {
          "output_type": "stream",
          "name": "stdout",
          "text": [
            "|S3\n"
          ]
        }
      ]
    },
    {
      "cell_type": "code",
      "source": [
        "data3 = [1,2,3,4,5]\n",
        "\n",
        "s2 = np.string_(data3)      #s2 = np.array(data3, dtype = 'S')랑 같음 - 보는게 편해야할때\n",
        "\n",
        "print(s2)\n",
        "print(s2.dtype)"
      ],
      "metadata": {
        "colab": {
          "base_uri": "https://localhost:8080/"
        },
        "id": "ABCajbrt_zdF",
        "outputId": "9d373c68-b19d-4191-ab41-9544b4b55032"
      },
      "execution_count": 33,
      "outputs": [
        {
          "output_type": "stream",
          "name": "stdout",
          "text": [
            "b'\\x01\\x02\\x03\\x04\\x05'\n",
            "|S5\n"
          ]
        }
      ]
    },
    {
      "cell_type": "code",
      "source": [
        "#unicode_\n",
        "\n",
        "u = np.array(data3, dtype='U')\n",
        "\n",
        "print(u)                        #string이랑 다른 점 - 식별가능하게 나옴 \n",
        "print(u.dtype)                  #한자리 뜻함 (1,2,3 이런거..)"
      ],
      "metadata": {
        "colab": {
          "base_uri": "https://localhost:8080/"
        },
        "id": "Hxl2D9R8C6y2",
        "outputId": "7360ae73-525a-4f91-ae62-9d3ae953d8b6"
      },
      "execution_count": 35,
      "outputs": [
        {
          "output_type": "stream",
          "name": "stdout",
          "text": [
            "['1' '2' '3' '4' '5']\n",
            "<U1\n"
          ]
        }
      ]
    },
    {
      "cell_type": "markdown",
      "source": [
        "### 논리형 (boolean)\n",
        "* True(1), False(0)\n",
        "* 비트 연산 사용 : &, | or, ^ xor, ~ not"
      ],
      "metadata": {
        "id": "hQCEP_j4EGWG"
      }
    },
    {
      "cell_type": "code",
      "source": [
        "l1 = np.array([True, False, True])  #논리형 배열 생성\n",
        "l2 = np.array([False, True, False])\n",
        "\n",
        "print(l1.dtype)\n",
        "print(l2.dtype)"
      ],
      "metadata": {
        "colab": {
          "base_uri": "https://localhost:8080/"
        },
        "id": "xM3CpdIZ7rHo",
        "outputId": "8a627a36-4ea1-4988-c2d0-254f08697aaf"
      },
      "execution_count": 36,
      "outputs": [
        {
          "output_type": "stream",
          "name": "stdout",
          "text": [
            "bool\n",
            "bool\n"
          ]
        }
      ]
    },
    {
      "cell_type": "code",
      "source": [
        "#and 연산\n",
        "\n",
        "and_ = np.logical_and(l1,l2)   #둘다 T여야하니까 False\n",
        "print(and_)"
      ],
      "metadata": {
        "colab": {
          "base_uri": "https://localhost:8080/"
        },
        "id": "sB10I_ENEJAx",
        "outputId": "cfdb2c79-88d1-40a9-d031-1237f4e3817c"
      },
      "execution_count": 38,
      "outputs": [
        {
          "output_type": "stream",
          "name": "stdout",
          "text": [
            "[False False False]\n"
          ]
        }
      ]
    },
    {
      "cell_type": "markdown",
      "source": [
        "### 데이터 형변환 (Cast, Casting 형변환)\n",
        "* 데이터끼리 형태를 맞춰야 일단 계산할 수 있기에 \n",
        "* 예시. 이미지 데이터 불러옴 > uint형으로 불러옴 > float로 분석 \n",
        "(uint는 부호가 없는 정수형/ 이미지는 rgb로 0-455 니까 음수 필요없으니까)"
      ],
      "metadata": {
        "id": "6DBpH9icHpG7"
      }
    },
    {
      "cell_type": "code",
      "source": [
        "data = [1.1,2,3]\n",
        "\n",
        "a = np.float64(data)   #방법1 - np.데이터타입 \n",
        "print(a)\n",
        "print(a.dtype)"
      ],
      "metadata": {
        "colab": {
          "base_uri": "https://localhost:8080/"
        },
        "id": "4rn5dwjVEzyi",
        "outputId": "c262c28e-0d71-473e-d719-97b190f065b1"
      },
      "execution_count": 40,
      "outputs": [
        {
          "output_type": "stream",
          "name": "stdout",
          "text": [
            "[1.1 2.  3. ]\n",
            "float64\n"
          ]
        }
      ]
    },
    {
      "cell_type": "code",
      "source": [
        "a = a.astype(np.int64)  #2 - .astype(데이터타입)\n",
        "\n",
        "print(a)\n",
        "print(a.dtype)"
      ],
      "metadata": {
        "colab": {
          "base_uri": "https://localhost:8080/"
        },
        "id": "fDMYWstKN-mK",
        "outputId": "8e6105f1-0d02-4882-f513-32421ff76bfa"
      },
      "execution_count": 41,
      "outputs": [
        {
          "output_type": "stream",
          "name": "stdout",
          "text": [
            "[1 2 3]\n",
            "int64\n"
          ]
        }
      ]
    },
    {
      "cell_type": "code",
      "source": [
        "b = np.uint16(0)    #부호가 없으니까 0이 제일 작은값 \n",
        "\n",
        "print(b)\n",
        "print(b.dtype)"
      ],
      "metadata": {
        "colab": {
          "base_uri": "https://localhost:8080/"
        },
        "id": "brKHDnZsEI9m",
        "outputId": "d916d69a-067f-4a0a-d1c5-6312589747c6"
      },
      "execution_count": 44,
      "outputs": [
        {
          "output_type": "stream",
          "name": "stdout",
          "text": [
            "0\n",
            "uint16\n"
          ]
        }
      ]
    },
    {
      "cell_type": "code",
      "source": [
        "b=b-1              #빼주니까(값 있는거 연산하니까) int형으로 자동으로 바꿔서 빼준것   \n",
        "print(b)\n",
        "print(b.dtype)"
      ],
      "metadata": {
        "colab": {
          "base_uri": "https://localhost:8080/"
        },
        "id": "YsdfbmVtOjFo",
        "outputId": "a01a0f17-8427-40bf-a194-8defc60e664d"
      },
      "execution_count": 46,
      "outputs": [
        {
          "output_type": "stream",
          "name": "stdout",
          "text": [
            "-1\n",
            "int64\n"
          ]
        }
      ]
    },
    {
      "cell_type": "code",
      "source": [
        "c = np.uint16(-1)   #uint16: 0~65,535 범위 \n",
        "print(c)"
      ],
      "metadata": {
        "colab": {
          "base_uri": "https://localhost:8080/"
        },
        "id": "o7kUAHxgPyl5",
        "outputId": "3c9c3bd2-14c7-42c7-8e77-3c6323a92a32"
      },
      "execution_count": 47,
      "outputs": [
        {
          "output_type": "stream",
          "name": "stdout",
          "text": [
            "65535\n"
          ]
        }
      ]
    },
    {
      "cell_type": "markdown",
      "source": [
        "## numpy의 산술연산"
      ],
      "metadata": {
        "id": "IkbU9R-YQhXm"
      }
    },
    {
      "cell_type": "code",
      "source": [
        "import time\n",
        "\n",
        "data = [[1,2,3], [4,5,6]]\n",
        "data2 = [[1,1,1], [2,2,2], [3,3,3]]\n",
        "\n",
        "start_time = time.time()  #걸리는 시간 측정해서 저장함 \n",
        "\n",
        "for i in range(len(data)):      #0,1까지 돌고\n",
        "  for j in range(len(data[0])): #0,1,2번째 값까지 돌도록 \n",
        "    #print('i: ',i, 'j: ',j )    #값이 아니라 인덱스 값만\n",
        "    sum += data[i][j]\n",
        "\n",
        "print(sum)"
      ],
      "metadata": {
        "colab": {
          "base_uri": "https://localhost:8080/"
        },
        "id": "2yHUk1hlpBo9",
        "outputId": "215ae302-730b-47ad-b09d-98db307a86d4"
      },
      "execution_count": 15,
      "outputs": [
        {
          "output_type": "stream",
          "name": "stdout",
          "text": [
            "i:  0 j:  0\n",
            "i:  0 j:  1\n",
            "i:  0 j:  2\n",
            "i:  1 j:  0\n",
            "i:  1 j:  1\n",
            "i:  1 j:  2\n",
            "[68 70 72]\n"
          ]
        }
      ]
    },
    {
      "cell_type": "code",
      "source": [
        "data = [[1,2,3], [4,5,6]]\n",
        "data2 = [[1,1,1], [2,2,2], [3,3,3]]\n",
        "\n",
        "len(data[0])"
      ],
      "metadata": {
        "colab": {
          "base_uri": "https://localhost:8080/"
        },
        "id": "nb9g5mrAQl3q",
        "outputId": "38a03708-149f-4f14-a6c5-a67945ee15ae"
      },
      "execution_count": 51,
      "outputs": [
        {
          "output_type": "execute_result",
          "data": {
            "text/plain": [
              "3"
            ]
          },
          "metadata": {},
          "execution_count": 51
        }
      ]
    },
    {
      "cell_type": "code",
      "source": [],
      "metadata": {
        "id": "q1tXKcDxU0cI"
      },
      "execution_count": null,
      "outputs": []
    },
    {
      "cell_type": "code",
      "source": [
        "a = np.array([1,2,3])\n",
        "b = np.array([4,5,6])\n",
        "\n",
        "#덧셈\n",
        "sum = a+b\n",
        "min = a-b\n",
        "mul = a*b\n",
        "div = a/b\n",
        "\n",
        "print(sum, min, mul, div)                     #numpy에서 행렬 계산으로 for문보다 더 쉽게 계산 가능 "
      ],
      "metadata": {
        "colab": {
          "base_uri": "https://localhost:8080/"
        },
        "id": "SgrGi0YMQlyC",
        "outputId": "1c2b4660-4fce-4cf1-df48-c0d39c02c1bb"
      },
      "execution_count": 6,
      "outputs": [
        {
          "output_type": "stream",
          "name": "stdout",
          "text": [
            "[5 7 9] [-3 -3 -3] [ 4 10 18] [0.25 0.4  0.5 ]\n"
          ]
        }
      ]
    },
    {
      "cell_type": "code",
      "source": [
        "#지수 계산 - exp     \n",
        "      \n",
        "aa = np.exp(a)\n",
        "print(aa)"
      ],
      "metadata": {
        "colab": {
          "base_uri": "https://localhost:8080/"
        },
        "id": "PTxBtGe4VT4B",
        "outputId": "9eeba1bf-55f9-48fc-d3e5-ca69c9e5c9c0"
      },
      "execution_count": 7,
      "outputs": [
        {
          "output_type": "stream",
          "name": "stdout",
          "text": [
            "[ 2.71828183  7.3890561  20.08553692]\n"
          ]
        }
      ]
    },
    {
      "cell_type": "code",
      "source": [
        "#자연로그 :밑이 e - log\n",
        "\n",
        "bb = np.log(b)   \n",
        "print(bb)"
      ],
      "metadata": {
        "colab": {
          "base_uri": "https://localhost:8080/"
        },
        "id": "tWAJet_MVbDk",
        "outputId": "42a80810-7b23-452b-f7b9-4a85f5589400"
      },
      "execution_count": 8,
      "outputs": [
        {
          "output_type": "stream",
          "name": "stdout",
          "text": [
            "[1.38629436 1.60943791 1.79175947]\n"
          ]
        }
      ]
    },
    {
      "cell_type": "code",
      "source": [
        "#밑이 2인 로그 - log2\n",
        "\n",
        "cc = np.log2(b)  \n",
        "print(cc)"
      ],
      "metadata": {
        "colab": {
          "base_uri": "https://localhost:8080/"
        },
        "id": "p30FxUH6Vu_z",
        "outputId": "a71d0979-8729-40a6-fa40-07a30aa5befa"
      },
      "execution_count": 9,
      "outputs": [
        {
          "output_type": "stream",
          "name": "stdout",
          "text": [
            "[2.         2.32192809 2.5849625 ]\n"
          ]
        }
      ]
    },
    {
      "cell_type": "code",
      "source": [
        "#삼각함수 \n",
        "d = np.array([0, np.pi/2, np.pi])\n",
        "\n",
        "sin_ = np.sin(d)\n",
        "cos_ = np.cos(d)\n",
        "tan_ = np.tan(d)\n",
        "\n",
        "print(sin_)\n",
        "print(cos_)\n",
        "print(tan_)"
      ],
      "metadata": {
        "colab": {
          "base_uri": "https://localhost:8080/"
        },
        "id": "VIO7TcuUV-p-",
        "outputId": "a7e97b87-9fe9-4c2a-b3ef-080632738c8c"
      },
      "execution_count": 12,
      "outputs": [
        {
          "output_type": "stream",
          "name": "stdout",
          "text": [
            "[0.0000000e+00 1.0000000e+00 1.2246468e-16]\n",
            "[ 1.000000e+00  6.123234e-17 -1.000000e+00]\n",
            "[ 0.00000000e+00  1.63312394e+16 -1.22464680e-16]\n"
          ]
        }
      ]
    },
    {
      "cell_type": "code",
      "source": [
        "## 있다는 것만 알면 됨/ 나중에 필요할때 찾아볼 수 있도록"
      ],
      "metadata": {
        "id": "eXzNhEyyWieU"
      },
      "execution_count": null,
      "outputs": []
    },
    {
      "cell_type": "markdown",
      "source": [
        "## 배열의 연결과 분할"
      ],
      "metadata": {
        "id": "TTfscs-SqN0P"
      }
    },
    {
      "cell_type": "code",
      "source": [
        "x = [1,2,3]\n",
        "y = [4,5,6]\n",
        "\n",
        "#더하려면 차원수 같아야!\n",
        "concat = np.concatenate([x,y])   #연결 \n",
        "print(concat)"
      ],
      "metadata": {
        "colab": {
          "base_uri": "https://localhost:8080/"
        },
        "id": "G1YJ0OtFWfaV",
        "outputId": "19948a8d-2dd3-4763-de4d-bf90e39731ab"
      },
      "execution_count": 17,
      "outputs": [
        {
          "output_type": "stream",
          "name": "stdout",
          "text": [
            "[1 2 3 4 5 6]\n"
          ]
        }
      ]
    },
    {
      "cell_type": "code",
      "source": [
        "##병합1 - concatenate\n",
        "\n",
        "x2 = [[1,2], [3,4]]     #2x2 \n",
        "y2 = [[4,5], [6,7]]\n",
        "\n",
        "concat2 = np.concatenate([x2,y2], axis = 1)  #열로 병합(=열이 늘어남)\n",
        "#concat2 = np.concatenate([x2,y2], axis = 0)  #행으로 병합(=행이 늘어남)\n",
        "print(concat2)"
      ],
      "metadata": {
        "colab": {
          "base_uri": "https://localhost:8080/"
        },
        "id": "hh5RuZclqr00",
        "outputId": "349b159c-7993-467c-9261-fbf1318d943c"
      },
      "execution_count": 20,
      "outputs": [
        {
          "output_type": "stream",
          "name": "stdout",
          "text": [
            "[[1 2 4 5]\n",
            " [3 4 6 7]]\n"
          ]
        }
      ]
    },
    {
      "cell_type": "code",
      "source": [
        "arr = np.arange(10)\n",
        "print(arr)\n",
        "\n",
        "arr.reshape(2,5)          #2행 5열로 모양 바꿔줌 > 이렇게 맞춰서 병합해야할수도!  ##"
      ],
      "metadata": {
        "colab": {
          "base_uri": "https://localhost:8080/"
        },
        "id": "ADgFHFf_rDOc",
        "outputId": "a2601874-8e22-4df9-a602-359dab44e89b"
      },
      "execution_count": 23,
      "outputs": [
        {
          "output_type": "stream",
          "name": "stdout",
          "text": [
            "[0 1 2 3 4 5 6 7 8 9]\n"
          ]
        },
        {
          "output_type": "execute_result",
          "data": {
            "text/plain": [
              "array([[0, 1, 2, 3, 4],\n",
              "       [5, 6, 7, 8, 9]])"
            ]
          },
          "metadata": {},
          "execution_count": 23
        }
      ]
    },
    {
      "cell_type": "code",
      "source": [
        "##병합2 - hstack/ vstack\n",
        "\n",
        "#hstack : horizontal 수평 \n",
        "#vstack : vertical 수직\n",
        "\n",
        "h = np.hstack([x2,y2])\n",
        "print(h)                  #옆으로/ 수평 - 열로 붙음 "
      ],
      "metadata": {
        "colab": {
          "base_uri": "https://localhost:8080/"
        },
        "id": "OI32XuazszXO",
        "outputId": "a396280b-ae7a-4998-e121-cd49230f9999"
      },
      "execution_count": 24,
      "outputs": [
        {
          "output_type": "stream",
          "name": "stdout",
          "text": [
            "[[1 2 4 5]\n",
            " [3 4 6 7]]\n"
          ]
        }
      ]
    },
    {
      "cell_type": "code",
      "source": [
        "v = np.vstack([x2,y2])\n",
        "print(v)                  #밑으로/ 수직 - 행으로 붙음 "
      ],
      "metadata": {
        "colab": {
          "base_uri": "https://localhost:8080/"
        },
        "id": "1c_6gqPxuvVU",
        "outputId": "c7e9dc9e-eac6-4038-dfa3-ae19a2a679e3"
      },
      "execution_count": 25,
      "outputs": [
        {
          "output_type": "stream",
          "name": "stdout",
          "text": [
            "[[1 2]\n",
            " [3 4]\n",
            " [4 5]\n",
            " [6 7]]\n"
          ]
        }
      ]
    },
    {
      "cell_type": "code",
      "source": [],
      "metadata": {
        "id": "OSsOe5D9u9bg"
      },
      "execution_count": null,
      "outputs": []
    },
    {
      "cell_type": "code",
      "source": [
        "##분할1 - hsplit/ vsplit \n",
        "\n",
        "x2 = np.array([[1,2], [3,4], [5,6]])  #dim없다고 나와서 array로 만들어줌 \n",
        "\n",
        "h2 = np.hsplit(x2,2)   #수평방향의 행을 자르는 것 #따라서 열로 잘림 \n",
        "print(h2)"
      ],
      "metadata": {
        "colab": {
          "base_uri": "https://localhost:8080/"
        },
        "id": "CBuzKXCFsuDc",
        "outputId": "99577e2b-cc7d-4841-b399-dc6a14f47739"
      },
      "execution_count": 30,
      "outputs": [
        {
          "output_type": "stream",
          "name": "stdout",
          "text": [
            "[array([[1],\n",
            "       [3],\n",
            "       [5]]), array([[2],\n",
            "       [4],\n",
            "       [6]])]\n"
          ]
        }
      ]
    },
    {
      "cell_type": "code",
      "source": [
        "v2 = np.vsplit(x2,3)\n",
        "print(v2)"
      ],
      "metadata": {
        "colab": {
          "base_uri": "https://localhost:8080/"
        },
        "id": "7n2Ake5JwWS3",
        "outputId": "af1f6f43-9e8f-4236-eb75-c8fe0c9bd8ad"
      },
      "execution_count": 31,
      "outputs": [
        {
          "output_type": "stream",
          "name": "stdout",
          "text": [
            "[array([[1, 2]]), array([[3, 4]]), array([[5, 6]])]\n"
          ]
        }
      ]
    },
    {
      "cell_type": "markdown",
      "source": [
        "## 다양한 배열"
      ],
      "metadata": {
        "id": "CThL4qPC2Zwh"
      }
    },
    {
      "cell_type": "code",
      "source": [
        "#0행렬 -.zeros\n",
        "\n",
        "zero = np.zeros([3,4])     #[3,4,2]하면 3차원 행렬 \n",
        "print(zero)"
      ],
      "metadata": {
        "colab": {
          "base_uri": "https://localhost:8080/"
        },
        "id": "TbttndNJwMwE",
        "outputId": "b230acf4-395c-4143-ebbe-7b64340964c4"
      },
      "execution_count": 32,
      "outputs": [
        {
          "output_type": "stream",
          "name": "stdout",
          "text": [
            "[[0. 0. 0. 0.]\n",
            " [0. 0. 0. 0.]\n",
            " [0. 0. 0. 0.]]\n"
          ]
        }
      ]
    },
    {
      "cell_type": "code",
      "source": [
        "#1행렬 - .ones\n",
        "\n",
        "one = np.ones([3,4])\n",
        "print(one)"
      ],
      "metadata": {
        "colab": {
          "base_uri": "https://localhost:8080/"
        },
        "id": "3ROy4wik2s4G",
        "outputId": "7a752517-dd5f-4cc2-c66b-288c3ae21fa6"
      },
      "execution_count": 33,
      "outputs": [
        {
          "output_type": "stream",
          "name": "stdout",
          "text": [
            "[[1. 1. 1. 1.]\n",
            " [1. 1. 1. 1.]\n",
            " [1. 1. 1. 1.]]\n"
          ]
        }
      ]
    },
    {
      "cell_type": "code",
      "source": [
        "#대각행렬: 대각선1/ 나머지 0  - .eye\n",
        "\n",
        "eye = np.eye(3)\n",
        "print(eye)"
      ],
      "metadata": {
        "colab": {
          "base_uri": "https://localhost:8080/"
        },
        "id": "wFpqnfO-3Iea",
        "outputId": "bb329222-70be-477e-f81c-3e6492770c61"
      },
      "execution_count": 34,
      "outputs": [
        {
          "output_type": "stream",
          "name": "stdout",
          "text": [
            "[[1. 0. 0.]\n",
            " [0. 1. 0.]\n",
            " [0. 0. 1.]]\n"
          ]
        }
      ]
    },
    {
      "cell_type": "markdown",
      "source": [
        "## numpy 제공함수"
      ],
      "metadata": {
        "id": "VKDsB9k94Vse"
      }
    },
    {
      "cell_type": "markdown",
      "source": [
        "### 범용함수"
      ],
      "metadata": {
        "id": "nY6WG4gg5ppa"
      }
    },
    {
      "cell_type": "code",
      "source": [
        "#절댓값 - .abs\n",
        "\n",
        "arr1 = np.array([-1,-2,-3,-4])\n",
        "abs_arr = np.abs(arr1)\n",
        "\n",
        "print(abs_arr)"
      ],
      "metadata": {
        "colab": {
          "base_uri": "https://localhost:8080/"
        },
        "id": "mCOBH5fZ3XG6",
        "outputId": "5fb50033-d067-4fc4-e63c-be7701afc627"
      },
      "execution_count": 36,
      "outputs": [
        {
          "output_type": "stream",
          "name": "stdout",
          "text": [
            "[1 2 3 4]\n"
          ]
        }
      ]
    },
    {
      "cell_type": "code",
      "source": [
        "#제곱근 - .sqrt\n",
        "\n",
        "arr2 = np.array([1,4,9,16])\n",
        "sqrt_arr = np.sqrt(arr2)\n",
        "\n",
        "print(sqrt_arr)"
      ],
      "metadata": {
        "colab": {
          "base_uri": "https://localhost:8080/"
        },
        "id": "08uCee-E48J1",
        "outputId": "89dbaedc-8e85-41b7-d338-48853a910e58"
      },
      "execution_count": 37,
      "outputs": [
        {
          "output_type": "stream",
          "name": "stdout",
          "text": [
            "[1. 2. 3. 4.]\n"
          ]
        }
      ]
    },
    {
      "cell_type": "markdown",
      "source": [
        "### 집계함수"
      ],
      "metadata": {
        "id": "ZKC3F0Zy5rvc"
      }
    },
    {
      "cell_type": "code",
      "source": [
        "#평균 - .mean (실수형)\n",
        "\n",
        "a = np.array([1,2,3,4,5])\n",
        "a_mean = np.mean(a)\n",
        "print(a_mean)"
      ],
      "metadata": {
        "colab": {
          "base_uri": "https://localhost:8080/"
        },
        "id": "ULiY3K5f5dXJ",
        "outputId": "9b8417ea-f7db-4d41-fe48-b7f9a5c32c17"
      },
      "execution_count": 39,
      "outputs": [
        {
          "output_type": "stream",
          "name": "stdout",
          "text": [
            "3.0\n"
          ]
        }
      ]
    },
    {
      "cell_type": "code",
      "source": [
        "#중앙값 - .median (실수형)\n",
        "\n",
        "b = np.array([1,3,5,7,9])\n",
        "b_median = np.median(b)\n",
        "print(b_median)"
      ],
      "metadata": {
        "colab": {
          "base_uri": "https://localhost:8080/"
        },
        "id": "3BRyaV-Oq9zq",
        "outputId": "3761ff19-d9d8-4f69-9ede-342d45bd344a"
      },
      "execution_count": 40,
      "outputs": [
        {
          "output_type": "stream",
          "name": "stdout",
          "text": [
            "5.0\n"
          ]
        }
      ]
    },
    {
      "cell_type": "code",
      "source": [
        "#최솟값 - .argmin (최솟값의 인덱스 반환!)\n",
        "\n",
        "min = np.argmin(d)\n",
        "print(min)"
      ],
      "metadata": {
        "colab": {
          "base_uri": "https://localhost:8080/"
        },
        "id": "rGIuAwcg8JvE",
        "outputId": "ecd84f48-7533-40a0-c586-0846f58b188e"
      },
      "execution_count": 46,
      "outputs": [
        {
          "output_type": "stream",
          "name": "stdout",
          "text": [
            "0\n"
          ]
        }
      ]
    },
    {
      "cell_type": "code",
      "source": [
        "#최댓값 - .argmax (인덱스)\n",
        "max = np.argmax(d)\n",
        "print(max)"
      ],
      "metadata": {
        "colab": {
          "base_uri": "https://localhost:8080/"
        },
        "id": "c4ohlQhS8kkb",
        "outputId": "54868084-f8ec-4131-f96f-5d30595bf952"
      },
      "execution_count": 47,
      "outputs": [
        {
          "output_type": "stream",
          "name": "stdout",
          "text": [
            "4\n"
          ]
        }
      ]
    },
    {
      "cell_type": "code",
      "source": [
        "#표준편차 - .std (실수형)\n",
        "\n",
        "c = np.array([1,2,3,4,5])\n",
        "c_std = np.std(c)\n",
        "print(c_std)"
      ],
      "metadata": {
        "colab": {
          "base_uri": "https://localhost:8080/"
        },
        "id": "tIL3lDke6Kq7",
        "outputId": "fb343600-9631-48b7-f2fb-b8395b65f317"
      },
      "execution_count": 41,
      "outputs": [
        {
          "output_type": "stream",
          "name": "stdout",
          "text": [
            "1.4142135623730951\n"
          ]
        }
      ]
    },
    {
      "cell_type": "code",
      "source": [
        "#분산 - .var (실수형)\n",
        "\n",
        "d = np.array([1,2,3,4,5])\n",
        "d_var = np.var(d)\n",
        "print(d_var)"
      ],
      "metadata": {
        "colab": {
          "base_uri": "https://localhost:8080/"
        },
        "id": "lPJH_d_o6hci",
        "outputId": "f326408b-3daa-4a03-c3dd-eebfc905cbe9"
      },
      "execution_count": 42,
      "outputs": [
        {
          "output_type": "stream",
          "name": "stdout",
          "text": [
            "2.0\n"
          ]
        }
      ]
    },
    {
      "cell_type": "code",
      "source": [
        "#합계 - sum  (값으로 반환)\n",
        "d_sum = np.sum(d)\n",
        "print(d_sum)"
      ],
      "metadata": {
        "colab": {
          "base_uri": "https://localhost:8080/"
        },
        "id": "cIqoiuzn61QG",
        "outputId": "5f86d999-2085-4eed-e7a4-0bdcd514a4cf"
      },
      "execution_count": 43,
      "outputs": [
        {
          "output_type": "stream",
          "name": "stdout",
          "text": [
            "15\n"
          ]
        }
      ]
    },
    {
      "cell_type": "code",
      "source": [
        "#누적합계 - cumsum (배열형태로 반환!)\n",
        "\n",
        "d_cumsum = np.cumsum(d)\n",
        "print(d_cumsum)"
      ],
      "metadata": {
        "colab": {
          "base_uri": "https://localhost:8080/"
        },
        "id": "BPtbbIC36_0q",
        "outputId": "a638f998-30f4-4348-ca92-069bc2652958"
      },
      "execution_count": 44,
      "outputs": [
        {
          "output_type": "stream",
          "name": "stdout",
          "text": [
            "[ 1  3  6 10 15]\n"
          ]
        }
      ]
    },
    {
      "cell_type": "code",
      "source": [],
      "metadata": {
        "id": "FhAEpb8B7NjT"
      },
      "execution_count": null,
      "outputs": []
    },
    {
      "cell_type": "code",
      "source": [
        "#배열 안 True 하나라도 있는지 - .any\n",
        "\n",
        "a = np.array([0,0,0,1])\n",
        "\n",
        "a_true = np.any(a)\n",
        "print(a_true)"
      ],
      "metadata": {
        "colab": {
          "base_uri": "https://localhost:8080/"
        },
        "id": "apy2FVG_6IRp",
        "outputId": "584153a6-dadb-4e6f-eba0-5560f6da618b"
      },
      "execution_count": 48,
      "outputs": [
        {
          "output_type": "stream",
          "name": "stdout",
          "text": [
            "True\n"
          ]
        }
      ]
    },
    {
      "cell_type": "code",
      "source": [
        "#모든게 1이어야만 True - .all\n",
        "\n",
        "a_all = np.all(a)\n",
        "print(a_all)"
      ],
      "metadata": {
        "colab": {
          "base_uri": "https://localhost:8080/"
        },
        "id": "ji2syV1b88md",
        "outputId": "b73da37a-47a4-4a33-cb7a-15d602221036"
      },
      "execution_count": 50,
      "outputs": [
        {
          "output_type": "stream",
          "name": "stdout",
          "text": [
            "False\n"
          ]
        }
      ]
    },
    {
      "cell_type": "code",
      "source": [],
      "metadata": {
        "id": "U25J2aby9e6z"
      },
      "execution_count": null,
      "outputs": []
    },
    {
      "cell_type": "code",
      "source": [
        "#NaN (not a number) - .nan / nansum:nan을 0으로 대체하여 sum\n",
        "\n",
        "a= np.array([1,2, np.nan, 4])\n",
        "a_nsum = np.nansum(a)\n",
        "sum_ = np.sum(a)            #그냥 sum은 nan 출력됨 \n",
        "\n",
        "print(a_nsum)\n",
        "print(sum_)     "
      ],
      "metadata": {
        "colab": {
          "base_uri": "https://localhost:8080/"
        },
        "id": "szw47MYUqZJ6",
        "outputId": "7dea7291-4916-47dc-e282-c0dcb9815ef7"
      },
      "execution_count": 51,
      "outputs": [
        {
          "output_type": "stream",
          "name": "stdout",
          "text": [
            "7.0\n",
            "nan\n"
          ]
        }
      ]
    },
    {
      "cell_type": "code",
      "source": [
        "#조건에 맞는'값' 반환 - .where\n",
        "d = np.array([1,2,3,4,5])\n",
        "\n",
        "condition1 = np.where(d<3)                                                       #튜플!     \n",
        "condition2 = np.where(d<3, d, 0)  #조건에 맞는 애들 빼고 나머지는 0으로 만들기   #배열! (!= 리스트) \n",
        "print(condition1)\n",
        "print(condition2)"
      ],
      "metadata": {
        "colab": {
          "base_uri": "https://localhost:8080/"
        },
        "id": "gQTCSj0ip0AP",
        "outputId": "e4c3eb86-b706-4bd8-cc2b-a964bc05a518"
      },
      "execution_count": 57,
      "outputs": [
        {
          "output_type": "stream",
          "name": "stdout",
          "text": [
            "(array([0, 1]),)\n",
            "[1 2 0 0 0]\n"
          ]
        }
      ]
    },
    {
      "cell_type": "markdown",
      "source": [
        "## Boolean Indexing\n",
        "* 조건에 따른 요소들을 판별해서 '새로운' 배열 만듦 \n",
        "* 즉 원본데이터는 불변!"
      ],
      "metadata": {
        "id": "rjcl9vMgFYI1"
      }
    },
    {
      "cell_type": "code",
      "source": [
        "a = np.array([1,2,3,4,5,6,7,8,9,10])  #원본 데이터\n",
        "\n",
        "#데이터분석할때 원본데이터는 건들이지 않는다!! \n",
        "#따라서 복사본을 항상 만들어서 분석하기!!! "
      ],
      "metadata": {
        "id": "0L4DC4B9Ah1k"
      },
      "execution_count": 60,
      "outputs": []
    },
    {
      "cell_type": "code",
      "source": [
        "even_a = a[a % 2 == 0]  #boolean indexing #짝수만 \n",
        "print(even_a)\n",
        "print(a)                #원본 데이터는 변하지 않음! "
      ],
      "metadata": {
        "colab": {
          "base_uri": "https://localhost:8080/"
        },
        "id": "oozUmTAAAH8F",
        "outputId": "c64e1da2-9ae4-4c6f-87ed-83a93189dd85"
      },
      "execution_count": 63,
      "outputs": [
        {
          "output_type": "stream",
          "name": "stdout",
          "text": [
            "[ 2  4  6  8 10]\n",
            "[ 1  2  3  4  5  6  7  8  9 10]\n"
          ]
        }
      ]
    },
    {
      "cell_type": "markdown",
      "source": [
        "## Broadcast 브로드캐스트\n",
        "* 크기가 다른 배열간의 연산 가능하게 해줌 \n",
        "* 예시) 1차원, 2차원 \n",
        "\n",
        "* 두 배열의 차원수가 다를경우, 더 작은 차원의 배열에 큰 차원의 배열이 맞을때까지 1을 추가한다. \n",
        "* 두 배열의 차원수가 같을 경우에도 크기가 1인 차원이 있다면, 다른 배열의 크기와 일치하도록 복제된다. \n",
        "* 두 배열의 차원수가 같은 경우에도 모든 차원의 크기가 같거나 1이라면, 모양이 같은 두 배열의 요소간 연산을 한다. "
      ],
      "metadata": {
        "id": "Z8ty0KplICfO"
      }
    },
    {
      "cell_type": "code",
      "source": [
        "a = np.array([1,2,3])\n",
        "b = np.array([4,5,6])\n",
        "\n",
        "c = a+b\n",
        "print(c)    #차원이 동일하기에 그냥 사칙연산 이용하면 됨 "
      ],
      "metadata": {
        "colab": {
          "base_uri": "https://localhost:8080/"
        },
        "id": "QDmQqJcyHE0n",
        "outputId": "2af764d7-fad1-4205-c67a-3a2b414a5ce2"
      },
      "execution_count": 64,
      "outputs": [
        {
          "output_type": "stream",
          "name": "stdout",
          "text": [
            "[5 7 9]\n"
          ]
        }
      ]
    },
    {
      "cell_type": "code",
      "source": [
        "d = np.array([[1], [2], [3]])   #차원 다른데        ##행렬은 2차원부터\n",
        "e = np.array([4,5,6])                                #1차원은 벡터! \n",
        "\n",
        "f = d+e\n",
        "print(f)                        #출력됨 -> numpy의 브로드캐스트 기능! "
      ],
      "metadata": {
        "colab": {
          "base_uri": "https://localhost:8080/"
        },
        "id": "c0omeBWN_7CG",
        "outputId": "e8fa4f5e-8a31-4086-8481-a29b3a4ecae7"
      },
      "execution_count": 65,
      "outputs": [
        {
          "output_type": "stream",
          "name": "stdout",
          "text": [
            "[[5 6 7]\n",
            " [6 7 8]\n",
            " [7 8 9]]\n"
          ]
        }
      ]
    },
    {
      "cell_type": "code",
      "source": [
        "#벡터 1x3으로 바꾸면 \n",
        "[[1,1,1]] "
      ],
      "metadata": {
        "id": "5zrh8nUSJRNe"
      },
      "execution_count": null,
      "outputs": []
    },
    {
      "cell_type": "code",
      "source": [
        "#즉, i) 먼저 같은 차원으로 - e가 벡터이므로 [[]]로 1x3 2차원으로 만듦\n",
        "#    ii) 같은 차원이더라도, 다른 배열의 크기와 일치하도록 복제 - 양쪽에서 크기 1 차원있으므로 3까지 복제됨 \n",
        "[[1 1 1      +   [[4 5 6      =  [[5 6 7  \n",
        "  2 2 2            4 5 6           6 7 8\n",
        "  3 3 3 ]]         4 5 6 ]]        7 8 9 ]]"
      ],
      "metadata": {
        "id": "olTeFPTIhTxb"
      },
      "execution_count": null,
      "outputs": []
    },
    {
      "cell_type": "markdown",
      "source": [
        "##__"
      ],
      "metadata": {
        "id": "A8y6A8dDJYun"
      }
    },
    {
      "cell_type": "markdown",
      "source": [
        "## 난수생성 함수\n",
        "* random"
      ],
      "metadata": {
        "id": "PkWv0H8wBx34"
      }
    },
    {
      "cell_type": "code",
      "source": [
        "import numpy as np "
      ],
      "metadata": {
        "id": "sLr0xcRnB0Vs"
      },
      "execution_count": 1,
      "outputs": []
    },
    {
      "cell_type": "code",
      "source": [
        "#0~1사이 균일분포 뽑아줌 #2x2\n",
        "\n",
        "a = np.random.rand(2,2)   \n",
        "print(a)"
      ],
      "metadata": {
        "colab": {
          "base_uri": "https://localhost:8080/"
        },
        "id": "7c6dI7_8CTgg",
        "outputId": "7946dd4e-2291-4ed0-be30-c3deb6a2c908"
      },
      "execution_count": 3,
      "outputs": [
        {
          "output_type": "stream",
          "name": "stdout",
          "text": [
            "[[0.49610827 0.59622982]\n",
            " [0.44524996 0.32248089]]\n"
          ]
        }
      ]
    },
    {
      "cell_type": "code",
      "source": [
        "#표준 정규분포(평균이 0, 분산이 1) 안에서 랜덤값\n",
        "\n",
        "b = np.random.rand(2,2)    \n",
        "print(b)"
      ],
      "metadata": {
        "colab": {
          "base_uri": "https://localhost:8080/"
        },
        "id": "mUG_pKQeCgxb",
        "outputId": "50266cba-1cf0-4b47-e75c-f7910102640a"
      },
      "execution_count": 85,
      "outputs": [
        {
          "output_type": "stream",
          "name": "stdout",
          "text": [
            "[[0.2805454  0.12706513]\n",
            " [0.497162   0.11636277]]\n"
          ]
        }
      ]
    },
    {
      "cell_type": "code",
      "source": [
        "#많이 사용 \n",
        "#random한 정수값  #(최솟값, 최댓값, size)\n",
        "\n",
        "c = np.random.randint(0,10,size = 5)     \n",
        "print(c)"
      ],
      "metadata": {
        "colab": {
          "base_uri": "https://localhost:8080/"
        },
        "id": "J_YxnWZIDPzI",
        "outputId": "004986b4-d152-49cb-c5f6-30b8b94dc3f6"
      },
      "execution_count": 10,
      "outputs": [
        {
          "output_type": "stream",
          "name": "stdout",
          "text": [
            "[1 8 8 0 9]\n"
          ]
        }
      ]
    },
    {
      "cell_type": "code",
      "source": [
        "c2 = np.random.randint(0,10,size = (2,2))   #size이거는 행렬 만들어줌   \n",
        "print(c2) "
      ],
      "metadata": {
        "id": "rOnDHdRNDhCh"
      },
      "execution_count": null,
      "outputs": []
    },
    {
      "cell_type": "markdown",
      "source": [
        "### shuffle 셔플\n",
        "* 무작위로 값 섞는것 \n",
        "* 원본 자체가 변함/ 복사본 생성이 안됨!! "
      ],
      "metadata": {
        "id": "ogchTb4hEorO"
      }
    },
    {
      "cell_type": "code",
      "source": [
        "d = np.arange(10)       #0-9까지 값 생성 \n",
        "np.random.shuffle(d)    #변수 할당할 필요없음(원래 원본이 변하니까) \n",
        "print(d)"
      ],
      "metadata": {
        "colab": {
          "base_uri": "https://localhost:8080/"
        },
        "id": "qmMy7gbsDPAi",
        "outputId": "c4797f24-f79a-4567-8f4a-c307d21835c8"
      },
      "execution_count": 12,
      "outputs": [
        {
          "output_type": "stream",
          "name": "stdout",
          "text": [
            "[9 2 6 3 5 1 8 0 7 4]\n"
          ]
        }
      ]
    },
    {
      "cell_type": "markdown",
      "source": [
        "### choice"
      ],
      "metadata": {
        "id": "T2XNU9D3Jbj1"
      }
    },
    {
      "cell_type": "code",
      "source": [
        "#choice = np.random.choice(d, 5)           #중복 뽑 허용! \n",
        "#choice = np.random.choice(d, 5, replace = False)  #중복 비허용  \n",
        "choice = np.random.choice(d, 5, p=[0.1,0.3,0.1,0.1,0,0,0.2,0,0.1,0.1]) #지정확률별로 뽑  #전체 확률은 1되어야\n",
        "print(choice)"
      ],
      "metadata": {
        "colab": {
          "base_uri": "https://localhost:8080/"
        },
        "id": "YOzBSx2mIFTj",
        "outputId": "71a51101-0efd-4f98-fd7e-7e196754a2e3"
      },
      "execution_count": 18,
      "outputs": [
        {
          "output_type": "stream",
          "name": "stdout",
          "text": [
            "[9 8 4 2 6]\n"
          ]
        }
      ]
    },
    {
      "cell_type": "markdown",
      "source": [
        "### permutation 순열 (nPr)"
      ],
      "metadata": {
        "id": "kcVvw0EWMh-I"
      }
    },
    {
      "cell_type": "code",
      "source": [
        "#permutation 순열 (nPr)\n",
        "a = np.arange(10)\n",
        "a_p = np.random.permutation(a)  #원본 안바뀜 \n",
        "\n",
        "print(a)\n",
        "print(a_p)"
      ],
      "metadata": {
        "colab": {
          "base_uri": "https://localhost:8080/"
        },
        "id": "tbTLBtMcKViZ",
        "outputId": "1e0925a9-d1c7-4933-f7a7-2fa3eecf1836"
      },
      "execution_count": 20,
      "outputs": [
        {
          "output_type": "stream",
          "name": "stdout",
          "text": [
            "[0 1 2 3 4 5 6 7 8 9]\n",
            "[1 5 3 4 0 8 6 2 9 7]\n"
          ]
        }
      ]
    },
    {
      "cell_type": "markdown",
      "source": [
        "### 정규분포 따르는 난수"
      ],
      "metadata": {
        "id": "NColksXWMr2e"
      }
    },
    {
      "cell_type": "code",
      "source": [
        "#정규분포 따르는 난수생성 \n",
        "#a = np.random.normal('평균', '표준편차', '개수')   <-> random.rand 는 표준정규분포에서 난수생성 \n",
        "\n",
        "a = np.random.normal(0,1,3)\n",
        "print(a)"
      ],
      "metadata": {
        "colab": {
          "base_uri": "https://localhost:8080/"
        },
        "id": "c5_hJc8kKLfZ",
        "outputId": "1ee48dde-bc7d-4a22-c37e-6ad8738bec0f"
      },
      "execution_count": 22,
      "outputs": [
        {
          "output_type": "stream",
          "name": "stdout",
          "text": [
            "[-0.15864428  1.39142454  0.19993678]\n"
          ]
        }
      ]
    },
    {
      "cell_type": "markdown",
      "source": [
        "# Pandas\n",
        "* 데이터 자체를 분석, 파악\n",
        "* 데이터 다루는데 초점\n",
        "* 표(데이터 시각화)\n",
        "* 정렬, 필터링, 그룹화, 집계시 \n",
        "\n",
        "\n",
        "* 시계열 데이터 처리\n",
        "\n",
        "\n"
      ],
      "metadata": {
        "id": "Gh8MgEMBZh6l"
      }
    },
    {
      "cell_type": "code",
      "source": [
        "## 일반적인 Pandas 순서\n",
        "\n",
        "데이터 로딩 및 저장\n",
        "> 데이터 인덱싱 \n",
        "> 결측치 처리 \n",
        "> 데이터 변환 \n",
        "> 데이터 집계 및 그룹화 "
      ],
      "metadata": {
        "id": "8svtCgG7ZuO-"
      },
      "execution_count": null,
      "outputs": []
    },
    {
      "cell_type": "markdown",
      "source": [
        "## 1번. Series\n",
        "* 인덱스 자동 mapping됨 \n",
        "* 인덱스 따로 지정할 수도 있음 "
      ],
      "metadata": {
        "id": "e4SftFj7bhKF"
      }
    },
    {
      "cell_type": "markdown",
      "source": [
        "### 인덱싱"
      ],
      "metadata": {
        "id": "7dkVXAaCzZJ_"
      }
    },
    {
      "cell_type": "code",
      "source": [
        "import pandas as pd "
      ],
      "metadata": {
        "id": "USDNFwjYayPq"
      },
      "execution_count": 23,
      "outputs": []
    },
    {
      "cell_type": "code",
      "source": [
        "s = pd.Series([1,2,3,4])   #값 - 리스트로 넣음 \n",
        "print(s)                   #첫번째는 인덱스/ 두번째는 값이 자동으로 mapping됨!! -pandas 특징 "
      ],
      "metadata": {
        "colab": {
          "base_uri": "https://localhost:8080/"
        },
        "id": "2h9Y0TrWb1-B",
        "outputId": "7b53f414-5e53-4558-c17e-193936c6fea8"
      },
      "execution_count": 25,
      "outputs": [
        {
          "output_type": "stream",
          "name": "stdout",
          "text": [
            "0    1\n",
            "1    2\n",
            "2    3\n",
            "3    4\n",
            "dtype: int64\n"
          ]
        }
      ]
    },
    {
      "cell_type": "code",
      "source": [
        "s2 = pd.Series({'a':1, 'b':2, 'c':3, 'd':4})   # - 딕셔너리로 넣음 \n",
        "print(s2)                                      #지정해준 인덱스!"
      ],
      "metadata": {
        "colab": {
          "base_uri": "https://localhost:8080/"
        },
        "id": "jIXLs8VAcABn",
        "outputId": "16b95bd2-2793-4337-a7e9-a16c0fac4ae8"
      },
      "execution_count": 26,
      "outputs": [
        {
          "output_type": "stream",
          "name": "stdout",
          "text": [
            "a    1\n",
            "b    2\n",
            "c    3\n",
            "d    4\n",
            "dtype: int64\n"
          ]
        }
      ]
    },
    {
      "cell_type": "code",
      "source": [
        "s3 = pd.Series(5, index = [0,1,2])    #5 - 스칼라 값  \n",
        "print(s3)                             #인덱스에 따라 자동으로 들어감 "
      ],
      "metadata": {
        "id": "R5TBZPtScq_h"
      },
      "execution_count": null,
      "outputs": []
    },
    {
      "cell_type": "code",
      "source": [
        "#활용 \n",
        "data = [1,2,3,4,5]\n",
        "index = ['a','b','c','d','e']\n",
        "                                        #값을 따로 저장하고 series 만드는 방법 \n",
        "series = pd.Series(data, index=index)   #값이 변해도 이 식은 안바껴도 됨 > 유지보수 쉬움 \n",
        "print(series)"
      ],
      "metadata": {
        "colab": {
          "base_uri": "https://localhost:8080/"
        },
        "id": "RbYk3HWbdPDh",
        "outputId": "6cde2fd2-bf0a-48ef-a98a-81971b54894a"
      },
      "execution_count": 27,
      "outputs": [
        {
          "output_type": "stream",
          "name": "stdout",
          "text": [
            "a    1\n",
            "b    2\n",
            "c    3\n",
            "d    4\n",
            "e    5\n",
            "dtype: int64\n"
          ]
        }
      ]
    },
    {
      "cell_type": "code",
      "source": [
        "s = pd.Series(data)  #인덱스값이 있으면 -> 데이터 찾는 시간 엄청나게 단축됨 \n",
        "print(s)"
      ],
      "metadata": {
        "id": "h9lwNYKjdoOS"
      },
      "execution_count": null,
      "outputs": []
    },
    {
      "cell_type": "markdown",
      "source": [
        "### 슬라이싱\n",
        "* 값을 긁어서 가져올뿐 / 원본은 그대로!"
      ],
      "metadata": {
        "id": "d3BRPFlCzT9w"
      }
    },
    {
      "cell_type": "code",
      "source": [
        "series = pd.Series(data)\n",
        "print(series)"
      ],
      "metadata": {
        "colab": {
          "base_uri": "https://localhost:8080/"
        },
        "id": "o_R_G5iTgC-g",
        "outputId": "6c089f98-ae3a-4bad-a50e-f07376a86d0b"
      },
      "execution_count": 29,
      "outputs": [
        {
          "output_type": "stream",
          "name": "stdout",
          "text": [
            "0    1\n",
            "1    2\n",
            "2    3\n",
            "3    4\n",
            "4    5\n",
            "dtype: int64\n"
          ]
        }
      ]
    },
    {
      "cell_type": "code",
      "source": [
        "#series[0:4]   #0-3 idx까지  \n",
        "\n",
        "#series[:4]    #0은 생략가능 \n",
        "#series[:-1]   둘다 가능 #마지막 앞까지 끊기는 것  "
      ],
      "metadata": {
        "colab": {
          "base_uri": "https://localhost:8080/"
        },
        "id": "KxX4CP2Rzoaz",
        "outputId": "b729f059-831e-481e-fb68-a6a062c0e4eb"
      },
      "execution_count": 36,
      "outputs": [
        {
          "output_type": "execute_result",
          "data": {
            "text/plain": [
              "0    1\n",
              "1    2\n",
              "2    3\n",
              "3    4\n",
              "dtype: int64"
            ]
          },
          "metadata": {},
          "execution_count": 36
        }
      ]
    },
    {
      "cell_type": "markdown",
      "source": [
        "### Boolean indexing"
      ],
      "metadata": {
        "id": "wItqvC1k1dqu"
      }
    },
    {
      "cell_type": "code",
      "source": [
        "print(series[series > 2])   #조건 만족하는 series값만 배열로 반환 \n",
        "                            #a[a조건]!!"
      ],
      "metadata": {
        "colab": {
          "base_uri": "https://localhost:8080/"
        },
        "id": "rEvzCmVGz4Qp",
        "outputId": "ed1de6cf-8aa6-407b-8b3e-7fc8bfd12395"
      },
      "execution_count": 39,
      "outputs": [
        {
          "output_type": "stream",
          "name": "stdout",
          "text": [
            "2    3\n",
            "3    4\n",
            "4    5\n",
            "dtype: int64\n"
          ]
        }
      ]
    },
    {
      "cell_type": "code",
      "source": [
        "#5보다 작은 시리즈 만들기\n",
        "print(series[series < 5])"
      ],
      "metadata": {
        "colab": {
          "base_uri": "https://localhost:8080/"
        },
        "id": "KnFFan-T1uWU",
        "outputId": "a7743656-60be-452e-eb7b-cabc57573040"
      },
      "execution_count": 41,
      "outputs": [
        {
          "output_type": "execute_result",
          "data": {
            "text/plain": [
              "[0     True\n",
              " 1     True\n",
              " 2     True\n",
              " 3     True\n",
              " 4    False\n",
              " dtype: bool]"
            ]
          },
          "metadata": {},
          "execution_count": 41
        }
      ]
    },
    {
      "cell_type": "markdown",
      "source": [
        "### Series 산술연산"
      ],
      "metadata": {
        "id": "IzIobwjP3aPx"
      }
    },
    {
      "cell_type": "code",
      "source": [
        "series + 100   #한꺼번에 다 더해짐  #이건 그냥 계산한 결과일뿐 원본은 그대로임 "
      ],
      "metadata": {
        "colab": {
          "base_uri": "https://localhost:8080/"
        },
        "id": "Kdtg5Ncj21PZ",
        "outputId": "06c0d302-4922-4970-bc2c-5e1d5e0e0e3b"
      },
      "execution_count": 42,
      "outputs": [
        {
          "output_type": "execute_result",
          "data": {
            "text/plain": [
              "0    101\n",
              "1    102\n",
              "2    103\n",
              "3    104\n",
              "4    105\n",
              "dtype: int64"
            ]
          },
          "metadata": {},
          "execution_count": 42
        }
      ]
    },
    {
      "cell_type": "code",
      "source": [
        "print(series + 100)\n",
        "print(series - 100)\n",
        "print(series * 100)\n",
        "print(series ** 100)\n",
        "print(series / 100)   #몫 float \n",
        "print(series % 100)\n",
        "print(series // 100)  #몫 int "
      ],
      "metadata": {
        "id": "ddYSIE103ecR"
      },
      "execution_count": null,
      "outputs": []
    },
    {
      "cell_type": "markdown",
      "source": [
        "###__"
      ],
      "metadata": {
        "id": "r9G-Lm8Zif2B"
      }
    },
    {
      "cell_type": "markdown",
      "source": [
        "### Series 객체에 접근\n",
        "* keys -> index 가리킴 / values "
      ],
      "metadata": {
        "id": "HcjB-DYK54FO"
      }
    },
    {
      "cell_type": "code",
      "source": [
        "series"
      ],
      "metadata": {
        "colab": {
          "base_uri": "https://localhost:8080/"
        },
        "id": "i6kHImVxh4cL",
        "outputId": "d6271365-d711-4e47-dc3d-f2d7b7725de8"
      },
      "execution_count": 86,
      "outputs": [
        {
          "output_type": "execute_result",
          "data": {
            "text/plain": [
              "0    1\n",
              "1    2\n",
              "2    3\n",
              "3    4\n",
              "4    5\n",
              "dtype: int64"
            ]
          },
          "metadata": {},
          "execution_count": 86
        }
      ]
    },
    {
      "cell_type": "code",
      "source": [
        "print(series.keys)    #인덱스 자체를 뜻하지 않고/ 인덱스 객체를 뜻함(인덱스를 가리킴)"
      ],
      "metadata": {
        "id": "9Aqw6lNL4PWT"
      },
      "execution_count": null,
      "outputs": []
    },
    {
      "cell_type": "code",
      "source": [
        "print(series.keys())\n",
        "print(series.index)     #rangeindex는 Series만들때 pandas에서 자동생성 \n",
        "print(series.values)\n",
        "print(series.items())   #zip : 순회 가능, 쌍으로 이루어져 있음을 알 수 있 (index, value)"
      ],
      "metadata": {
        "colab": {
          "base_uri": "https://localhost:8080/"
        },
        "id": "YgmPbhY46DKX",
        "outputId": "f744bc47-b3cc-4bfd-ca79-cca4711394fc"
      },
      "execution_count": 50,
      "outputs": [
        {
          "output_type": "stream",
          "name": "stdout",
          "text": [
            "RangeIndex(start=0, stop=5, step=1)\n",
            "RangeIndex(start=0, stop=5, step=1)\n",
            "[1 2 3 4 5]\n",
            "<zip object at 0x7fdb521df1c0>\n"
          ]
        }
      ]
    },
    {
      "cell_type": "code",
      "source": [
        "for index, value in s2.items():\n",
        "  print(f'인덱스: {index}, 데이터: {value}')"
      ],
      "metadata": {
        "colab": {
          "base_uri": "https://localhost:8080/"
        },
        "id": "ynQNLfHr6JY7",
        "outputId": "dc353570-d3fb-44de-acc7-88983ceba017"
      },
      "execution_count": 51,
      "outputs": [
        {
          "output_type": "stream",
          "name": "stdout",
          "text": [
            "인덱스: a, 데이터: 1\n",
            "인덱스: b, 데이터: 2\n",
            "인덱스: c, 데이터: 3\n",
            "인덱스: d, 데이터: 4\n"
          ]
        }
      ]
    },
    {
      "cell_type": "code",
      "source": [
        "s = pd.Series([10,20,30,40], index = ['a', 'b', 'c', 'd'])\n",
        "print(s)"
      ],
      "metadata": {
        "colab": {
          "base_uri": "https://localhost:8080/"
        },
        "id": "m2hOTrR7AYc0",
        "outputId": "3a20bde3-dd1d-4447-87e4-59504dc96973"
      },
      "execution_count": 88,
      "outputs": [
        {
          "output_type": "stream",
          "name": "stdout",
          "text": [
            "a    10\n",
            "b    20\n",
            "c    30\n",
            "d    40\n",
            "dtype: int64\n"
          ]
        }
      ]
    },
    {
      "cell_type": "code",
      "source": [
        "#앞이론들과 여기를 구분!! \n",
        "\n",
        "#슬라이싱 말고 레이블로 접근하는 이유? 데이터가 숫자가 아니라 문자일때 (레이블 즉 특정 인덱스로 접근하고 싶을때)\n",
        "### loc[레이블] -> 값만 반환    <-> at과의 차이 : 여러범위 가능 \n",
        "\n",
        "print(s.loc['b'])   #loc : 행에 접근 메서드  #어떤 행인지 아니까 값만 \n",
        "print(s.loc['b':'d'])   #슬라이싱 - 어딘지 모르니까 다 출력해줌 "
      ],
      "metadata": {
        "colab": {
          "base_uri": "https://localhost:8080/"
        },
        "id": "QMi21D0yCBnQ",
        "outputId": "b762700b-ba45-4009-f95b-a1f87705853e"
      },
      "execution_count": 89,
      "outputs": [
        {
          "output_type": "stream",
          "name": "stdout",
          "text": [
            "20\n",
            "b    20\n",
            "c    30\n",
            "d    40\n",
            "dtype: int64\n"
          ]
        }
      ]
    },
    {
      "cell_type": "code",
      "source": [
        "### iloc[열 index 숫자] -> 값 반환 \n",
        "\n",
        "print(s.iloc[1])     #iloc :(행에 기반한) 열에 접근"
      ],
      "metadata": {
        "colab": {
          "base_uri": "https://localhost:8080/"
        },
        "id": "Hr-AIIP4COT6",
        "outputId": "6d497475-9826-49fb-f79d-eb59a846034f"
      },
      "execution_count": 55,
      "outputs": [
        {
          "output_type": "stream",
          "name": "stdout",
          "text": [
            "20\n"
          ]
        }
      ]
    },
    {
      "cell_type": "code",
      "source": [
        "print(s.iloc[1:3])   #iloc 끝 미포함/ 숫자는 일반 슬라이싱 <-> loc 레이블은 끝 포함 \n",
        "#print(s.iloc[-1])"
      ],
      "metadata": {
        "colab": {
          "base_uri": "https://localhost:8080/"
        },
        "id": "BybMxNi7CDq6",
        "outputId": "5128277f-3d07-49bf-cbd7-d4c2b6a71f8e"
      },
      "execution_count": 57,
      "outputs": [
        {
          "output_type": "stream",
          "name": "stdout",
          "text": [
            "b    20\n",
            "c    30\n",
            "dtype: int64\n",
            "40\n"
          ]
        }
      ]
    },
    {
      "cell_type": "code",
      "source": [
        "#at :특정 인덱스 지정할때 - 그 값이 들어감 \n",
        "\n",
        "print(s.at['b'])     "
      ],
      "metadata": {
        "colab": {
          "base_uri": "https://localhost:8080/"
        },
        "id": "b0HXWidK7PIy",
        "outputId": "1771b833-8f23-4d6f-da3f-47b13767a648"
      },
      "execution_count": 90,
      "outputs": [
        {
          "output_type": "stream",
          "name": "stdout",
          "text": [
            "20\n"
          ]
        }
      ]
    },
    {
      "cell_type": "code",
      "source": [
        "print(s.iat[0])      #i이므로 [숫자 index]로 검색 "
      ],
      "metadata": {
        "colab": {
          "base_uri": "https://localhost:8080/"
        },
        "id": "nhXSsvkV6ix-",
        "outputId": "c63a25a1-084f-4114-a329-133aa192ab89"
      },
      "execution_count": 59,
      "outputs": [
        {
          "output_type": "stream",
          "name": "stdout",
          "text": [
            "10\n"
          ]
        }
      ]
    },
    {
      "cell_type": "code",
      "source": [
        "#(error안나고) 없는 값에 대한 처리방법\n",
        "\n",
        "print(s.get('e'))   \n",
        "#print(s.get('e', default = -1)) "
      ],
      "metadata": {
        "colab": {
          "base_uri": "https://localhost:8080/"
        },
        "id": "DQa_1pry6iuG",
        "outputId": "cf513d2c-3f45-4d9e-bed4-bf149122b014"
      },
      "execution_count": 61,
      "outputs": [
        {
          "output_type": "stream",
          "name": "stdout",
          "text": [
            "None\n"
          ]
        }
      ]
    },
    {
      "cell_type": "markdown",
      "source": [
        "### 결측값 (NaN, None)\n",
        "* NaN(Not a Number) -> float\n",
        "* None -> none \n",
        "\n",
        "\n",
        "* isna()\n",
        "* isnull()"
      ],
      "metadata": {
        "id": "8GgVCwQlPyxF"
      }
    },
    {
      "cell_type": "code",
      "source": [
        "data = [1,2,3, NaN]\n",
        "s = pd.Series(data)\n",
        "\n",
        "print(s.isna())\n",
        "print(s.isnull())"
      ],
      "metadata": {
        "colab": {
          "base_uri": "https://localhost:8080/"
        },
        "id": "sxj3GqwU6iqH",
        "outputId": "5fef9812-ed10-4df8-ee9d-34df8400729a"
      },
      "execution_count": 66,
      "outputs": [
        {
          "output_type": "stream",
          "name": "stdout",
          "text": [
            "0    False\n",
            "1    False\n",
            "2    False\n",
            "3     True\n",
            "dtype: bool\n",
            "0    False\n",
            "1    False\n",
            "2    False\n",
            "3     True\n",
            "dtype: bool\n"
          ]
        }
      ]
    },
    {
      "cell_type": "code",
      "source": [
        "s"
      ],
      "metadata": {
        "colab": {
          "base_uri": "https://localhost:8080/"
        },
        "id": "IxW2ELX7SUd3",
        "outputId": "da9e7fc9-c4ad-4dc9-ef4e-f4def80e09f1"
      },
      "execution_count": 67,
      "outputs": [
        {
          "output_type": "execute_result",
          "data": {
            "text/plain": [
              "0    1.0\n",
              "1    2.0\n",
              "2    3.0\n",
              "3    NaN\n",
              "dtype: float64"
            ]
          },
          "metadata": {},
          "execution_count": 67
        }
      ]
    },
    {
      "cell_type": "code",
      "source": [
        "#비어있는 값 개수 확인 \n",
        "print(s.isnull().sum())   "
      ],
      "metadata": {
        "colab": {
          "base_uri": "https://localhost:8080/"
        },
        "id": "PBbrv8FxSC2F",
        "outputId": "83b0de96-9ca2-4770-dd6d-7ffcc0e43adc"
      },
      "execution_count": 68,
      "outputs": [
        {
          "output_type": "stream",
          "name": "stdout",
          "text": [
            "1\n"
          ]
        }
      ]
    },
    {
      "cell_type": "code",
      "source": [
        "print(s.notnull().sum())"
      ],
      "metadata": {
        "colab": {
          "base_uri": "https://localhost:8080/"
        },
        "id": "vyf7RFeZTTnZ",
        "outputId": "306420e7-b5f3-46de-b9d9-43bc0cc043a5"
      },
      "execution_count": 69,
      "outputs": [
        {
          "output_type": "stream",
          "name": "stdout",
          "text": [
            "3\n"
          ]
        }
      ]
    },
    {
      "cell_type": "code",
      "source": [
        "## 결측치 제거 -1. dropna()\n",
        "\n",
        "s.dropna()   #해도 원본 그대로니까 s= 할당함 "
      ],
      "metadata": {
        "id": "0JID6SxXUJR7"
      },
      "execution_count": 71,
      "outputs": []
    },
    {
      "cell_type": "code",
      "source": [
        "##             -2. 결측치 0 으로 치환 - fillna()\n",
        "s.fillna(0)\n",
        "s"
      ],
      "metadata": {
        "colab": {
          "base_uri": "https://localhost:8080/"
        },
        "id": "pfJH0C0aUZtk",
        "outputId": "625653e3-59b9-4a0d-c7a3-f45a5b48bd34"
      },
      "execution_count": 73,
      "outputs": [
        {
          "output_type": "execute_result",
          "data": {
            "text/plain": [
              "0    1.0\n",
              "1    2.0\n",
              "2    3.0\n",
              "dtype: float64"
            ]
          },
          "metadata": {},
          "execution_count": 73
        }
      ]
    },
    {
      "cell_type": "markdown",
      "source": [
        "### Series 함수"
      ],
      "metadata": {
        "id": "2Chp2qQhVrUm"
      }
    },
    {
      "cell_type": "code",
      "source": [
        "s = pd.Series([1,3,5,7,9])"
      ],
      "metadata": {
        "id": "lPU3D9DYUtcz"
      },
      "execution_count": null,
      "outputs": []
    },
    {
      "cell_type": "code",
      "source": [
        "s.count()   #데이터 개수 "
      ],
      "metadata": {
        "colab": {
          "base_uri": "https://localhost:8080/"
        },
        "id": "yU6P5yAdWFj6",
        "outputId": "c4fdf270-3411-4dd9-d81d-5fcf91cb8940"
      },
      "execution_count": 75,
      "outputs": [
        {
          "output_type": "execute_result",
          "data": {
            "text/plain": [
              "5"
            ]
          },
          "metadata": {},
          "execution_count": 75
        }
      ]
    },
    {
      "cell_type": "code",
      "source": [
        "s.min() #최솟값 \n",
        "s.max() #최대값 "
      ],
      "metadata": {
        "id": "8fnZuv3rTLza"
      },
      "execution_count": null,
      "outputs": []
    },
    {
      "cell_type": "code",
      "source": [
        "print(s.mean())\n",
        "print(s.median())\n",
        "print(s.std())\n",
        "print(s.var())"
      ],
      "metadata": {
        "id": "GUtMHkIgWVZm"
      },
      "execution_count": null,
      "outputs": []
    },
    {
      "cell_type": "code",
      "source": [
        "#기초통계 내용 출력 \n",
        "\n",
        "s.describe()  "
      ],
      "metadata": {
        "colab": {
          "base_uri": "https://localhost:8080/"
        },
        "id": "BMkPNv46WeSq",
        "outputId": "6d9a0b0f-db85-4acf-9b9c-c93413215787"
      },
      "execution_count": 78,
      "outputs": [
        {
          "output_type": "execute_result",
          "data": {
            "text/plain": [
              "count    5.000000\n",
              "mean     5.000000\n",
              "std      3.162278\n",
              "min      1.000000\n",
              "25%      3.000000\n",
              "50%      5.000000\n",
              "75%      7.000000\n",
              "max      9.000000\n",
              "dtype: float64"
            ]
          },
          "metadata": {},
          "execution_count": 78
        }
      ]
    }
  ]
}