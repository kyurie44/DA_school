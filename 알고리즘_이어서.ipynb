{
  "nbformat": 4,
  "nbformat_minor": 0,
  "metadata": {
    "colab": {
      "provenance": []
    },
    "kernelspec": {
      "name": "python3",
      "display_name": "Python 3"
    },
    "language_info": {
      "name": "python"
    }
  },
  "cells": [
    {
      "cell_type": "code",
      "execution_count": 1,
      "metadata": {
        "id": "pljIiz9wQori"
      },
      "outputs": [],
      "source": [
        "#구글링이 되는 회사를 타겟으로 스니팻을 만들어두기! - 강사님 자료에 있 - 아래 3개 섞어서 준비하면됨\n",
        "https://github.com/paullabkorea/Algorithm-walk-with-wenivs/tree/main\n",
        "https://github.com/paullabkorea/programmersLv0\n",
        "https://github.com/keon/algorithms\n",
        "\n",
        "#유용한 라이브러리 -> 정리해둘 필요 있\n",
        "#속도개선 문제는 class로 구현해야함"
      ]
    },
    {
      "cell_type": "code",
      "source": [
        "#1.3.1 워밍업 문제\n",
        "str(list(range(1, 10001))).count('8')  #이렇게 풀기를 권함"
      ],
      "metadata": {
        "colab": {
          "base_uri": "https://localhost:8080/"
        },
        "id": "UcJjVhS2UGJs",
        "outputId": "3fbdc0f9-4eac-408b-a9e3-af12809e267d"
      },
      "execution_count": 2,
      "outputs": [
        {
          "output_type": "execute_result",
          "data": {
            "text/plain": [
              "4000"
            ]
          },
          "metadata": {},
          "execution_count": 2
        }
      ]
    },
    {
      "cell_type": "code",
      "source": [
        "#1.3.2\n",
        "data = [1, 3, 4, 8, 13, 17, 20]\n",
        "\n",
        "list(zip(data, data[1:]))\n",
        "sorted(zip(data, data[1:]), key=lambda x:x[1]-x[0])\n",
        "sorted(zip(data, data[1:]), key=lambda x:x[1]-x[0])[0]\n",
        "\n",
        "#zip은 다시 사용가능? - 면접이라 생각하고 대답해보기\n",
        "#https://www.notion.so/paullabworkspace/Python-a8b9c611beef4740a6372c27a270b70e?pvs=4 - 중급자를 위한 파이썬에서\n",
        "#"
      ],
      "metadata": {
        "id": "HWNakomeU-pr"
      },
      "execution_count": null,
      "outputs": []
    },
    {
      "cell_type": "code",
      "source": [
        "my_list = [1, 2, 3, 4]\n",
        "my_iter = iter(my_list) # my_list에 __iter__가 호출됩니다.\n",
        "\n",
        "print(next(my_iter))  # 출력: 1 # my_list에 __next__가 호출됩니다.\n",
        "print(next(my_iter))  # 출력: 2 # my_list에 __next__가 호출됩니다.    #4번하고 다시 한번 하면 stopiteration 결과 나옴"
      ],
      "metadata": {
        "colab": {
          "base_uri": "https://localhost:8080/"
        },
        "id": "4P8yRLksWQmf",
        "outputId": "daf9c2c2-b362-41fa-db25-1cbdfe9e48fd"
      },
      "execution_count": 4,
      "outputs": [
        {
          "output_type": "stream",
          "name": "stdout",
          "text": [
            "1\n",
            "2\n"
          ]
        }
      ]
    },
    {
      "cell_type": "code",
      "source": [
        "class MyIterator:\n",
        "    def __init__(self, stop):\n",
        "        self.currentValue = 0\n",
        "        self.stop = stop\n",
        "\n",
        "    def __iter__(self):           #for문 만나면 iter 한번만 실행됨\n",
        "        return self\n",
        "\n",
        "    def __next__(self):\n",
        "        if self.currentValue >= self.stop:\n",
        "            raise StopIteration\n",
        "        result = self.currentValue\n",
        "        self.currentValue += 1\n",
        "        return result\n",
        "\n",
        "my_iterator = MyIterator(5)\n",
        "\n",
        "for i in my_iterator:             #\n",
        "    print(i)"
      ],
      "metadata": {
        "colab": {
          "base_uri": "https://localhost:8080/"
        },
        "id": "mqL5UxPBWUHG",
        "outputId": "dece92bd-c9b0-4521-9829-2496ffe0a93c"
      },
      "execution_count": 5,
      "outputs": [
        {
          "output_type": "stream",
          "name": "stdout",
          "text": [
            "0\n",
            "1\n",
            "2\n",
            "3\n",
            "4\n"
          ]
        }
      ]
    },
    {
      "cell_type": "code",
      "source": [
        "class MyIterator:\n",
        "    def __init__(self, stop):\n",
        "        self.stop = stop\n",
        "\n",
        "    def __iter__(self):\n",
        "        self.currentValue = 0\n",
        "        return self\n",
        "\n",
        "    def __next__(self):\n",
        "        if self.currentValue >= self.stop:\n",
        "            raise StopIteration\n",
        "        result = self.currentValue\n",
        "        self.currentValue += 1\n",
        "        return result\n",
        "\n",
        "my_iterator = MyIterator(5)\n",
        "\n",
        "for i in my_iterator:\n",
        "    print(i)\n",
        "\n",
        "for i in my_iterator:       #iter안에서 초기화를 해주니까 다시 순회가 가능해진 것   #그래서 zip은 초기화가 안해주니까 재사용이 안되는것!!\n",
        "    print(i)"
      ],
      "metadata": {
        "id": "hIGjrSIRZPw2"
      },
      "execution_count": null,
      "outputs": []
    },
    {
      "cell_type": "code",
      "source": [
        "## 주말이나 일주일 잡고 클래스는 정복해야함~~~ !!"
      ],
      "metadata": {
        "id": "53-qUlCvXFQO"
      },
      "execution_count": 6,
      "outputs": []
    },
    {
      "cell_type": "code",
      "source": [],
      "metadata": {
        "id": "Nd80bwXQXR1Q"
      },
      "execution_count": null,
      "outputs": []
    },
    {
      "cell_type": "code",
      "source": [
        "#언패킹\n",
        "a, b, c, d = range(4)\n",
        "a, b, c, d"
      ],
      "metadata": {
        "colab": {
          "base_uri": "https://localhost:8080/"
        },
        "id": "kxq67m4bZh8z",
        "outputId": "d2b157dd-58b4-4203-9155-cf0df5537c5f"
      },
      "execution_count": 8,
      "outputs": [
        {
          "output_type": "execute_result",
          "data": {
            "text/plain": [
              "(0, 1, 2, 3)"
            ]
          },
          "metadata": {},
          "execution_count": 8
        }
      ]
    },
    {
      "cell_type": "code",
      "source": [
        "x = {\"key1\": \"value1\"}\n",
        "y = {\"key2\": \"value2\"}\n",
        "z = x | y                #3.5 ver - 새로 도입됨\n",
        "z"
      ],
      "metadata": {
        "colab": {
          "base_uri": "https://localhost:8080/"
        },
        "id": "IpBWSWsgaGqN",
        "outputId": "8ac9b151-da3b-41fd-ecd5-3185cb75660e"
      },
      "execution_count": 9,
      "outputs": [
        {
          "output_type": "execute_result",
          "data": {
            "text/plain": [
              "{'key1': 'value1', 'key2': 'value2'}"
            ]
          },
          "metadata": {},
          "execution_count": 9
        }
      ]
    },
    {
      "cell_type": "code",
      "source": [
        "x = {\"key1\": \"value1\"}\n",
        "y = {\"key2\": \"value2\"}\n",
        "z = {}\n",
        "z.update(x)             #원래 하던 방식\n",
        "z.update(y)\n",
        "z"
      ],
      "metadata": {
        "id": "guOtIFBNa3Xo"
      },
      "execution_count": null,
      "outputs": []
    },
    {
      "cell_type": "code",
      "source": [],
      "metadata": {
        "id": "odTxvJ5ma6rd"
      },
      "execution_count": null,
      "outputs": []
    },
    {
      "cell_type": "code",
      "source": [
        "#오히려 R, 파이썬은 선택지지만, 데이터는 뽑을 수 있어야하기에 데이터분석가에게 sql은 필수임!!"
      ],
      "metadata": {
        "id": "M63vOem-a6n1"
      },
      "execution_count": null,
      "outputs": []
    },
    {
      "cell_type": "code",
      "source": [],
      "metadata": {
        "id": "Ay4k-00da6h4"
      },
      "execution_count": null,
      "outputs": []
    },
    {
      "cell_type": "markdown",
      "source": [
        "#스택과 큐"
      ],
      "metadata": {
        "id": "eZgkPVTAeZS4"
      }
    },
    {
      "cell_type": "code",
      "source": [
        "#스택 : 쌓는거/ 마지막부터 뺄 수 있는거\n",
        "#큐 : 먼저 들어간거가 먼저 나옴"
      ],
      "metadata": {
        "id": "i7AtE3fAbjhW"
      },
      "execution_count": null,
      "outputs": []
    },
    {
      "cell_type": "code",
      "source": [
        "#제너레이터 컴프리헨션 (리스트 컴프리헨션, 딕셔너리 컴프리헨션, 제너레이터 컴프리헨션)\n",
        "gen = (i for i in range(1000000)) # 이론적으로 무한대수를 range 자리에 입력하더라도 메모리 잡아먹지 않음\n",
        "print(type(gen))"
      ],
      "metadata": {
        "colab": {
          "base_uri": "https://localhost:8080/"
        },
        "id": "sqf_x2WDem4k",
        "outputId": "d8f7d2e5-9a12-4cf0-c479-54d794bf99b9"
      },
      "execution_count": 10,
      "outputs": [
        {
          "output_type": "stream",
          "name": "stdout",
          "text": [
            "<class 'generator'>\n"
          ]
        }
      ]
    },
    {
      "cell_type": "code",
      "source": [
        "gen2 = [i for i in range(10000000)] #큰 메모리 잡아먹음 ???\n",
        "print(type(gent2))"
      ],
      "metadata": {
        "id": "P0lDWmK-jSig"
      },
      "execution_count": null,
      "outputs": []
    },
    {
      "cell_type": "code",
      "source": [
        "def gen2(n):\n",
        "    value = 0\n",
        "    while value < n:   #다시 도는거\n",
        "        yield value    #여기서 멈추었다가\n",
        "        value += 1\n",
        "\n",
        "for i in gen2(10):\n",
        "    print(i)"
      ],
      "metadata": {
        "colab": {
          "base_uri": "https://localhost:8080/"
        },
        "id": "nmLddro_kSnu",
        "outputId": "129a3ab7-c956-495c-e3fc-634033cf4ad2"
      },
      "execution_count": 11,
      "outputs": [
        {
          "output_type": "stream",
          "name": "stdout",
          "text": [
            "0\n",
            "1\n",
            "2\n",
            "3\n",
            "4\n",
            "5\n",
            "6\n",
            "7\n",
            "8\n",
            "9\n"
          ]
        }
      ]
    },
    {
      "cell_type": "code",
      "source": [
        "for i in zip(['a', 'b', 'c'], gen2(3)):\n",
        "    print(i)"
      ],
      "metadata": {
        "colab": {
          "base_uri": "https://localhost:8080/"
        },
        "id": "r3qOcQTikb29",
        "outputId": "8c8e1eee-d138-4b35-ce67-34ebfa265e3d"
      },
      "execution_count": 12,
      "outputs": [
        {
          "output_type": "stream",
          "name": "stdout",
          "text": [
            "('a', 0)\n",
            "('b', 1)\n",
            "('c', 2)\n"
          ]
        }
      ]
    },
    {
      "cell_type": "code",
      "source": [
        "#이런식으로 많이 사용함\n",
        "def gen2():\n",
        "    value = 0\n",
        "    while True:\n",
        "        yield value\n",
        "        value += 1\n",
        "\n",
        "for i in zip([10, 20, 30, 40, 50], gen2()):\n",
        "    print(i)"
      ],
      "metadata": {
        "id": "dP8MMLDAlJ13"
      },
      "execution_count": null,
      "outputs": []
    },
    {
      "cell_type": "code",
      "source": [
        "#yield 만나면"
      ],
      "metadata": {
        "id": "dj2vxF7QlFBs"
      },
      "execution_count": null,
      "outputs": []
    },
    {
      "cell_type": "code",
      "source": [],
      "metadata": {
        "id": "wQbJS9tcl0IW"
      },
      "execution_count": null,
      "outputs": []
    },
    {
      "cell_type": "markdown",
      "source": [
        "#deque"
      ],
      "metadata": {
        "id": "_wOPWBGel17O"
      }
    },
    {
      "cell_type": "code",
      "source": [
        "from collections import deque\n",
        "\n",
        "d = deque()\n",
        "d.append('a')  # 오른쪽 끝에 추가"
      ],
      "metadata": {
        "id": "xwCJgioOlz_a"
      },
      "execution_count": 13,
      "outputs": []
    },
    {
      "cell_type": "code",
      "source": [
        "import collections\n",
        "\n",
        "test = collections.deque('hello')\n",
        "test.rotate(2)\n",
        "test"
      ],
      "metadata": {
        "colab": {
          "base_uri": "https://localhost:8080/"
        },
        "id": "lO5rQBDbl8dA",
        "outputId": "c7049df1-5ef6-435d-858f-e627cd169380"
      },
      "execution_count": 14,
      "outputs": [
        {
          "output_type": "execute_result",
          "data": {
            "text/plain": [
              "deque(['l', 'o', 'h', 'e', 'l'])"
            ]
          },
          "metadata": {},
          "execution_count": 14
        }
      ]
    },
    {
      "cell_type": "code",
      "source": [
        "## deque와 counter는 기억해주기~~~~~"
      ],
      "metadata": {
        "id": "Td8VE6ANmHbW"
      },
      "execution_count": null,
      "outputs": []
    },
    {
      "cell_type": "code",
      "source": [],
      "metadata": {
        "id": "0ocq3PhumHVZ"
      },
      "execution_count": null,
      "outputs": []
    },
    {
      "cell_type": "code",
      "source": [
        "#특히 리스트 컴프리헨션, lambda, 한 줄 조건문을 가지고 모든 구문들을 한줄로 표현하려는 시도는 하지마세요!\n",
        "#if else 계속 반복해서 쓰는거x\n",
        "#google cenvention에도 리스트 컴프리헨션 안에 2개 이상의 (다른 회사들도 마찬가지)"
      ],
      "metadata": {
        "id": "s_W1DRvtmHPH"
      },
      "execution_count": null,
      "outputs": []
    },
    {
      "cell_type": "code",
      "source": [
        "len(list(filter(lambda x : x > 167, [149, 180, 192, 170])))"
      ],
      "metadata": {
        "id": "RMxPJN3am-y0"
      },
      "execution_count": null,
      "outputs": []
    },
    {
      "cell_type": "code",
      "source": [
        "import re\n",
        "\n",
        "re.findall(r'(10|[0-9])([SDT])([*#]?)', r'10S2D*3T')"
      ],
      "metadata": {
        "colab": {
          "base_uri": "https://localhost:8080/"
        },
        "id": "mXrT_R7wn2oY",
        "outputId": "d16b4b3f-18bc-4deb-bd9c-33c2a32d1089"
      },
      "execution_count": 15,
      "outputs": [
        {
          "output_type": "execute_result",
          "data": {
            "text/plain": [
              "[('10', 'S', ''), ('2', 'D', '*'), ('3', 'T', '')]"
            ]
          },
          "metadata": {},
          "execution_count": 15
        }
      ]
    },
    {
      "cell_type": "code",
      "source": [
        "# 1번째 그룹 : 1-10\n",
        "# 2번째 그룹 : A-Z\n",
        "# 3번째 그룹 : 1-3\n",
        "# 4번째 그룹 : #, @ 인데 안나올 수도 있어요.\n",
        "# 5번째 그룹 : True, False인데 안나올 수도 있어요.\n",
        "'10A3#True'\n",
        "\n",
        "#만들어보기~~!"
      ],
      "metadata": {
        "id": "202DrpMaoo_6"
      },
      "execution_count": null,
      "outputs": []
    },
    {
      "cell_type": "code",
      "source": [
        "re.findall(r'(10|[0-9])([A-Z])([1-3])([#@]?)(True|False?)','10A3#True')\n",
        "re.findall(r'(10|[0-9])([A-Z])([1-3])([#@]?)(True|False?)','10A3#False')\n",
        "re.findall(r'(10|[0-9])([A-Z])([1-3])([#@]?)(True|False?)','10A3#')     #없을때는 제대로 잡지 못함\n",
        "re.findall(r'(10|[0-9])([A-Z])([1-3])([#@]?)(True|False)?','10A3#')     #없을때 제대로 잡음 -> 이렇게 테스트 해보고 -> 따라서 이게 답임!!"
      ],
      "metadata": {
        "colab": {
          "base_uri": "https://localhost:8080/"
        },
        "id": "_vEXu-V5oFQ_",
        "outputId": "a8bba015-d181-4643-bc80-914c560bed98"
      },
      "execution_count": 40,
      "outputs": [
        {
          "output_type": "execute_result",
          "data": {
            "text/plain": [
              "[('10', 'A', '3', '#', '')]"
            ]
          },
          "metadata": {},
          "execution_count": 40
        }
      ]
    },
    {
      "cell_type": "code",
      "source": [
        "#개발자한테는 정규표현식 강조하지 않지만 데이터분석가에게는 정규표현식 강조함~~~~"
      ],
      "metadata": {
        "id": "wc2V-8aToFJN"
      },
      "execution_count": null,
      "outputs": []
    },
    {
      "cell_type": "code",
      "source": [],
      "metadata": {
        "id": "uy0KsoFRuMqZ"
      },
      "execution_count": null,
      "outputs": []
    },
    {
      "cell_type": "markdown",
      "source": [
        "# 1.4 트리와 그래프"
      ],
      "metadata": {
        "id": "lcylakGzuXYD"
      }
    },
    {
      "cell_type": "code",
      "source": [
        "#트리문제 필수로 1문제 정도는 나옴~~~~\n",
        "\n",
        "#근데 너비우선탐색, 깊이우선탐색은 우리 수업에서는 트리로 배우긴 하지만 꼭 트리문제로 출제되는 것은 아님\n",
        "#보통 2차원 배열에서 최단경로찾기, 완전 탐색문제로 출제됨\n",
        "\n",
        "* [코딩 테스트에 가장 많이 출제 되는 알고리즘](https://www.hanbit.co.kr/media/channel/view.html?cms_code=CMS7793635735&cate_cd=)\n",
        "        * 요구사항 구현 알고리즘(33%)\n",
        "        * 그리디 알고리즘(20%)\n",
        "        * 너비우선탐색, 깊이우선탐색(20%)\n",
        "        * 정렬(8%)\n",
        "        * 다이나믹 프로그래밍, 최단경로, 이진 탐색 등"
      ],
      "metadata": {
        "id": "V607gULiuMlc"
      },
      "execution_count": null,
      "outputs": []
    },
    {
      "cell_type": "code",
      "source": [],
      "metadata": {
        "id": "2d6L-rW4uWlM"
      },
      "execution_count": null,
      "outputs": []
    }
  ]
}