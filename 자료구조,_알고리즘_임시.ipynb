{
  "nbformat": 4,
  "nbformat_minor": 0,
  "metadata": {
    "colab": {
      "provenance": [],
      "toc_visible": true
    },
    "kernelspec": {
      "name": "python3",
      "display_name": "Python 3"
    },
    "language_info": {
      "name": "python"
    }
  },
  "cells": [
    {
      "cell_type": "markdown",
      "source": [
        "#코딩테스트\n",
        "[추천서적]\n",
        "* 코딩테스트 접근 : 파이썬 알고리즘 인터뷰(박상길)**\n",
        "* 기타 : 파이썬 자료구조와 알고리즘(중학교 학생 가르칠 때 사용), 그림으로 배우는 알고리즘(코드 없고 그림만 있습니다), 알고리즘 산책(역사적인 알고리즘을 쭉 훑어봅니다. 수학적인 내용이 많고 코드는 C++로 되어 있으나 보는데 큰 무리는 없습니다.)"
      ],
      "metadata": {
        "id": "RBzEUleFc0iL"
      }
    },
    {
      "cell_type": "code",
      "source": [
        "## 우리는 level3까지 - 합격선에까지만 가는 것이 목표!! "
      ],
      "metadata": {
        "id": "sWwda_3efPiP"
      },
      "execution_count": null,
      "outputs": []
    },
    {
      "cell_type": "markdown",
      "source": [
        "##1.1 코테 전 준비사항\n",
        "\n",
        "1. 플렛폼에 익숙해지자! (프로그래머스, 구름EDU 등)\n",
        "    * 사용 가능 라이브러리 미리 확인 등\n",
        "    * 대부분 numpy나 pandas 같은 라이브러리 사용 금지이지만 간혹가다 제한이 없는 곳도 있습니다. numpy는 python보다 대부분의 경우 속도가 빠릅니다. 크기에 따라 다르지만 100000개 이상의 배열의 연산의 경우 50배 이상의 성능을 보입니다.\n",
        "2. 언어 선택(속도 : C++, 풀이 : Python)\n",
        "3. 코드 스니펫(트리, 검색, 최단경로(예를 들어 다익스트라), 직접 제작한 함수 등), Cheatsheet, A4 용지 준비\n",
        "    * 코드 스니펫을 만들어둔 레파지토리 fork - [제주코딩베이스캠프](https://github.com/paullabkorea/programmersLv0)\n",
        "    * 시험 전 스니펫을 만들지 말고 하루 한 문제씩(저도 매일 한 문제씩 풉니다.)\n",
        "4. 유용한 라이브러리 정리! (collections, itertools(순열, 조합), functools, itertools, re, bisect, math 등) - [제주코딩베이스캠프](https://www.youtube.com/channel/UC4GnvNKtuJ4cqWsYjxNxAEQ) 유튜브 채널 확인\n",
        "5. 기억해두자! 예외처리!\n",
        "6. 속도개선\n",
        "    1. class로 구현\n",
        "    2. 메서드 대신 슬라이싱 구현(슬라이싱은 C로 구현되어 있어 메서드보다 통상 8배정도 빠릅니다.)하세요. 다만 공간복잡도가 상승할 수 있습니다. (리스트.reverse(), reversed(리스트), 리스트[::-1])\n",
        "    3. for문 대신 list comprehension을 사용하세요. 더 빠릅니다.\n",
        "    4. 재귀는 느립니다. 최후의 수단으로 사용하세요."
      ],
      "metadata": {
        "id": "dJghPcRfehYg"
      }
    },
    {
      "cell_type": "markdown",
      "source": [
        "## 1.2 문제 유형과 출제 방식\n",
        "* 5 ~ 6시간, 6 ~ 7문제\n",
        "* 30분씩 4문제, 2시간씩 2문제\n",
        "* 문제 유형 분석 관련 글\n",
        "    * [문제 유형 분석](https://www.hanbit.co.kr/media/channel/view.html?cms_code=CMS4385594264)\n",
        "    * [언어 유불리 여부](https://www.hanbit.co.kr/media/channel/view.html?cms_code=CMS9145550324&cate_cd=)\n",
        "    * [코딩 테스트에 가장 많이 출제 되는 알고리즘](https://www.hanbit.co.kr/media/channel/view.html?cms_code=CMS7793635735&cate_cd=)\n",
        "        * 요구사항 구현 알고리즘(33%)\n",
        "        * 그리디 알고리즘(20%)\n",
        "        * 너비우선탐색, 깊이우선탐색(20%)\n",
        "        * 정렬(8%)\n",
        "        * 다이나믹 프로그래밍, 최단경로, 이진 탐색 등\n",
        "* 전체 문제 유형\n",
        "    * 알고리즘\n",
        "        * 정렬\n",
        "        * 이진 검색\n",
        "        * 비트 연산\n",
        "        * 슬라이딩 윈도우, 페이지 교체\n",
        "        * 분할 정복\n",
        "            * 그리디 알고리즘\n",
        "            * 다이나믹 프로그래밍\n",
        "    * 자료구조\n",
        "        * 선형\n",
        "            * 스택과 큐, 데크\n",
        "            * 연결리스트, 해시 테이블\n",
        "        * 비선형\n",
        "            * 그래프(최단경로) - 다익스트라가 나오면 매우 어려운 문제\n",
        "            * 트리\n",
        "                * 힙\n",
        "                * 트라이"
      ],
      "metadata": {
        "id": "zQ_wMtLgeolh"
      }
    },
    {
      "cell_type": "markdown",
      "source": [
        "### 1.3.1 1번 워밍업 문제(google)\n",
        "\n",
        "1부터 10,000까지 8이라는 숫자가 총 몇번 나오는가?\n",
        "\n",
        "8이 포함되어 있는 숫자의 갯수를 카운팅 하는 것이 아니라 8이라는 숫자를 모두 카운팅 해야 한다.\n",
        "(※ 예를들어 8808은 3, 8888은 4로 카운팅 해야 함)\n",
        "\n",
        "문제 링크 : https://codingdojang.com/scode/393"
      ],
      "metadata": {
        "id": "o1qR6HixeusA"
      }
    },
    {
      "cell_type": "code",
      "source": [
        "#문자형으로 바꾸면 .count할 수 있\n",
        "'[1,2,3,4,5,6,7,8,9,10,11,12]'.count('1')"
      ],
      "metadata": {
        "colab": {
          "base_uri": "https://localhost:8080/"
        },
        "id": "l-lHjjDCf1Yf",
        "outputId": "77a5a23b-cfc4-4f1f-dcea-6a8bb4491195"
      },
      "execution_count": 1,
      "outputs": [
        {
          "output_type": "execute_result",
          "data": {
            "text/plain": [
              "5"
            ]
          },
          "metadata": {},
          "execution_count": 1
        }
      ]
    },
    {
      "cell_type": "code",
      "source": [
        "#따라서 문자형으로 만들려면\n",
        "str(list(range(1,13)))"
      ],
      "metadata": {
        "colab": {
          "base_uri": "https://localhost:8080/",
          "height": 35
        },
        "id": "ErgLX3HGf7_P",
        "outputId": "74c4b114-f557-4faf-fdd2-68e890c1f933"
      },
      "execution_count": 2,
      "outputs": [
        {
          "output_type": "execute_result",
          "data": {
            "text/plain": [
              "'[1, 2, 3, 4, 5, 6, 7, 8, 9, 10, 11, 12]'"
            ],
            "application/vnd.google.colaboratory.intrinsic+json": {
              "type": "string"
            }
          },
          "metadata": {},
          "execution_count": 2
        }
      ]
    },
    {
      "cell_type": "code",
      "source": [
        "str(list(range(1,10000))).count('8')"
      ],
      "metadata": {
        "colab": {
          "base_uri": "https://localhost:8080/"
        },
        "id": "YP7TE5c-gE58",
        "outputId": "1073ede7-5c7d-4578-e516-2c526f2ddcbb"
      },
      "execution_count": 3,
      "outputs": [
        {
          "output_type": "execute_result",
          "data": {
            "text/plain": [
              "4000"
            ]
          },
          "metadata": {},
          "execution_count": 3
        }
      ]
    },
    {
      "cell_type": "code",
      "source": [
        "#속도측정\n",
        "%%timeit\n",
        "\n",
        "s = 0\n",
        "for i in range(100001):\n",
        "  s += i"
      ],
      "metadata": {
        "colab": {
          "base_uri": "https://localhost:8080/"
        },
        "id": "p9r6ZErEghfi",
        "outputId": "9182d05c-565f-432c-a11f-026dba2695e9"
      },
      "execution_count": 4,
      "outputs": [
        {
          "output_type": "stream",
          "name": "stdout",
          "text": [
            "6.22 ms ± 1.38 ms per loop (mean ± std. dev. of 7 runs, 100 loops each)\n"
          ]
        }
      ]
    },
    {
      "cell_type": "code",
      "source": [
        "%%timeit\n",
        "\n",
        "sum([i for i in range(100001)])   #list comprehension이 더 빠름 "
      ],
      "metadata": {
        "colab": {
          "base_uri": "https://localhost:8080/"
        },
        "id": "cVOLsQmOgnC4",
        "outputId": "77d1a8fb-376f-40eb-83cc-7cca63c7f125"
      },
      "execution_count": 5,
      "outputs": [
        {
          "output_type": "stream",
          "name": "stdout",
          "text": [
            "3.97 ms ± 176 µs per loop (mean ± std. dev. of 7 runs, 100 loops each)\n"
          ]
        }
      ]
    },
    {
      "cell_type": "code",
      "source": [
        "s = ''\n",
        "for i in range(10001):\n",
        "  s += str(i)\n",
        "\n",
        "\n",
        "s.count(\"8\")"
      ],
      "metadata": {
        "colab": {
          "base_uri": "https://localhost:8080/"
        },
        "id": "IK_GasgfhL7B",
        "outputId": "6d605b58-49ed-487a-c588-f1aad8162090"
      },
      "execution_count": 7,
      "outputs": [
        {
          "output_type": "execute_result",
          "data": {
            "text/plain": [
              "4000"
            ]
          },
          "metadata": {},
          "execution_count": 7
        }
      ]
    },
    {
      "cell_type": "code",
      "source": [
        "result = []\n",
        "for i in range(10001):\n",
        "  result.append(i)\n",
        "\n",
        "str(result).count('8')   #print하면 ''생략됨 "
      ],
      "metadata": {
        "colab": {
          "base_uri": "https://localhost:8080/"
        },
        "id": "gTX-ATyRhkoR",
        "outputId": "00394347-216a-4d9f-dd06-0e2dccd32270"
      },
      "execution_count": 8,
      "outputs": [
        {
          "output_type": "execute_result",
          "data": {
            "text/plain": [
              "4000"
            ]
          },
          "metadata": {},
          "execution_count": 8
        }
      ]
    },
    {
      "cell_type": "code",
      "source": [
        "str([i for i in range(10001)]).count('8')  #append한 i가 앞에/ for문 뒤에 그대로 가져오고 \n",
        "#주의 : print는 매우 부하가 큰 함수 - print그대로 제출하지 말것! "
      ],
      "metadata": {
        "colab": {
          "base_uri": "https://localhost:8080/"
        },
        "id": "UP3AchJKhrPO",
        "outputId": "19e5f7f8-8487-4042-a177-14b17e88e65a"
      },
      "execution_count": 9,
      "outputs": [
        {
          "output_type": "execute_result",
          "data": {
            "text/plain": [
              "4000"
            ]
          },
          "metadata": {},
          "execution_count": 9
        }
      ]
    },
    {
      "cell_type": "code",
      "source": [],
      "metadata": {
        "id": "AuGq-eu-gPdx"
      },
      "execution_count": null,
      "outputs": []
    },
    {
      "cell_type": "code",
      "source": [
        "#8이 나오면 count+= 1  ??"
      ],
      "metadata": {
        "id": "VXoiAke2fVey"
      },
      "execution_count": null,
      "outputs": []
    },
    {
      "cell_type": "markdown",
      "source": [
        "### 1.3.2 2번 워밍업 문제(daum)\n",
        "\n",
        "1차원의 점들이 주어졌을 때, 그 중 가장 거리가 짧은 것의 쌍을 출력하는 함수를 작성하시오. (단 점들의 배열은 모두 정렬되어있다고 가정한다.)\n",
        "\n",
        "예를들어 S = [1, 3, 4, 8, 13, 17, 20] 이 주어졌다면, 결과값은 (3, 4)가 될 것이다.\n",
        "\n",
        "문제링크 : https://codingdojang.com/scode/408"
      ],
      "metadata": {
        "id": "6EkkB_uJe1nR"
      }
    },
    {
      "cell_type": "code",
      "source": [
        "#min, max 쓰지 않고/ 가장 작은 값과 큰값을 찾는 방법을 알고 있어야\n",
        "\n",
        "# 가장 작은 값 -> 가장 큰 값을 가지고 있는 상태에서 가장 작은값을 찾아감\n",
        "# 가장 큰 값 -> 가장 작은 값을 가지고 있는 상태에서 가장 큰 값을 찾아감.\n",
        "\n",
        "#ex) [[1,2,3], [6,5,8], [9,11,5]] 에서 어떻게 찾을까?\n",
        "l = [[1,2,3], [6,5,8], [9,11,5]]\n",
        "[i for i in l]\n",
        "[j for i in l for j in i]"
      ],
      "metadata": {
        "colab": {
          "base_uri": "https://localhost:8080/"
        },
        "id": "7kPHbYKPicKt",
        "outputId": "e487be70-4173-42ab-a828-4d558493821b"
      },
      "execution_count": 15,
      "outputs": [
        {
          "output_type": "execute_result",
          "data": {
            "text/plain": [
              "[1, 2, 3, 6, 5, 8, 9, 11, 5]"
            ]
          },
          "metadata": {},
          "execution_count": 15
        }
      ]
    },
    {
      "cell_type": "code",
      "source": [
        "# 가장 작은 값 -> 가장 큰 값을 가지고 있는 상태에서 가장 작은값을 찾아감\n",
        "data = [1, 2, 3, 6, 5, 8, 9, 11, 5]\n",
        "m = float('inf')  #무한대수라 항상 제일 큰값 \n",
        "\n",
        "for i in data:\n",
        "  if i <m:\n",
        "    m = i\n",
        "m"
      ],
      "metadata": {
        "colab": {
          "base_uri": "https://localhost:8080/"
        },
        "id": "y2xXadmMjlab",
        "outputId": "d96cb453-046c-42f7-b7c3-92a7ae24d7fe"
      },
      "execution_count": 16,
      "outputs": [
        {
          "output_type": "execute_result",
          "data": {
            "text/plain": [
              "1"
            ]
          },
          "metadata": {},
          "execution_count": 16
        }
      ]
    },
    {
      "cell_type": "code",
      "source": [
        "# 가장 큰 값 -> 가장 작은 값을 가지고 있는 상태에서 가장 큰 값을 찾아감.\n",
        "m = -float('inf')  #float('-inf')여도됨   #음수고려해야 하기때문에 0은 안됨 \n",
        "for i in data:  \n",
        "  if i >m:\n",
        "    m = i\n",
        "m"
      ],
      "metadata": {
        "colab": {
          "base_uri": "https://localhost:8080/"
        },
        "id": "7z5Zy6c5kghY",
        "outputId": "7f5357f8-96d4-4605-f143-38dcf1587aec"
      },
      "execution_count": 18,
      "outputs": [
        {
          "output_type": "execute_result",
          "data": {
            "text/plain": [
              "11"
            ]
          },
          "metadata": {},
          "execution_count": 18
        }
      ]
    },
    {
      "cell_type": "code",
      "source": [
        "#많이 실수하는거\n",
        "-10//3   #-4임     #왜냐면 내림임!!! "
      ],
      "metadata": {
        "id": "NzgYXeb7lMWV"
      },
      "execution_count": null,
      "outputs": []
    },
    {
      "cell_type": "code",
      "source": [
        "##최솟값 쌍 구하기 \n",
        "data = [1, 2, 3, 6, 5, 8, 9, 11, 5]\n",
        "#data[1] - data[0]\n",
        "#data[2] - data[1]\n",
        "#data[3] - data[2]\n",
        "\n",
        "index = 0\n",
        "m = float('inf') \n",
        "for i in range(len(data)-1):   #처음에 0들어왔으니까 \n",
        "  if (data[i+1] - data[i]) <m:\n",
        "    m = data[i+1] - data[i]\n",
        "    index = i\n",
        "index\n",
        "data[index], data[index+1]        #3,4 여야되는데?????"
      ],
      "metadata": {
        "colab": {
          "base_uri": "https://localhost:8080/"
        },
        "id": "605yzBanoT4L",
        "outputId": "717f0ff9-076c-4bf4-ab6a-5be9f2e03663"
      },
      "execution_count": 22,
      "outputs": [
        {
          "output_type": "execute_result",
          "data": {
            "text/plain": [
              "(11, 5)"
            ]
          },
          "metadata": {},
          "execution_count": 22
        }
      ]
    },
    {
      "cell_type": "code",
      "source": [
        "data = [1, 3, 4, 8, 13, 17, 20]\n",
        "# data[1] - data[0]\n",
        "# data[2] - data[1]\n",
        "# data[3] - data[2]\n",
        "m = float('inf')\n",
        "index = 0\n",
        "for i in range(len(data)-1):\n",
        "    print(data[i+1] - data[i])\n",
        "    if (data[i+1] - data[i]) < m:\n",
        "        m = data[i+1] - data[i]\n",
        "        index = i\n",
        "        \n",
        "index"
      ],
      "metadata": {
        "id": "Pfqdlci5qJsL"
      },
      "execution_count": null,
      "outputs": []
    },
    {
      "cell_type": "code",
      "source": [],
      "metadata": {
        "id": "w82TLPzeqJnv"
      },
      "execution_count": null,
      "outputs": []
    },
    {
      "cell_type": "code",
      "source": [
        "data = [1, 3, 4, 8, 13, 17, 20]\n",
        "list(zip(data, data[1:]))         #zip으로 묶여서 또 원래 호출하면 안나옴 - 되돌려감기 안됨  \n",
        "sorted(list(zip(data, data[1:])), key = lambda x:x[1]-x[0])  #이거 기준으로 정렬  #sorted는 되돌려감기 됨 "
      ],
      "metadata": {
        "colab": {
          "base_uri": "https://localhost:8080/"
        },
        "id": "al5-El4BicHK",
        "outputId": "39a0638f-1292-4b6b-d384-7e604f74b62b"
      },
      "execution_count": 27,
      "outputs": [
        {
          "output_type": "execute_result",
          "data": {
            "text/plain": [
              "[(3, 4), (1, 3), (17, 20), (4, 8), (13, 17), (8, 13)]"
            ]
          },
          "metadata": {},
          "execution_count": 27
        }
      ]
    },
    {
      "cell_type": "code",
      "source": [
        "data = [1, 3, 4, 8, 13, 17, 20]\n",
        "[i for i in zip(data, data[1:])]"
      ],
      "metadata": {
        "id": "hymrA5GIqoBu"
      },
      "execution_count": null,
      "outputs": []
    },
    {
      "cell_type": "code",
      "source": [
        "#sorted([[1,11,21], [13,2,21], [2,11,101]])  #key없으면 어차피 0번째로 정렬함 #따라서 앞에 정렬기준 주면 됨 \n",
        "\n",
        "data = [1, 3, 4, 8, 13, 17, 20]\n",
        "[[i[1] - i[0], i] for i in zip(data, data[1:])]\n",
        "sorted([[i[1] - i[0], i] for i in zip(data, data[1:])]) #따라서 이거 기준 sorted하면 됨 \n",
        "sorted([[i[1] - i[0], i] for i in zip(data, data[1:])], reverse=True)"
      ],
      "metadata": {
        "colab": {
          "base_uri": "https://localhost:8080/"
        },
        "id": "ZGNP3v4js2WS",
        "outputId": "65be9ed6-1c83-43c5-a565-55afb7897b50"
      },
      "execution_count": 31,
      "outputs": [
        {
          "output_type": "execute_result",
          "data": {
            "text/plain": [
              "[[5, (8, 13)],\n",
              " [4, (13, 17)],\n",
              " [4, (4, 8)],\n",
              " [3, (17, 20)],\n",
              " [2, (1, 3)],\n",
              " [1, (3, 4)]]"
            ]
          },
          "metadata": {},
          "execution_count": 31
        }
      ]
    },
    {
      "cell_type": "markdown",
      "source": [
        "## 1.4 기본 자료구조 및 알고리즘\n",
        "1. 스택과 큐\n",
        "2. 연결리스트\n",
        "3. 트리와 그래프\n",
        "    * 3.1 트리 구현\n",
        "    * 3.2 트리의 순회\n",
        "4. 정렬 알고리즘\n",
        "    * 4.1 선택정렬\n",
        "    * 4.2 삽입정렬\n",
        "    * 4.3 병합정렬\n",
        "    * 4.4 퀵정렬\n",
        "5. 페이지 교체 알고리즘\n",
        "6. 슬라이딩 윈도우와 투 포인터 알고리즘"
      ],
      "metadata": {
        "id": "DbvnUuG-e4SB"
      }
    },
    {
      "cell_type": "markdown",
      "source": [
        "### 1.4.1 스택과 큐\n",
        "* 스택과 큐는 프로그래밍 언어가 생겨날 때부터 있었던 매우 고전적인 개념\n",
        "* 스택은 LIFO(Last-In-First-Out, 후입선출)\n",
        "* 큐는 FIFO(First-In_First-Out, 선입선출)\n",
        "* 특히 알고리즘 문제에서 너비우선 탐색과 깊이 우선탐색에 응용됨\n",
        "* 리스트가 스택과 큐의 모든 연산이 구현되어 있음\n",
        "* ADT(Abstract Data Type)\n",
        "    * S.top(): 스택의 가장 윗 데이터를 반환한다. 만약 스택이 비었다면 이 연산은 정의불가 상태이다.\n",
        "    * S.pop(): 스택의 가장 윗 데이터를 삭제한다. 스택이 비었다면 연산 정의불가 상태.\n",
        "    * S.push(): 스택의 가장 윗 데이터로 top이 가리키는 자리 위에(top = top + 1) 메모리를 생성, 데이터 x를 넣는다.\n",
        "    * S.empty(): 스택이 비었다면 1을 반환하고,그렇지 않다면 0을 반환한다."
      ],
      "metadata": {
        "id": "l-2BjpcIe7ZL"
      }
    },
    {
      "cell_type": "code",
      "source": [
        "##stack :쌓임 - 스택문제만 나옴 (큐는 경우의 수가 하나라) - 너비우선탐색, 깊이우선탐색에서도 나옴 \n",
        "s = []\n",
        "#값 삽입 \n",
        "s.append(10)\n",
        "s.append(20)\n",
        "\n",
        "#값 꺼냄 \n",
        "s.pop()"
      ],
      "metadata": {
        "id": "uYJL911nubII"
      },
      "execution_count": null,
      "outputs": []
    },
    {
      "cell_type": "code",
      "source": [
        "## 보통의 queue  :그대로 넣고 빠짐(선입선출) <-> 내맘대로 queue\n",
        "s = []\n",
        "#값 삽입 \n",
        "s.append(10)\n",
        "s.append(20)\n",
        "\n",
        "#값 꺼냄 \n",
        "s.pop()   #s[0]이 나감 "
      ],
      "metadata": {
        "id": "RbW7SMWwvHlB"
      },
      "execution_count": null,
      "outputs": []
    },
    {
      "cell_type": "code",
      "source": [
        "#https://pyalgo.co.kr/?page=6# - 스택문제네 라고 파악할 수 있어야 (level2이상)\n",
        "#스토리 - 줄글은 읽을필요없음 \n",
        "#먼저 스크롤 내려서 입출력부터 본다. \n",
        "#입출력 설명 > 입출력보면서 > 유추하기 > 중간에서 빼내지 못한다 -> 스택! \n",
        "#합쳐져서 빠지는거 - 먹는거니까 \n",
        "\n",
        "data = [1, 1, 1, 2, 3, 4, 1, 2, 3, 4, 1]\n",
        "stack = []\n",
        "count = 0 \n",
        "\n",
        "for i in data:\n",
        "  #스택에다 i를 쌓음 \n",
        "  stack.append(i)\n",
        "  if stack[-5:] == [1,2,3,4,1]: #만나면 통째로 뽑아주겠다\n",
        "    for _ in range(5):\n",
        "      stack.pop()     #pop을 다섯번하면 됨 \n",
        "      count += 1      #매칭될때마다 하나씩 올려줌 "
      ],
      "metadata": {
        "id": "PNCQGl3jxpBN"
      },
      "execution_count": null,
      "outputs": []
    },
    {
      "cell_type": "code",
      "source": [
        "#슬라이싱으로 푸는 문제 아님! -왜냐면 먹고나서 사라져야함 \n",
        "#번외 참고용 - 슬라이싱은 out of range 나와도 error 주지않음 "
      ],
      "metadata": {
        "id": "wvUCCewiy_WJ"
      },
      "execution_count": null,
      "outputs": []
    },
    {
      "cell_type": "code",
      "source": [
        "##파라미터는 선언 아규먼트는 실행 - 파선아실!\n",
        "##깊이 스택 너비 큐 - 깊스너큐! "
      ],
      "metadata": {
        "id": "OaWcAFM24B2X"
      },
      "execution_count": null,
      "outputs": []
    },
    {
      "cell_type": "markdown",
      "source": [
        "### 1.4.2 연결리스트  (중요###) - 대부분 level4 문제\n",
        "* 연결리스트, 메모리 효율을 위해 사용되는 경우가 많음\n",
        "* 개념 : https://en.wikipedia.org/wiki/Linked_list\n",
        "* 알고리즘 시각화 : https://visualgo.net/ko\n"
      ],
      "metadata": {
        "id": "_x5592yHnqTb"
      }
    },
    {
      "cell_type": "code",
      "source": [
        "# Linked List : 하나의 노드에는 value값과 linked list가 있음 "
      ],
      "metadata": {
        "id": "4UNMrK4C8gDp"
      },
      "execution_count": null,
      "outputs": []
    },
    {
      "cell_type": "code",
      "source": [
        "#22,2,90,77 연결한 linked list를 구현해주세요\n",
        "#먼저 딕셔너리로 구현해보면 \n",
        "linked_list = {\n",
        "    'head': {\n",
        "        'data': 22,\n",
        "        'next': {#2를 가리키는 딕셔너리\n",
        "                 'data':2,\n",
        "                 'next':{\n",
        "                    'data':90,\n",
        "                    'next':{\n",
        "                        'data':77,\n",
        "                        'next':None\n",
        "                    }\n",
        "                }\n",
        "          }\n",
        "    }\n",
        "}\n",
        "#우리의 목표는 아래와 같이 값을 이동해가면서 어떤 수행 작업을 하는것 \n",
        "#어떤 수행작업 : 데이터 읽까지 알면 충분//삽입/삭제... \n",
        "linked_list['head']['next']['data']\n",
        "linked_list['head']['next']['next']['data']"
      ],
      "metadata": {
        "colab": {
          "base_uri": "https://localhost:8080/"
        },
        "id": "Nfj_d9wr86iH",
        "outputId": "5ec3522b-3cdc-47c6-ac96-346fd6c4e3cb"
      },
      "execution_count": 41,
      "outputs": [
        {
          "output_type": "execute_result",
          "data": {
            "text/plain": [
              "90"
            ]
          },
          "metadata": {},
          "execution_count": 41
        }
      ]
    },
    {
      "cell_type": "code",
      "source": [
        "#마지막에 여기에 추가하는것 \n",
        "linked_list = {'head':None}\n",
        "node1 = {'data':22,'next':None}\n",
        "node2 = {'data':2,'next':None}\n",
        "node3 = {'data':90,'next':None}\n",
        "node4 = {'data':77,'next':None}\n",
        "\n",
        "#노드 연결 \n",
        "#여기도 추가\n",
        "linked_list['head'] = node1\n",
        "node1['next'] = node2   \n",
        "node2['next'] = node3\n",
        "node3['next'] = node4   "
      ],
      "metadata": {
        "id": "bqT8IK-u-2kA"
      },
      "execution_count": 43,
      "outputs": []
    },
    {
      "cell_type": "code",
      "source": [
        "node1['data']\n",
        "node1['next']['data']\n",
        "node1['next']['next']['data']"
      ],
      "metadata": {
        "colab": {
          "base_uri": "https://localhost:8080/"
        },
        "id": "5tkqG8LF_pcU",
        "outputId": "77b193fc-9189-48fc-b7e1-3299e4daefd1"
      },
      "execution_count": 44,
      "outputs": [
        {
          "output_type": "execute_result",
          "data": {
            "text/plain": [
              "90"
            ]
          },
          "metadata": {},
          "execution_count": 44
        }
      ]
    },
    {
      "cell_type": "code",
      "source": [
        "#마지막에 이렇게 뽑을수 있도록 \n",
        "linked_list['head']['next']['data']\n",
        "linked_list['head']['next']['next']['data']"
      ],
      "metadata": {
        "id": "DSsQYQvv_pYc"
      },
      "execution_count": null,
      "outputs": []
    },
    {
      "cell_type": "code",
      "source": [
        "#클래스로 구현해보면\n",
        "class Node:\n",
        "  def __init__(self, data):\n",
        "    self.data = data\n",
        "    self.next = None\n",
        "\n",
        "node1 = Node(22)\n",
        "node2 = Node(2)\n",
        "node3 = Node(90)\n",
        "node4 = Node(77)\n",
        "\n",
        "node1.next = node2\n",
        "node2.next = node3\n",
        "node3.next = node4"
      ],
      "metadata": {
        "id": "KCscy5UZRG0J"
      },
      "execution_count": 46,
      "outputs": []
    },
    {
      "cell_type": "code",
      "source": [
        "node1.data\n",
        "node1.next.data\n",
        "node1.next.next.data"
      ],
      "metadata": {
        "colab": {
          "base_uri": "https://localhost:8080/"
        },
        "id": "cg29euj9RvrF",
        "outputId": "fd469afc-5dd0-4557-8df6-51802a3b8481"
      },
      "execution_count": 50,
      "outputs": [
        {
          "output_type": "execute_result",
          "data": {
            "text/plain": [
              "90"
            ]
          },
          "metadata": {},
          "execution_count": 50
        }
      ]
    },
    {
      "cell_type": "code",
      "source": [
        "current = node1\n",
        "while current:\n",
        "  print(current.data)\n",
        "  current = current.next  #다음으로 건너가도록  #node1.next -> node2가 된것 \n"
      ],
      "metadata": {
        "colab": {
          "base_uri": "https://localhost:8080/"
        },
        "id": "JQLC0ZHlR7ee",
        "outputId": "c1e59109-c1aa-45ef-8b3f-c3bbbaf00007"
      },
      "execution_count": 57,
      "outputs": [
        {
          "output_type": "stream",
          "name": "stdout",
          "text": [
            "22\n",
            "2\n",
            "90\n",
            "77\n"
          ]
        }
      ]
    },
    {
      "cell_type": "code",
      "source": [
        "# step 2 자동으로 다음 노드가 연결되는 linked list 구현\n",
        "class Node:\n",
        "    def __init__(self, data):\n",
        "        self.data = data\n",
        "        self.next = None\n",
        "\n",
        "# head -> ['init', next]\n",
        "#               ↑ \n",
        "#              tail\n",
        "# head -> ['init', next] -> [90, next]\n",
        "#                               ↑ \n",
        "#                              tail\n",
        "\n",
        "class Node:\n",
        "    def __init__(self, data):\n",
        "        self.data = data\n",
        "        self.next = None\n",
        "\n",
        "class LinkedList:\n",
        "  def __init__(self):\n",
        "    init = Node('init')\n",
        "    self.head = init\n",
        "    self.tail = init      #위 주석에 따라 \n",
        "    self.count = 0\n",
        "\n",
        "  def append(self, data):\n",
        "    newNode = Node(data)\n",
        "    self.tail.next = newNode             #self.tail = init 의 \n",
        "    self.tail = newNode\n",
        "    self.count += 1\n",
        "\n",
        "l = LinkedList()\n",
        "l.append(22)\n",
        "l.append(2)\n",
        "l.append(90)\n",
        "l.append(77)"
      ],
      "metadata": {
        "id": "PNU5r-jSTBt_"
      },
      "execution_count": null,
      "outputs": []
    },
    {
      "cell_type": "code",
      "source": [
        "l.head.data\n",
        "l.head.next.data\n",
        "l.head.next.next.data\n",
        "l.head.next.next.next.data\n",
        "l.head.next.next.next.next.data"
      ],
      "metadata": {
        "id": "6T4QfDYUVFXp"
      },
      "execution_count": null,
      "outputs": []
    },
    {
      "cell_type": "code",
      "source": [
        "# step 3 추가 기능 구현\n",
        "class Node:\n",
        "    def __init__(self, data):\n",
        "        self.data = data\n",
        "        self.next = None\n",
        "\n",
        "class Node:\n",
        "    def __init__(self, data):\n",
        "        self.data = data\n",
        "        self.next = None\n",
        "\n",
        "class LinkedList:\n",
        "  def __init__(self):\n",
        "    init = Node('init')\n",
        "    self.head = init\n",
        "    self.tail = init      #위 주석에 따라 \n",
        "    self.count = 0\n",
        "\n",
        "  def append(self, data):\n",
        "    newNode = Node(data)\n",
        "    self.tail.next = newNode             #self.tail = init 의 \n",
        "    self.tail = newNode\n",
        "    self.count += 1\n",
        "\n",
        "  def __len__(self):\n",
        "    return self.count\n",
        "\n",
        "    def __str__(self):\n",
        "        current = self.head\n",
        "        current = current.next\n",
        "        s = ''\n",
        "        for i in range(self.count):\n",
        "            s += f'{current.data} '\n",
        "            current = current.next\n",
        "        return f'[{s}]'    # f'<{s}>'\n",
        "      \n",
        "\n",
        "l = LinkedList()\n",
        "l.append(22)\n",
        "l.append(2)\n",
        "l.append(90)\n",
        "l.append(77)\n",
        "len(l)\n",
        "\n",
        "#<22,2,90,77> 로 출력하려면\n",
        "print(l)"
      ],
      "metadata": {
        "colab": {
          "base_uri": "https://localhost:8080/"
        },
        "id": "t6cWQ0V2VZEb",
        "outputId": "2de95287-b86f-4655-b93d-8de07c2e05e3"
      },
      "execution_count": 65,
      "outputs": [
        {
          "output_type": "stream",
          "name": "stdout",
          "text": [
            "<__main__.LinkedList object at 0x7f1cbbeb3b50>\n"
          ]
        }
      ]
    },
    {
      "cell_type": "code",
      "source": [
        "def __str__(self):\n",
        "        current = self.head\n",
        "        current = current.next\n",
        "        s = ''\n",
        "        for i in range(self.count):\n",
        "            s += f'{current.data}, '\n",
        "            current = current.next\n",
        "        return f'<{s[:-2]}>'\n",
        "\n",
        "    def pop(self):\n",
        "        마지막값 = self.tail.data\n",
        "        현재노드 = self.head\n",
        "        \n",
        "        for i in range(self.데이터수):\n",
        "            if 현재노드.next is self.tail:\n",
        "                self.tail = 현재노드\n",
        "                break\n",
        "            현재노드 = 현재노드.next\n",
        "            \n",
        "        self.데이터수 -= 1\n",
        "        return 마지막값\n",
        "    \n",
        "    def find(self, data):\n",
        "        index = -1\n",
        "        현재노드 = self.head\n",
        "        \n",
        "        for i in range(self.데이터수+1):\n",
        "            if 현재노드.data == data:\n",
        "                return index\n",
        "            index += 1\n",
        "            현재노드 = 현재노드.next\n",
        "            \n",
        "        return -1\n",
        "\n",
        "    def insert(self, input_index, input_data):\n",
        "        현재노드 = self.head\n",
        "        \n",
        "        for i in range(input_index):\n",
        "            현재노드 = 현재노드.next\n",
        "            \n",
        "        신규노드 = Node(input_data)\n",
        "        신규노드.next = 현재노드.next\n",
        "        현재노드.next = 신규노드\n",
        "        \n",
        "        self.데이터수 += 1\n",
        "\n",
        "# 22, 2, 90, 77\n",
        "l = LinkedList()\n",
        "l.append(22)\n",
        "l.append(2)\n",
        "l.append(90)\n",
        "l.append(77)\n",
        "len(l)\n",
        "print(l) # [22, 2, 90, 77], <22, 2, 90, 77>"
      ],
      "metadata": {
        "id": "odD8-PD-bQL1"
      },
      "execution_count": null,
      "outputs": []
    },
    {
      "cell_type": "code",
      "source": [
        "# step 4 순회기능 구현\n",
        "class Node:\n",
        "    def __init__(self, data):\n",
        "        self.data = data\n",
        "        self.next = None\n",
        "\n",
        "class LinkedList:\n",
        "    def __init__(self):\n",
        "        init = Node('init')\n",
        "        self.head = init\n",
        "        self.tail = init\n",
        "        self.count = 0\n",
        "\n",
        "    def append(self, data):\n",
        "        newNode = Node(data)\n",
        "        self.tail.next = newNode\n",
        "        self.tail = newNode\n",
        "        self.count += 1\n",
        "\n",
        "    def __len__(self):\n",
        "        return self.count\n",
        "\n",
        "    def __str__(self):\n",
        "        current = self.head\n",
        "        current = current.next\n",
        "        s = ''\n",
        "        for i in range(self.count):\n",
        "            s += f'{current.data}, '\n",
        "            current = current.next\n",
        "        return f'<{s[:-2]}>'\n",
        "\n",
        "    def __iter__(self):\n",
        "        현재노드 = self.head\n",
        "        현재노드 = 현재노드.next\n",
        "        while 현재노드:\n",
        "            yield 현재노드.data      #함수 중단한채로 값 반환 \n",
        "            현재노드 = 현재노드.next \n",
        "\n",
        "\n",
        "# 22, 2, 90, 77\n",
        "l = LinkedList()\n",
        "l.append(22)\n",
        "l.append(2)\n",
        "l.append(90)\n",
        "l.append(77)\n",
        "\n",
        "for i in l:\n",
        "  print(i)"
      ],
      "metadata": {
        "colab": {
          "base_uri": "https://localhost:8080/"
        },
        "id": "StkhjI53bXBv",
        "outputId": "7319b5c1-4fe5-4c74-ea41-5df09ab2a83f"
      },
      "execution_count": 66,
      "outputs": [
        {
          "output_type": "stream",
          "name": "stdout",
          "text": [
            "22\n",
            "2\n",
            "90\n",
            "77\n"
          ]
        }
      ]
    },
    {
      "cell_type": "code",
      "source": [
        "#yield 설명 \n",
        "def gen():\n",
        "  result = 0\n",
        "  while True:\n",
        "    yield result  #진행되고 있는 상태에서 반환값만 주고/ 다음번에 또만나면 다음번 순회 \n",
        "    result += 2\n",
        "\n",
        "list(zip('hello world', gen()))"
      ],
      "metadata": {
        "id": "R8NLy_F_V2bv"
      },
      "execution_count": null,
      "outputs": []
    },
    {
      "cell_type": "code",
      "source": [
        "## step4를 손으로 2번 써보기!! \n",
        "# 각 클래스에 쓴 내용을 사진찍어서 1장만 올리기 "
      ],
      "metadata": {
        "id": "_VvBiImyfTEC"
      },
      "execution_count": null,
      "outputs": []
    },
    {
      "cell_type": "code",
      "source": [
        "# step 4 순회기능 구현\n",
        "class Node:\n",
        "    def __init__(self, data):\n",
        "        self.data = data\n",
        "        self.next = None\n",
        "\n",
        "class LinkedList:\n",
        "    def __init__(self):\n",
        "        init = Node('init')\n",
        "        self.head = init\n",
        "        self.tail = init\n",
        "        self.count = 0\n",
        "\n",
        "    def append(self, data):\n",
        "        newNode = Node(data)\n",
        "        self.tail.next = newNode\n",
        "        self.tail = newNode\n",
        "        self.count += 1\n",
        "\n",
        "    def __iter__(self):\n",
        "        현재노드 = self.head\n",
        "        현재노드 = 현재노드.next\n",
        "        while 현재노드:\n",
        "            yield 현재노드.data\n",
        "            현재노드 = 현재노드.next\n",
        "\n",
        "    def __len__(self):\n",
        "        return self.count\n",
        "\n",
        "    def __str__(self):\n",
        "        current = self.head\n",
        "        current = current.next\n",
        "        s = ''\n",
        "        for i in range(self.count):\n",
        "            s += f'{current.data}, '\n",
        "            current = current.next\n",
        "        return f'<{s[:-2]}>'\n",
        "\n",
        "l = LinkedList()\n",
        "l.append(22)\n",
        "l.append(2)\n",
        "l.append(90)\n",
        "l.append(77)\n",
        "\n",
        "for i in l:\n",
        "    print(i)"
      ],
      "metadata": {
        "id": "k7ZaGSpIgnAr"
      },
      "execution_count": null,
      "outputs": []
    },
    {
      "cell_type": "code",
      "source": [
        "def gen():\n",
        "    result = 0\n",
        "    while True:\n",
        "        yield result\n",
        "        result += 2\n",
        "\n",
        "list(zip('hello world', gen()))"
      ],
      "metadata": {
        "id": "D6Ax4puzgo9S"
      },
      "execution_count": null,
      "outputs": []
    },
    {
      "cell_type": "markdown",
      "source": [
        "# 알고리즘 문제 -Lv0"
      ],
      "metadata": {
        "id": "6fMDqEP3g9b_"
      }
    },
    {
      "cell_type": "code",
      "source": [
        "https://school.programmers.co.kr/learn/courses/30/lessons/120921\n",
        "문제링크 "
      ],
      "metadata": {
        "id": "twT_MMaKg82M"
      },
      "execution_count": null,
      "outputs": []
    },
    {
      "cell_type": "code",
      "source": [
        "import collections \n",
        "\n",
        "def solution(A, B):\n",
        "  if A == B:\n",
        "    return 0 \n",
        "  비교 = collections.deque(A)\n",
        "  for i in range(len(A)):\n",
        "    비교.rotate(1)\n",
        "    if ''.join(비교) == B:\n",
        "      return i+1\n",
        "\n",
        "  return -1\n",
        "\n",
        "solution(\"hello\", \"lohel\")\n",
        "# solution(\"hello\", \"lohel\")\n",
        "# solution(\"hello\", \"llohe\")\n",
        "solution(\"hello\", \"leohl\")"
      ],
      "metadata": {
        "colab": {
          "base_uri": "https://localhost:8080/"
        },
        "id": "7onTCuD7g8yS",
        "outputId": "256a869b-ab8a-41f1-d4ed-39fc392ebf34"
      },
      "execution_count": 79,
      "outputs": [
        {
          "output_type": "execute_result",
          "data": {
            "text/plain": [
              "2"
            ]
          },
          "metadata": {},
          "execution_count": 79
        }
      ]
    },
    {
      "cell_type": "code",
      "source": [
        "## 2번째 방법. \n",
        "#hello + hello 를 두개 붙여서 거기서 있다면 -> 밀어서 도출할 수 있는 것 \n",
        "\n",
        "def solution(a,b):\n",
        "  return (b*2).find(a)\n",
        "\n",
        "solution(\"hello\", \"lohel\")   #왜냐면 find는 어차피 못차으면 -1줌 "
      ],
      "metadata": {
        "colab": {
          "base_uri": "https://localhost:8080/"
        },
        "id": "vuvE3AiWliC6",
        "outputId": "21afd909-6fcb-4a3f-cf30-b76c01f83b50"
      },
      "execution_count": 80,
      "outputs": [
        {
          "output_type": "execute_result",
          "data": {
            "text/plain": [
              "2"
            ]
          },
          "metadata": {},
          "execution_count": 80
        }
      ]
    },
    {
      "cell_type": "code",
      "source": [],
      "metadata": {
        "id": "orLrqulsk7gE"
      },
      "execution_count": null,
      "outputs": []
    },
    {
      "cell_type": "code",
      "source": [
        "t = 'hello'\n",
        "t[1:] + t[0]"
      ],
      "metadata": {
        "colab": {
          "base_uri": "https://localhost:8080/",
          "height": 35
        },
        "id": "J8e2U4lwg8ut",
        "outputId": "93931a34-8770-4d91-c06f-76aa4cbbc056"
      },
      "execution_count": 69,
      "outputs": [
        {
          "output_type": "execute_result",
          "data": {
            "text/plain": [
              "'elloh'"
            ],
            "application/vnd.google.colaboratory.intrinsic+json": {
              "type": "string"
            }
          },
          "metadata": {},
          "execution_count": 69
        }
      ]
    },
    {
      "cell_type": "code",
      "source": [
        "import collections \n",
        "\n",
        "test = collections.deque('hello')\n",
        "test.rotate(1) #-1 이 방향아니니까 \n",
        "test"
      ],
      "metadata": {
        "colab": {
          "base_uri": "https://localhost:8080/"
        },
        "id": "sGULKUEAkI2c",
        "outputId": "c872de91-4ccf-4346-fc3a-e3904d2abdce"
      },
      "execution_count": 78,
      "outputs": [
        {
          "output_type": "execute_result",
          "data": {
            "text/plain": [
              "deque(['o', 'h', 'e', 'l', 'l'])"
            ]
          },
          "metadata": {},
          "execution_count": 78
        }
      ]
    },
    {
      "cell_type": "code",
      "source": [
        "## 파이썬 알고리즘 베스트10 - deque, counter 둘다 많이 쓰니까 인프런 강의 들어보기  "
      ],
      "metadata": {
        "id": "PDO8oU0piZYs"
      },
      "execution_count": null,
      "outputs": []
    },
    {
      "cell_type": "code",
      "source": [
        "import collections \n",
        "\n",
        "test = collections.deque('hello')\n",
        "test.rotate(2)\n",
        "#test\n",
        "''.join(test)"
      ],
      "metadata": {
        "colab": {
          "base_uri": "https://localhost:8080/",
          "height": 35
        },
        "id": "svcpzN8oiSAu",
        "outputId": "2c9f7778-4cee-45cf-ad24-d5e97e77cda7"
      },
      "execution_count": 76,
      "outputs": [
        {
          "output_type": "execute_result",
          "data": {
            "text/plain": [
              "'lohel'"
            ],
            "application/vnd.google.colaboratory.intrinsic+json": {
              "type": "string"
            }
          },
          "metadata": {},
          "execution_count": 76
        }
      ]
    },
    {
      "cell_type": "code",
      "source": [
        "import collections \n",
        "\n",
        "collections.Counter('aaaaaabbbbbbxxxceff')   "
      ],
      "metadata": {
        "colab": {
          "base_uri": "https://localhost:8080/"
        },
        "id": "v19y-s_1iU0H",
        "outputId": "83fabedd-8bd0-4585-ac1c-c2289ac7b754"
      },
      "execution_count": 77,
      "outputs": [
        {
          "output_type": "execute_result",
          "data": {
            "text/plain": [
              "Counter({'a': 6, 'b': 6, 'x': 3, 'c': 1, 'e': 1, 'f': 2})"
            ]
          },
          "metadata": {},
          "execution_count": 77
        }
      ]
    },
    {
      "cell_type": "code",
      "source": [],
      "metadata": {
        "id": "gSwrXTpEg8rD"
      },
      "execution_count": null,
      "outputs": []
    },
    {
      "cell_type": "code",
      "source": [],
      "metadata": {
        "id": "SSNOfcXjnHr4"
      },
      "execution_count": null,
      "outputs": []
    },
    {
      "cell_type": "code",
      "source": [
        "#https://school.programmers.co.kr/learn/courses/30/lessons/120585\n",
        "#코딩테스트 연습 > 코딩테스트 입문 > 머쓱이보다 키 큰 사람\n",
        "\n",
        "def solution(array,height):\n",
        "  count = 0\n",
        "  for i in array:\n",
        "    if i > height:\n",
        "      count += 1\n",
        "  return count \n",
        "\n",
        "solution([149, 180, 192, 170], 167)"
      ],
      "metadata": {
        "colab": {
          "base_uri": "https://localhost:8080/"
        },
        "id": "ciY5Jd6TTAxX",
        "outputId": "3aacdc83-6bac-46bf-c1cf-3e4efaa79e6d"
      },
      "execution_count": 81,
      "outputs": [
        {
          "output_type": "execute_result",
          "data": {
            "text/plain": [
              "3"
            ]
          },
          "metadata": {},
          "execution_count": 81
        }
      ]
    },
    {
      "cell_type": "code",
      "source": [
        "list(filter(lambda x : x > 167, [149, 180, 192, 170]))"
      ],
      "metadata": {
        "colab": {
          "base_uri": "https://localhost:8080/"
        },
        "id": "-LsVHIGVnbKG",
        "outputId": "2d1be8a2-284e-43cd-e9ec-c9aadceec848"
      },
      "execution_count": 86,
      "outputs": [
        {
          "output_type": "execute_result",
          "data": {
            "text/plain": [
              "[180, 192, 170]"
            ]
          },
          "metadata": {},
          "execution_count": 86
        }
      ]
    },
    {
      "cell_type": "code",
      "source": [
        "#저주의 숫자 3 https://school.programmers.co.kr/learn/courses/30/lessons/120871\n",
        "\n",
        "def solution(n):\n",
        "  result = [1,2,4,5,7,8,11,14,16][n-1]\n",
        "\n",
        "list(filter(lambda x: '3' not in str(x), (filter(lambda x:x%3!=0, range(1000)))))"
      ],
      "metadata": {
        "id": "NLGXtKvwnx0K"
      },
      "execution_count": null,
      "outputs": []
    },
    {
      "cell_type": "code",
      "source": [
        "a = filter(lambda x: x%3 != 0, range(100))\n",
        "b = filter(lambda x: '3' not in str(x), a)\n",
        "c = list(b)\n",
        "c"
      ],
      "metadata": {
        "id": "qqqw367YnjcN"
      },
      "execution_count": null,
      "outputs": []
    },
    {
      "cell_type": "code",
      "source": [
        "result = []\n",
        "for i in range(1000):\n",
        "    if i % 3 != 0 and '3' not in str(i):\n",
        "        result.append(i)\n",
        "result"
      ],
      "metadata": {
        "id": "HHJ7sFpSs_tY"
      },
      "execution_count": null,
      "outputs": []
    },
    {
      "cell_type": "code",
      "source": [
        "def solution(n):\n",
        "    result = []\n",
        "    for i in range(1000):\n",
        "        if i % 3 != 0 and '3' not in str(i):\n",
        "            result.append(i)\n",
        "    return result[n-1]"
      ],
      "metadata": {
        "id": "sawdex3it1B0"
      },
      "execution_count": null,
      "outputs": []
    },
    {
      "cell_type": "code",
      "source": [],
      "metadata": {
        "id": "h3o3Dwb9t4kv"
      },
      "execution_count": null,
      "outputs": []
    },
    {
      "cell_type": "code",
      "source": [
        "#다트게임 - 정규표현식 (정규표현식은 무조건 한문제는 나옴 - 많으면 3문제까지) 문제\n",
        "#https://school.programmers.co.kr/learn/courses/30/lessons/17682\n",
        "#raw string -> r''\n",
        "import re\n",
        "\n",
        "re.findall(r'[0-9]', r'1S2D*3T')\n",
        "re.findall(r'[0-9]', r'10S2D*3T')\n",
        "re.findall(r'[0-9]|10', r'10S2D*3T')\n",
        "re.findall(r'(10|[0-9])', r'1S2D*3T')\n",
        "\n",
        "re.findall(r'\\d', r'10S2D*3T')\n",
        "re.findall(r'\\d+', r'10S2D*3T')\n",
        "\n",
        "re.findall(r'(10|[0-9])([SDT])([*#]?)', r'1S2D*3T')"
      ],
      "metadata": {
        "id": "BXGwdkoeuh0B"
      },
      "execution_count": null,
      "outputs": []
    },
    {
      "cell_type": "code",
      "source": [
        "print('hello\\nworld')\n",
        "print(r'hello\\nworld')"
      ],
      "metadata": {
        "colab": {
          "base_uri": "https://localhost:8080/"
        },
        "id": "FliryZanv-Da",
        "outputId": "7e6db487-e1c8-4f2e-b879-98050e5653de"
      },
      "execution_count": 89,
      "outputs": [
        {
          "output_type": "stream",
          "name": "stdout",
          "text": [
            "hello\n",
            "world\n",
            "hello\\nworld\n"
          ]
        }
      ]
    },
    {
      "cell_type": "code",
      "source": [],
      "metadata": {
        "id": "UmFmT8iav99I"
      },
      "execution_count": null,
      "outputs": []
    },
    {
      "cell_type": "code",
      "source": [
        "#https://pyalgo.co.kr/?page=2#\n",
        "\n",
        "import re\n",
        "\n",
        "re.findall('([rev])(10|[0-9])','')"
      ],
      "metadata": {
        "id": "x8cLAB8ZzIiJ"
      },
      "execution_count": null,
      "outputs": []
    },
    {
      "cell_type": "code",
      "source": [
        "def solution(data):\n",
        "    s = 0\n",
        "    data = re.findall('([rev])(10|[0-9])', data)\n",
        "    for _, i in data:\n",
        "        s += int(i)\n",
        "    return f'{str(s)[0]}월 {str(s)[1]}일'"
      ],
      "metadata": {
        "id": "0l-st15zzkfT"
      },
      "execution_count": null,
      "outputs": []
    },
    {
      "cell_type": "code",
      "source": [],
      "metadata": {
        "id": "lh9tfUENzlM-"
      },
      "execution_count": null,
      "outputs": []
    },
    {
      "cell_type": "code",
      "source": [],
      "metadata": {
        "id": "uyZxBhwizlI-"
      },
      "execution_count": null,
      "outputs": []
    },
    {
      "cell_type": "code",
      "source": [],
      "metadata": {
        "id": "klwUmjmkzuhX"
      },
      "execution_count": null,
      "outputs": []
    },
    {
      "cell_type": "code",
      "source": [
        "# https://school.programmers.co.kr/learn/courses/30/lessons/120851\n",
        "\n",
        "for i in \"aAb1B2cC34oOp\":\n",
        "  if(i.isdigit()):\n",
        "    print(i)"
      ],
      "metadata": {
        "colab": {
          "base_uri": "https://localhost:8080/"
        },
        "id": "hHTBEPE_0AxU",
        "outputId": "42df5752-8353-4bf2-ba9b-1611da4eaa5d"
      },
      "execution_count": 90,
      "outputs": [
        {
          "output_type": "stream",
          "name": "stdout",
          "text": [
            "1\n",
            "2\n",
            "3\n",
            "4\n"
          ]
        }
      ]
    },
    {
      "cell_type": "code",
      "source": [
        "import re\n",
        "\n",
        "re.findall('[0-9]', \"aAb1B2cC34oOp\")\n",
        "re.sub('[0-9]', \"!\", \"aAb1B2cC34oOp\")\n",
        "re.sub('[0-9]', \"\", \"aAb1B2cC34oOp\")\n",
        "re.findall('[0-9]', \"aAb1B2cC34oOp\")"
      ],
      "metadata": {
        "id": "k8XwYqKu0ncK"
      },
      "execution_count": null,
      "outputs": []
    },
    {
      "cell_type": "code",
      "source": [
        "import re\n",
        "\n",
        "def solution(my_string):\n",
        "    return sum(int(i) for i in re.sub('[^1-9]', '', my_string))"
      ],
      "metadata": {
        "id": "WCfwqnbU1D48"
      },
      "execution_count": null,
      "outputs": []
    },
    {
      "cell_type": "code",
      "source": [],
      "metadata": {
        "id": "8s-q-EcD1DwH"
      },
      "execution_count": null,
      "outputs": []
    },
    {
      "cell_type": "code",
      "source": [],
      "metadata": {
        "id": "jDAwgWj11Do9"
      },
      "execution_count": null,
      "outputs": []
    },
    {
      "cell_type": "code",
      "source": [
        "# https://school.programmers.co.kr/learn/courses/30/lessons/120835\n",
        "#진료순서 정하기 문제 \n",
        "\n",
        "# [3, 76, 24] => [3, 1, 2]\n",
        "# step1 : [3, 76, 24]를 내림차순으로 정렬합니다.\n",
        "# step2 : [76, 24, 3]을 얻어낸 상태(a)에서 [3, 76, 24]를 순회를 돕니다.\n",
        "# step3 : [3, 76, 24]를 순회 돌면서 a에서 몇 번째 있는지 찾아냅니다! 찾아내서 index에 +1을 합니다.\n",
        "# step4 : +1한 데이터로 새로운 list를 만듭니다.\n",
        "\n",
        "원본 = [3,76, 24]\n",
        "a = sorted(원본, reverse=True)\n",
        "[a.index(i)+1 for i in 원본]"
      ],
      "metadata": {
        "colab": {
          "base_uri": "https://localhost:8080/"
        },
        "id": "GRqQaTZh1WRJ",
        "outputId": "98d09fe5-4dbb-49d5-9a60-d423d92e0c69"
      },
      "execution_count": 94,
      "outputs": [
        {
          "output_type": "execute_result",
          "data": {
            "text/plain": [
              "[3, 1, 2]"
            ]
          },
          "metadata": {},
          "execution_count": 94
        }
      ]
    },
    {
      "cell_type": "code",
      "source": [
        "#Node부분 step4 손으로 쓰기, 사진찍어서 class멘토방에 올리기 \n",
        "#오늘 푼 문제 중에서 복습 필요하다고 생각하는 부분 복습 \n",
        "#마지막 문제는 과제임~ 함수로 만들어서 제출 "
      ],
      "metadata": {
        "id": "8LEOhTHe15Oz"
      },
      "execution_count": null,
      "outputs": []
    }
  ]
}