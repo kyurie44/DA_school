{
  "nbformat": 4,
  "nbformat_minor": 0,
  "metadata": {
    "colab": {
      "provenance": [],
      "toc_visible": true
    },
    "kernelspec": {
      "name": "python3",
      "display_name": "Python 3"
    },
    "language_info": {
      "name": "python"
    }
  },
  "cells": [
    {
      "cell_type": "markdown",
      "source": [
        "# Crawling 크롤링\n",
        "* 하는 이유? 웹상의 데이터 수집하기 위해서 \n",
        "* 웹페이지 접속 > 해당 웹페이지 어디에 위치 > 값을 가져옴 > 어떤 데이터 형식인지 > 데이터 변환 > 데이터 저장 \n",
        "* Python: Numpy, Pandas + Requests, BeautifulSoup ..."
      ],
      "metadata": {
        "id": "QMxwnbUWckE8"
      }
    },
    {
      "cell_type": "code",
      "execution_count": null,
      "metadata": {
        "id": "t6L9B-0NcGx5"
      },
      "outputs": [],
      "source": [
        "#나 (클라이언트) =>    url주소로 요청 (Request) => 네이버(서버)에  \n",
        "#               <= 메인페이지로 응답 (Response) <=   "
      ]
    },
    {
      "cell_type": "markdown",
      "source": [
        "## Requests - 요청 라이브러리\n",
        "* HTTP 요청을 보내는데 사용하는 라이브러리 \n",
        "* 클라이언트의 요청 "
      ],
      "metadata": {
        "id": "ZOvbr8kUgcjH"
      }
    },
    {
      "cell_type": "code",
      "source": [
        "import requests\n",
        "\n",
        "print(requests.__version__)"
      ],
      "metadata": {
        "colab": {
          "base_uri": "https://localhost:8080/"
        },
        "id": "hC2ab52BgcDi",
        "outputId": "e68042d5-651c-4add-a54e-be6fb36ad191"
      },
      "execution_count": 1,
      "outputs": [
        {
          "output_type": "stream",
          "name": "stdout",
          "text": [
            "2.27.1\n"
          ]
        }
      ]
    },
    {
      "cell_type": "code",
      "source": [
        "html = requests.get('http://www.paullab.co.kr/stock.html')  #get요청\n",
        "html      #성공 "
      ],
      "metadata": {
        "colab": {
          "base_uri": "https://localhost:8080/"
        },
        "id": "3wB90VmxgzRP",
        "outputId": "b6570c04-0f1c-4ac6-8db6-5c60d72e5961"
      },
      "execution_count": 2,
      "outputs": [
        {
          "output_type": "execute_result",
          "data": {
            "text/plain": [
              "<Response [200]>"
            ]
          },
          "metadata": {},
          "execution_count": 2
        }
      ]
    },
    {
      "cell_type": "code",
      "source": [
        "#GET 요청 : 요청사항이 주소상에 들어가 있음 \n",
        "#POST 요청 : 숨겨져있음 - 보안 필요한 경우, 요청내용 긴 경우 "
      ],
      "metadata": {
        "id": "JD2MwxdthILp"
      },
      "execution_count": null,
      "outputs": []
    },
    {
      "cell_type": "code",
      "source": [
        "html.text"
      ],
      "metadata": {
        "colab": {
          "base_uri": "https://localhost:8080/",
          "height": 193
        },
        "id": "vq6nR1OOcZxx",
        "outputId": "b9179be3-92d3-4aa9-d715-22a1e5748fc0"
      },
      "execution_count": 3,
      "outputs": [
        {
          "output_type": "execute_result",
          "data": {
            "text/plain": [
              "'<!DOCTYPE html>\\n<html lang=\"en\">\\n\\n<head>\\n  <meta charset=\"UTF-8\">\\n  <meta name=\"viewport\" content=\"width=device-width, initial-scale=1.0\">\\n  <meta http-equiv=\"X-UA-Compatible\" content=\"ie=edge\">\\n  <title>Document</title>\\n  <link rel=\"stylesheet\" href=\"https://stackpath.bootstrapcdn.com/bootstrap/4.4.1/css/bootstrap.min.css\">\\n  <link rel=\"stylesheet\" type=\"text/css\" href=\"https://pro.fontawesome.com/releases/v5.10.0/css/all.css\" integrity=\"sha384-AYmEC3Yw5cVb3ZcuHtOA93w35dYTsvhLPVnYs9eStHfGJvOvKxVfELGroGkvsg+p\" crossorigin=\"anonymous\">\\n  <style>\\n    h1{\\n      margin: 2rem;\\n    }\\n    h1>span{\\n      font-size: 1rem;\\n    }\\n    .main {\\n      width: 80%;\\n      margin: 0 auto;\\n      text-align: center;\\n    }\\n\\n    table {\\n      width: 100%;\\n    }\\n\\n    a {\\n      color: inherit;\\n      cursor: pointer;\\n      text-decoration: none;\\n    }\\n\\n    a:hover {\\n      color: #000;\\n      text-decoration: none;\\n    }\\n\\n    em {\\n      font: inherit;\\n    }\\n\\n    #information {\\n      padding: 15px;\\n      margin-bottom: 50px;\\n    }\\n\\n    #information h2 {\\n      padding-bottom: 20px;\\n    }\\n\\n    #information .wrap {\\n      display: flex;\\n      align-items: center;\\n\\n    }\\n\\n    #information .cat-img {\\n      width: 70%;\\n      padding-right: 100px;\\n    }\\n\\n    #information .cat-img img {\\n      width: 100%;\\n      height: auto;\\n    }\\n\\n    #information .tables {\\n      border: 1px solid #dbdbdb;\\n      padding: 20px 10px;\\n    }\\n\\n    #information table {\\n      position: relative;\\n      width: 300px;\\n      padding: 10px;\\n      /* border-bottom: 1.5px dashed #dbdbdb; */\\n      align-items: center;\\n      border-collapse: separate;\\n    }\\n\\n    #information tr {\\n      text-align: left;\\n      align-items: center;\\n    }\\n\\n    #information th {\\n      font-size: 14px;\\n      align-items: center;\\n      padding-right: 10px;\\n      font-weight: normal;\\n    }\\n\\n    #information td {\\n      text-align: right;\\n      font-size: 13px;\\n    }\\n\\n    #information .strong {\\n      font-weight: bold;\\n    }\\n\\n    .bar {\\n      color: #dbdbdb;\\n      font-size: 14px;\\n    }\\n\\n    .link_site i {\\n      color: #000;\\n    }\\n\\n    .link_site:hover {\\n      text-decoration: underline;\\n    }\\n\\n    .link_site i {\\n      color: #dbdbdb;\\n      padding-left: 5px;\\n    }\\n\\n    .help {\\n      font-size: 5px;\\n      font-weight: bold;\\n      color: rgb(91, 100, 103);\\n      border: 1px solid #888;\\n      padding: 0px 3px;\\n    }\\n\\n    .lyr_section {\\n      position: absolute;\\n      font-size: 13px;\\n      background-color: #FFF;\\n      padding: 10px;\\n      width: 250px;\\n      border: 1px solid #888;\\n      line-height: 1.5;\\n      margin-top: 10px;\\n      z-index: 999;\\n    }\\n\\n    #helpPannel5 p {\\n      color: #888;\\n      margin: 0;\\n    }\\n\\n    .arrow {\\n      position: absolute;\\n      left: 75px;\\n      top: 0;\\n      width: 10px;\\n      height: 10px;\\n      border-top: 1px solid #888;\\n      border-right: 1px solid #888;\\n      background-color: #FFF;\\n      margin-top: -6px;\\n      -webkit-transform: rotate(-45deg);\\n      transform: rotate(-45deg);\\n    }\\n\\n    .border-style {\\n      border-bottom: 1.5px dashed #dbdbdb;\\n    }\\n\\n  </style>\\n</head>\\n\\n<body>\\n  <h1>크롤링 연습용 페이지 <span id=\"update\">update : 20.12.30 / 해외 크롤링이 Block되어 있으므로 크롤링이 안되시는 분은 이 URL(http://paullab.synology.me/stock.html)을 사용하세요.</span></h1>\\n\\n  <div id=\"information\" class=\"main\">\\n    <h2>(주)캣네생선</h2>\\n    <div class=\"wrap main\">\\n      <div class=\"cat-img\">\\n        <img src=\"cats_stock.png\" alt=\"(주)캣네가게 주가\">\\n      </div>\\n      <div class=\"tables\">\\n        <table summary=\"시가총액 정보\" class=\"border-style\">\\n          <tr>\\n              <th class=\"strong\" scope=\"row\">시가총액</th>\\n              <!-- 공백은 의도적으로 넣은 것입니다. -->\\n              <td class=\"strong\"><em id=\"_market_sum\">349조 2,323</em>억원</td>\\n          </tr>\\n          <tr>\\n              <th scope=\"row\">\\n                  <a class=\"link_site\" href=\"#\">시가총액순위<i class=\"fas fa-caret-right\"></i></a>\\n              </th>\\n              <!-- 공백은 의도적으로 넣은 것입니다. -->\\n              <td>위니브월드 <em id=\"_market_sum\">1</em>위</td>\\n          </tr>\\n          <tr>\\n              <th scope=\"row\">상장주식수</th>\\n              <!-- 공백은 의도적으로 넣은 것입니다. -->\\n              <td><em id=\"_market_sum\">5,969,782,550</em></td>\\n          </tr>\\n        </table>\\n\\n        <table summary=\"업종상세 정보\" class=\"border-style\">\\n            <tr>\\n                <th class=\"strong\" scope=\"row\">현재가</th>\\n                <td class=\"strong\"><em id=\"_market_sum\">349조 2,323</em>억원</td>\\n            </tr>\\n            <tr>\\n                <th scope=\"row\">52주 최고 <span class=\"bar\">l</span> 최저</th>\\n                <td>\\n                    <em>62,800</em>\\n                    <span class=\"bar\">l</span>\\n                    <em>42,300</em>\\n                </td>\\n            </tr>\\n            <tr>\\n                <th scope=\"row\">배당수익률 <span class=\"bar\">l</span><span> 2019.12</span>\\n                  <a class=\"help\" href=\"#\" alt=\"배당수익률 상세설명\"><em>?</em></a>\\n                  <div class=\"lyr_section\" style=\"display:none\">\\n                    <div id=\"helpPannel5\" class=\"tooltip_lyr dividend_layer\">\\n                      <strong>배당수익률 = (배당금 / 현재가) x 100</strong>\\n                      <p>배당금은 최근 결산연도 기준의 중간배당을 포함한 총 배당금입니다.</p>\\n                      <span class=\"arrow\"></span>\\n                    </div>\\n                  </div>\\n                </th>\\n                <td>\\n                    <em id=\"_dvr\">2.42</em>%\\n                </td>\\n            </tr>\\n        </table>\\n\\n        <table>\\n            <tr>\\n                <th class=\"strong\" scope=\"row\">매출</th>\\n                <!-- <td>22조 1,250억원</td> -->\\n                <td class=\"strong\">22,125,034,978,750원</td>\\n            </tr>\\n            <tr>\\n                <th scope=\"row\">비용</th>\\n                <!-- <td>19조 2,238억원</td> -->\\n                <td>19,223,803,154,781원</td>\\n            </tr>\\n            <tr>\\n                <th scope=\"row\">순익</th>\\n                <!-- <td><em id=\"_market_sum\">2조 9,012억원</em></td> -->\\n                <td><em id=\"_market_sum\">2,901,231,823,969원</em></td>\\n            </tr>\\n        </table>\\n      </div>\\n\\n    </div>\\n\\n  </div>\\n\\n  <div class=\"main\">\\n    <h2 id=\"제주코딩베이스캠프연구원\">제주코딩베이스캠프 연구원</h2>\\n    <h3><span style=\"color: salmon\">일별</span> 시세</h3>\\n    <table class=\"table table-hover\">\\n      <tbody>\\n        <tr>\\n          <th scope=\"col\">날짜</th>\\n          <th scope=\"col\">종가</th>\\n          <th scope=\"col\">전일비</th>\\n          <th scope=\"col\">시가</th>\\n          <th scope=\"col\">고가</th>\\n          <th scope=\"col\">저가</th>\\n          <th scope=\"col\">거래량</th>\\n        </tr>\\n\\n\\n\\n        <tr>\\n          <td align=\"center \"><span class=\"date \">2019.10.23</span></td>\\n          <td class=\"num \"><span>6,650</span></td>\\n          <td class=\"num \">\\n            <img src=\"ico_up.gif \" width=\"7 \" height=\"6 \" style=\"margin-right:4px; \" alt=\"상승 \"><span>\\n                            20\\n                        </span>\\n          </td>\\n          <td class=\"num \"><span>6,590</span></td>\\n          <td class=\"num \"><span>6,830</span></td>\\n          <td class=\"num \"><span>6,580</span></td>\\n          <td class=\"num \"><span>398,421</span></td>\\n        </tr>\\n\\n\\n\\n        <tr>\\n          <td align=\"center\"><span class=\"date\">2019.10.22</span></td>\\n          <td class=\"num\"><span>6,630</span></td>\\n          <td class=\"num\">\\n            <img src=\"ico_down.gif\" width=\"7\" height=\"6\" style=\"margin-right:4px;\" alt=\"하락\"><span class=\"tah p11 nv01\">\\n                            190\\n                        </span>\\n          </td>\\n          <td class=\"num\"><span>6,830</span></td>\\n          <td class=\"num\"><span>6,930</span></td>\\n          <td class=\"num\"><span>6,530</span></td>\\n          <td class=\"num\"><span>919,571</span></td>\\n        </tr>\\n        <tr>\\n          <td align=\"center\"><span class=\"date\">2019.10.21</span></td>\\n          <td class=\"num\"><span>6,820</span></td>\\n          <td class=\"num\">\\n            <img src=\"ico_up.gif\" width=\"7\" height=\"6\" style=\"margin-right:4px;\" alt=\"상승\"><span>\\n                            390\\n                        </span>\\n          </td>\\n          <td class=\"num\"><span>6,440</span></td>\\n          <td class=\"num\"><span>6,890</span></td>\\n          <td class=\"num\"><span>6,360</span></td>\\n          <td class=\"num\"><span>1,678,055</span></td>\\n        </tr>\\n        <tr>\\n          <td align=\"center\"><span class=\"date\">2019.10.18</span></td>\\n          <td class=\"num\"><span>6,430</span></td>\\n          <td class=\"num\">\\n            <img src=\"ico_up.gif\" width=\"7\" height=\"6\" style=\"margin-right:4px;\" alt=\"상승\"><span>\\n                            480\\n                        </span>\\n          </td>\\n          <td class=\"num\"><span>6,020</span></td>\\n          <td class=\"num\"><span>6,620</span></td>\\n          <td class=\"num\"><span>5,970</span></td>\\n          <td class=\"num\"><span>2,168,857</span></td>\\n        </tr>\\n        <tr>\\n          <td align=\"center\"><span class=\"date\">2019.10.17</span></td>\\n          <td class=\"num\"><span>5,950</span></td>\\n          <td class=\"num\">\\n            <img src=\"ico_up.gif\" width=\"7\" height=\"6\" style=\"margin-right:4px;\" alt=\"상승\"><span>\\n                            20\\n                        </span>\\n          </td>\\n          <td class=\"num\"><span>6,100</span></td>\\n          <td class=\"num\"><span>6,180</span></td>\\n          <td class=\"num\"><span>5,840</span></td>\\n          <td class=\"num\"><span>1,982,922</span></td>\\n        </tr>\\n\\n        <tr>\\n          <td align=\"center\"><span class=\"date\">2019.10.16</span></td>\\n          <td class=\"num\"><span>5,930</span></td>\\n          <td class=\"num\">\\n            <img src=\"ico_up.gif\" width=\"7\" height=\"6\" style=\"margin-right:4px;\" alt=\"상승\"><span>\\n                            290\\n                        </span>\\n          </td>\\n          <td class=\"num\"><span>5,620</span></td>\\n          <td class=\"num\"><span>5,930</span></td>\\n          <td class=\"num\"><span>5,350</span></td>\\n          <td class=\"num\"><span>839,434</span></td>\\n        </tr>\\n        <tr>\\n          <td align=\"center\"><span class=\"date\">2019.10.15</span></td>\\n          <td class=\"num\"><span>5,640</span></td>\\n          <td class=\"num\">\\n            <img src=\"ico_up.gif\" width=\"7\" height=\"6\" style=\"margin-right:4px;\" alt=\"상승\"><span>\\n                            260\\n                        </span>\\n          </td>\\n          <td class=\"num\"><span>5,370</span></td>\\n          <td class=\"num\"><span>5,660</span></td>\\n          <td class=\"num\"><span>5,300</span></td>\\n          <td class=\"num\"><span>702,104</span></td>\\n        </tr>\\n        <tr>\\n          <td align=\"center\"><span class=\"date\">2019.10.14</span></td>\\n          <td class=\"num\"><span>5,380</span></td>\\n          <td class=\"num\">\\n            <img src=\"ico_up.gif\" width=\"7\" height=\"6\" style=\"margin-right:4px;\" alt=\"상승\"><span>\\n                            340\\n                        </span>\\n          </td>\\n          <td class=\"num\"><span>5,060</span></td>\\n          <td class=\"num\"><span>5,420</span></td>\\n          <td class=\"num\"><span>5,060</span></td>\\n          <td class=\"num\"><span>764,800</span></td>\\n        </tr>\\n        <tr>\\n          <td align=\"center\"><span class=\"date\">2019.10.11</span></td>\\n          <td class=\"num\"><span>5,040</span></td>\\n          <td class=\"num\">\\n            <img src=\"ico_down.gif\" width=\"7\" height=\"6\" style=\"margin-right:4px;\" alt=\"하락\"><span class=\"tah p11 nv01\">\\n                            60\\n                        </span>\\n          </td>\\n          <td class=\"num\"><span>5,100</span></td>\\n          <td class=\"num\"><span>5,170</span></td>\\n          <td class=\"num\"><span>5,020</span></td>\\n          <td class=\"num\"><span>134,558</span></td>\\n        </tr>\\n        <tr>\\n          <td align=\"center\"><span class=\"date\">2019.10.10</span></td>\\n          <td class=\"num\"><span>5,100</span></td>\\n          <td class=\"num\">\\n            <img src=\"ico_up.gif\" width=\"7\" height=\"6\" style=\"margin-right:4px;\" alt=\"상승\"><span>\\n                            50\\n                        </span>\\n          </td>\\n          <td class=\"num\"><span>5,000</span></td>\\n          <td class=\"num\"><span>5,120</span></td>\\n          <td class=\"num\"><span>4,970</span></td>\\n          <td class=\"num\"><span>288,563</span></td>\\n        </tr>\\n\\n        <tr>\\n          <td align=\"center\"><span class=\"date\">2019.10.08</span></td>\\n          <td class=\"num\"><span>5,050</span></td>\\n          <td class=\"num\">\\n            <img src=\"ico_up.gif\" width=\"7\" height=\"6\" style=\"margin-right:4px;\" alt=\"상승\"><span>\\n                            110\\n                        </span>\\n          </td>\\n          <td class=\"num\"><span>4,985</span></td>\\n          <td class=\"num\"><span>5,050</span></td>\\n          <td class=\"num\"><span>4,910</span></td>\\n          <td class=\"num\"><span>223,839</span></td>\\n        </tr>\\n        <tr>\\n          <td align=\"center\"><span class=\"date\">2019.10.07</span></td>\\n          <td class=\"num\"><span>4,940</span></td>\\n          <td class=\"num\">\\n            <img src=\"ico_down.gif\" width=\"7\" height=\"6\" style=\"margin-right:4px;\" alt=\"하락\"><span class=\"tah p11 nv01\">\\n                            70\\n                        </span>\\n          </td>\\n          <td class=\"num\"><span>4,990</span></td>\\n          <td class=\"num\"><span>5,110</span></td>\\n          <td class=\"num\"><span>4,905</span></td>\\n          <td class=\"num\"><span>199,580</span></td>\\n        </tr>\\n        <tr>\\n          <td align=\"center\"><span class=\"date\">2019.10.04</span></td>\\n          <td class=\"num\"><span>5,010</span></td>\\n          <td class=\"num\">\\n            <img src=\"ico_up.gif\" width=\"7\" height=\"6\" style=\"margin-right:4px;\" alt=\"상승\"><span>\\n                            90\\n                        </span>\\n          </td>\\n          <td class=\"num\"><span>4,900</span></td>\\n          <td class=\"num\"><span>5,050</span></td>\\n          <td class=\"num\"><span>4,900</span></td>\\n          <td class=\"num\"><span>188,467</span></td>\\n        </tr>\\n        <tr>\\n          <td align=\"center\"><span class=\"date\">2019.10.02</span></td>\\n          <td class=\"num\"><span>4,920</span></td>\\n          <td class=\"num\">\\n            <img src=\"ico_down.gif\" width=\"7\" height=\"6\" style=\"margin-right:4px;\" alt=\"하락\"><span class=\"tah p11 nv01\">\\n                            90\\n                        </span>\\n          </td>\\n          <td class=\"num\"><span>4,930</span></td>\\n          <td class=\"num\"><span>5,000</span></td>\\n          <td class=\"num\"><span>4,900</span></td>\\n          <td class=\"num\"><span>160,510</span></td>\\n        </tr>\\n        <tr>\\n          <td align=\"center\"><span class=\"date\">2019.10.01</span></td>\\n          <td class=\"num\"><span>5,010</span></td>\\n          <td class=\"num\">\\n            <img src=\"ico_up.gif\" width=\"7\" height=\"6\" style=\"margin-right:4px;\" alt=\"상승\"><span>\\n                            10\\n                        </span>\\n          </td>\\n          <td class=\"num\"><span>4,950</span></td>\\n          <td class=\"num\"><span>5,050</span></td>\\n          <td class=\"num\"><span>4,950</span></td>\\n          <td class=\"num\"><span>246,145</span></td>\\n        </tr>\\n\\n        <tr>\\n          <td align=\"center\"><span class=\"date\">2019.09.30</span></td>\\n          <td class=\"num\"><span>5,000</span></td>\\n          <td class=\"num\">\\n            <img src=\"ico_down.gif\" width=\"7\" height=\"6\" style=\"margin-right:4px;\" alt=\"하락\"><span class=\"tah p11 nv01\">\\n                            10\\n                        </span>\\n          </td>\\n          <td class=\"num\"><span>5,180</span></td>\\n          <td class=\"num\"><span>5,300</span></td>\\n          <td class=\"num\"><span>4,990</span></td>\\n          <td class=\"num\"><span>705,046</span></td>\\n        </tr>\\n        <tr>\\n          <td align=\"center\"><span class=\"date\">2019.09.27</span></td>\\n          <td class=\"num\"><span>5,010</span></td>\\n          <td class=\"num\">\\n            <img src=\"ico_down.gif\" width=\"7\" height=\"6\" style=\"margin-right:4px;\" alt=\"하락\"><span class=\"tah p11 nv01\">\\n                            50\\n                        </span>\\n          </td>\\n          <td class=\"num\"><span>5,020</span></td>\\n          <td class=\"num\"><span>5,080</span></td>\\n          <td class=\"num\"><span>4,865</span></td>\\n          <td class=\"num\"><span>408,859</span></td>\\n        </tr>\\n        <tr>\\n          <td align=\"center\"><span class=\"date\">2019.09.26</span></td>\\n          <td class=\"num\"><span>5,060</span></td>\\n          <td class=\"num\">\\n            <span>0</span>\\n          </td>\\n          <td class=\"num\"><span>5,130</span></td>\\n          <td class=\"num\"><span>5,200</span></td>\\n          <td class=\"num\"><span>4,965</span></td>\\n          <td class=\"num\"><span>404,633</span></td>\\n        </tr>\\n        <tr>\\n          <td align=\"center\"><span class=\"date\">2019.09.25</span></td>\\n          <td class=\"num\"><span>5,060</span></td>\\n          <td class=\"num\">\\n            <img src=\"ico_down.gif\" width=\"7\" height=\"6\" style=\"margin-right:4px;\" alt=\"하락\"><span class=\"tah p11 nv01\">\\n                            270\\n                        </span>\\n          </td>\\n          <td class=\"num\"><span>5,280</span></td>\\n          <td class=\"num\"><span>5,320</span></td>\\n          <td class=\"num\"><span>5,040</span></td>\\n          <td class=\"num\"><span>441,923</span></td>\\n        </tr>\\n        <tr>\\n          <td align=\"center\"><span class=\"date\">2019.09.24</span></td>\\n          <td class=\"num\"><span>5,330</span></td>\\n          <td class=\"num\">\\n            <img src=\"ico_up.gif\" width=\"7\" height=\"6\" style=\"margin-right:4px;\" alt=\"상승\"><span>\\n                            10\\n                        </span>\\n          </td>\\n          <td class=\"num\"><span>5,300</span></td>\\n          <td class=\"num\"><span>5,370</span></td>\\n          <td class=\"num\"><span>5,280</span></td>\\n          <td class=\"num\"><span>211,019</span></td>\\n        </tr>\\n      </tbody>\\n    </table>\\n  </div>\\n  <div class=\"main\">\\n    <h2 id=\"제주코딩베이스캠프공업\">제주코딩베이스캠프 공업</h2>\\n    <h3><span style=\"color: salmon\">일별</span> 시세</h3>\\n    <table class=\"table table-hover\">\\n      <tbody>\\n        <tr>\\n          <th scope=\"col\">날짜</th>\\n          <th scope=\"col\">종가</th>\\n          <th scope=\"col\">전일비</th>\\n          <th scope=\"col\">시가</th>\\n          <th scope=\"col\">고가</th>\\n          <th scope=\"col\">저가</th>\\n          <th scope=\"col\">거래량</th>\\n        </tr>\\n\\n        <tr>\\n          <td align=\"center\"><span class=\"date\">2019.10.23</span></td>\\n          <td class=\"num\"><span>31,300</span></td>\\n          <td class=\"num\">\\n            <img src=\"ico_up.gif\" width=\"7\" height=\"6\" style=\"margin-right:4px;\" alt=\"상승\"><span>\\n                            100\\n                        </span>\\n          </td>\\n          <td class=\"num\"><span>31,150</span></td>\\n          <td class=\"num\"><span>31,850</span></td>\\n          <td class=\"num\"><span>30,450</span></td>\\n          <td class=\"num\"><span>513,365</span></td>\\n        </tr>\\n\\n        <tr>\\n          <td align=\"center\"><span class=\"date\">2019.10.22</span></td>\\n          <td class=\"num\"><span>31,200</span></td>\\n          <td class=\"num\">\\n            <img src=\"ico_down.gif\" width=\"7\" height=\"6\" style=\"margin-right:4px;\" alt=\"하락\"><span class=\"tah p11 nv01\">\\n                            100\\n                        </span>\\n          </td>\\n          <td class=\"num\"><span>31,450</span></td>\\n          <td class=\"num\"><span>31,750</span></td>\\n          <td class=\"num\"><span>30,100</span></td>\\n          <td class=\"num\"><span>938,845</span></td>\\n        </tr>\\n\\n        <tr>\\n          <td align=\"center\"><span class=\"date\">2019.10.21</span></td>\\n          <td class=\"num\"><span>31,300</span></td>\\n          <td class=\"num\">\\n            <img src=\"ico_up.gif\" width=\"7\" height=\"6\" style=\"margin-right:4px;\" alt=\"상승\"><span>\\n                            500\\n                        </span>\\n          </td>\\n          <td class=\"num\"><span>31,250</span></td>\\n          <td class=\"num\"><span>32,800</span></td>\\n          <td class=\"num\"><span>30,500</span></td>\\n          <td class=\"num\"><span>1,774,049</span></td>\\n        </tr>\\n\\n        <tr>\\n          <td align=\"center\"><span class=\"date\">2019.10.18</span></td>\\n          <td class=\"num\"><span>30,800</span></td>\\n          <td class=\"num\">\\n            <img src=\"ico_up.gif\" width=\"7\" height=\"6\" style=\"margin-right:4px;\" alt=\"상승\"><span>\\n                            2,400\\n                        </span>\\n          </td>\\n          <td class=\"num\"><span>28,700</span></td>\\n          <td class=\"num\"><span>31,100</span></td>\\n          <td class=\"num\"><span>28,400</span></td>\\n          <td class=\"num\"><span>1,731,279</span></td>\\n        </tr>\\n        <tr>\\n          <td align=\"center\"><span class=\"date\">2019.10.17</span></td>\\n          <td class=\"num\"><span>28,400</span></td>\\n          <td class=\"num\">\\n            <img src=\"ico_up.gif\" width=\"7\" height=\"6\" style=\"margin-right:4px;\" alt=\"상승\"><span>\\n                            700\\n                        </span>\\n          </td>\\n          <td class=\"num\"><span>28,050</span></td>\\n          <td class=\"num\"><span>29,200</span></td>\\n          <td class=\"num\"><span>27,950</span></td>\\n          <td class=\"num\"><span>983,611</span></td>\\n        </tr>\\n\\n        <tr>\\n          <td align=\"center\"><span class=\"date\">2019.10.16</span></td>\\n          <td class=\"num\"><span>27,700</span></td>\\n          <td class=\"num\">\\n            <img src=\"ico_up.gif\" width=\"7\" height=\"6\" style=\"margin-right:4px;\" alt=\"상승\"><span>\\n                            900\\n                        </span>\\n          </td>\\n          <td class=\"num\"><span>27,900</span></td>\\n          <td class=\"num\"><span>28,200</span></td>\\n          <td class=\"num\"><span>27,300</span></td>\\n          <td class=\"num\"><span>1,003,434</span></td>\\n        </tr>\\n        <tr>\\n          <td align=\"center\"><span class=\"date\">2019.10.15</span></td>\\n          <td class=\"num\"><span>26,800</span></td>\\n          <td class=\"num\">\\n            <img src=\"ico_up.gif\" width=\"7\" height=\"6\" style=\"margin-right:4px;\" alt=\"상승\"><span>\\n                            700\\n                        </span>\\n          </td>\\n          <td class=\"num\"><span>26,250</span></td>\\n          <td class=\"num\"><span>27,000</span></td>\\n          <td class=\"num\"><span>25,850</span></td>\\n          <td class=\"num\"><span>589,982</span></td>\\n        </tr>\\n        <tr>\\n          <td align=\"center\"><span class=\"date\">2019.10.14</span></td>\\n          <td class=\"num\"><span>26,100</span></td>\\n          <td class=\"num\">\\n            <img src=\"ico_down.gif\" width=\"7\" height=\"6\" style=\"margin-right:4px;\" alt=\"하락\"><span class=\"tah p11 nv01\">\\n                            100\\n                        </span>\\n          </td>\\n          <td class=\"num\"><span>26,500</span></td>\\n          <td class=\"num\"><span>26,550</span></td>\\n          <td class=\"num\"><span>25,750</span></td>\\n          <td class=\"num\"><span>335,940</span></td>\\n        </tr>\\n        <tr>\\n          <td align=\"center\"><span class=\"date\">2019.10.11</span></td>\\n          <td class=\"num\"><span>26,200</span></td>\\n          <td class=\"num\">\\n            <span>0</span>\\n          </td>\\n          <td class=\"num\"><span>26,650</span></td>\\n          <td class=\"num\"><span>26,700</span></td>\\n          <td class=\"num\"><span>25,700</span></td>\\n          <td class=\"num\"><span>531,894</span></td>\\n        </tr>\\n        <tr>\\n          <td align=\"center\"><span class=\"date\">2019.10.10</span></td>\\n          <td class=\"num\"><span>26,200</span></td>\\n          <td class=\"num\">\\n            <img src=\"ico_up.gif\" width=\"7\" height=\"6\" style=\"margin-right:4px;\" alt=\"상승\"><span>\\n                            1,700\\n                        </span>\\n          </td>\\n          <td class=\"num\"><span>24,750</span></td>\\n          <td class=\"num\"><span>26,300</span></td>\\n          <td class=\"num\"><span>24,700</span></td>\\n          <td class=\"num\"><span>1,060,562</span></td>\\n        </tr>\\n\\n        <tr>\\n          <td align=\"center\"><span class=\"date\">2019.10.08</span></td>\\n          <td class=\"num\"><span>24,500</span></td>\\n          <td class=\"num\">\\n            <img src=\"ico_up.gif\" width=\"7\" height=\"6\" style=\"margin-right:4px;\" alt=\"상승\"><span>\\n                            850\\n                        </span>\\n          </td>\\n          <td class=\"num\"><span>23,600</span></td>\\n          <td class=\"num\"><span>24,600</span></td>\\n          <td class=\"num\"><span>23,150</span></td>\\n          <td class=\"num\"><span>336,803</span></td>\\n        </tr>\\n        <tr>\\n          <td align=\"center\"><span class=\"date\">2019.10.07</span></td>\\n          <td class=\"num\"><span>23,650</span></td>\\n          <td class=\"num\">\\n            <img src=\"ico_down.gif\" width=\"7\" height=\"6\" style=\"margin-right:4px;\" alt=\"하락\"><span class=\"tah p11 nv01\">\\n                            450\\n                        </span>\\n          </td>\\n          <td class=\"num\"><span>24,200</span></td>\\n          <td class=\"num\"><span>24,400</span></td>\\n          <td class=\"num\"><span>23,550</span></td>\\n          <td class=\"num\"><span>285,608</span></td>\\n        </tr>\\n        <tr>\\n          <td align=\"center\"><span class=\"date\">2019.10.04</span></td>\\n          <td class=\"num\"><span>24,100</span></td>\\n          <td class=\"num\">\\n            <img src=\"ico_down.gif\" width=\"7\" height=\"6\" style=\"margin-right:4px;\" alt=\"하락\"><span class=\"tah p11 nv01\">\\n                            400\\n                        </span>\\n          </td>\\n          <td class=\"num\"><span>24,300</span></td>\\n          <td class=\"num\"><span>24,700</span></td>\\n          <td class=\"num\"><span>23,900</span></td>\\n          <td class=\"num\"><span>236,640</span></td>\\n        </tr>\\n        <tr>\\n          <td align=\"center\"><span class=\"date\">2019.10.02</span></td>\\n          <td class=\"num\"><span>24,500</span></td>\\n          <td class=\"num\">\\n            <span>0</span>\\n          </td>\\n          <td class=\"num\"><span>24,100</span></td>\\n          <td class=\"num\"><span>24,900</span></td>\\n          <td class=\"num\"><span>24,000</span></td>\\n          <td class=\"num\"><span>258,642</span></td>\\n        </tr>\\n        <tr>\\n          <td align=\"center\"><span class=\"date\">2019.10.01</span></td>\\n          <td class=\"num\"><span>24,500</span></td>\\n          <td class=\"num\">\\n            <img src=\"ico_up.gif\" width=\"7\" height=\"6\" style=\"margin-right:4px;\" alt=\"상승\"><span>\\n                            400\\n                        </span>\\n          </td>\\n          <td class=\"num\"><span>24,700</span></td>\\n          <td class=\"num\"><span>25,200</span></td>\\n          <td class=\"num\"><span>24,350</span></td>\\n          <td class=\"num\"><span>368,213</span></td>\\n        </tr>\\n\\n        <tr>\\n          <td align=\"center\"><span class=\"date\">2019.09.30</span></td>\\n          <td class=\"num\"><span>24,100</span></td>\\n          <td class=\"num\">\\n            <img src=\"ico_up.gif\" width=\"7\" height=\"6\" style=\"margin-right:4px;\" alt=\"상승\"><span>\\n                            300\\n                        </span>\\n          </td>\\n          <td class=\"num\"><span>23,300</span></td>\\n          <td class=\"num\"><span>24,150</span></td>\\n          <td class=\"num\"><span>22,950</span></td>\\n          <td class=\"num\"><span>369,465</span></td>\\n        </tr>\\n        <tr>\\n          <td align=\"center\"><span class=\"date\">2019.09.27</span></td>\\n          <td class=\"num\"><span>23,800</span></td>\\n          <td class=\"num\">\\n            <img src=\"ico_down.gif\" width=\"7\" height=\"6\" style=\"margin-right:4px;\" alt=\"하락\"><span class=\"tah p11 nv01\">\\n                            300\\n                        </span>\\n          </td>\\n          <td class=\"num\"><span>24,050</span></td>\\n          <td class=\"num\"><span>24,600</span></td>\\n          <td class=\"num\"><span>23,400</span></td>\\n          <td class=\"num\"><span>300,900</span></td>\\n        </tr>\\n        <tr>\\n          <td align=\"center\"><span class=\"date\">2019.09.26</span></td>\\n          <td class=\"num\"><span>24,100</span></td>\\n          <td class=\"num\">\\n            <img src=\"ico_down.gif\" width=\"7\" height=\"6\" style=\"margin-right:4px;\" alt=\"하락\"><span class=\"tah p11 nv01\">\\n                            200\\n                        </span>\\n          </td>\\n          <td class=\"num\"><span>24,650</span></td>\\n          <td class=\"num\"><span>24,800</span></td>\\n          <td class=\"num\"><span>23,850</span></td>\\n          <td class=\"num\"><span>227,601</span></td>\\n        </tr>\\n        <tr>\\n          <td align=\"center\"><span class=\"date\">2019.09.25</span></td>\\n          <td class=\"num\"><span>24,300</span></td>\\n          <td class=\"num\">\\n            <img src=\"ico_down.gif\" width=\"7\" height=\"6\" style=\"margin-right:4px;\" alt=\"하락\"><span class=\"tah p11 nv01\">\\n                            1,200\\n                        </span>\\n          </td>\\n          <td class=\"num\"><span>25,200</span></td>\\n          <td class=\"num\"><span>25,450</span></td>\\n          <td class=\"num\"><span>24,200</span></td>\\n          <td class=\"num\"><span>367,106</span></td>\\n        </tr>\\n        <tr>\\n          <td align=\"center\"><span class=\"date\">2019.09.24</span></td>\\n          <td class=\"num\"><span>25,500</span></td>\\n          <td class=\"num\">\\n            <img src=\"ico_down.gif\" width=\"7\" height=\"6\" style=\"margin-right:4px;\" alt=\"하락\"><span class=\"tah p11 nv01\">\\n                            150\\n                        </span>\\n          </td>\\n          <td class=\"num\"><span>25,650</span></td>\\n          <td class=\"num\"><span>25,800</span></td>\\n          <td class=\"num\"><span>25,150</span></td>\\n          <td class=\"num\"><span>248,811</span></td>\\n        </tr>\\n      </tbody>\\n    </table>\\n  </div>\\n  <div class=\"main\">\\n    <h2 id=\"제주코딩베이스캠프출판사\">제주코딩베이스캠프 출판사</h2>\\n    <h3><span style=\"color: salmon\">일별</span> 시세</h3>\\n    <table class=\"table table-hover\">\\n      <tbody>\\n        <tr>\\n          <th scope=\"col\">날짜</th>\\n          <th scope=\"col\">종가</th>\\n          <th scope=\"col\">전일비</th>\\n          <th scope=\"col\">시가</th>\\n          <th scope=\"col\">고가</th>\\n          <th scope=\"col\">저가</th>\\n          <th scope=\"col\">거래량</th>\\n        </tr>\\n\\n        <tr>\\n          <td align=\"center \"><span class=\"date \">2019.10.23</span></td>\\n          <td class=\"num \"><span>13,250</span></td>\\n          <td class=\"num \">\\n            <img src=\"ico_down.gif \" width=\"7 \" height=\"6 \" style=\"margin-right:4px; \" alt=\"하락 \"><span class=\"tah p11 nv01 \">\\n                            100\\n                        </span>\\n          </td>\\n          <td class=\"num \"><span>13,400</span></td>\\n          <td class=\"num \"><span>13,450</span></td>\\n          <td class=\"num \"><span>13,150</span></td>\\n          <td class=\"num \"><span>83,405</span></td>\\n        </tr>\\n\\n\\n\\n        <tr>\\n          <td align=\"center\"><span class=\"date\">2019.10.22</span></td>\\n          <td class=\"num\"><span>13,350</span></td>\\n          <td class=\"num\">\\n            <img src=\"ico_down.gif\" width=\"7\" height=\"6\" style=\"margin-right:4px;\" alt=\"하락\"><span class=\"tah p11 nv01\">\\n                            150\\n                        </span>\\n          </td>\\n          <td class=\"num\"><span>13,500</span></td>\\n          <td class=\"num\"><span>13,600</span></td>\\n          <td class=\"num\"><span>13,250</span></td>\\n          <td class=\"num\"><span>160,439</span></td>\\n        </tr>\\n        <tr>\\n          <td align=\"center\"><span class=\"date\">2019.10.21</span></td>\\n          <td class=\"num\"><span>13,500</span></td>\\n          <td class=\"num\">\\n            <img src=\"ico_up.gif\" width=\"7\" height=\"6\" style=\"margin-right:4px;\" alt=\"상승\"><span>\\n                            450\\n                        </span>\\n          </td>\\n          <td class=\"num\"><span>13,150</span></td>\\n          <td class=\"num\"><span>13,550</span></td>\\n          <td class=\"num\"><span>13,000</span></td>\\n          <td class=\"num\"><span>237,001</span></td>\\n        </tr>\\n        <tr>\\n          <td align=\"center\"><span class=\"date\">2019.10.18</span></td>\\n          <td class=\"num\"><span>13,050</span></td>\\n          <td class=\"num\">\\n            <img src=\"ico_up.gif\" width=\"7\" height=\"6\" style=\"margin-right:4px;\" alt=\"상승\"><span>\\n                            350\\n                        </span>\\n          </td>\\n          <td class=\"num\"><span>12,850</span></td>\\n          <td class=\"num\"><span>13,450</span></td>\\n          <td class=\"num\"><span>12,850</span></td>\\n          <td class=\"num\"><span>278,034</span></td>\\n        </tr>\\n        <tr>\\n          <td align=\"center\"><span class=\"date\">2019.10.17</span></td>\\n          <td class=\"num\"><span>12,700</span></td>\\n          <td class=\"num\">\\n            <img src=\"ico_down.gif\" width=\"7\" height=\"6\" style=\"margin-right:4px;\" alt=\"하락\"><span class=\"tah p11 nv01\">\\n                            450\\n                        </span>\\n          </td>\\n          <td class=\"num\"><span>13,100</span></td>\\n          <td class=\"num\"><span>13,150</span></td>\\n          <td class=\"num\"><span>12,650</span></td>\\n          <td class=\"num\"><span>179,950</span></td>\\n        </tr>\\n\\n        <tr>\\n          <td align=\"center\"><span class=\"date\">2019.10.16</span></td>\\n          <td class=\"num\"><span>13,150</span></td>\\n          <td class=\"num\">\\n            <img src=\"ico_up.gif\" width=\"7\" height=\"6\" style=\"margin-right:4px;\" alt=\"상승\"><span>\\n                            600\\n                        </span>\\n          </td>\\n          <td class=\"num\"><span>12,650</span></td>\\n          <td class=\"num\"><span>13,800</span></td>\\n          <td class=\"num\"><span>12,650</span></td>\\n          <td class=\"num\"><span>615,073</span></td>\\n        </tr>\\n        <tr>\\n          <td align=\"center\"><span class=\"date\">2019.10.15</span></td>\\n          <td class=\"num\"><span>12,550</span></td>\\n          <td class=\"num\">\\n            <img src=\"ico_down.gif\" width=\"7\" height=\"6\" style=\"margin-right:4px;\" alt=\"하락\"><span class=\"tah p11 nv01\">\\n                            150\\n                        </span>\\n          </td>\\n          <td class=\"num\"><span>12,800</span></td>\\n          <td class=\"num\"><span>12,800</span></td>\\n          <td class=\"num\"><span>12,550</span></td>\\n          <td class=\"num\"><span>128,599</span></td>\\n        </tr>\\n        <tr>\\n          <td align=\"center\"><span class=\"date\">2019.10.14</span></td>\\n          <td class=\"num\"><span>12,700</span></td>\\n          <td class=\"num\">\\n            <span>0</span>\\n          </td>\\n          <td class=\"num\"><span>12,850</span></td>\\n          <td class=\"num\"><span>12,850</span></td>\\n          <td class=\"num\"><span>12,600</span></td>\\n          <td class=\"num\"><span>47,049</span></td>\\n        </tr>\\n        <tr>\\n          <td align=\"center\"><span class=\"date\">2019.10.11</span></td>\\n          <td class=\"num\"><span>12,700</span></td>\\n          <td class=\"num\">\\n            <img src=\"ico_up.gif\" width=\"7\" height=\"6\" style=\"margin-right:4px;\" alt=\"상승\"><span>\\n                            150\\n                        </span>\\n          </td>\\n          <td class=\"num\"><span>12,550</span></td>\\n          <td class=\"num\"><span>12,700</span></td>\\n          <td class=\"num\"><span>12,450</span></td>\\n          <td class=\"num\"><span>60,017</span></td>\\n        </tr>\\n        <tr>\\n          <td align=\"center\"><span class=\"date\">2019.10.10</span></td>\\n          <td class=\"num\"><span>12,550</span></td>\\n          <td class=\"num\">\\n            <span>0</span>\\n          </td>\\n          <td class=\"num\"><span>12,400</span></td>\\n          <td class=\"num\"><span>12,750</span></td>\\n          <td class=\"num\"><span>12,350</span></td>\\n          <td class=\"num\"><span>82,049</span></td>\\n        </tr>\\n\\n        <tr>\\n          <td align=\"center\"><span class=\"date\">2019.10.08</span></td>\\n          <td class=\"num\"><span>12,550</span></td>\\n          <td class=\"num\">\\n            <img src=\"ico_down.gif\" width=\"7\" height=\"6\" style=\"margin-right:4px;\" alt=\"하락\"><span class=\"tah p11 nv01\">\\n                            150\\n                        </span>\\n          </td>\\n          <td class=\"num\"><span>12,700</span></td>\\n          <td class=\"num\"><span>12,750</span></td>\\n          <td class=\"num\"><span>12,500</span></td>\\n          <td class=\"num\"><span>75,452</span></td>\\n        </tr>\\n        <tr>\\n          <td align=\"center\"><span class=\"date\">2019.10.07</span></td>\\n          <td class=\"num\"><span>12,700</span></td>\\n          <td class=\"num\">\\n            <img src=\"ico_down.gif\" width=\"7\" height=\"6\" style=\"margin-right:4px;\" alt=\"하락\"><span class=\"tah p11 nv01\">\\n                            50\\n                        </span>\\n          </td>\\n          <td class=\"num\"><span>12,700</span></td>\\n          <td class=\"num\"><span>12,800</span></td>\\n          <td class=\"num\"><span>12,550</span></td>\\n          <td class=\"num\"><span>98,403</span></td>\\n        </tr>\\n        <tr>\\n          <td align=\"center\"><span class=\"date\">2019.10.04</span></td>\\n          <td class=\"num\"><span>12,750</span></td>\\n          <td class=\"num\">\\n            <img src=\"ico_down.gif\" width=\"7\" height=\"6\" style=\"margin-right:4px;\" alt=\"하락\"><span class=\"tah p11 nv01\">\\n                            150\\n                        </span>\\n          </td>\\n          <td class=\"num\"><span>12,900</span></td>\\n          <td class=\"num\"><span>12,950</span></td>\\n          <td class=\"num\"><span>12,700</span></td>\\n          <td class=\"num\"><span>89,815</span></td>\\n        </tr>\\n        <tr>\\n          <td align=\"center\"><span class=\"date\">2019.10.02</span></td>\\n          <td class=\"num\"><span>12,900</span></td>\\n          <td class=\"num\">\\n            <img src=\"ico_down.gif\" width=\"7\" height=\"6\" style=\"margin-right:4px;\" alt=\"하락\"><span class=\"tah p11 nv01\">\\n                            450\\n                        </span>\\n          </td>\\n          <td class=\"num\"><span>13,250</span></td>\\n          <td class=\"num\"><span>13,300</span></td>\\n          <td class=\"num\"><span>12,900</span></td>\\n          <td class=\"num\"><span>157,254</span></td>\\n        </tr>\\n        <tr>\\n          <td align=\"center\"><span class=\"date\">2019.10.01</span></td>\\n          <td class=\"num\"><span>13,350</span></td>\\n          <td class=\"num\">\\n            <img src=\"ico_up.gif\" width=\"7\" height=\"6\" style=\"margin-right:4px;\" alt=\"상승\"><span>\\n                            50\\n                        </span>\\n          </td>\\n          <td class=\"num\"><span>13,250</span></td>\\n          <td class=\"num\"><span>13,400</span></td>\\n          <td class=\"num\"><span>13,050</span></td>\\n          <td class=\"num\"><span>125,442</span></td>\\n        </tr>\\n\\n        <tr>\\n          <td align=\"center\"><span class=\"date\">2019.09.30</span></td>\\n          <td class=\"num\"><span>13,300</span></td>\\n          <td class=\"num\">\\n            <img src=\"ico_up.gif\" width=\"7\" height=\"6\" style=\"margin-right:4px;\" alt=\"상승\"><span>\\n                            150\\n                        </span>\\n          </td>\\n          <td class=\"num\"><span>13,150</span></td>\\n          <td class=\"num\"><span>13,500</span></td>\\n          <td class=\"num\"><span>13,100</span></td>\\n          <td class=\"num\"><span>131,064</span></td>\\n        </tr>\\n        <tr>\\n          <td align=\"center\"><span class=\"date\">2019.09.27</span></td>\\n          <td class=\"num\"><span>13,150</span></td>\\n          <td class=\"num\">\\n            <img src=\"ico_up.gif\" width=\"7\" height=\"6\" style=\"margin-right:4px;\" alt=\"상승\"><span>\\n                            100\\n                        </span>\\n          </td>\\n          <td class=\"num\"><span>12,950</span></td>\\n          <td class=\"num\"><span>13,150</span></td>\\n          <td class=\"num\"><span>12,900</span></td>\\n          <td class=\"num\"><span>52,919</span></td>\\n        </tr>\\n        <tr>\\n          <td align=\"center\"><span class=\"date\">2019.09.26</span></td>\\n          <td class=\"num\"><span>13,050</span></td>\\n          <td class=\"num\">\\n            <span>0</span>\\n          </td>\\n          <td class=\"num\"><span>13,200</span></td>\\n          <td class=\"num\"><span>13,200</span></td>\\n          <td class=\"num\"><span>12,950</span></td>\\n          <td class=\"num\"><span>153,270</span></td>\\n        </tr>\\n        <tr>\\n          <td align=\"center\"><span class=\"date\">2019.09.25</span></td>\\n          <td class=\"num\"><span>13,050</span></td>\\n          <td class=\"num\">\\n            <img src=\"ico_down.gif\" width=\"7\" height=\"6\" style=\"margin-right:4px;\" alt=\"하락\"><span class=\"tah p11 nv01\">\\n                            300\\n                        </span>\\n          </td>\\n          <td class=\"num\"><span>13,300</span></td>\\n          <td class=\"num\"><span>13,600</span></td>\\n          <td class=\"num\"><span>13,050</span></td>\\n          <td class=\"num\"><span>227,991</span></td>\\n        </tr>\\n        <tr>\\n          <td align=\"center\"><span class=\"date\">2019.09.24</span></td>\\n          <td class=\"num\"><span>13,350</span></td>\\n          <td class=\"num\">\\n            <img src=\"ico_up.gif\" width=\"7\" height=\"6\" style=\"margin-right:4px;\" alt=\"상승\"><span>\\n                            50\\n                        </span>\\n          </td>\\n          <td class=\"num\"><span>13,250</span></td>\\n          <td class=\"num\"><span>13,750</span></td>\\n          <td class=\"num\"><span>13,250</span></td>\\n          <td class=\"num\"><span>204,286</span></td>\\n        </tr>\\n      </tbody>\\n    </table>\\n  </div>\\n  <div class=\"main\">\\n    <h2 id=\"제주코딩베이스캠프학원\">제주코딩베이스캠프 학원</h2>\\n    <h3><span style=\"color: salmon\">일별</span> 시세</h3>\\n    <table class=\"table table-hover\">\\n      <tbody>\\n        <tr>\\n          <th scope=\"col\">날짜</th>\\n          <th scope=\"col\">종가</th>\\n          <th scope=\"col\">전일비</th>\\n          <th scope=\"col\">시가</th>\\n          <th scope=\"col\">고가</th>\\n          <th scope=\"col\">저가</th>\\n          <th scope=\"col\">거래량</th>\\n        </tr>\\n\\n\\n        <tr>\\n          <td align=\"center \"><span class=\"date \">2019.10.23</span></td>\\n          <td class=\"num \"><span>2,600</span></td>\\n          <td class=\"num \">\\n            <img src=\"ico_up.gif \" width=\"7 \" height=\"6 \" style=\"margin-right:4px; \"><span>\\n                            600\\n                        </span>\\n          </td>\\n          <td class=\"num \"><span>2,055</span></td>\\n          <td class=\"num \"><span>2,600</span></td>\\n          <td class=\"num \"><span>2,020</span></td>\\n          <td class=\"num \"><span>2,203,110</span></td>\\n        </tr>\\n\\n\\n\\n        <tr>\\n          <td align=\"center\"><span class=\"date\">2019.10.22</span></td>\\n          <td class=\"num\"><span>2,000</span></td>\\n          <td class=\"num\">\\n            <img src=\"ico_up.gif\" width=\"7\" height=\"6\" style=\"margin-right:4px;\" alt=\"상승\"><span>\\n                            5\\n                        </span>\\n          </td>\\n          <td class=\"num\"><span>1,985</span></td>\\n          <td class=\"num\"><span>2,005</span></td>\\n          <td class=\"num\"><span>1,980</span></td>\\n          <td class=\"num\"><span>32,212</span></td>\\n        </tr>\\n        <tr>\\n          <td align=\"center\"><span class=\"date\">2019.10.21</span></td>\\n          <td class=\"num\"><span>1,995</span></td>\\n          <td class=\"num\">\\n            <img src=\"ico_down.gif\" width=\"7\" height=\"6\" style=\"margin-right:4px;\" alt=\"하락\"><span class=\"tah p11 nv01\">\\n                            30\\n                        </span>\\n          </td>\\n          <td class=\"num\"><span>2,025</span></td>\\n          <td class=\"num\"><span>2,035</span></td>\\n          <td class=\"num\"><span>1,975</span></td>\\n          <td class=\"num\"><span>35,186</span></td>\\n        </tr>\\n        <tr>\\n          <td align=\"center\"><span class=\"date\">2019.10.18</span></td>\\n          <td class=\"num\"><span>2,025</span></td>\\n          <td class=\"num\">\\n            <img src=\"ico_up.gif\" width=\"7\" height=\"6\" style=\"margin-right:4px;\" alt=\"상승\"><span>\\n                            40\\n                        </span>\\n          </td>\\n          <td class=\"num\"><span>1,985</span></td>\\n          <td class=\"num\"><span>2,050</span></td>\\n          <td class=\"num\"><span>1,980</span></td>\\n          <td class=\"num\"><span>108,481</span></td>\\n        </tr>\\n        <tr>\\n          <td align=\"center\"><span class=\"date\">2019.10.17</span></td>\\n          <td class=\"num\"><span>1,985</span></td>\\n          <td class=\"num\">\\n            <img src=\"ico_up.gif\" width=\"7\" height=\"6\" style=\"margin-right:4px;\" alt=\"상승\"><span>\\n                            10\\n                        </span>\\n          </td>\\n          <td class=\"num\"><span>1,980</span></td>\\n          <td class=\"num\"><span>1,990</span></td>\\n          <td class=\"num\"><span>1,955</span></td>\\n          <td class=\"num\"><span>20,766</span></td>\\n        </tr>\\n\\n        <tr>\\n          <td align=\"center\"><span class=\"date\">2019.10.16</span></td>\\n          <td class=\"num\"><span>1,975</span></td>\\n          <td class=\"num\">\\n            <img src=\"ico_down.gif\" width=\"7\" height=\"6\" style=\"margin-right:4px;\" alt=\"하락\"><span class=\"tah p11 nv01\">\\n                            5\\n                        </span>\\n          </td>\\n          <td class=\"num\"><span>1,985</span></td>\\n          <td class=\"num\"><span>1,995</span></td>\\n          <td class=\"num\"><span>1,970</span></td>\\n          <td class=\"num\"><span>19,243</span></td>\\n        </tr>\\n        <tr>\\n          <td align=\"center\"><span class=\"date\">2019.10.15</span></td>\\n          <td class=\"num\"><span>1,980</span></td>\\n          <td class=\"num\">\\n            <img src=\"ico_up.gif\" width=\"7\" height=\"6\" style=\"margin-right:4px;\" alt=\"상승\"><span>\\n                            20\\n                        </span>\\n          </td>\\n          <td class=\"num\"><span>1,970</span></td>\\n          <td class=\"num\"><span>1,980</span></td>\\n          <td class=\"num\"><span>1,960</span></td>\\n          <td class=\"num\"><span>35,658</span></td>\\n        </tr>\\n        <tr>\\n          <td align=\"center\"><span class=\"date\">2019.10.14</span></td>\\n          <td class=\"num\"><span>1,960</span></td>\\n          <td class=\"num\">\\n            <span>0</span>\\n          </td>\\n          <td class=\"num\"><span>1,955</span></td>\\n          <td class=\"num\"><span>1,970</span></td>\\n          <td class=\"num\"><span>1,935</span></td>\\n          <td class=\"num\"><span>26,698</span></td>\\n        </tr>\\n        <tr>\\n          <td align=\"center\"><span class=\"date\">2019.10.11</span></td>\\n          <td class=\"num\"><span>1,960</span></td>\\n          <td class=\"num\">\\n            <img src=\"ico_up.gif\" width=\"7\" height=\"6\" style=\"margin-right:4px;\" alt=\"상승\"><span>\\n                            45\\n                        </span>\\n          </td>\\n          <td class=\"num\"><span>1,925</span></td>\\n          <td class=\"num\"><span>1,965</span></td>\\n          <td class=\"num\"><span>1,910</span></td>\\n          <td class=\"num\"><span>45,469</span></td>\\n        </tr>\\n        <tr>\\n          <td align=\"center\"><span class=\"date\">2019.10.10</span></td>\\n          <td class=\"num\"><span>1,915</span></td>\\n          <td class=\"num\">\\n            <img src=\"ico_up.gif\" width=\"7\" height=\"6\" style=\"margin-right:4px;\" alt=\"상승\"><span>\\n                            15\\n                        </span>\\n          </td>\\n          <td class=\"num\"><span>1,885</span></td>\\n          <td class=\"num\"><span>1,915</span></td>\\n          <td class=\"num\"><span>1,885</span></td>\\n          <td class=\"num\"><span>32,773</span></td>\\n        </tr>\\n\\n        <tr>\\n          <td align=\"center\"><span class=\"date\">2019.10.08</span></td>\\n          <td class=\"num\"><span>1,900</span></td>\\n          <td class=\"num\">\\n            <img src=\"ico_down.gif\" width=\"7\" height=\"6\" style=\"margin-right:4px;\" alt=\"하락\"><span class=\"tah p11 nv01\">\\n                            20\\n                        </span>\\n          </td>\\n          <td class=\"num\"><span>1,915</span></td>\\n          <td class=\"num\"><span>1,935</span></td>\\n          <td class=\"num\"><span>1,885</span></td>\\n          <td class=\"num\"><span>62,433</span></td>\\n        </tr>\\n        <tr>\\n          <td align=\"center\"><span class=\"date\">2019.10.07</span></td>\\n          <td class=\"num\"><span>1,920</span></td>\\n          <td class=\"num\">\\n            <img src=\"ico_down.gif\" width=\"7\" height=\"6\" style=\"margin-right:4px;\" alt=\"하락\"><span class=\"tah p11 nv01\">\\n                            50\\n                        </span>\\n          </td>\\n          <td class=\"num\"><span>1,970</span></td>\\n          <td class=\"num\"><span>1,980</span></td>\\n          <td class=\"num\"><span>1,895</span></td>\\n          <td class=\"num\"><span>89,504</span></td>\\n        </tr>\\n        <tr>\\n          <td align=\"center\"><span class=\"date\">2019.10.04</span></td>\\n          <td class=\"num\"><span>1,970</span></td>\\n          <td class=\"num\">\\n            <img src=\"ico_down.gif\" width=\"7\" height=\"6\" style=\"margin-right:4px;\" alt=\"하락\"><span class=\"tah p11 nv01\">\\n                            20\\n                        </span>\\n          </td>\\n          <td class=\"num\"><span>1,980</span></td>\\n          <td class=\"num\"><span>2,005</span></td>\\n          <td class=\"num\"><span>1,970</span></td>\\n          <td class=\"num\"><span>47,894</span></td>\\n        </tr>\\n        <tr>\\n          <td align=\"center\"><span class=\"date\">2019.10.02</span></td>\\n          <td class=\"num\"><span>1,990</span></td>\\n          <td class=\"num\">\\n            <span>0</span>\\n          </td>\\n          <td class=\"num\"><span>1,975</span></td>\\n          <td class=\"num\"><span>2,030</span></td>\\n          <td class=\"num\"><span>1,965</span></td>\\n          <td class=\"num\"><span>74,176</span></td>\\n        </tr>\\n        <tr>\\n          <td align=\"center\"><span class=\"date\">2019.10.01</span></td>\\n          <td class=\"num\"><span>1,990</span></td>\\n          <td class=\"num\">\\n            <img src=\"ico_up.gif\" width=\"7\" height=\"6\" style=\"margin-right:4px;\" alt=\"상승\"><span>\\n                            20\\n                        </span>\\n          </td>\\n          <td class=\"num\"><span>1,975</span></td>\\n          <td class=\"num\"><span>2,005</span></td>\\n          <td class=\"num\"><span>1,965</span></td>\\n          <td class=\"num\"><span>44,690</span></td>\\n        </tr>\\n\\n        <tr>\\n          <td align=\"center\"><span class=\"date\">2019.09.30</span></td>\\n          <td class=\"num\"><span>1,970</span></td>\\n          <td class=\"num\">\\n            <img src=\"ico_down.gif\" width=\"7\" height=\"6\" style=\"margin-right:4px;\" alt=\"하락\"><span class=\"tah p11 nv01\">\\n                            5\\n                        </span>\\n          </td>\\n          <td class=\"num\"><span>1,980</span></td>\\n          <td class=\"num\"><span>2,000</span></td>\\n          <td class=\"num\"><span>1,970</span></td>\\n          <td class=\"num\"><span>34,087</span></td>\\n        </tr>\\n        <tr>\\n          <td align=\"center\"><span class=\"date\">2019.09.27</span></td>\\n          <td class=\"num\"><span>1,975</span></td>\\n          <td class=\"num\">\\n            <img src=\"ico_up.gif\" width=\"7\" height=\"6\" style=\"margin-right:4px;\" alt=\"상승\"><span>\\n                            5\\n                        </span>\\n          </td>\\n          <td class=\"num\"><span>1,975</span></td>\\n          <td class=\"num\"><span>2,060</span></td>\\n          <td class=\"num\"><span>1,965</span></td>\\n          <td class=\"num\"><span>109,372</span></td>\\n        </tr>\\n        <tr>\\n          <td align=\"center\"><span class=\"date\">2019.09.26</span></td>\\n          <td class=\"num\"><span>1,970</span></td>\\n          <td class=\"num\">\\n            <img src=\"ico_down.gif\" width=\"7\" height=\"6\" style=\"margin-right:4px;\" alt=\"하락\"><span class=\"tah p11 nv01\">\\n                            30\\n                        </span>\\n          </td>\\n          <td class=\"num\"><span>2,000</span></td>\\n          <td class=\"num\"><span>2,035</span></td>\\n          <td class=\"num\"><span>1,950</span></td>\\n          <td class=\"num\"><span>83,120</span></td>\\n        </tr>\\n        <tr>\\n          <td align=\"center\"><span class=\"date\">2019.09.25</span></td>\\n          <td class=\"num\"><span>2,000</span></td>\\n          <td class=\"num\">\\n            <img src=\"ico_down.gif\" width=\"7\" height=\"6\" style=\"margin-right:4px;\" alt=\"하락\"><span class=\"tah p11 nv01\">\\n                            65\\n                        </span>\\n          </td>\\n          <td class=\"num\"><span>2,065</span></td>\\n          <td class=\"num\"><span>2,065</span></td>\\n          <td class=\"num\"><span>1,985</span></td>\\n          <td class=\"num\"><span>78,144</span></td>\\n        </tr>\\n        <tr>\\n          <td align=\"center\"><span class=\"date\">2019.09.24</span></td>\\n          <td class=\"num\"><span>2,065</span></td>\\n          <td class=\"num\">\\n            <img src=\"ico_up.gif\" width=\"7\" height=\"6\" style=\"margin-right:4px;\" alt=\"상승\"><span>\\n                            30\\n                        </span>\\n          </td>\\n          <td class=\"num\"><span>2,020</span></td>\\n          <td class=\"num\"><span>2,090</span></td>\\n          <td class=\"num\"><span>2,020</span></td>\\n          <td class=\"num\"><span>139,085</span></td>\\n        </tr>\\n      </tbody>\\n    </table>\\n  </div>\\n\\n<script src=\"https://code.jquery.com/jquery-3.5.1.js\"></script>\\n<script type=\"text/javascript\">\\n  $(\\'.help\\').hover(function() {\\n    $(\\'.lyr_section\\').css(\\'display\\', \\'block\\');\\n  }, function() {\\n    $(\\'.lyr_section\\').css(\\'display\\', \\'none\\');\\n  });\\n\\n</script>\\n</body>\\n\\n</html>\\n'"
            ],
            "application/vnd.google.colaboratory.intrinsic+json": {
              "type": "string"
            }
          },
          "metadata": {},
          "execution_count": 3
        }
      ]
    },
    {
      "cell_type": "code",
      "source": [
        "#하지만 내용 연달아 보기 힘드니까 \n",
        "# 보기 쉽게 > BeautifulSoup 이용 "
      ],
      "metadata": {
        "id": "kuQJXcCGorsM"
      },
      "execution_count": null,
      "outputs": []
    },
    {
      "cell_type": "markdown",
      "source": [
        "## BeautifulSoup - 보기쉽게\n",
        "* 위치 편리하게 찾고 싶을때 "
      ],
      "metadata": {
        "id": "ol3HUMQMokCW"
      }
    },
    {
      "cell_type": "code",
      "source": [
        "from bs4 import BeautifulSoup\n",
        "\n",
        "html = requests.get('http://www.paullab.co.kr/stock.html')  \n",
        "text = html.text\n",
        "\n",
        "soup = BeautifulSoup(text, 'html.parser')    #보기 좋게 정리해주는 \n",
        "#print(soup)"
      ],
      "metadata": {
        "id": "s9cKt4L3lpQo"
      },
      "execution_count": null,
      "outputs": []
    },
    {
      "cell_type": "code",
      "source": [
        "soup.title            #title 태그만 나옴 "
      ],
      "metadata": {
        "colab": {
          "base_uri": "https://localhost:8080/"
        },
        "id": "96mzW8RDo7uV",
        "outputId": "57e8224b-3d8b-4a9e-cb4f-34d142b6ca2b"
      },
      "execution_count": 5,
      "outputs": [
        {
          "output_type": "execute_result",
          "data": {
            "text/plain": [
              "<title>Document</title>"
            ]
          },
          "metadata": {},
          "execution_count": 5
        }
      ]
    },
    {
      "cell_type": "code",
      "source": [
        "soup.title.string     #값만 가져오고 싶을때 \n",
        "#soup.title.text"
      ],
      "metadata": {
        "colab": {
          "base_uri": "https://localhost:8080/",
          "height": 36
        },
        "id": "8ktqnH-gpqSD",
        "outputId": "9da8ec6e-a5bc-416a-ab8a-e9efe74d6163"
      },
      "execution_count": 82,
      "outputs": [
        {
          "output_type": "execute_result",
          "data": {
            "text/plain": [
              "'Document'"
            ],
            "application/vnd.google.colaboratory.intrinsic+json": {
              "type": "string"
            }
          },
          "metadata": {},
          "execution_count": 82
        }
      ]
    },
    {
      "cell_type": "markdown",
      "source": [
        "### .find('') - 첫번째 태그"
      ],
      "metadata": {
        "id": "epuSOtuFt8jz"
      }
    },
    {
      "cell_type": "code",
      "source": [
        "soup.table           #table 첫번째 태그 가져옴 #열기 닫기 기준 \n",
        "\n",
        "#<table></table>\n",
        "#<tr></tr>\n",
        "#<th></th>\n",
        "#<td></td>\n",
        "\n",
        "soup.find('table')   ###soup.table과 같은기능!"
      ],
      "metadata": {
        "colab": {
          "base_uri": "https://localhost:8080/"
        },
        "id": "djXGFepdqYHM",
        "outputId": "9571824b-526c-4c93-e41b-3f0340f7b327"
      },
      "execution_count": 6,
      "outputs": [
        {
          "output_type": "execute_result",
          "data": {
            "text/plain": [
              "<table class=\"border-style\" summary=\"시가총액 정보\">\n",
              "<tr>\n",
              "<th class=\"strong\" scope=\"row\">시가총액</th>\n",
              "<!-- 공백은 의도적으로 넣은 것입니다. -->\n",
              "<td class=\"strong\"><em id=\"_market_sum\">349조 2,323</em>억원</td>\n",
              "</tr>\n",
              "<tr>\n",
              "<th scope=\"row\">\n",
              "<a class=\"link_site\" href=\"#\">시가총액순위<i class=\"fas fa-caret-right\"></i></a>\n",
              "</th>\n",
              "<!-- 공백은 의도적으로 넣은 것입니다. -->\n",
              "<td>위니브월드 <em id=\"_market_sum\">1</em>위</td>\n",
              "</tr>\n",
              "<tr>\n",
              "<th scope=\"row\">상장주식수</th>\n",
              "<!-- 공백은 의도적으로 넣은 것입니다. -->\n",
              "<td><em id=\"_market_sum\">5,969,782,550</em></td>\n",
              "</tr>\n",
              "</table>"
            ]
          },
          "metadata": {},
          "execution_count": 6
        }
      ]
    },
    {
      "cell_type": "markdown",
      "source": [
        "### .find_all (리스트로 반환) - 여러 태그 "
      ],
      "metadata": {
        "id": "k_1nHIUnuE0c"
      }
    },
    {
      "cell_type": "code",
      "source": [
        "#여러개 태그 불러오고 싶다면\n",
        "soup.find_all('table')"
      ],
      "metadata": {
        "id": "k-fHxOkIql87"
      },
      "execution_count": null,
      "outputs": []
    },
    {
      "cell_type": "code",
      "source": [
        "soup.find_all('table', class_='table')    #여러값이니까 결과값은 리스트로 반환! #따라서 인덱싱 가능 "
      ],
      "metadata": {
        "id": "-4CfCkJ1tWUF"
      },
      "execution_count": null,
      "outputs": []
    },
    {
      "cell_type": "code",
      "source": [
        "tag = soup.find(id=('update'))\n",
        "dir(tag)      # dir -> 어떤 객체 .을 찍고 사용할 수 있는 매서드의 목록을 보여줌"
      ],
      "metadata": {
        "id": "KRO3lTZ5tosx"
      },
      "execution_count": null,
      "outputs": []
    },
    {
      "cell_type": "code",
      "source": [
        "tag.name"
      ],
      "metadata": {
        "colab": {
          "base_uri": "https://localhost:8080/",
          "height": 36
        },
        "id": "sq2l5xRKubHq",
        "outputId": "e7526f41-22a0-4aea-e5c4-b43081f789cd"
      },
      "execution_count": 12,
      "outputs": [
        {
          "output_type": "execute_result",
          "data": {
            "text/plain": [
              "'span'"
            ],
            "application/vnd.google.colaboratory.intrinsic+json": {
              "type": "string"
            }
          },
          "metadata": {},
          "execution_count": 12
        }
      ]
    },
    {
      "cell_type": "code",
      "source": [
        "tag['id']"
      ],
      "metadata": {
        "colab": {
          "base_uri": "https://localhost:8080/",
          "height": 36
        },
        "id": "KnMMCf53uhqX",
        "outputId": "224c24a3-47e8-4c3f-f277-f8e9cdf76882"
      },
      "execution_count": 13,
      "outputs": [
        {
          "output_type": "execute_result",
          "data": {
            "text/plain": [
              "'update'"
            ],
            "application/vnd.google.colaboratory.intrinsic+json": {
              "type": "string"
            }
          },
          "metadata": {},
          "execution_count": 13
        }
      ]
    },
    {
      "cell_type": "markdown",
      "source": [
        "### .select (리스트) - 원하는 값 접근\n",
        "* selector 이용 \n",
        "* id와 class 등 찾아줌 "
      ],
      "metadata": {
        "id": "6F4gJwgB0U9K"
      }
    },
    {
      "cell_type": "code",
      "source": [
        "## 페이지 안 원하는 값 빨리 찾아가는 방법 - selector (선택자)\n",
        "\n",
        "#id = 'stock' - 페이지 당 하나\n",
        "#class = '2022' - 페이지당 여러개 "
      ],
      "metadata": {
        "id": "EAML5AEp8hm9"
      },
      "execution_count": null,
      "outputs": []
    },
    {
      "cell_type": "code",
      "source": [
        "#id : #id명\n",
        "#class: .class명 \n",
        "\n",
        "# <-> soup.find(id='update')\n",
        "soup.select('#update')         #id #여러값이기에 결과 리스트 "
      ],
      "metadata": {
        "colab": {
          "base_uri": "https://localhost:8080/"
        },
        "id": "PV_wOH5zum5y",
        "outputId": "c8d7e1f2-3a48-463d-c0b9-c836c9310349"
      },
      "execution_count": 15,
      "outputs": [
        {
          "output_type": "execute_result",
          "data": {
            "text/plain": [
              "[<span id=\"update\">update : 20.12.30 / 해외 크롤링이 Block되어 있으므로 크롤링이 안되시는 분은 이 URL(http://paullab.synology.me/stock.html)을 사용하세요.</span>]"
            ]
          },
          "metadata": {},
          "execution_count": 15
        }
      ]
    },
    {
      "cell_type": "code",
      "source": [
        "soup.select('.table')"
      ],
      "metadata": {
        "id": "PZG1_rO00tlp"
      },
      "execution_count": null,
      "outputs": []
    },
    {
      "cell_type": "code",
      "source": [
        "## 구조를 타고들어갈때:  > 이용  #table class안 tbody 태그임(.없으니까) \n",
        "\n",
        "soup.select('.table > tbody')   "
      ],
      "metadata": {
        "id": "cFrxLqHF09Vx"
      },
      "execution_count": null,
      "outputs": []
    },
    {
      "cell_type": "code",
      "source": [
        "soup.select('.table > tr')     #table > tbody 존재하기 때문에 > 그 안 tr로 바로 접근불가"
      ],
      "metadata": {
        "colab": {
          "base_uri": "https://localhost:8080/"
        },
        "id": "r-Qzh7MN2IOf",
        "outputId": "751386fc-d2ba-4080-c218-d88804b3591c"
      },
      "execution_count": 19,
      "outputs": [
        {
          "output_type": "execute_result",
          "data": {
            "text/plain": [
              "[]"
            ]
          },
          "metadata": {},
          "execution_count": 19
        }
      ]
    },
    {
      "cell_type": "code",
      "source": [
        "soup.select('.table > tbody > tr')   #순서에 맞게하면 가능 "
      ],
      "metadata": {
        "id": "nWN8vO-S2bJ6"
      },
      "execution_count": null,
      "outputs": []
    },
    {
      "cell_type": "code",
      "source": [
        "## 경로로 접근하기 \n",
        "\n",
        "one = soup.select('.main')[2]    #클래스로 접근 #하위태그로 바로 접근 불가 \n",
        "one # div > h2, h3, table"
      ],
      "metadata": {
        "id": "9syJUe1J2lyY"
      },
      "execution_count": null,
      "outputs": []
    },
    {
      "cell_type": "code",
      "source": [
        "two = soup.select('tbody > tr')  #태그로 접근 #따라서 하위태그로 바로 접근가능 \n",
        "two"
      ],
      "metadata": {
        "id": "cU-4yV453eKD"
      },
      "execution_count": null,
      "outputs": []
    },
    {
      "cell_type": "code",
      "source": [],
      "metadata": {
        "id": "1qUk-su2-EzN"
      },
      "execution_count": null,
      "outputs": []
    },
    {
      "cell_type": "code",
      "source": [
        "# 크롬 브라우저 -> 오른쪽 클릭 -> 검사 -> (왼쪽 상단) 마우스 클릭 모양 선택 -> 내가 원하는 곳을 찾는다.\n",
        "    # -> 오른쪽 클릭 -> copy -> copy selector -> 자동으로 경로 복사\n",
        "    # body > div:nth-child(5) > table"
      ],
      "metadata": {
        "id": "kkCUzAwa3lOe"
      },
      "execution_count": null,
      "outputs": []
    },
    {
      "cell_type": "markdown",
      "source": [
        "- Requests -> BeautifulSoup -> 변환, 접근"
      ],
      "metadata": {
        "id": "7GhfhMH0QAyh"
      }
    },
    {
      "cell_type": "markdown",
      "source": [
        "## FinanceDataReader\n",
        "* 금융정보 (특히, 주식 가격, 환율, 암호화폐 가격..)\n",
        "* 시계열데이터 수집 "
      ],
      "metadata": {
        "id": "fRnXTlS0QH40"
      }
    },
    {
      "cell_type": "code",
      "source": [
        "!pip install finance-datareader"
      ],
      "metadata": {
        "id": "L4pzG9wp2-pW"
      },
      "execution_count": null,
      "outputs": []
    },
    {
      "cell_type": "code",
      "source": [
        "import FinanceDataReader as fdr\n",
        "\n",
        "fdr.__version__"
      ],
      "metadata": {
        "colab": {
          "base_uri": "https://localhost:8080/",
          "height": 36
        },
        "id": "zAmePXb7QjAs",
        "outputId": "9ba451b1-c45f-4c76-8aaf-cad40663725f"
      },
      "execution_count": 25,
      "outputs": [
        {
          "output_type": "execute_result",
          "data": {
            "text/plain": [
              "'0.9.50'"
            ],
            "application/vnd.google.colaboratory.intrinsic+json": {
              "type": "string"
            }
          },
          "metadata": {},
          "execution_count": 25
        }
      ]
    },
    {
      "cell_type": "markdown",
      "source": [
        "### krx 한국거래소의 주식리스트 "
      ],
      "metadata": {
        "id": "ohoTMSKyThOs"
      }
    },
    {
      "cell_type": "code",
      "source": [
        "import FinanceDataReader as fdr\n",
        "\n",
        "# fdr 이용해 데이터 불러오면 -> 데이터프레임 형태! \n",
        "df_krx = fdr.StockListing('krx')"
      ],
      "metadata": {
        "id": "fAXEZjqeQ8lT"
      },
      "execution_count": 26,
      "outputs": []
    },
    {
      "cell_type": "code",
      "source": [
        "df_krx.head()\n",
        "df_krx.shape   #(index, column) :2717 주식종목, 17가지 정보임 "
      ],
      "metadata": {
        "colab": {
          "base_uri": "https://localhost:8080/"
        },
        "id": "M0orM32MRKs7",
        "outputId": "7bb0dbee-52b6-49d4-e271-45bac8c2733e"
      },
      "execution_count": 28,
      "outputs": [
        {
          "output_type": "execute_result",
          "data": {
            "text/plain": [
              "(2717, 17)"
            ]
          },
          "metadata": {},
          "execution_count": 28
        }
      ]
    },
    {
      "cell_type": "code",
      "source": [
        "df_krx.describe()\n",
        "df_krx.info()  #null값 없음 "
      ],
      "metadata": {
        "colab": {
          "base_uri": "https://localhost:8080/"
        },
        "id": "o6F-iBbURkBe",
        "outputId": "b6906e4e-0a5e-4a00-9078-2d1ef7b552ce"
      },
      "execution_count": 30,
      "outputs": [
        {
          "output_type": "stream",
          "name": "stdout",
          "text": [
            "<class 'pandas.core.frame.DataFrame'>\n",
            "RangeIndex: 2717 entries, 0 to 2716\n",
            "Data columns (total 17 columns):\n",
            " #   Column       Non-Null Count  Dtype  \n",
            "---  ------       --------------  -----  \n",
            " 0   Code         2717 non-null   object \n",
            " 1   ISU_CD       2717 non-null   object \n",
            " 2   Name         2717 non-null   object \n",
            " 3   Market       2717 non-null   object \n",
            " 4   Dept         2717 non-null   object \n",
            " 5   Close        2717 non-null   object \n",
            " 6   ChangeCode   2717 non-null   object \n",
            " 7   Changes      2717 non-null   int64  \n",
            " 8   ChagesRatio  2717 non-null   float64\n",
            " 9   Open         2717 non-null   int64  \n",
            " 10  High         2717 non-null   int64  \n",
            " 11  Low          2717 non-null   int64  \n",
            " 12  Volume       2717 non-null   int64  \n",
            " 13  Amount       2717 non-null   int64  \n",
            " 14  Marcap       2717 non-null   int64  \n",
            " 15  Stocks       2717 non-null   int64  \n",
            " 16  MarketId     2717 non-null   object \n",
            "dtypes: float64(1), int64(8), object(8)\n",
            "memory usage: 361.0+ KB\n"
          ]
        }
      ]
    },
    {
      "cell_type": "markdown",
      "source": [
        "### 단일종목의 주식가격 -코드번호 이용"
      ],
      "metadata": {
        "id": "fNOhzGBFTWYy"
      }
    },
    {
      "cell_type": "code",
      "source": [
        "#위에서 코드번호 파악해서 \n",
        "samsung_df = fdr.DataReader('005930')\n",
        "samsung_df"
      ],
      "metadata": {
        "colab": {
          "base_uri": "https://localhost:8080/",
          "height": 455
        },
        "id": "Wx6WnJa6R7Ag",
        "outputId": "359c09ce-d9ec-4299-8d2e-1d6e084989b8"
      },
      "execution_count": 31,
      "outputs": [
        {
          "output_type": "execute_result",
          "data": {
            "text/plain": [
              "             Open   High    Low  Close    Volume    Change\n",
              "Date                                                      \n",
              "1999-02-10   1653   1675   1604   1634    664282       NaN\n",
              "1999-02-11   1661   1678   1643   1644    287590  0.006120\n",
              "1999-02-12   1682   1751   1667   1743    403600  0.060219\n",
              "1999-02-18   1712   1721   1682   1687    440930 -0.032129\n",
              "1999-02-19   1663   1663   1602   1653    503847 -0.020154\n",
              "...           ...    ...    ...    ...       ...       ...\n",
              "2023-05-22  68400  69000  68000  68500  14470308  0.001462\n",
              "2023-05-23  68500  68700  68100  68400   8561643 -0.001460\n",
              "2023-05-24  68100  68700  68000  68500   8192896  0.001462\n",
              "2023-05-25  69900  70000  68700  68800  14231160  0.004380\n",
              "2023-05-26  69800  70400  69500  70400  15052282  0.023256\n",
              "\n",
              "[6000 rows x 6 columns]"
            ],
            "text/html": [
              "\n",
              "  <div id=\"df-fe43c302-a771-4b16-ac47-13fde9231949\">\n",
              "    <div class=\"colab-df-container\">\n",
              "      <div>\n",
              "<style scoped>\n",
              "    .dataframe tbody tr th:only-of-type {\n",
              "        vertical-align: middle;\n",
              "    }\n",
              "\n",
              "    .dataframe tbody tr th {\n",
              "        vertical-align: top;\n",
              "    }\n",
              "\n",
              "    .dataframe thead th {\n",
              "        text-align: right;\n",
              "    }\n",
              "</style>\n",
              "<table border=\"1\" class=\"dataframe\">\n",
              "  <thead>\n",
              "    <tr style=\"text-align: right;\">\n",
              "      <th></th>\n",
              "      <th>Open</th>\n",
              "      <th>High</th>\n",
              "      <th>Low</th>\n",
              "      <th>Close</th>\n",
              "      <th>Volume</th>\n",
              "      <th>Change</th>\n",
              "    </tr>\n",
              "    <tr>\n",
              "      <th>Date</th>\n",
              "      <th></th>\n",
              "      <th></th>\n",
              "      <th></th>\n",
              "      <th></th>\n",
              "      <th></th>\n",
              "      <th></th>\n",
              "    </tr>\n",
              "  </thead>\n",
              "  <tbody>\n",
              "    <tr>\n",
              "      <th>1999-02-10</th>\n",
              "      <td>1653</td>\n",
              "      <td>1675</td>\n",
              "      <td>1604</td>\n",
              "      <td>1634</td>\n",
              "      <td>664282</td>\n",
              "      <td>NaN</td>\n",
              "    </tr>\n",
              "    <tr>\n",
              "      <th>1999-02-11</th>\n",
              "      <td>1661</td>\n",
              "      <td>1678</td>\n",
              "      <td>1643</td>\n",
              "      <td>1644</td>\n",
              "      <td>287590</td>\n",
              "      <td>0.006120</td>\n",
              "    </tr>\n",
              "    <tr>\n",
              "      <th>1999-02-12</th>\n",
              "      <td>1682</td>\n",
              "      <td>1751</td>\n",
              "      <td>1667</td>\n",
              "      <td>1743</td>\n",
              "      <td>403600</td>\n",
              "      <td>0.060219</td>\n",
              "    </tr>\n",
              "    <tr>\n",
              "      <th>1999-02-18</th>\n",
              "      <td>1712</td>\n",
              "      <td>1721</td>\n",
              "      <td>1682</td>\n",
              "      <td>1687</td>\n",
              "      <td>440930</td>\n",
              "      <td>-0.032129</td>\n",
              "    </tr>\n",
              "    <tr>\n",
              "      <th>1999-02-19</th>\n",
              "      <td>1663</td>\n",
              "      <td>1663</td>\n",
              "      <td>1602</td>\n",
              "      <td>1653</td>\n",
              "      <td>503847</td>\n",
              "      <td>-0.020154</td>\n",
              "    </tr>\n",
              "    <tr>\n",
              "      <th>...</th>\n",
              "      <td>...</td>\n",
              "      <td>...</td>\n",
              "      <td>...</td>\n",
              "      <td>...</td>\n",
              "      <td>...</td>\n",
              "      <td>...</td>\n",
              "    </tr>\n",
              "    <tr>\n",
              "      <th>2023-05-22</th>\n",
              "      <td>68400</td>\n",
              "      <td>69000</td>\n",
              "      <td>68000</td>\n",
              "      <td>68500</td>\n",
              "      <td>14470308</td>\n",
              "      <td>0.001462</td>\n",
              "    </tr>\n",
              "    <tr>\n",
              "      <th>2023-05-23</th>\n",
              "      <td>68500</td>\n",
              "      <td>68700</td>\n",
              "      <td>68100</td>\n",
              "      <td>68400</td>\n",
              "      <td>8561643</td>\n",
              "      <td>-0.001460</td>\n",
              "    </tr>\n",
              "    <tr>\n",
              "      <th>2023-05-24</th>\n",
              "      <td>68100</td>\n",
              "      <td>68700</td>\n",
              "      <td>68000</td>\n",
              "      <td>68500</td>\n",
              "      <td>8192896</td>\n",
              "      <td>0.001462</td>\n",
              "    </tr>\n",
              "    <tr>\n",
              "      <th>2023-05-25</th>\n",
              "      <td>69900</td>\n",
              "      <td>70000</td>\n",
              "      <td>68700</td>\n",
              "      <td>68800</td>\n",
              "      <td>14231160</td>\n",
              "      <td>0.004380</td>\n",
              "    </tr>\n",
              "    <tr>\n",
              "      <th>2023-05-26</th>\n",
              "      <td>69800</td>\n",
              "      <td>70400</td>\n",
              "      <td>69500</td>\n",
              "      <td>70400</td>\n",
              "      <td>15052282</td>\n",
              "      <td>0.023256</td>\n",
              "    </tr>\n",
              "  </tbody>\n",
              "</table>\n",
              "<p>6000 rows × 6 columns</p>\n",
              "</div>\n",
              "      <button class=\"colab-df-convert\" onclick=\"convertToInteractive('df-fe43c302-a771-4b16-ac47-13fde9231949')\"\n",
              "              title=\"Convert this dataframe to an interactive table.\"\n",
              "              style=\"display:none;\">\n",
              "        \n",
              "  <svg xmlns=\"http://www.w3.org/2000/svg\" height=\"24px\"viewBox=\"0 0 24 24\"\n",
              "       width=\"24px\">\n",
              "    <path d=\"M0 0h24v24H0V0z\" fill=\"none\"/>\n",
              "    <path d=\"M18.56 5.44l.94 2.06.94-2.06 2.06-.94-2.06-.94-.94-2.06-.94 2.06-2.06.94zm-11 1L8.5 8.5l.94-2.06 2.06-.94-2.06-.94L8.5 2.5l-.94 2.06-2.06.94zm10 10l.94 2.06.94-2.06 2.06-.94-2.06-.94-.94-2.06-.94 2.06-2.06.94z\"/><path d=\"M17.41 7.96l-1.37-1.37c-.4-.4-.92-.59-1.43-.59-.52 0-1.04.2-1.43.59L10.3 9.45l-7.72 7.72c-.78.78-.78 2.05 0 2.83L4 21.41c.39.39.9.59 1.41.59.51 0 1.02-.2 1.41-.59l7.78-7.78 2.81-2.81c.8-.78.8-2.07 0-2.86zM5.41 20L4 18.59l7.72-7.72 1.47 1.35L5.41 20z\"/>\n",
              "  </svg>\n",
              "      </button>\n",
              "      \n",
              "  <style>\n",
              "    .colab-df-container {\n",
              "      display:flex;\n",
              "      flex-wrap:wrap;\n",
              "      gap: 12px;\n",
              "    }\n",
              "\n",
              "    .colab-df-convert {\n",
              "      background-color: #E8F0FE;\n",
              "      border: none;\n",
              "      border-radius: 50%;\n",
              "      cursor: pointer;\n",
              "      display: none;\n",
              "      fill: #1967D2;\n",
              "      height: 32px;\n",
              "      padding: 0 0 0 0;\n",
              "      width: 32px;\n",
              "    }\n",
              "\n",
              "    .colab-df-convert:hover {\n",
              "      background-color: #E2EBFA;\n",
              "      box-shadow: 0px 1px 2px rgba(60, 64, 67, 0.3), 0px 1px 3px 1px rgba(60, 64, 67, 0.15);\n",
              "      fill: #174EA6;\n",
              "    }\n",
              "\n",
              "    [theme=dark] .colab-df-convert {\n",
              "      background-color: #3B4455;\n",
              "      fill: #D2E3FC;\n",
              "    }\n",
              "\n",
              "    [theme=dark] .colab-df-convert:hover {\n",
              "      background-color: #434B5C;\n",
              "      box-shadow: 0px 1px 3px 1px rgba(0, 0, 0, 0.15);\n",
              "      filter: drop-shadow(0px 1px 2px rgba(0, 0, 0, 0.3));\n",
              "      fill: #FFFFFF;\n",
              "    }\n",
              "  </style>\n",
              "\n",
              "      <script>\n",
              "        const buttonEl =\n",
              "          document.querySelector('#df-fe43c302-a771-4b16-ac47-13fde9231949 button.colab-df-convert');\n",
              "        buttonEl.style.display =\n",
              "          google.colab.kernel.accessAllowed ? 'block' : 'none';\n",
              "\n",
              "        async function convertToInteractive(key) {\n",
              "          const element = document.querySelector('#df-fe43c302-a771-4b16-ac47-13fde9231949');\n",
              "          const dataTable =\n",
              "            await google.colab.kernel.invokeFunction('convertToInteractive',\n",
              "                                                     [key], {});\n",
              "          if (!dataTable) return;\n",
              "\n",
              "          const docLinkHtml = 'Like what you see? Visit the ' +\n",
              "            '<a target=\"_blank\" href=https://colab.research.google.com/notebooks/data_table.ipynb>data table notebook</a>'\n",
              "            + ' to learn more about interactive tables.';\n",
              "          element.innerHTML = '';\n",
              "          dataTable['output_type'] = 'display_data';\n",
              "          await google.colab.output.renderOutput(dataTable, element);\n",
              "          const docLink = document.createElement('div');\n",
              "          docLink.innerHTML = docLinkHtml;\n",
              "          element.appendChild(docLink);\n",
              "        }\n",
              "      </script>\n",
              "    </div>\n",
              "  </div>\n",
              "  "
            ]
          },
          "metadata": {},
          "execution_count": 31
        }
      ]
    },
    {
      "cell_type": "code",
      "source": [
        "#여기서 특정연도 불러오고 싶다면\n",
        "samsung_df_2022 = fdr.DataReader('005930', '2022')    #2022~현재까지 \n",
        "samsung_df_2022"
      ],
      "metadata": {
        "id": "PX0mr2NYSW6l"
      },
      "execution_count": null,
      "outputs": []
    },
    {
      "cell_type": "code",
      "source": [
        "samsung_df_2022_ = fdr.DataReader('005930', '2022','2023')    #2022~22년 12월까지 \n",
        "samsung_df_2022_                                              #2022-01-03 으로 날짜까지 지정할수도 "
      ],
      "metadata": {
        "colab": {
          "base_uri": "https://localhost:8080/",
          "height": 455
        },
        "id": "4RRucd27Sf9R",
        "outputId": "2ddef4cc-edf2-4210-af9c-46c17b559964"
      },
      "execution_count": 85,
      "outputs": [
        {
          "output_type": "execute_result",
          "data": {
            "text/plain": [
              "             Open   High    Low  Close    Volume    Change\n",
              "Date                                                      \n",
              "2022-01-03  79400  79800  78200  78600  13502112  0.003831\n",
              "2022-01-04  78800  79200  78300  78700  12427416  0.001272\n",
              "2022-01-05  78800  79000  76400  77400  25470640 -0.016518\n",
              "2022-01-06  76700  77600  76600  76900  12931954 -0.006460\n",
              "2022-01-07  78100  78400  77400  78300  15163757  0.018205\n",
              "...           ...    ...    ...    ...       ...       ...\n",
              "2022-12-23  58200  58400  57700  58100   9829407 -0.016920\n",
              "2022-12-26  58000  58100  57700  57900   6756411 -0.003442\n",
              "2022-12-27  58000  58400  57900  58100  10667027  0.003454\n",
              "2022-12-28  57600  57600  56400  56600  14665410 -0.025818\n",
              "2022-12-29  56000  56200  55300  55300  11295935 -0.022968\n",
              "\n",
              "[246 rows x 6 columns]"
            ],
            "text/html": [
              "\n",
              "  <div id=\"df-42c7048d-d1b4-419f-b6d5-1880062cca5f\">\n",
              "    <div class=\"colab-df-container\">\n",
              "      <div>\n",
              "<style scoped>\n",
              "    .dataframe tbody tr th:only-of-type {\n",
              "        vertical-align: middle;\n",
              "    }\n",
              "\n",
              "    .dataframe tbody tr th {\n",
              "        vertical-align: top;\n",
              "    }\n",
              "\n",
              "    .dataframe thead th {\n",
              "        text-align: right;\n",
              "    }\n",
              "</style>\n",
              "<table border=\"1\" class=\"dataframe\">\n",
              "  <thead>\n",
              "    <tr style=\"text-align: right;\">\n",
              "      <th></th>\n",
              "      <th>Open</th>\n",
              "      <th>High</th>\n",
              "      <th>Low</th>\n",
              "      <th>Close</th>\n",
              "      <th>Volume</th>\n",
              "      <th>Change</th>\n",
              "    </tr>\n",
              "    <tr>\n",
              "      <th>Date</th>\n",
              "      <th></th>\n",
              "      <th></th>\n",
              "      <th></th>\n",
              "      <th></th>\n",
              "      <th></th>\n",
              "      <th></th>\n",
              "    </tr>\n",
              "  </thead>\n",
              "  <tbody>\n",
              "    <tr>\n",
              "      <th>2022-01-03</th>\n",
              "      <td>79400</td>\n",
              "      <td>79800</td>\n",
              "      <td>78200</td>\n",
              "      <td>78600</td>\n",
              "      <td>13502112</td>\n",
              "      <td>0.003831</td>\n",
              "    </tr>\n",
              "    <tr>\n",
              "      <th>2022-01-04</th>\n",
              "      <td>78800</td>\n",
              "      <td>79200</td>\n",
              "      <td>78300</td>\n",
              "      <td>78700</td>\n",
              "      <td>12427416</td>\n",
              "      <td>0.001272</td>\n",
              "    </tr>\n",
              "    <tr>\n",
              "      <th>2022-01-05</th>\n",
              "      <td>78800</td>\n",
              "      <td>79000</td>\n",
              "      <td>76400</td>\n",
              "      <td>77400</td>\n",
              "      <td>25470640</td>\n",
              "      <td>-0.016518</td>\n",
              "    </tr>\n",
              "    <tr>\n",
              "      <th>2022-01-06</th>\n",
              "      <td>76700</td>\n",
              "      <td>77600</td>\n",
              "      <td>76600</td>\n",
              "      <td>76900</td>\n",
              "      <td>12931954</td>\n",
              "      <td>-0.006460</td>\n",
              "    </tr>\n",
              "    <tr>\n",
              "      <th>2022-01-07</th>\n",
              "      <td>78100</td>\n",
              "      <td>78400</td>\n",
              "      <td>77400</td>\n",
              "      <td>78300</td>\n",
              "      <td>15163757</td>\n",
              "      <td>0.018205</td>\n",
              "    </tr>\n",
              "    <tr>\n",
              "      <th>...</th>\n",
              "      <td>...</td>\n",
              "      <td>...</td>\n",
              "      <td>...</td>\n",
              "      <td>...</td>\n",
              "      <td>...</td>\n",
              "      <td>...</td>\n",
              "    </tr>\n",
              "    <tr>\n",
              "      <th>2022-12-23</th>\n",
              "      <td>58200</td>\n",
              "      <td>58400</td>\n",
              "      <td>57700</td>\n",
              "      <td>58100</td>\n",
              "      <td>9829407</td>\n",
              "      <td>-0.016920</td>\n",
              "    </tr>\n",
              "    <tr>\n",
              "      <th>2022-12-26</th>\n",
              "      <td>58000</td>\n",
              "      <td>58100</td>\n",
              "      <td>57700</td>\n",
              "      <td>57900</td>\n",
              "      <td>6756411</td>\n",
              "      <td>-0.003442</td>\n",
              "    </tr>\n",
              "    <tr>\n",
              "      <th>2022-12-27</th>\n",
              "      <td>58000</td>\n",
              "      <td>58400</td>\n",
              "      <td>57900</td>\n",
              "      <td>58100</td>\n",
              "      <td>10667027</td>\n",
              "      <td>0.003454</td>\n",
              "    </tr>\n",
              "    <tr>\n",
              "      <th>2022-12-28</th>\n",
              "      <td>57600</td>\n",
              "      <td>57600</td>\n",
              "      <td>56400</td>\n",
              "      <td>56600</td>\n",
              "      <td>14665410</td>\n",
              "      <td>-0.025818</td>\n",
              "    </tr>\n",
              "    <tr>\n",
              "      <th>2022-12-29</th>\n",
              "      <td>56000</td>\n",
              "      <td>56200</td>\n",
              "      <td>55300</td>\n",
              "      <td>55300</td>\n",
              "      <td>11295935</td>\n",
              "      <td>-0.022968</td>\n",
              "    </tr>\n",
              "  </tbody>\n",
              "</table>\n",
              "<p>246 rows × 6 columns</p>\n",
              "</div>\n",
              "      <button class=\"colab-df-convert\" onclick=\"convertToInteractive('df-42c7048d-d1b4-419f-b6d5-1880062cca5f')\"\n",
              "              title=\"Convert this dataframe to an interactive table.\"\n",
              "              style=\"display:none;\">\n",
              "        \n",
              "  <svg xmlns=\"http://www.w3.org/2000/svg\" height=\"24px\"viewBox=\"0 0 24 24\"\n",
              "       width=\"24px\">\n",
              "    <path d=\"M0 0h24v24H0V0z\" fill=\"none\"/>\n",
              "    <path d=\"M18.56 5.44l.94 2.06.94-2.06 2.06-.94-2.06-.94-.94-2.06-.94 2.06-2.06.94zm-11 1L8.5 8.5l.94-2.06 2.06-.94-2.06-.94L8.5 2.5l-.94 2.06-2.06.94zm10 10l.94 2.06.94-2.06 2.06-.94-2.06-.94-.94-2.06-.94 2.06-2.06.94z\"/><path d=\"M17.41 7.96l-1.37-1.37c-.4-.4-.92-.59-1.43-.59-.52 0-1.04.2-1.43.59L10.3 9.45l-7.72 7.72c-.78.78-.78 2.05 0 2.83L4 21.41c.39.39.9.59 1.41.59.51 0 1.02-.2 1.41-.59l7.78-7.78 2.81-2.81c.8-.78.8-2.07 0-2.86zM5.41 20L4 18.59l7.72-7.72 1.47 1.35L5.41 20z\"/>\n",
              "  </svg>\n",
              "      </button>\n",
              "      \n",
              "  <style>\n",
              "    .colab-df-container {\n",
              "      display:flex;\n",
              "      flex-wrap:wrap;\n",
              "      gap: 12px;\n",
              "    }\n",
              "\n",
              "    .colab-df-convert {\n",
              "      background-color: #E8F0FE;\n",
              "      border: none;\n",
              "      border-radius: 50%;\n",
              "      cursor: pointer;\n",
              "      display: none;\n",
              "      fill: #1967D2;\n",
              "      height: 32px;\n",
              "      padding: 0 0 0 0;\n",
              "      width: 32px;\n",
              "    }\n",
              "\n",
              "    .colab-df-convert:hover {\n",
              "      background-color: #E2EBFA;\n",
              "      box-shadow: 0px 1px 2px rgba(60, 64, 67, 0.3), 0px 1px 3px 1px rgba(60, 64, 67, 0.15);\n",
              "      fill: #174EA6;\n",
              "    }\n",
              "\n",
              "    [theme=dark] .colab-df-convert {\n",
              "      background-color: #3B4455;\n",
              "      fill: #D2E3FC;\n",
              "    }\n",
              "\n",
              "    [theme=dark] .colab-df-convert:hover {\n",
              "      background-color: #434B5C;\n",
              "      box-shadow: 0px 1px 3px 1px rgba(0, 0, 0, 0.15);\n",
              "      filter: drop-shadow(0px 1px 2px rgba(0, 0, 0, 0.3));\n",
              "      fill: #FFFFFF;\n",
              "    }\n",
              "  </style>\n",
              "\n",
              "      <script>\n",
              "        const buttonEl =\n",
              "          document.querySelector('#df-42c7048d-d1b4-419f-b6d5-1880062cca5f button.colab-df-convert');\n",
              "        buttonEl.style.display =\n",
              "          google.colab.kernel.accessAllowed ? 'block' : 'none';\n",
              "\n",
              "        async function convertToInteractive(key) {\n",
              "          const element = document.querySelector('#df-42c7048d-d1b4-419f-b6d5-1880062cca5f');\n",
              "          const dataTable =\n",
              "            await google.colab.kernel.invokeFunction('convertToInteractive',\n",
              "                                                     [key], {});\n",
              "          if (!dataTable) return;\n",
              "\n",
              "          const docLinkHtml = 'Like what you see? Visit the ' +\n",
              "            '<a target=\"_blank\" href=https://colab.research.google.com/notebooks/data_table.ipynb>data table notebook</a>'\n",
              "            + ' to learn more about interactive tables.';\n",
              "          element.innerHTML = '';\n",
              "          dataTable['output_type'] = 'display_data';\n",
              "          await google.colab.output.renderOutput(dataTable, element);\n",
              "          const docLink = document.createElement('div');\n",
              "          docLink.innerHTML = docLinkHtml;\n",
              "          element.appendChild(docLink);\n",
              "        }\n",
              "      </script>\n",
              "    </div>\n",
              "  </div>\n",
              "  "
            ]
          },
          "metadata": {},
          "execution_count": 85
        }
      ]
    },
    {
      "cell_type": "markdown",
      "source": [
        "#### 상장폐지종목 데이터 "
      ],
      "metadata": {
        "id": "Yd9lUJZeUehh"
      }
    },
    {
      "cell_type": "code",
      "source": [
        "del_stock = fdr.DataReader('003497', exchange='krx-delisting') # 003497 상장 폐지 -> krx에는 데이터가 없음, exchange='krx-delisting'\n",
        "del_stock"
      ],
      "metadata": {
        "colab": {
          "base_uri": "https://localhost:8080/",
          "height": 1000
        },
        "id": "QEX-xVUfSnmm",
        "outputId": "a326237a-e4b1-4e92-94af-0830504fd86c"
      },
      "execution_count": 36,
      "outputs": [
        {
          "output_type": "execute_result",
          "data": {
            "text/plain": [
              "          Date    Code       Name Market SecuGroup  Close  UpDown  Change  \\\n",
              "0   2001-04-13  003497  대한항공(2우B)  KOSPI        주권   6100       0       0   \n",
              "1   2001-04-12  003497  대한항공(2우B)  KOSPI        주권   6100       0       0   \n",
              "2   2001-04-11  003497  대한항공(2우B)  KOSPI        주권   6100       0       0   \n",
              "3   2001-04-10  003497  대한항공(2우B)  KOSPI        주권   6100       0       0   \n",
              "4   2001-04-09  003497  대한항공(2우B)  KOSPI        주권   6100       0       0   \n",
              "..         ...     ...        ...    ...       ...    ...     ...     ...   \n",
              "753 1998-04-30  003497  대한항공(2우B)  KOSPI        주권   1915       1       5   \n",
              "754 1998-04-29  003497  대한항공(2우B)  KOSPI        주권   1910       2     -95   \n",
              "755 1998-04-28  003497  대한항공(2우B)  KOSPI        주권   2005       1       5   \n",
              "756 1998-04-27  003497  대한항공(2우B)  KOSPI        주권   2000       1      90   \n",
              "757 1998-04-25  003497  대한항공(2우B)  KOSPI        주권      0       0       0   \n",
              "\n",
              "     ChangeRate  Open  High  Lower  Volume  Amount      MarCap  \n",
              "0          0.00     0     0      0       0       0  2103249500  \n",
              "1          0.00     0     0      0       0       0  2103249500  \n",
              "2          0.00     0     0      0       0       0  2103249500  \n",
              "3          0.00     0     0      0       0       0  2103249500  \n",
              "4          0.00     0     0      0       0       0  2103249500  \n",
              "..          ...   ...   ...    ...     ...     ...         ...  \n",
              "753        0.26  1915  1915   1915     110  210650   660282425  \n",
              "754       -4.74  1910  1910   1910     430  821300   658558450  \n",
              "755        0.25  2005  2005   2005     100  200500   691313975  \n",
              "756        4.71  1910  2000   1910     260  501100   689590000  \n",
              "757        0.00     0     0      0       0       0   724069500  \n",
              "\n",
              "[758 rows x 15 columns]"
            ],
            "text/html": [
              "\n",
              "  <div id=\"df-5e7db5e8-8e93-4244-b68e-c981e8d03a4a\">\n",
              "    <div class=\"colab-df-container\">\n",
              "      <div>\n",
              "<style scoped>\n",
              "    .dataframe tbody tr th:only-of-type {\n",
              "        vertical-align: middle;\n",
              "    }\n",
              "\n",
              "    .dataframe tbody tr th {\n",
              "        vertical-align: top;\n",
              "    }\n",
              "\n",
              "    .dataframe thead th {\n",
              "        text-align: right;\n",
              "    }\n",
              "</style>\n",
              "<table border=\"1\" class=\"dataframe\">\n",
              "  <thead>\n",
              "    <tr style=\"text-align: right;\">\n",
              "      <th></th>\n",
              "      <th>Date</th>\n",
              "      <th>Code</th>\n",
              "      <th>Name</th>\n",
              "      <th>Market</th>\n",
              "      <th>SecuGroup</th>\n",
              "      <th>Close</th>\n",
              "      <th>UpDown</th>\n",
              "      <th>Change</th>\n",
              "      <th>ChangeRate</th>\n",
              "      <th>Open</th>\n",
              "      <th>High</th>\n",
              "      <th>Lower</th>\n",
              "      <th>Volume</th>\n",
              "      <th>Amount</th>\n",
              "      <th>MarCap</th>\n",
              "    </tr>\n",
              "  </thead>\n",
              "  <tbody>\n",
              "    <tr>\n",
              "      <th>0</th>\n",
              "      <td>2001-04-13</td>\n",
              "      <td>003497</td>\n",
              "      <td>대한항공(2우B)</td>\n",
              "      <td>KOSPI</td>\n",
              "      <td>주권</td>\n",
              "      <td>6100</td>\n",
              "      <td>0</td>\n",
              "      <td>0</td>\n",
              "      <td>0.00</td>\n",
              "      <td>0</td>\n",
              "      <td>0</td>\n",
              "      <td>0</td>\n",
              "      <td>0</td>\n",
              "      <td>0</td>\n",
              "      <td>2103249500</td>\n",
              "    </tr>\n",
              "    <tr>\n",
              "      <th>1</th>\n",
              "      <td>2001-04-12</td>\n",
              "      <td>003497</td>\n",
              "      <td>대한항공(2우B)</td>\n",
              "      <td>KOSPI</td>\n",
              "      <td>주권</td>\n",
              "      <td>6100</td>\n",
              "      <td>0</td>\n",
              "      <td>0</td>\n",
              "      <td>0.00</td>\n",
              "      <td>0</td>\n",
              "      <td>0</td>\n",
              "      <td>0</td>\n",
              "      <td>0</td>\n",
              "      <td>0</td>\n",
              "      <td>2103249500</td>\n",
              "    </tr>\n",
              "    <tr>\n",
              "      <th>2</th>\n",
              "      <td>2001-04-11</td>\n",
              "      <td>003497</td>\n",
              "      <td>대한항공(2우B)</td>\n",
              "      <td>KOSPI</td>\n",
              "      <td>주권</td>\n",
              "      <td>6100</td>\n",
              "      <td>0</td>\n",
              "      <td>0</td>\n",
              "      <td>0.00</td>\n",
              "      <td>0</td>\n",
              "      <td>0</td>\n",
              "      <td>0</td>\n",
              "      <td>0</td>\n",
              "      <td>0</td>\n",
              "      <td>2103249500</td>\n",
              "    </tr>\n",
              "    <tr>\n",
              "      <th>3</th>\n",
              "      <td>2001-04-10</td>\n",
              "      <td>003497</td>\n",
              "      <td>대한항공(2우B)</td>\n",
              "      <td>KOSPI</td>\n",
              "      <td>주권</td>\n",
              "      <td>6100</td>\n",
              "      <td>0</td>\n",
              "      <td>0</td>\n",
              "      <td>0.00</td>\n",
              "      <td>0</td>\n",
              "      <td>0</td>\n",
              "      <td>0</td>\n",
              "      <td>0</td>\n",
              "      <td>0</td>\n",
              "      <td>2103249500</td>\n",
              "    </tr>\n",
              "    <tr>\n",
              "      <th>4</th>\n",
              "      <td>2001-04-09</td>\n",
              "      <td>003497</td>\n",
              "      <td>대한항공(2우B)</td>\n",
              "      <td>KOSPI</td>\n",
              "      <td>주권</td>\n",
              "      <td>6100</td>\n",
              "      <td>0</td>\n",
              "      <td>0</td>\n",
              "      <td>0.00</td>\n",
              "      <td>0</td>\n",
              "      <td>0</td>\n",
              "      <td>0</td>\n",
              "      <td>0</td>\n",
              "      <td>0</td>\n",
              "      <td>2103249500</td>\n",
              "    </tr>\n",
              "    <tr>\n",
              "      <th>...</th>\n",
              "      <td>...</td>\n",
              "      <td>...</td>\n",
              "      <td>...</td>\n",
              "      <td>...</td>\n",
              "      <td>...</td>\n",
              "      <td>...</td>\n",
              "      <td>...</td>\n",
              "      <td>...</td>\n",
              "      <td>...</td>\n",
              "      <td>...</td>\n",
              "      <td>...</td>\n",
              "      <td>...</td>\n",
              "      <td>...</td>\n",
              "      <td>...</td>\n",
              "      <td>...</td>\n",
              "    </tr>\n",
              "    <tr>\n",
              "      <th>753</th>\n",
              "      <td>1998-04-30</td>\n",
              "      <td>003497</td>\n",
              "      <td>대한항공(2우B)</td>\n",
              "      <td>KOSPI</td>\n",
              "      <td>주권</td>\n",
              "      <td>1915</td>\n",
              "      <td>1</td>\n",
              "      <td>5</td>\n",
              "      <td>0.26</td>\n",
              "      <td>1915</td>\n",
              "      <td>1915</td>\n",
              "      <td>1915</td>\n",
              "      <td>110</td>\n",
              "      <td>210650</td>\n",
              "      <td>660282425</td>\n",
              "    </tr>\n",
              "    <tr>\n",
              "      <th>754</th>\n",
              "      <td>1998-04-29</td>\n",
              "      <td>003497</td>\n",
              "      <td>대한항공(2우B)</td>\n",
              "      <td>KOSPI</td>\n",
              "      <td>주권</td>\n",
              "      <td>1910</td>\n",
              "      <td>2</td>\n",
              "      <td>-95</td>\n",
              "      <td>-4.74</td>\n",
              "      <td>1910</td>\n",
              "      <td>1910</td>\n",
              "      <td>1910</td>\n",
              "      <td>430</td>\n",
              "      <td>821300</td>\n",
              "      <td>658558450</td>\n",
              "    </tr>\n",
              "    <tr>\n",
              "      <th>755</th>\n",
              "      <td>1998-04-28</td>\n",
              "      <td>003497</td>\n",
              "      <td>대한항공(2우B)</td>\n",
              "      <td>KOSPI</td>\n",
              "      <td>주권</td>\n",
              "      <td>2005</td>\n",
              "      <td>1</td>\n",
              "      <td>5</td>\n",
              "      <td>0.25</td>\n",
              "      <td>2005</td>\n",
              "      <td>2005</td>\n",
              "      <td>2005</td>\n",
              "      <td>100</td>\n",
              "      <td>200500</td>\n",
              "      <td>691313975</td>\n",
              "    </tr>\n",
              "    <tr>\n",
              "      <th>756</th>\n",
              "      <td>1998-04-27</td>\n",
              "      <td>003497</td>\n",
              "      <td>대한항공(2우B)</td>\n",
              "      <td>KOSPI</td>\n",
              "      <td>주권</td>\n",
              "      <td>2000</td>\n",
              "      <td>1</td>\n",
              "      <td>90</td>\n",
              "      <td>4.71</td>\n",
              "      <td>1910</td>\n",
              "      <td>2000</td>\n",
              "      <td>1910</td>\n",
              "      <td>260</td>\n",
              "      <td>501100</td>\n",
              "      <td>689590000</td>\n",
              "    </tr>\n",
              "    <tr>\n",
              "      <th>757</th>\n",
              "      <td>1998-04-25</td>\n",
              "      <td>003497</td>\n",
              "      <td>대한항공(2우B)</td>\n",
              "      <td>KOSPI</td>\n",
              "      <td>주권</td>\n",
              "      <td>0</td>\n",
              "      <td>0</td>\n",
              "      <td>0</td>\n",
              "      <td>0.00</td>\n",
              "      <td>0</td>\n",
              "      <td>0</td>\n",
              "      <td>0</td>\n",
              "      <td>0</td>\n",
              "      <td>0</td>\n",
              "      <td>724069500</td>\n",
              "    </tr>\n",
              "  </tbody>\n",
              "</table>\n",
              "<p>758 rows × 15 columns</p>\n",
              "</div>\n",
              "      <button class=\"colab-df-convert\" onclick=\"convertToInteractive('df-5e7db5e8-8e93-4244-b68e-c981e8d03a4a')\"\n",
              "              title=\"Convert this dataframe to an interactive table.\"\n",
              "              style=\"display:none;\">\n",
              "        \n",
              "  <svg xmlns=\"http://www.w3.org/2000/svg\" height=\"24px\"viewBox=\"0 0 24 24\"\n",
              "       width=\"24px\">\n",
              "    <path d=\"M0 0h24v24H0V0z\" fill=\"none\"/>\n",
              "    <path d=\"M18.56 5.44l.94 2.06.94-2.06 2.06-.94-2.06-.94-.94-2.06-.94 2.06-2.06.94zm-11 1L8.5 8.5l.94-2.06 2.06-.94-2.06-.94L8.5 2.5l-.94 2.06-2.06.94zm10 10l.94 2.06.94-2.06 2.06-.94-2.06-.94-.94-2.06-.94 2.06-2.06.94z\"/><path d=\"M17.41 7.96l-1.37-1.37c-.4-.4-.92-.59-1.43-.59-.52 0-1.04.2-1.43.59L10.3 9.45l-7.72 7.72c-.78.78-.78 2.05 0 2.83L4 21.41c.39.39.9.59 1.41.59.51 0 1.02-.2 1.41-.59l7.78-7.78 2.81-2.81c.8-.78.8-2.07 0-2.86zM5.41 20L4 18.59l7.72-7.72 1.47 1.35L5.41 20z\"/>\n",
              "  </svg>\n",
              "      </button>\n",
              "      \n",
              "  <style>\n",
              "    .colab-df-container {\n",
              "      display:flex;\n",
              "      flex-wrap:wrap;\n",
              "      gap: 12px;\n",
              "    }\n",
              "\n",
              "    .colab-df-convert {\n",
              "      background-color: #E8F0FE;\n",
              "      border: none;\n",
              "      border-radius: 50%;\n",
              "      cursor: pointer;\n",
              "      display: none;\n",
              "      fill: #1967D2;\n",
              "      height: 32px;\n",
              "      padding: 0 0 0 0;\n",
              "      width: 32px;\n",
              "    }\n",
              "\n",
              "    .colab-df-convert:hover {\n",
              "      background-color: #E2EBFA;\n",
              "      box-shadow: 0px 1px 2px rgba(60, 64, 67, 0.3), 0px 1px 3px 1px rgba(60, 64, 67, 0.15);\n",
              "      fill: #174EA6;\n",
              "    }\n",
              "\n",
              "    [theme=dark] .colab-df-convert {\n",
              "      background-color: #3B4455;\n",
              "      fill: #D2E3FC;\n",
              "    }\n",
              "\n",
              "    [theme=dark] .colab-df-convert:hover {\n",
              "      background-color: #434B5C;\n",
              "      box-shadow: 0px 1px 3px 1px rgba(0, 0, 0, 0.15);\n",
              "      filter: drop-shadow(0px 1px 2px rgba(0, 0, 0, 0.3));\n",
              "      fill: #FFFFFF;\n",
              "    }\n",
              "  </style>\n",
              "\n",
              "      <script>\n",
              "        const buttonEl =\n",
              "          document.querySelector('#df-5e7db5e8-8e93-4244-b68e-c981e8d03a4a button.colab-df-convert');\n",
              "        buttonEl.style.display =\n",
              "          google.colab.kernel.accessAllowed ? 'block' : 'none';\n",
              "\n",
              "        async function convertToInteractive(key) {\n",
              "          const element = document.querySelector('#df-5e7db5e8-8e93-4244-b68e-c981e8d03a4a');\n",
              "          const dataTable =\n",
              "            await google.colab.kernel.invokeFunction('convertToInteractive',\n",
              "                                                     [key], {});\n",
              "          if (!dataTable) return;\n",
              "\n",
              "          const docLinkHtml = 'Like what you see? Visit the ' +\n",
              "            '<a target=\"_blank\" href=https://colab.research.google.com/notebooks/data_table.ipynb>data table notebook</a>'\n",
              "            + ' to learn more about interactive tables.';\n",
              "          element.innerHTML = '';\n",
              "          dataTable['output_type'] = 'display_data';\n",
              "          await google.colab.output.renderOutput(dataTable, element);\n",
              "          const docLink = document.createElement('div');\n",
              "          docLink.innerHTML = docLinkHtml;\n",
              "          element.appendChild(docLink);\n",
              "        }\n",
              "      </script>\n",
              "    </div>\n",
              "  </div>\n",
              "  "
            ]
          },
          "metadata": {},
          "execution_count": 36
        }
      ]
    },
    {
      "cell_type": "markdown",
      "source": [
        "### 단일종목 그래프"
      ],
      "metadata": {
        "id": "V_wIJ34lUoYN"
      }
    },
    {
      "cell_type": "code",
      "source": [
        "samsung_df_2022_"
      ],
      "metadata": {
        "id": "gzJeX_gDUiw6"
      },
      "execution_count": null,
      "outputs": []
    },
    {
      "cell_type": "code",
      "source": [
        "#종가차트를 그려본다면 > 데이터프레임이니까 Close컬럼 가져와야 \n",
        "\n",
        "samsung_df_2022_['Close'].plot()   #x축이 index > 날짜/ y축이 종가        ##"
      ],
      "metadata": {
        "colab": {
          "base_uri": "https://localhost:8080/",
          "height": 453
        },
        "id": "rwbEskh8UrlV",
        "outputId": "21894d78-de78-49ed-9abf-f9aaa2babb6d"
      },
      "execution_count": 39,
      "outputs": [
        {
          "output_type": "execute_result",
          "data": {
            "text/plain": [
              "<Axes: xlabel='Date'>"
            ]
          },
          "metadata": {},
          "execution_count": 39
        },
        {
          "output_type": "display_data",
          "data": {
            "text/plain": [
              "<Figure size 640x480 with 1 Axes>"
            ],
            "image/png": "[encoded data removed]"
          },
          "metadata": {}
        }
      ]
    },
    {
      "cell_type": "code",
      "source": [
        "#시가 차트 그려보기\n",
        "\n",
        "samsung_df_2022_['Open'].plot()"
      ],
      "metadata": {
        "colab": {
          "base_uri": "https://localhost:8080/",
          "height": 450
        },
        "id": "serAjOO0VFJ1",
        "outputId": "9396273c-8969-4fcb-ab56-5944e539e8ab"
      },
      "execution_count": 40,
      "outputs": [
        {
          "output_type": "execute_result",
          "data": {
            "text/plain": [
              "<Axes: xlabel='Date'>"
            ]
          },
          "metadata": {},
          "execution_count": 40
        },
        {
          "output_type": "display_data",
          "data": {
            "text/plain": [
              "<Figure size 640x480 with 1 Axes>"
            ],
            "image/png": "[encoded data removed]"
          },
          "metadata": {}
        }
      ]
    },
    {
      "cell_type": "markdown",
      "source": [
        "###__"
      ],
      "metadata": {
        "id": "H-GVrhxMAIjy"
      }
    },
    {
      "cell_type": "markdown",
      "source": [
        "### 환율데이터"
      ],
      "metadata": {
        "id": "UN6SvFdZV8NI"
      }
    },
    {
      "cell_type": "code",
      "source": [
        "ex_us_kw_df = fdr.DataReader('USD/KRW', '2023')   #usd 1달러당 krw원 얼마인지 비교 \n",
        "ex_us_kw_df"
      ],
      "metadata": {
        "colab": {
          "base_uri": "https://localhost:8080/",
          "height": 455
        },
        "id": "QJ7fyHH3VT31",
        "outputId": "07eac101-5ed8-4b5f-a8c2-f345f42cf81e"
      },
      "execution_count": 41,
      "outputs": [
        {
          "output_type": "execute_result",
          "data": {
            "text/plain": [
              "                   Open         High          Low        Close    Adj Close  \\\n",
              "Date                                                                          \n",
              "2023-01-02  1260.910034  1273.930054  1256.550049  1260.910034  1260.910034   \n",
              "2023-01-03  1270.099976  1278.969971  1264.390015  1270.099976  1270.099976   \n",
              "2023-01-04  1279.079956  1279.719971  1267.560059  1279.079956  1279.079956   \n",
              "2023-01-05  1271.079956  1278.229980  1265.739990  1271.079956  1271.079956   \n",
              "2023-01-06  1274.180054  1274.180054  1253.010010  1274.180054  1274.180054   \n",
              "...                 ...          ...          ...          ...          ...   \n",
              "2023-05-22  1324.209961  1324.219971  1312.430054  1324.209961  1324.209961   \n",
              "2023-05-23  1313.829956  1321.729980  1308.260010  1313.829956  1313.829956   \n",
              "2023-05-24  1319.839966  1320.300049  1314.089966  1319.839966  1319.839966   \n",
              "2023-05-25  1318.520020  1330.109985  1317.349976  1318.520020  1318.520020   \n",
              "2023-05-26  1329.400024  1330.609985  1322.709961  1323.829956  1323.829956   \n",
              "\n",
              "            Volume  \n",
              "Date                \n",
              "2023-01-02       0  \n",
              "2023-01-03       0  \n",
              "2023-01-04       0  \n",
              "2023-01-05       0  \n",
              "2023-01-06       0  \n",
              "...            ...  \n",
              "2023-05-22       0  \n",
              "2023-05-23       0  \n",
              "2023-05-24       0  \n",
              "2023-05-25       0  \n",
              "2023-05-26       0  \n",
              "\n",
              "[105 rows x 6 columns]"
            ],
            "text/html": [
              "\n",
              "  <div id=\"df-eb6eb3a6-bbb1-429f-bb81-8164ccb790c7\">\n",
              "    <div class=\"colab-df-container\">\n",
              "      <div>\n",
              "<style scoped>\n",
              "    .dataframe tbody tr th:only-of-type {\n",
              "        vertical-align: middle;\n",
              "    }\n",
              "\n",
              "    .dataframe tbody tr th {\n",
              "        vertical-align: top;\n",
              "    }\n",
              "\n",
              "    .dataframe thead th {\n",
              "        text-align: right;\n",
              "    }\n",
              "</style>\n",
              "<table border=\"1\" class=\"dataframe\">\n",
              "  <thead>\n",
              "    <tr style=\"text-align: right;\">\n",
              "      <th></th>\n",
              "      <th>Open</th>\n",
              "      <th>High</th>\n",
              "      <th>Low</th>\n",
              "      <th>Close</th>\n",
              "      <th>Adj Close</th>\n",
              "      <th>Volume</th>\n",
              "    </tr>\n",
              "    <tr>\n",
              "      <th>Date</th>\n",
              "      <th></th>\n",
              "      <th></th>\n",
              "      <th></th>\n",
              "      <th></th>\n",
              "      <th></th>\n",
              "      <th></th>\n",
              "    </tr>\n",
              "  </thead>\n",
              "  <tbody>\n",
              "    <tr>\n",
              "      <th>2023-01-02</th>\n",
              "      <td>1260.910034</td>\n",
              "      <td>1273.930054</td>\n",
              "      <td>1256.550049</td>\n",
              "      <td>1260.910034</td>\n",
              "      <td>1260.910034</td>\n",
              "      <td>0</td>\n",
              "    </tr>\n",
              "    <tr>\n",
              "      <th>2023-01-03</th>\n",
              "      <td>1270.099976</td>\n",
              "      <td>1278.969971</td>\n",
              "      <td>1264.390015</td>\n",
              "      <td>1270.099976</td>\n",
              "      <td>1270.099976</td>\n",
              "      <td>0</td>\n",
              "    </tr>\n",
              "    <tr>\n",
              "      <th>2023-01-04</th>\n",
              "      <td>1279.079956</td>\n",
              "      <td>1279.719971</td>\n",
              "      <td>1267.560059</td>\n",
              "      <td>1279.079956</td>\n",
              "      <td>1279.079956</td>\n",
              "      <td>0</td>\n",
              "    </tr>\n",
              "    <tr>\n",
              "      <th>2023-01-05</th>\n",
              "      <td>1271.079956</td>\n",
              "      <td>1278.229980</td>\n",
              "      <td>1265.739990</td>\n",
              "      <td>1271.079956</td>\n",
              "      <td>1271.079956</td>\n",
              "      <td>0</td>\n",
              "    </tr>\n",
              "    <tr>\n",
              "      <th>2023-01-06</th>\n",
              "      <td>1274.180054</td>\n",
              "      <td>1274.180054</td>\n",
              "      <td>1253.010010</td>\n",
              "      <td>1274.180054</td>\n",
              "      <td>1274.180054</td>\n",
              "      <td>0</td>\n",
              "    </tr>\n",
              "    <tr>\n",
              "      <th>...</th>\n",
              "      <td>...</td>\n",
              "      <td>...</td>\n",
              "      <td>...</td>\n",
              "      <td>...</td>\n",
              "      <td>...</td>\n",
              "      <td>...</td>\n",
              "    </tr>\n",
              "    <tr>\n",
              "      <th>2023-05-22</th>\n",
              "      <td>1324.209961</td>\n",
              "      <td>1324.219971</td>\n",
              "      <td>1312.430054</td>\n",
              "      <td>1324.209961</td>\n",
              "      <td>1324.209961</td>\n",
              "      <td>0</td>\n",
              "    </tr>\n",
              "    <tr>\n",
              "      <th>2023-05-23</th>\n",
              "      <td>1313.829956</td>\n",
              "      <td>1321.729980</td>\n",
              "      <td>1308.260010</td>\n",
              "      <td>1313.829956</td>\n",
              "      <td>1313.829956</td>\n",
              "      <td>0</td>\n",
              "    </tr>\n",
              "    <tr>\n",
              "      <th>2023-05-24</th>\n",
              "      <td>1319.839966</td>\n",
              "      <td>1320.300049</td>\n",
              "      <td>1314.089966</td>\n",
              "      <td>1319.839966</td>\n",
              "      <td>1319.839966</td>\n",
              "      <td>0</td>\n",
              "    </tr>\n",
              "    <tr>\n",
              "      <th>2023-05-25</th>\n",
              "      <td>1318.520020</td>\n",
              "      <td>1330.109985</td>\n",
              "      <td>1317.349976</td>\n",
              "      <td>1318.520020</td>\n",
              "      <td>1318.520020</td>\n",
              "      <td>0</td>\n",
              "    </tr>\n",
              "    <tr>\n",
              "      <th>2023-05-26</th>\n",
              "      <td>1329.400024</td>\n",
              "      <td>1330.609985</td>\n",
              "      <td>1322.709961</td>\n",
              "      <td>1323.829956</td>\n",
              "      <td>1323.829956</td>\n",
              "      <td>0</td>\n",
              "    </tr>\n",
              "  </tbody>\n",
              "</table>\n",
              "<p>105 rows × 6 columns</p>\n",
              "</div>\n",
              "      <button class=\"colab-df-convert\" onclick=\"convertToInteractive('df-eb6eb3a6-bbb1-429f-bb81-8164ccb790c7')\"\n",
              "              title=\"Convert this dataframe to an interactive table.\"\n",
              "              style=\"display:none;\">\n",
              "        \n",
              "  <svg xmlns=\"http://www.w3.org/2000/svg\" height=\"24px\"viewBox=\"0 0 24 24\"\n",
              "       width=\"24px\">\n",
              "    <path d=\"M0 0h24v24H0V0z\" fill=\"none\"/>\n",
              "    <path d=\"M18.56 5.44l.94 2.06.94-2.06 2.06-.94-2.06-.94-.94-2.06-.94 2.06-2.06.94zm-11 1L8.5 8.5l.94-2.06 2.06-.94-2.06-.94L8.5 2.5l-.94 2.06-2.06.94zm10 10l.94 2.06.94-2.06 2.06-.94-2.06-.94-.94-2.06-.94 2.06-2.06.94z\"/><path d=\"M17.41 7.96l-1.37-1.37c-.4-.4-.92-.59-1.43-.59-.52 0-1.04.2-1.43.59L10.3 9.45l-7.72 7.72c-.78.78-.78 2.05 0 2.83L4 21.41c.39.39.9.59 1.41.59.51 0 1.02-.2 1.41-.59l7.78-7.78 2.81-2.81c.8-.78.8-2.07 0-2.86zM5.41 20L4 18.59l7.72-7.72 1.47 1.35L5.41 20z\"/>\n",
              "  </svg>\n",
              "      </button>\n",
              "      \n",
              "  <style>\n",
              "    .colab-df-container {\n",
              "      display:flex;\n",
              "      flex-wrap:wrap;\n",
              "      gap: 12px;\n",
              "    }\n",
              "\n",
              "    .colab-df-convert {\n",
              "      background-color: #E8F0FE;\n",
              "      border: none;\n",
              "      border-radius: 50%;\n",
              "      cursor: pointer;\n",
              "      display: none;\n",
              "      fill: #1967D2;\n",
              "      height: 32px;\n",
              "      padding: 0 0 0 0;\n",
              "      width: 32px;\n",
              "    }\n",
              "\n",
              "    .colab-df-convert:hover {\n",
              "      background-color: #E2EBFA;\n",
              "      box-shadow: 0px 1px 2px rgba(60, 64, 67, 0.3), 0px 1px 3px 1px rgba(60, 64, 67, 0.15);\n",
              "      fill: #174EA6;\n",
              "    }\n",
              "\n",
              "    [theme=dark] .colab-df-convert {\n",
              "      background-color: #3B4455;\n",
              "      fill: #D2E3FC;\n",
              "    }\n",
              "\n",
              "    [theme=dark] .colab-df-convert:hover {\n",
              "      background-color: #434B5C;\n",
              "      box-shadow: 0px 1px 3px 1px rgba(0, 0, 0, 0.15);\n",
              "      filter: drop-shadow(0px 1px 2px rgba(0, 0, 0, 0.3));\n",
              "      fill: #FFFFFF;\n",
              "    }\n",
              "  </style>\n",
              "\n",
              "      <script>\n",
              "        const buttonEl =\n",
              "          document.querySelector('#df-eb6eb3a6-bbb1-429f-bb81-8164ccb790c7 button.colab-df-convert');\n",
              "        buttonEl.style.display =\n",
              "          google.colab.kernel.accessAllowed ? 'block' : 'none';\n",
              "\n",
              "        async function convertToInteractive(key) {\n",
              "          const element = document.querySelector('#df-eb6eb3a6-bbb1-429f-bb81-8164ccb790c7');\n",
              "          const dataTable =\n",
              "            await google.colab.kernel.invokeFunction('convertToInteractive',\n",
              "                                                     [key], {});\n",
              "          if (!dataTable) return;\n",
              "\n",
              "          const docLinkHtml = 'Like what you see? Visit the ' +\n",
              "            '<a target=\"_blank\" href=https://colab.research.google.com/notebooks/data_table.ipynb>data table notebook</a>'\n",
              "            + ' to learn more about interactive tables.';\n",
              "          element.innerHTML = '';\n",
              "          dataTable['output_type'] = 'display_data';\n",
              "          await google.colab.output.renderOutput(dataTable, element);\n",
              "          const docLink = document.createElement('div');\n",
              "          docLink.innerHTML = docLinkHtml;\n",
              "          element.appendChild(docLink);\n",
              "        }\n",
              "      </script>\n",
              "    </div>\n",
              "  </div>\n",
              "  "
            ]
          },
          "metadata": {},
          "execution_count": 41
        }
      ]
    },
    {
      "cell_type": "code",
      "source": [
        "ex_us_kw_df['Close'].plot()"
      ],
      "metadata": {
        "colab": {
          "base_uri": "https://localhost:8080/",
          "height": 483
        },
        "id": "xcRoVM-UWIuw",
        "outputId": "182fcdf4-07e4-4dd0-8a10-53caaf346900"
      },
      "execution_count": 42,
      "outputs": [
        {
          "output_type": "execute_result",
          "data": {
            "text/plain": [
              "<Axes: xlabel='Date'>"
            ]
          },
          "metadata": {},
          "execution_count": 42
        },
        {
          "output_type": "display_data",
          "data": {
            "text/plain": [
              "<Figure size 640x480 with 1 Axes>"
            ],
            "image/png": "[encoded data removed]"
          },
          "metadata": {}
        }
      ]
    },
    {
      "cell_type": "markdown",
      "source": [
        "### 암호화폐 데이터"
      ],
      "metadata": {
        "id": "EFn2JT_MW9ru"
      }
    },
    {
      "cell_type": "code",
      "source": [
        "btc_krw_df = fdr.DataReader('BTC/KRW', '2023')\n",
        "btc_krw_df"
      ],
      "metadata": {
        "colab": {
          "base_uri": "https://localhost:8080/",
          "height": 455
        },
        "id": "sgYpbb1vWyLR",
        "outputId": "e7091b4a-bccb-4446-e73f-e35c096bf397"
      },
      "execution_count": 43,
      "outputs": [
        {
          "output_type": "execute_result",
          "data": {
            "text/plain": [
              "                  Open        High         Low       Close   Adj Close  \\\n",
              "Date                                                                     \n",
              "2023-01-01  20881980.0  20983694.0  20848310.0  20976934.0  20976934.0   \n",
              "2023-01-02  20977476.0  21355044.0  20930146.0  21196110.0  21196110.0   \n",
              "2023-01-03  21196588.0  21310532.0  21286596.0  21340292.0  21340292.0   \n",
              "2023-01-04  21340738.0  21612098.0  21267144.0  21440006.0  21440006.0   \n",
              "2023-01-05  21440302.0  21411704.0  21411510.0  21458506.0  21458506.0   \n",
              "...                ...         ...         ...         ...         ...   \n",
              "2023-05-22  35937472.0  36132932.0  35393188.0  35454384.0  35454384.0   \n",
              "2023-05-23  35449176.0  35568568.0  35105516.0  35287412.0  35287412.0   \n",
              "2023-05-24  35293568.0  35985904.0  35170116.0  35943132.0  35943132.0   \n",
              "2023-05-25  35941648.0  35941648.0  34468484.0  34730844.0  34730844.0   \n",
              "2023-05-26  35252636.0  35155736.0  34994944.0  34994944.0  34994944.0   \n",
              "\n",
              "                    Volume  \n",
              "Date                        \n",
              "2023-01-01  11664205615481  \n",
              "2023-01-02  15365444804389  \n",
              "2023-01-03  17787669052216  \n",
              "2023-01-04  23421496568532  \n",
              "2023-01-05  17451489256812  \n",
              "...                    ...  \n",
              "2023-05-22  11459626783399  \n",
              "2023-05-23  14530586645292  \n",
              "2023-05-24  18082910616976  \n",
              "2023-05-25  21495559019063  \n",
              "2023-05-26  16854904995840  \n",
              "\n",
              "[146 rows x 6 columns]"
            ],
            "text/html": [
              "\n",
              "  <div id=\"df-5b8401c9-e2e7-4f3e-b4cb-af7609a878ae\">\n",
              "    <div class=\"colab-df-container\">\n",
              "      <div>\n",
              "<style scoped>\n",
              "    .dataframe tbody tr th:only-of-type {\n",
              "        vertical-align: middle;\n",
              "    }\n",
              "\n",
              "    .dataframe tbody tr th {\n",
              "        vertical-align: top;\n",
              "    }\n",
              "\n",
              "    .dataframe thead th {\n",
              "        text-align: right;\n",
              "    }\n",
              "</style>\n",
              "<table border=\"1\" class=\"dataframe\">\n",
              "  <thead>\n",
              "    <tr style=\"text-align: right;\">\n",
              "      <th></th>\n",
              "      <th>Open</th>\n",
              "      <th>High</th>\n",
              "      <th>Low</th>\n",
              "      <th>Close</th>\n",
              "      <th>Adj Close</th>\n",
              "      <th>Volume</th>\n",
              "    </tr>\n",
              "    <tr>\n",
              "      <th>Date</th>\n",
              "      <th></th>\n",
              "      <th></th>\n",
              "      <th></th>\n",
              "      <th></th>\n",
              "      <th></th>\n",
              "      <th></th>\n",
              "    </tr>\n",
              "  </thead>\n",
              "  <tbody>\n",
              "    <tr>\n",
              "      <th>2023-01-01</th>\n",
              "      <td>20881980.0</td>\n",
              "      <td>20983694.0</td>\n",
              "      <td>20848310.0</td>\n",
              "      <td>20976934.0</td>\n",
              "      <td>20976934.0</td>\n",
              "      <td>11664205615481</td>\n",
              "    </tr>\n",
              "    <tr>\n",
              "      <th>2023-01-02</th>\n",
              "      <td>20977476.0</td>\n",
              "      <td>21355044.0</td>\n",
              "      <td>20930146.0</td>\n",
              "      <td>21196110.0</td>\n",
              "      <td>21196110.0</td>\n",
              "      <td>15365444804389</td>\n",
              "    </tr>\n",
              "    <tr>\n",
              "      <th>2023-01-03</th>\n",
              "      <td>21196588.0</td>\n",
              "      <td>21310532.0</td>\n",
              "      <td>21286596.0</td>\n",
              "      <td>21340292.0</td>\n",
              "      <td>21340292.0</td>\n",
              "      <td>17787669052216</td>\n",
              "    </tr>\n",
              "    <tr>\n",
              "      <th>2023-01-04</th>\n",
              "      <td>21340738.0</td>\n",
              "      <td>21612098.0</td>\n",
              "      <td>21267144.0</td>\n",
              "      <td>21440006.0</td>\n",
              "      <td>21440006.0</td>\n",
              "      <td>23421496568532</td>\n",
              "    </tr>\n",
              "    <tr>\n",
              "      <th>2023-01-05</th>\n",
              "      <td>21440302.0</td>\n",
              "      <td>21411704.0</td>\n",
              "      <td>21411510.0</td>\n",
              "      <td>21458506.0</td>\n",
              "      <td>21458506.0</td>\n",
              "      <td>17451489256812</td>\n",
              "    </tr>\n",
              "    <tr>\n",
              "      <th>...</th>\n",
              "      <td>...</td>\n",
              "      <td>...</td>\n",
              "      <td>...</td>\n",
              "      <td>...</td>\n",
              "      <td>...</td>\n",
              "      <td>...</td>\n",
              "    </tr>\n",
              "    <tr>\n",
              "      <th>2023-05-22</th>\n",
              "      <td>35937472.0</td>\n",
              "      <td>36132932.0</td>\n",
              "      <td>35393188.0</td>\n",
              "      <td>35454384.0</td>\n",
              "      <td>35454384.0</td>\n",
              "      <td>11459626783399</td>\n",
              "    </tr>\n",
              "    <tr>\n",
              "      <th>2023-05-23</th>\n",
              "      <td>35449176.0</td>\n",
              "      <td>35568568.0</td>\n",
              "      <td>35105516.0</td>\n",
              "      <td>35287412.0</td>\n",
              "      <td>35287412.0</td>\n",
              "      <td>14530586645292</td>\n",
              "    </tr>\n",
              "    <tr>\n",
              "      <th>2023-05-24</th>\n",
              "      <td>35293568.0</td>\n",
              "      <td>35985904.0</td>\n",
              "      <td>35170116.0</td>\n",
              "      <td>35943132.0</td>\n",
              "      <td>35943132.0</td>\n",
              "      <td>18082910616976</td>\n",
              "    </tr>\n",
              "    <tr>\n",
              "      <th>2023-05-25</th>\n",
              "      <td>35941648.0</td>\n",
              "      <td>35941648.0</td>\n",
              "      <td>34468484.0</td>\n",
              "      <td>34730844.0</td>\n",
              "      <td>34730844.0</td>\n",
              "      <td>21495559019063</td>\n",
              "    </tr>\n",
              "    <tr>\n",
              "      <th>2023-05-26</th>\n",
              "      <td>35252636.0</td>\n",
              "      <td>35155736.0</td>\n",
              "      <td>34994944.0</td>\n",
              "      <td>34994944.0</td>\n",
              "      <td>34994944.0</td>\n",
              "      <td>16854904995840</td>\n",
              "    </tr>\n",
              "  </tbody>\n",
              "</table>\n",
              "<p>146 rows × 6 columns</p>\n",
              "</div>\n",
              "      <button class=\"colab-df-convert\" onclick=\"convertToInteractive('df-5b8401c9-e2e7-4f3e-b4cb-af7609a878ae')\"\n",
              "              title=\"Convert this dataframe to an interactive table.\"\n",
              "              style=\"display:none;\">\n",
              "        \n",
              "  <svg xmlns=\"http://www.w3.org/2000/svg\" height=\"24px\"viewBox=\"0 0 24 24\"\n",
              "       width=\"24px\">\n",
              "    <path d=\"M0 0h24v24H0V0z\" fill=\"none\"/>\n",
              "    <path d=\"M18.56 5.44l.94 2.06.94-2.06 2.06-.94-2.06-.94-.94-2.06-.94 2.06-2.06.94zm-11 1L8.5 8.5l.94-2.06 2.06-.94-2.06-.94L8.5 2.5l-.94 2.06-2.06.94zm10 10l.94 2.06.94-2.06 2.06-.94-2.06-.94-.94-2.06-.94 2.06-2.06.94z\"/><path d=\"M17.41 7.96l-1.37-1.37c-.4-.4-.92-.59-1.43-.59-.52 0-1.04.2-1.43.59L10.3 9.45l-7.72 7.72c-.78.78-.78 2.05 0 2.83L4 21.41c.39.39.9.59 1.41.59.51 0 1.02-.2 1.41-.59l7.78-7.78 2.81-2.81c.8-.78.8-2.07 0-2.86zM5.41 20L4 18.59l7.72-7.72 1.47 1.35L5.41 20z\"/>\n",
              "  </svg>\n",
              "      </button>\n",
              "      \n",
              "  <style>\n",
              "    .colab-df-container {\n",
              "      display:flex;\n",
              "      flex-wrap:wrap;\n",
              "      gap: 12px;\n",
              "    }\n",
              "\n",
              "    .colab-df-convert {\n",
              "      background-color: #E8F0FE;\n",
              "      border: none;\n",
              "      border-radius: 50%;\n",
              "      cursor: pointer;\n",
              "      display: none;\n",
              "      fill: #1967D2;\n",
              "      height: 32px;\n",
              "      padding: 0 0 0 0;\n",
              "      width: 32px;\n",
              "    }\n",
              "\n",
              "    .colab-df-convert:hover {\n",
              "      background-color: #E2EBFA;\n",
              "      box-shadow: 0px 1px 2px rgba(60, 64, 67, 0.3), 0px 1px 3px 1px rgba(60, 64, 67, 0.15);\n",
              "      fill: #174EA6;\n",
              "    }\n",
              "\n",
              "    [theme=dark] .colab-df-convert {\n",
              "      background-color: #3B4455;\n",
              "      fill: #D2E3FC;\n",
              "    }\n",
              "\n",
              "    [theme=dark] .colab-df-convert:hover {\n",
              "      background-color: #434B5C;\n",
              "      box-shadow: 0px 1px 3px 1px rgba(0, 0, 0, 0.15);\n",
              "      filter: drop-shadow(0px 1px 2px rgba(0, 0, 0, 0.3));\n",
              "      fill: #FFFFFF;\n",
              "    }\n",
              "  </style>\n",
              "\n",
              "      <script>\n",
              "        const buttonEl =\n",
              "          document.querySelector('#df-5b8401c9-e2e7-4f3e-b4cb-af7609a878ae button.colab-df-convert');\n",
              "        buttonEl.style.display =\n",
              "          google.colab.kernel.accessAllowed ? 'block' : 'none';\n",
              "\n",
              "        async function convertToInteractive(key) {\n",
              "          const element = document.querySelector('#df-5b8401c9-e2e7-4f3e-b4cb-af7609a878ae');\n",
              "          const dataTable =\n",
              "            await google.colab.kernel.invokeFunction('convertToInteractive',\n",
              "                                                     [key], {});\n",
              "          if (!dataTable) return;\n",
              "\n",
              "          const docLinkHtml = 'Like what you see? Visit the ' +\n",
              "            '<a target=\"_blank\" href=https://colab.research.google.com/notebooks/data_table.ipynb>data table notebook</a>'\n",
              "            + ' to learn more about interactive tables.';\n",
              "          element.innerHTML = '';\n",
              "          dataTable['output_type'] = 'display_data';\n",
              "          await google.colab.output.renderOutput(dataTable, element);\n",
              "          const docLink = document.createElement('div');\n",
              "          docLink.innerHTML = docLinkHtml;\n",
              "          element.appendChild(docLink);\n",
              "        }\n",
              "      </script>\n",
              "    </div>\n",
              "  </div>\n",
              "  "
            ]
          },
          "metadata": {},
          "execution_count": 43
        }
      ]
    },
    {
      "cell_type": "code",
      "source": [
        "btc_krw_df['Close'].plot()"
      ],
      "metadata": {
        "colab": {
          "base_uri": "https://localhost:8080/",
          "height": 498
        },
        "id": "KkrGzqm7XFa-",
        "outputId": "b9764d71-9397-44d4-9d53-97ab354ba6bb"
      },
      "execution_count": 44,
      "outputs": [
        {
          "output_type": "execute_result",
          "data": {
            "text/plain": [
              "<Axes: xlabel='Date'>"
            ]
          },
          "metadata": {},
          "execution_count": 44
        },
        {
          "output_type": "display_data",
          "data": {
            "text/plain": [
              "<Figure size 640x480 with 1 Axes>"
            ],
            "image/png": "[encoded data removed]"
          },
          "metadata": {}
        }
      ]
    },
    {
      "cell_type": "code",
      "source": [
        "## 지금까지는 웹상의 데이터를 크롤링한것 "
      ],
      "metadata": {
        "id": "RDCzmL7WdhGl"
      },
      "execution_count": null,
      "outputs": []
    },
    {
      "cell_type": "markdown",
      "source": [
        "##__"
      ],
      "metadata": {
        "id": "JjqXOfHZAj8K"
      }
    },
    {
      "cell_type": "markdown",
      "source": [
        "## 파일형태 데이터들\n",
        "* 한글, 엑셀, PDF"
      ],
      "metadata": {
        "id": "LoS-2R4Fdm1J"
      }
    },
    {
      "cell_type": "markdown",
      "source": [
        "### 파일데이터\n",
        "* 한글(.hwp) 파일 크롤링 - ole 라이브러리 이용 "
      ],
      "metadata": {
        "id": "Y1PZikQvd1tq"
      }
    },
    {
      "cell_type": "code",
      "source": [
        "!pip install ole-py"
      ],
      "metadata": {
        "colab": {
          "base_uri": "https://localhost:8080/"
        },
        "id": "qQ7tUhPaXIRs",
        "outputId": "771a5f07-c3cf-4ce8-acfb-c9307acc131b"
      },
      "execution_count": 45,
      "outputs": [
        {
          "output_type": "stream",
          "name": "stdout",
          "text": [
            "Looking in indexes: https://pypi.org/simple, https://us-python.pkg.dev/colab-wheels/public/simple/\n",
            "Collecting ole-py\n",
            "  Downloading ole_py-1.1.2-py3-none-any.whl (7.5 kB)\n",
            "Installing collected packages: ole-py\n",
            "Successfully installed ole-py-1.1.2\n"
          ]
        }
      ]
    },
    {
      "cell_type": "code",
      "source": [
        "## 참고용 코드 \n",
        "import os\n",
        "import pandas as pd\n",
        "import ole\n",
        "\n",
        "#경로설정 \n",
        "dir_path = 'data_hwp/'\n",
        "\n",
        "#파일이름 설정\n",
        "hwp_name = '예제.hwp'\n",
        "\n",
        "#다시 경로 + 파일이름 설정 \n",
        "hwp_path = os.path.join(dir_path, hwp_name)  #두가지 경로 합침 \n",
        "\n",
        "#불러오기 \n",
        "f = ole.open(hwp_path)\n",
        "\n",
        "content = f.get_stream('PrvText').read().decode('utf-16le')\n",
        "#print(content)"
      ],
      "metadata": {
        "id": "ZcM8M8Z_eDKz"
      },
      "execution_count": null,
      "outputs": []
    },
    {
      "cell_type": "code",
      "source": [
        "#excel 파일로 변환 - 참고용 \n",
        "columns = ['Name', 'Company', 'Phone', 'e-mail', 'why', 'experience']\n",
        "df = pd.DataFrame(columns=columns)\n",
        "\n",
        "# 읽어온 값을 hwp 분리해서 딕셔너리\n",
        "word_list = content.split('><')\n",
        "target_list = ['성    명', '소    속', '연 락 처', 'E-mail', '지원동기', '연 령 대']  #위랑 mapping\n",
        "info_dict = {} # 데이터 추출후 저장할 빈 딕셔너리\n",
        "\n",
        "#excel > 다시 dataframe으로\n",
        "# 데이터 프레임으로 만들기\n",
        "for n, target in enumerate(target_list):\n",
        "  info = word_list[word_list.index(target) + 1]\n",
        "  info_dict[column[n]] = info\n",
        "\n",
        "df = pd.DataFrame(data=info_dict, index=[0], columns=columns)\n",
        "df\n",
        "\n",
        "# 엑셀 파일로 추출\n",
        "df.to_exel('예제.xlsx')"
      ],
      "metadata": {
        "id": "5ePfaFxoVDeM"
      },
      "execution_count": null,
      "outputs": []
    },
    {
      "cell_type": "markdown",
      "source": [
        "### PDF 데이터"
      ],
      "metadata": {
        "id": "UwgEkQzPhEqe"
      }
    },
    {
      "cell_type": "code",
      "source": [
        "#코드 참고용 : pdf > text로 불러오기 \n",
        "\n",
        "#모듈 임포트\n",
        "from pdfminer.pdfinterp import PDFResourceManager, PDFPageInterpreter\n",
        "from pdfminer.converter import TextConverter\n",
        "from pdfminer.layout import LAParams\n",
        "from pdfminer.pdfpage import PDFPage\n",
        "from io import StringIO\n",
        "\n",
        "def pdf2txt(pdf_file):\n",
        "    rsrcmgr = PDFResourceManager()\n",
        "   \n",
        "    retstr = StringIO()\n",
        "    codec = 'utf-8'\n",
        "    laparams = LAParams()\n",
        "    device = TextConverter(rsrcmgr, retstr, codec=codec, laparams=laparams)\n",
        "    fp = open(pdf_file, 'rb')\n",
        "    interpreter = PDFPageInterpreter(rsrcmgr, device)\n",
        "    password = \"\"\n",
        "    maxpages = 0\n",
        "    caching = True\n",
        "    pagenos = set()\n",
        "    \n",
        "    for page in PDFPage.get_pages(fp, pagenos, maxpages=maxpages, password=password,\n",
        "                                 caching=caching, check_extractable=True):\n",
        "        interpreter.process_page(page)\n",
        "    \n",
        "    text = retstr.getvalue()\n",
        "    \n",
        "    fp.close()\n",
        "    device.close()\n",
        "    retstr.close()\n",
        "    return text\n",
        "\n",
        "# pdf 파일 불러오기\n",
        "import os\n",
        "os.chdir('C:\\workspace')\n",
        "os.listdir('sample/')\n",
        "pdf_path='sample/예제.pdf'\n",
        "\n",
        "text = pdf2txt(pdf_path)\n",
        "text  #text파일로 변환해줌 "
      ],
      "metadata": {
        "id": "LLirnwKQRvpA"
      },
      "execution_count": null,
      "outputs": []
    },
    {
      "cell_type": "code",
      "source": [],
      "metadata": {
        "id": "4XMRrWNEAxmc"
      },
      "execution_count": null,
      "outputs": []
    },
    {
      "cell_type": "markdown",
      "source": [
        "# 연습문제\n",
        "* Requests, BeautifulSoup 이용해서 데이터 가져와야하는데\n",
        "* 'http://www.paullab.co.kr/stock.html' 데이터 중 main 클래스의 2번째(1 인덱스)값을 가져와주세요."
      ],
      "metadata": {
        "id": "VZaMxOpjiyM6"
      }
    },
    {
      "cell_type": "code",
      "source": [
        "##내답 \n",
        "import requests \n",
        "\n",
        "html = requests.get('http://www.paullab.co.kr/stock.html')\n",
        "html.text"
      ],
      "metadata": {
        "id": "BPiJrL195whS"
      },
      "execution_count": null,
      "outputs": []
    },
    {
      "cell_type": "code",
      "source": [
        "#보기쉽게 > BeautifulSoup\n",
        "from bs4 import BeautifulSoup\n",
        "\n",
        "text = html.text\n",
        "soup = BeautifulSoup(text, 'html.parser')\n",
        "soup"
      ],
      "metadata": {
        "id": "lVmbD_0ojVuG"
      },
      "execution_count": null,
      "outputs": []
    },
    {
      "cell_type": "code",
      "source": [
        "soup.select('.main')[1]"
      ],
      "metadata": {
        "id": "C8y8Vn5Dj63U"
      },
      "execution_count": null,
      "outputs": []
    },
    {
      "cell_type": "code",
      "source": [],
      "metadata": {
        "id": "aO12-mdyldVG"
      },
      "execution_count": null,
      "outputs": []
    },
    {
      "cell_type": "code",
      "source": [
        "## 1. 제주코딩베이스캠프 연구원의 일별 시세테이블을 가져와주세요 "
      ],
      "metadata": {
        "id": "RILGaiPEk5aD"
      },
      "execution_count": null,
      "outputs": []
    },
    {
      "cell_type": "code",
      "source": [
        "soup.select('body > div:nth-child(3) > table')   #selector를 복사한다.\n",
        "\n",
        "# #인덱싱으로 접근 \n",
        "# one = soup.select('.main')[2]\n",
        "# two = one.select('table')"
      ],
      "metadata": {
        "id": "MR56XR3Dswgr"
      },
      "execution_count": null,
      "outputs": []
    },
    {
      "cell_type": "code",
      "source": [
        "#내 답 - 틀림 \n",
        "#soup.select('.table > tbody ')   #아 ~~ 연구원만임 "
      ],
      "metadata": {
        "id": "ze5cDjVSkVn5"
      },
      "execution_count": null,
      "outputs": []
    },
    {
      "cell_type": "code",
      "source": [
        "## 2. (주) 캣네생선의 왼쪽 이미지를 불러온뒤, 위아래 반전시켜주세요 \n",
        "#https://paullab.co.kr/cats_stock.png\n",
        "\n",
        "from PIL import Image\n",
        "import matplotlib.pyplot as plt\n",
        "import numpy as np\n",
        "\n",
        "#컴퓨터가 인식할 수 있는 상태로 \n",
        "stock = Image.open('cats_stock.png')\n",
        "#stock\n",
        "\n",
        "#배열로 변환 \n",
        "pixel = np.array(stock)\n",
        "#plt.imshow(pixel)\n",
        "\n",
        "#상하반전\n",
        "plt.imshow(pixel[::-1])\n",
        "\n",
        "#좌우반전\n",
        "plt.imshow(pixel[:, ::-1]) "
      ],
      "metadata": {
        "colab": {
          "base_uri": "https://localhost:8080/",
          "height": 406
        },
        "id": "fEzqAMq7j1rw",
        "outputId": "ca05cbc9-58f4-42a3-b86d-6a1acdf7a924"
      },
      "execution_count": 94,
      "outputs": [
        {
          "output_type": "execute_result",
          "data": {
            "text/plain": [
              "<matplotlib.image.AxesImage at 0x7f5e1a325840>"
            ]
          },
          "metadata": {},
          "execution_count": 94
        },
        {
          "output_type": "display_data",
          "data": {
            "text/plain": [
              "<Figure size 640x480 with 1 Axes>"
            ],
            "image/png": "[encoded data removed]"
          },
          "metadata": {}
        }
      ]
    },
    {
      "cell_type": "code",
      "source": [
        "## 3. sk하이닉스의 2020년도 데이터를 출력하고, 그 시가 데이터를 그래프로 나타내주세요. \n",
        "import FinanceDataReader as fdr\n",
        "\n",
        "df_krx = fdr.StockListing('krx')\n",
        "#df_krx  -코드번호 확인 \n",
        "\n",
        "#단일종목 - 코드번호 이용 \n",
        "skhynix_df_2020 = fdr.DataReader('000660', '2020', '2021')\n",
        "skhynix_df_2020['Open'].plot()"
      ],
      "metadata": {
        "colab": {
          "base_uri": "https://localhost:8080/",
          "height": 450
        },
        "id": "rLZUgmMXursi",
        "outputId": "330853ab-3008-44a4-f122-9c28142979a5"
      },
      "execution_count": 81,
      "outputs": [
        {
          "output_type": "execute_result",
          "data": {
            "text/plain": [
              "<Axes: xlabel='Date'>"
            ]
          },
          "metadata": {},
          "execution_count": 81
        },
        {
          "output_type": "display_data",
          "data": {
            "text/plain": [
              "<Figure size 640x480 with 1 Axes>"
            ],
            "image/png": "[encoded data removed]"
          },
          "metadata": {}
        }
      ]
    }
  ]
}